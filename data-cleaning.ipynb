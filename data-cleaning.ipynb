{
 "cells": [
  {
   "cell_type": "markdown",
   "metadata": {},
   "source": [
    "## Read in UniProt Sequence Data - GitEnterprise"
   ]
  },
  {
   "cell_type": "code",
   "execution_count": 1,
   "metadata": {},
   "outputs": [],
   "source": [
    "#imports \n",
    "import pandas as pd\n",
    "import numpy as np\n",
    "import matplotlib.pyplot as plt"
   ]
  },
  {
   "cell_type": "code",
   "execution_count": 2,
   "metadata": {},
   "outputs": [],
   "source": [
    "#read in the data for cleaning\n",
    "#this data is saved in a compressed pickle file\n",
    "protein = pd.read_pickle('data/gzip-reviewed-proteins-data.pkl', compression = 'gzip')"
   ]
  },
  {
   "cell_type": "code",
   "execution_count": 3,
   "metadata": {},
   "outputs": [
    {
     "data": {
      "text/html": [
       "<div>\n",
       "<style scoped>\n",
       "    .dataframe tbody tr th:only-of-type {\n",
       "        vertical-align: middle;\n",
       "    }\n",
       "\n",
       "    .dataframe tbody tr th {\n",
       "        vertical-align: top;\n",
       "    }\n",
       "\n",
       "    .dataframe thead th {\n",
       "        text-align: right;\n",
       "    }\n",
       "</style>\n",
       "<table border=\"1\" class=\"dataframe\">\n",
       "  <thead>\n",
       "    <tr style=\"text-align: right;\">\n",
       "      <th></th>\n",
       "      <th>Protein names</th>\n",
       "      <th>Organism</th>\n",
       "      <th>Length</th>\n",
       "      <th>Sequence</th>\n",
       "      <th>Gene ontology (molecular function)</th>\n",
       "    </tr>\n",
       "  </thead>\n",
       "  <tbody>\n",
       "    <tr>\n",
       "      <th>0</th>\n",
       "      <td>Replicase polyprotein 1ab (pp1ab) (ORF1ab poly...</td>\n",
       "      <td>Avian infectious bronchitis virus (strain M41)...</td>\n",
       "      <td>6631</td>\n",
       "      <td>MASSLKQGVSPKLRDVILVSKDIPEQLCDALFFYTSHNPKDYADAF...</td>\n",
       "      <td>ATP binding [GO:0005524]; cysteine-type endope...</td>\n",
       "    </tr>\n",
       "    <tr>\n",
       "      <th>1</th>\n",
       "      <td>CAD protein [Includes: Glutamine-dependent car...</td>\n",
       "      <td>Mus musculus (Mouse)</td>\n",
       "      <td>2225</td>\n",
       "      <td>MAALVLEDGSVLQGRPFGAAVSTAGEVVFQTGMVGYPEALTDPSYK...</td>\n",
       "      <td>amino acid binding [GO:0016597]; aspartate car...</td>\n",
       "    </tr>\n",
       "  </tbody>\n",
       "</table>\n",
       "</div>"
      ],
      "text/plain": [
       "                                       Protein names  \\\n",
       "0  Replicase polyprotein 1ab (pp1ab) (ORF1ab poly...   \n",
       "1  CAD protein [Includes: Glutamine-dependent car...   \n",
       "\n",
       "                                            Organism  Length  \\\n",
       "0  Avian infectious bronchitis virus (strain M41)...    6631   \n",
       "1                               Mus musculus (Mouse)    2225   \n",
       "\n",
       "                                            Sequence  \\\n",
       "0  MASSLKQGVSPKLRDVILVSKDIPEQLCDALFFYTSHNPKDYADAF...   \n",
       "1  MAALVLEDGSVLQGRPFGAAVSTAGEVVFQTGMVGYPEALTDPSYK...   \n",
       "\n",
       "                  Gene ontology (molecular function)  \n",
       "0  ATP binding [GO:0005524]; cysteine-type endope...  \n",
       "1  amino acid binding [GO:0016597]; aspartate car...  "
      ]
     },
     "execution_count": 3,
     "metadata": {},
     "output_type": "execute_result"
    }
   ],
   "source": [
    "#view the read in data\n",
    "protein.head(2)"
   ]
  },
  {
   "cell_type": "code",
   "execution_count": 4,
   "metadata": {},
   "outputs": [
    {
     "name": "stdout",
     "output_type": "stream",
     "text": [
      "<class 'pandas.core.frame.DataFrame'>\n",
      "Int64Index: 404840 entries, 0 to 414320\n",
      "Data columns (total 5 columns):\n",
      " #   Column                              Non-Null Count   Dtype   \n",
      "---  ------                              --------------   -----   \n",
      " 0   Protein names                       404840 non-null  category\n",
      " 1   Organism                            404840 non-null  category\n",
      " 2   Length                              404840 non-null  int32   \n",
      " 3   Sequence                            404840 non-null  category\n",
      " 4   Gene ontology (molecular function)  404840 non-null  category\n",
      "dtypes: category(4), int32(1)\n",
      "memory usage: 26.9 MB\n"
     ]
    }
   ],
   "source": [
    "#look at the info about the data and the columns\n",
    "protein.info()"
   ]
  },
  {
   "cell_type": "code",
   "execution_count": 5,
   "metadata": {},
   "outputs": [],
   "source": [
    "#create dataframe of the classes\n",
    "GO_function = protein[['Gene ontology (molecular function)','Sequence', 'Length', 'Organism', 'Protein names']]"
   ]
  },
  {
   "cell_type": "code",
   "execution_count": 6,
   "metadata": {},
   "outputs": [],
   "source": [
    "#drop the null values in the new function dataframe\n",
    "GO_function = GO_function.dropna(axis=0, how = 'any')"
   ]
  },
  {
   "cell_type": "code",
   "execution_count": 7,
   "metadata": {},
   "outputs": [],
   "source": [
    "##contains is reading the brackets as regex -- make sure regex = False\n",
    "GO_function['Gene ontology (molecular function)'] = GO_function['Gene ontology (molecular function)'].map(str)"
   ]
  },
  {
   "cell_type": "code",
   "execution_count": 8,
   "metadata": {},
   "outputs": [
    {
     "data": {
      "text/plain": [
       "(404840, 5)"
      ]
     },
     "execution_count": 8,
     "metadata": {},
     "output_type": "execute_result"
    }
   ],
   "source": [
    "#check shape\n",
    "GO_function.shape"
   ]
  },
  {
   "cell_type": "code",
   "execution_count": 9,
   "metadata": {},
   "outputs": [
    {
     "data": {
      "text/plain": [
       "Gene ontology (molecular function)     28473\n",
       "Sequence                              338697\n",
       "Length                                  3112\n",
       "Organism                               11223\n",
       "Protein names                          86637\n",
       "dtype: int64"
      ]
     },
     "execution_count": 9,
     "metadata": {},
     "output_type": "execute_result"
    }
   ],
   "source": [
    "#start searching for groupings of keywords\n",
    "GO_function.nunique()"
   ]
  },
  {
   "cell_type": "markdown",
   "metadata": {},
   "source": [
    "## Class 1 - rRNA Binding & Structural Constituent of the Ribosome"
   ]
  },
  {
   "cell_type": "code",
   "execution_count": 10,
   "metadata": {},
   "outputs": [
    {
     "data": {
      "text/plain": [
       "(26348, 5)"
      ]
     },
     "execution_count": 10,
     "metadata": {},
     "output_type": "execute_result"
    }
   ],
   "source": [
    "#narrowing down classes -- rRNA Binding & structual consituent of the ribosome CLASS 1\n",
    "rRNA_binding = GO_function[GO_function['Gene ontology (molecular function)'].str.startswith(\n",
    "    'rRNA binding [GO:0019843]; structural constituent of ribosome [GO:0003735]')]\n",
    "rRNA_binding.shape"
   ]
  },
  {
   "cell_type": "code",
   "execution_count": 11,
   "metadata": {},
   "outputs": [
    {
     "data": {
      "text/plain": [
       "(27985, 5)"
      ]
     },
     "execution_count": 11,
     "metadata": {},
     "output_type": "execute_result"
    }
   ],
   "source": [
    "#contains what we want\n",
    "rRNA_binding_contains = GO_function[GO_function['Gene ontology (molecular function)'].str.contains('rRNA binding [GO:0019843]; structural constituent of ribosome [GO:0003735]', regex=False)]\n",
    "rRNA_binding_contains.shape"
   ]
  },
  {
   "cell_type": "code",
   "execution_count": 12,
   "metadata": {},
   "outputs": [
    {
     "name": "stderr",
     "output_type": "stream",
     "text": [
      "<ipython-input-12-47bc8c9def97>:3: SettingWithCopyWarning: \n",
      "A value is trying to be set on a copy of a slice from a DataFrame.\n",
      "Try using .loc[row_indexer,col_indexer] = value instead\n",
      "\n",
      "See the caveats in the documentation: https://pandas.pydata.org/pandas-docs/stable/user_guide/indexing.html#returning-a-view-versus-a-copy\n",
      "  rRNA_binding_contains['class'] = 1\n"
     ]
    }
   ],
   "source": [
    "#create column for class\n",
    "#rRNA binding = class 1\n",
    "rRNA_binding_contains['class'] = 1"
   ]
  },
  {
   "cell_type": "code",
   "execution_count": 13,
   "metadata": {},
   "outputs": [
    {
     "data": {
      "text/plain": [
       "Gene ontology (molecular function)       41\n",
       "Sequence                              20054\n",
       "Length                                  303\n",
       "Organism                               1410\n",
       "Protein names                           571\n",
       "class                                     1\n",
       "dtype: int64"
      ]
     },
     "execution_count": 13,
     "metadata": {},
     "output_type": "execute_result"
    }
   ],
   "source": [
    "#the unique values\n",
    "rRNA_binding_contains.nunique()"
   ]
  },
  {
   "cell_type": "code",
   "execution_count": 14,
   "metadata": {},
   "outputs": [
    {
     "data": {
      "text/html": [
       "<div>\n",
       "<style scoped>\n",
       "    .dataframe tbody tr th:only-of-type {\n",
       "        vertical-align: middle;\n",
       "    }\n",
       "\n",
       "    .dataframe tbody tr th {\n",
       "        vertical-align: top;\n",
       "    }\n",
       "\n",
       "    .dataframe thead th {\n",
       "        text-align: right;\n",
       "    }\n",
       "</style>\n",
       "<table border=\"1\" class=\"dataframe\">\n",
       "  <thead>\n",
       "    <tr style=\"text-align: right;\">\n",
       "      <th></th>\n",
       "      <th>Gene ontology (molecular function)</th>\n",
       "      <th>Sequence</th>\n",
       "      <th>Length</th>\n",
       "      <th>Organism</th>\n",
       "      <th>Protein names</th>\n",
       "      <th>class</th>\n",
       "    </tr>\n",
       "  </thead>\n",
       "  <tbody>\n",
       "    <tr>\n",
       "      <th>70846</th>\n",
       "      <td>DNA binding [GO:0003677]; rRNA binding [GO:001...</td>\n",
       "      <td>MHVKKGDKVMVISGKDKGKQGTILAAFPKKDRVLVEGVNMVKKHSK...</td>\n",
       "      <td>103</td>\n",
       "      <td>Bacillus subtilis (strain 168)</td>\n",
       "      <td>50S ribosomal protein L24 (12 kDa DNA-binding ...</td>\n",
       "      <td>1</td>\n",
       "    </tr>\n",
       "    <tr>\n",
       "      <th>232889</th>\n",
       "      <td>DNA binding [GO:0003677]; rRNA binding [GO:001...</td>\n",
       "      <td>MHVKKGDKVMVISGKDKGKQGTILAAFPKKDRVLVEGVNMVKKHSK...</td>\n",
       "      <td>103</td>\n",
       "      <td>Bacillus subtilis subsp. spizizenii (strain AT...</td>\n",
       "      <td>50S ribosomal protein L24</td>\n",
       "      <td>1</td>\n",
       "    </tr>\n",
       "    <tr>\n",
       "      <th>413798</th>\n",
       "      <td>DNA binding [GO:0003677]; nucleotide binding [...</td>\n",
       "      <td>MADNEEDVEAEEEYTELTDISGVGPSKAESLREAGFESVEDVRGAD...</td>\n",
       "      <td>241</td>\n",
       "      <td>Haloarcula marismortui (strain ATCC 43049 / DS...</td>\n",
       "      <td>50S ribosomal protein L32e (Hl5)</td>\n",
       "      <td>1</td>\n",
       "    </tr>\n",
       "  </tbody>\n",
       "</table>\n",
       "</div>"
      ],
      "text/plain": [
       "                       Gene ontology (molecular function)  \\\n",
       "70846   DNA binding [GO:0003677]; rRNA binding [GO:001...   \n",
       "232889  DNA binding [GO:0003677]; rRNA binding [GO:001...   \n",
       "413798  DNA binding [GO:0003677]; nucleotide binding [...   \n",
       "\n",
       "                                                 Sequence  Length  \\\n",
       "70846   MHVKKGDKVMVISGKDKGKQGTILAAFPKKDRVLVEGVNMVKKHSK...     103   \n",
       "232889  MHVKKGDKVMVISGKDKGKQGTILAAFPKKDRVLVEGVNMVKKHSK...     103   \n",
       "413798  MADNEEDVEAEEEYTELTDISGVGPSKAESLREAGFESVEDVRGAD...     241   \n",
       "\n",
       "                                                 Organism  \\\n",
       "70846                      Bacillus subtilis (strain 168)   \n",
       "232889  Bacillus subtilis subsp. spizizenii (strain AT...   \n",
       "413798  Haloarcula marismortui (strain ATCC 43049 / DS...   \n",
       "\n",
       "                                            Protein names  class  \n",
       "70846   50S ribosomal protein L24 (12 kDa DNA-binding ...      1  \n",
       "232889                          50S ribosomal protein L24      1  \n",
       "413798                   50S ribosomal protein L32e (Hl5)      1  "
      ]
     },
     "execution_count": 14,
     "metadata": {},
     "output_type": "execute_result"
    }
   ],
   "source": [
    "#searching for overlap in the classes\n",
    "rRNA_binding_contains[rRNA_binding_contains['Gene ontology (molecular function)'].str.contains('DNA binding [GO:0003677]',regex=False)]"
   ]
  },
  {
   "cell_type": "code",
   "execution_count": 15,
   "metadata": {},
   "outputs": [
    {
     "data": {
      "text/html": [
       "<div>\n",
       "<style scoped>\n",
       "    .dataframe tbody tr th:only-of-type {\n",
       "        vertical-align: middle;\n",
       "    }\n",
       "\n",
       "    .dataframe tbody tr th {\n",
       "        vertical-align: top;\n",
       "    }\n",
       "\n",
       "    .dataframe thead th {\n",
       "        text-align: right;\n",
       "    }\n",
       "</style>\n",
       "<table border=\"1\" class=\"dataframe\">\n",
       "  <thead>\n",
       "    <tr style=\"text-align: right;\">\n",
       "      <th></th>\n",
       "      <th>Gene ontology (molecular function)</th>\n",
       "      <th>Sequence</th>\n",
       "      <th>Length</th>\n",
       "      <th>Organism</th>\n",
       "      <th>Protein names</th>\n",
       "      <th>class</th>\n",
       "    </tr>\n",
       "  </thead>\n",
       "  <tbody>\n",
       "  </tbody>\n",
       "</table>\n",
       "</div>"
      ],
      "text/plain": [
       "Empty DataFrame\n",
       "Columns: [Gene ontology (molecular function), Sequence, Length, Organism, Protein names, class]\n",
       "Index: []"
      ]
     },
     "execution_count": 15,
     "metadata": {},
     "output_type": "execute_result"
    }
   ],
   "source": [
    "#searching for overlap in the classes -- none with ATP\n",
    "rRNA_binding_contains[rRNA_binding_contains['Gene ontology (molecular function)'].str.contains('ATP binding [GO:0005524]',regex=False)]"
   ]
  },
  {
   "cell_type": "markdown",
   "metadata": {},
   "source": [
    "## Class 2 - DNA Binding"
   ]
  },
  {
   "cell_type": "code",
   "execution_count": 16,
   "metadata": {},
   "outputs": [
    {
     "data": {
      "text/plain": [
       "(21886, 5)"
      ]
     },
     "execution_count": 16,
     "metadata": {},
     "output_type": "execute_result"
    }
   ],
   "source": [
    "#narrowing down classes -- DNA binding CLASS 2\n",
    "DNA_binding = GO_function[GO_function['Gene ontology (molecular function)'].str.startswith(\"DNA binding [GO:0003677]\")]\n",
    "DNA_binding.shape"
   ]
  },
  {
   "cell_type": "code",
   "execution_count": 17,
   "metadata": {},
   "outputs": [
    {
     "data": {
      "text/plain": [
       "(30043, 5)"
      ]
     },
     "execution_count": 17,
     "metadata": {},
     "output_type": "execute_result"
    }
   ],
   "source": [
    "#the dataframe of DNA binding that is 'contained' within the GO function columns\n",
    "DNA_binding_contains = GO_function[GO_function['Gene ontology (molecular function)'].str.contains(\"DNA binding [GO:0003677]\",regex=False)]\n",
    "DNA_binding_contains.shape"
   ]
  },
  {
   "cell_type": "code",
   "execution_count": 18,
   "metadata": {},
   "outputs": [
    {
     "name": "stderr",
     "output_type": "stream",
     "text": [
      "<ipython-input-18-ae9de243b4a9>:2: SettingWithCopyWarning: \n",
      "A value is trying to be set on a copy of a slice from a DataFrame.\n",
      "Try using .loc[row_indexer,col_indexer] = value instead\n",
      "\n",
      "See the caveats in the documentation: https://pandas.pydata.org/pandas-docs/stable/user_guide/indexing.html#returning-a-view-versus-a-copy\n",
      "  DNA_binding_contains['class'] = 2\n"
     ]
    }
   ],
   "source": [
    "#create class 2\n",
    "DNA_binding_contains['class'] = 2"
   ]
  },
  {
   "cell_type": "code",
   "execution_count": 19,
   "metadata": {},
   "outputs": [
    {
     "data": {
      "text/plain": [
       "Gene ontology (molecular function)     2553\n",
       "Sequence                              24785\n",
       "Length                                 1816\n",
       "Organism                               3060\n",
       "Protein names                          9878\n",
       "class                                     1\n",
       "dtype: int64"
      ]
     },
     "execution_count": 19,
     "metadata": {},
     "output_type": "execute_result"
    }
   ],
   "source": [
    "#the unique values\n",
    "DNA_binding_contains.nunique()"
   ]
  },
  {
   "cell_type": "code",
   "execution_count": 20,
   "metadata": {},
   "outputs": [
    {
     "data": {
      "text/html": [
       "<div>\n",
       "<style scoped>\n",
       "    .dataframe tbody tr th:only-of-type {\n",
       "        vertical-align: middle;\n",
       "    }\n",
       "\n",
       "    .dataframe tbody tr th {\n",
       "        vertical-align: top;\n",
       "    }\n",
       "\n",
       "    .dataframe thead th {\n",
       "        text-align: right;\n",
       "    }\n",
       "</style>\n",
       "<table border=\"1\" class=\"dataframe\">\n",
       "  <thead>\n",
       "    <tr style=\"text-align: right;\">\n",
       "      <th></th>\n",
       "      <th>Gene ontology (molecular function)</th>\n",
       "      <th>Sequence</th>\n",
       "      <th>Length</th>\n",
       "      <th>Organism</th>\n",
       "      <th>Protein names</th>\n",
       "      <th>class</th>\n",
       "    </tr>\n",
       "  </thead>\n",
       "  <tbody>\n",
       "    <tr>\n",
       "      <th>3</th>\n",
       "      <td>bacterial-type RNA polymerase core enzyme bind...</td>\n",
       "      <td>MSQNTLKVHDLNEDAEFDENGVEVFDEKALVEQEPSDNDLAEEELL...</td>\n",
       "      <td>330</td>\n",
       "      <td>Escherichia coli (strain K12)</td>\n",
       "      <td>RNA polymerase sigma factor RpoS (Sigma S) (Si...</td>\n",
       "      <td>2</td>\n",
       "    </tr>\n",
       "    <tr>\n",
       "      <th>22</th>\n",
       "      <td>DNA binding [GO:0003677]; DNA polymerase bindi...</td>\n",
       "      <td>MTTETFVKDIKPGLKNLNLIFIVLETGRVTKTKDGHEVRTCKVADK...</td>\n",
       "      <td>211</td>\n",
       "      <td>Homo sapiens (Human)</td>\n",
       "      <td>SOSS complex subunit B1 (Nucleic acid-binding ...</td>\n",
       "      <td>2</td>\n",
       "    </tr>\n",
       "    <tr>\n",
       "      <th>25</th>\n",
       "      <td>5'-3' DNA helicase activity [GO:0043139]; 5'-3...</td>\n",
       "      <td>MASSTVESFVAQQLQLLELERDAEVEERRSWQEHSSLRELQSRGVC...</td>\n",
       "      <td>993</td>\n",
       "      <td>Mus musculus (Mouse)</td>\n",
       "      <td>DNA-binding protein SMUBP-2 (EC 3.6.4.12) (EC ...</td>\n",
       "      <td>2</td>\n",
       "    </tr>\n",
       "    <tr>\n",
       "      <th>179</th>\n",
       "      <td>DNA binding [GO:0003677]; DNA-directed 5'-3' R...</td>\n",
       "      <td>MLRNGNEGMSTIPGFSQIQFEGFCRFINQGLAEELEKFPTIKDPDH...</td>\n",
       "      <td>1075</td>\n",
       "      <td>Saccharum officinarum (Sugarcane)</td>\n",
       "      <td>DNA-directed RNA polymerase subunit beta (EC 2...</td>\n",
       "      <td>2</td>\n",
       "    </tr>\n",
       "    <tr>\n",
       "      <th>186</th>\n",
       "      <td>DNA binding [GO:0003677]; DNA-directed 5'-3' R...</td>\n",
       "      <td>MNIFFQRKLVKYFGNIKKKKHYLTVSEECNHYVFVKKTYVSSVFLK...</td>\n",
       "      <td>3120</td>\n",
       "      <td>Chlamydomonas reinhardtii (Chlamydomonas smithii)</td>\n",
       "      <td>DNA-directed RNA polymerase subunit beta'' (EC...</td>\n",
       "      <td>2</td>\n",
       "    </tr>\n",
       "  </tbody>\n",
       "</table>\n",
       "</div>"
      ],
      "text/plain": [
       "                    Gene ontology (molecular function)  \\\n",
       "3    bacterial-type RNA polymerase core enzyme bind...   \n",
       "22   DNA binding [GO:0003677]; DNA polymerase bindi...   \n",
       "25   5'-3' DNA helicase activity [GO:0043139]; 5'-3...   \n",
       "179  DNA binding [GO:0003677]; DNA-directed 5'-3' R...   \n",
       "186  DNA binding [GO:0003677]; DNA-directed 5'-3' R...   \n",
       "\n",
       "                                              Sequence  Length  \\\n",
       "3    MSQNTLKVHDLNEDAEFDENGVEVFDEKALVEQEPSDNDLAEEELL...     330   \n",
       "22   MTTETFVKDIKPGLKNLNLIFIVLETGRVTKTKDGHEVRTCKVADK...     211   \n",
       "25   MASSTVESFVAQQLQLLELERDAEVEERRSWQEHSSLRELQSRGVC...     993   \n",
       "179  MLRNGNEGMSTIPGFSQIQFEGFCRFINQGLAEELEKFPTIKDPDH...    1075   \n",
       "186  MNIFFQRKLVKYFGNIKKKKHYLTVSEECNHYVFVKKTYVSSVFLK...    3120   \n",
       "\n",
       "                                              Organism  \\\n",
       "3                        Escherichia coli (strain K12)   \n",
       "22                                Homo sapiens (Human)   \n",
       "25                                Mus musculus (Mouse)   \n",
       "179                  Saccharum officinarum (Sugarcane)   \n",
       "186  Chlamydomonas reinhardtii (Chlamydomonas smithii)   \n",
       "\n",
       "                                         Protein names  class  \n",
       "3    RNA polymerase sigma factor RpoS (Sigma S) (Si...      2  \n",
       "22   SOSS complex subunit B1 (Nucleic acid-binding ...      2  \n",
       "25   DNA-binding protein SMUBP-2 (EC 3.6.4.12) (EC ...      2  \n",
       "179  DNA-directed RNA polymerase subunit beta (EC 2...      2  \n",
       "186  DNA-directed RNA polymerase subunit beta'' (EC...      2  "
      ]
     },
     "execution_count": 20,
     "metadata": {},
     "output_type": "execute_result"
    }
   ],
   "source": [
    "#check the class is there\n",
    "DNA_binding_contains.head()"
   ]
  },
  {
   "cell_type": "code",
   "execution_count": 21,
   "metadata": {},
   "outputs": [
    {
     "data": {
      "text/plain": [
       "22        DNA binding [GO:0003677]; DNA polymerase bindi...\n",
       "179       DNA binding [GO:0003677]; DNA-directed 5'-3' R...\n",
       "186       DNA binding [GO:0003677]; DNA-directed 5'-3' R...\n",
       "188       DNA binding [GO:0003677]; DNA-binding transcri...\n",
       "190       DNA binding [GO:0003677]; DNA-directed 5'-3' R...\n",
       "                                ...                        \n",
       "414261                             DNA binding [GO:0003677]\n",
       "414285                             DNA binding [GO:0003677]\n",
       "414302                             DNA binding [GO:0003677]\n",
       "414309                             DNA binding [GO:0003677]\n",
       "414311    DNA binding [GO:0003677]; DNA-binding transcri...\n",
       "Name: Gene ontology (molecular function), Length: 21886, dtype: category\n",
       "Categories (28473, object): ['(+)-abscisic acid 8'-hydroxylase activity [GO..., '(+)-abscisic acid 8'-hydroxylase activity [GO..., '(+)-abscisic acid 8'-hydroxylase activity [GO..., '(+)-abscisic acid D-glucopyranosyl ester tran..., ..., 'zeatin O-beta-D-xylosyltransferase activity [..., 'zerumbone synthase activity [GO:0102069]', 'zinc ion binding [GO:0008270]', 'zinc ion transmembrane transporter activity [...]"
      ]
     },
     "execution_count": 21,
     "metadata": {},
     "output_type": "execute_result"
    }
   ],
   "source": [
    "DNA_binding['Gene ontology (molecular function)']"
   ]
  },
  {
   "cell_type": "code",
   "execution_count": 22,
   "metadata": {},
   "outputs": [
    {
     "data": {
      "text/html": [
       "<div>\n",
       "<style scoped>\n",
       "    .dataframe tbody tr th:only-of-type {\n",
       "        vertical-align: middle;\n",
       "    }\n",
       "\n",
       "    .dataframe tbody tr th {\n",
       "        vertical-align: top;\n",
       "    }\n",
       "\n",
       "    .dataframe thead th {\n",
       "        text-align: right;\n",
       "    }\n",
       "</style>\n",
       "<table border=\"1\" class=\"dataframe\">\n",
       "  <thead>\n",
       "    <tr style=\"text-align: right;\">\n",
       "      <th></th>\n",
       "      <th>Gene ontology (molecular function)</th>\n",
       "      <th>Sequence</th>\n",
       "      <th>Length</th>\n",
       "      <th>Organism</th>\n",
       "      <th>Protein names</th>\n",
       "      <th>class</th>\n",
       "    </tr>\n",
       "  </thead>\n",
       "  <tbody>\n",
       "    <tr>\n",
       "      <th>25</th>\n",
       "      <td>5'-3' DNA helicase activity [GO:0043139]; 5'-3...</td>\n",
       "      <td>MASSTVESFVAQQLQLLELERDAEVEERRSWQEHSSLRELQSRGVC...</td>\n",
       "      <td>993</td>\n",
       "      <td>Mus musculus (Mouse)</td>\n",
       "      <td>DNA-binding protein SMUBP-2 (EC 3.6.4.12) (EC ...</td>\n",
       "      <td>2</td>\n",
       "    </tr>\n",
       "    <tr>\n",
       "      <th>527</th>\n",
       "      <td>4 iron, 4 sulfur cluster binding [GO:0051539];...</td>\n",
       "      <td>MPESLIAGIPVHFPFEPYPVQRAYMEKVIQCLRDGTNGVLESPTGT...</td>\n",
       "      <td>985</td>\n",
       "      <td>Drosophila yakuba (Fruit fly)</td>\n",
       "      <td>Regulator of telomere elongation helicase 1 ho...</td>\n",
       "      <td>2</td>\n",
       "    </tr>\n",
       "    <tr>\n",
       "      <th>528</th>\n",
       "      <td>ATP binding [GO:0005524]; DNA binding [GO:0003...</td>\n",
       "      <td>MIASVRGEVLEIALDHAVIESAGVGYRVNATPATLGGLQRGTEARL...</td>\n",
       "      <td>200</td>\n",
       "      <td>Rhodococcus opacus (strain B4)</td>\n",
       "      <td>Holliday junction ATP-dependent DNA helicase R...</td>\n",
       "      <td>2</td>\n",
       "    </tr>\n",
       "    <tr>\n",
       "      <th>529</th>\n",
       "      <td>ATP binding [GO:0005524]; DNA binding [GO:0003...</td>\n",
       "      <td>MHKDEDQRLLGAVPLPNDPDRSLRPQVLDDFIGQEAARANLKIFIE...</td>\n",
       "      <td>361</td>\n",
       "      <td>Bartonella henselae (strain ATCC 49882 / DSM 2...</td>\n",
       "      <td>Holliday junction ATP-dependent DNA helicase R...</td>\n",
       "      <td>2</td>\n",
       "    </tr>\n",
       "    <tr>\n",
       "      <th>532</th>\n",
       "      <td>ATP binding [GO:0005524]; DNA binding [GO:0003...</td>\n",
       "      <td>MYEYINGLITNIYPAYLVIADRSGVGYKLFVANPYRFEQNVESHVY...</td>\n",
       "      <td>196</td>\n",
       "      <td>Leuconostoc citreum (strain KM20)</td>\n",
       "      <td>Holliday junction ATP-dependent DNA helicase R...</td>\n",
       "      <td>2</td>\n",
       "    </tr>\n",
       "    <tr>\n",
       "      <th>...</th>\n",
       "      <td>...</td>\n",
       "      <td>...</td>\n",
       "      <td>...</td>\n",
       "      <td>...</td>\n",
       "      <td>...</td>\n",
       "      <td>...</td>\n",
       "    </tr>\n",
       "    <tr>\n",
       "      <th>414122</th>\n",
       "      <td>ATP binding [GO:0005524]; DNA binding [GO:0003...</td>\n",
       "      <td>MSNDTLHKYEALPEDHRNVALRPCLIEEFVGQTEVIKNLKVFIQSA...</td>\n",
       "      <td>331</td>\n",
       "      <td>Anaplasma marginale (strain Florida)</td>\n",
       "      <td>Holliday junction ATP-dependent DNA helicase R...</td>\n",
       "      <td>2</td>\n",
       "    </tr>\n",
       "    <tr>\n",
       "      <th>414124</th>\n",
       "      <td>ATP binding [GO:0005524]; DNA binding [GO:0003...</td>\n",
       "      <td>MIEADRLISAAVINDEESIDRAIRPKLLTEYVGQPHVREQMEIFIQ...</td>\n",
       "      <td>334</td>\n",
       "      <td>Yersinia pseudotuberculosis serotype IB (strai...</td>\n",
       "      <td>Holliday junction ATP-dependent DNA helicase R...</td>\n",
       "      <td>2</td>\n",
       "    </tr>\n",
       "    <tr>\n",
       "      <th>414129</th>\n",
       "      <td>ATP binding [GO:0005524]; DNA binding [GO:0003...</td>\n",
       "      <td>MYEYFEGIISEVTPSYVVVDVNGIGYKVFSPTPFAYKQGQKAKVYI...</td>\n",
       "      <td>195</td>\n",
       "      <td>Lactobacillus acidophilus (strain ATCC 700396 ...</td>\n",
       "      <td>Holliday junction ATP-dependent DNA helicase R...</td>\n",
       "      <td>2</td>\n",
       "    </tr>\n",
       "    <tr>\n",
       "      <th>414140</th>\n",
       "      <td>ATP binding [GO:0005524]; DNA binding [GO:0003...</td>\n",
       "      <td>MIGRLRGIILEKQPPLVLLETNGVGYEVQLPMTCFYELPELGQEAI...</td>\n",
       "      <td>204</td>\n",
       "      <td>Yersinia pseudotuberculosis serotype IB (strai...</td>\n",
       "      <td>Holliday junction ATP-dependent DNA helicase R...</td>\n",
       "      <td>2</td>\n",
       "    </tr>\n",
       "    <tr>\n",
       "      <th>414308</th>\n",
       "      <td>ATP binding [GO:0005524]; DNA binding [GO:0003...</td>\n",
       "      <td>MTYQNGVEVLLEEFLDYLTKEETICSLEIEKLKVSIDELEKETDEP...</td>\n",
       "      <td>320</td>\n",
       "      <td>Aquifex aeolicus (strain VF5)</td>\n",
       "      <td>Probable protein adenylyltransferase aq_aa38 (...</td>\n",
       "      <td>2</td>\n",
       "    </tr>\n",
       "  </tbody>\n",
       "</table>\n",
       "<p>5008 rows × 6 columns</p>\n",
       "</div>"
      ],
      "text/plain": [
       "                       Gene ontology (molecular function)  \\\n",
       "25      5'-3' DNA helicase activity [GO:0043139]; 5'-3...   \n",
       "527     4 iron, 4 sulfur cluster binding [GO:0051539];...   \n",
       "528     ATP binding [GO:0005524]; DNA binding [GO:0003...   \n",
       "529     ATP binding [GO:0005524]; DNA binding [GO:0003...   \n",
       "532     ATP binding [GO:0005524]; DNA binding [GO:0003...   \n",
       "...                                                   ...   \n",
       "414122  ATP binding [GO:0005524]; DNA binding [GO:0003...   \n",
       "414124  ATP binding [GO:0005524]; DNA binding [GO:0003...   \n",
       "414129  ATP binding [GO:0005524]; DNA binding [GO:0003...   \n",
       "414140  ATP binding [GO:0005524]; DNA binding [GO:0003...   \n",
       "414308  ATP binding [GO:0005524]; DNA binding [GO:0003...   \n",
       "\n",
       "                                                 Sequence  Length  \\\n",
       "25      MASSTVESFVAQQLQLLELERDAEVEERRSWQEHSSLRELQSRGVC...     993   \n",
       "527     MPESLIAGIPVHFPFEPYPVQRAYMEKVIQCLRDGTNGVLESPTGT...     985   \n",
       "528     MIASVRGEVLEIALDHAVIESAGVGYRVNATPATLGGLQRGTEARL...     200   \n",
       "529     MHKDEDQRLLGAVPLPNDPDRSLRPQVLDDFIGQEAARANLKIFIE...     361   \n",
       "532     MYEYINGLITNIYPAYLVIADRSGVGYKLFVANPYRFEQNVESHVY...     196   \n",
       "...                                                   ...     ...   \n",
       "414122  MSNDTLHKYEALPEDHRNVALRPCLIEEFVGQTEVIKNLKVFIQSA...     331   \n",
       "414124  MIEADRLISAAVINDEESIDRAIRPKLLTEYVGQPHVREQMEIFIQ...     334   \n",
       "414129  MYEYFEGIISEVTPSYVVVDVNGIGYKVFSPTPFAYKQGQKAKVYI...     195   \n",
       "414140  MIGRLRGIILEKQPPLVLLETNGVGYEVQLPMTCFYELPELGQEAI...     204   \n",
       "414308  MTYQNGVEVLLEEFLDYLTKEETICSLEIEKLKVSIDELEKETDEP...     320   \n",
       "\n",
       "                                                 Organism  \\\n",
       "25                                   Mus musculus (Mouse)   \n",
       "527                         Drosophila yakuba (Fruit fly)   \n",
       "528                        Rhodococcus opacus (strain B4)   \n",
       "529     Bartonella henselae (strain ATCC 49882 / DSM 2...   \n",
       "532                     Leuconostoc citreum (strain KM20)   \n",
       "...                                                   ...   \n",
       "414122               Anaplasma marginale (strain Florida)   \n",
       "414124  Yersinia pseudotuberculosis serotype IB (strai...   \n",
       "414129  Lactobacillus acidophilus (strain ATCC 700396 ...   \n",
       "414140  Yersinia pseudotuberculosis serotype IB (strai...   \n",
       "414308                      Aquifex aeolicus (strain VF5)   \n",
       "\n",
       "                                            Protein names  class  \n",
       "25      DNA-binding protein SMUBP-2 (EC 3.6.4.12) (EC ...      2  \n",
       "527     Regulator of telomere elongation helicase 1 ho...      2  \n",
       "528     Holliday junction ATP-dependent DNA helicase R...      2  \n",
       "529     Holliday junction ATP-dependent DNA helicase R...      2  \n",
       "532     Holliday junction ATP-dependent DNA helicase R...      2  \n",
       "...                                                   ...    ...  \n",
       "414122  Holliday junction ATP-dependent DNA helicase R...      2  \n",
       "414124  Holliday junction ATP-dependent DNA helicase R...      2  \n",
       "414129  Holliday junction ATP-dependent DNA helicase R...      2  \n",
       "414140  Holliday junction ATP-dependent DNA helicase R...      2  \n",
       "414308  Probable protein adenylyltransferase aq_aa38 (...      2  \n",
       "\n",
       "[5008 rows x 6 columns]"
      ]
     },
     "execution_count": 22,
     "metadata": {},
     "output_type": "execute_result"
    }
   ],
   "source": [
    "#the overlap between DNA binding and ATP binding proteins\n",
    "DNA_binding_contains[DNA_binding_contains['Gene ontology (molecular function)'].str.contains('ATP binding [GO:0005524]',regex=False)]"
   ]
  },
  {
   "cell_type": "markdown",
   "metadata": {},
   "source": [
    "## Class 3 - ATP Binding"
   ]
  },
  {
   "cell_type": "code",
   "execution_count": 23,
   "metadata": {},
   "outputs": [
    {
     "data": {
      "text/plain": [
       "(59297, 5)"
      ]
     },
     "execution_count": 23,
     "metadata": {},
     "output_type": "execute_result"
    }
   ],
   "source": [
    "#narrowing down classes -- ATP Binding CLASS 3\n",
    "#this dataframe contains the proteins that startwith ATP binding [GO:0005524]\n",
    "ATP_binding = GO_function[GO_function['Gene ontology (molecular function)'].str.startswith(\"ATP binding [GO:0005524]\")]\n",
    "ATP_binding.shape"
   ]
  },
  {
   "cell_type": "code",
   "execution_count": 24,
   "metadata": {},
   "outputs": [
    {
     "data": {
      "text/plain": [
       "(81057, 5)"
      ]
     },
     "execution_count": 24,
     "metadata": {},
     "output_type": "execute_result"
    }
   ],
   "source": [
    "#this dataframe is the sequences which 'contain' ATP binding [GO:0005524] function\n",
    "ATP_binding_contains = GO_function[GO_function['Gene ontology (molecular function)'].str.contains(\"ATP binding [GO:0005524]\", regex=False)]\n",
    "ATP_binding_contains.shape"
   ]
  },
  {
   "cell_type": "code",
   "execution_count": 25,
   "metadata": {},
   "outputs": [
    {
     "name": "stderr",
     "output_type": "stream",
     "text": [
      "<ipython-input-25-5a64a6e8c03d>:2: SettingWithCopyWarning: \n",
      "A value is trying to be set on a copy of a slice from a DataFrame.\n",
      "Try using .loc[row_indexer,col_indexer] = value instead\n",
      "\n",
      "See the caveats in the documentation: https://pandas.pydata.org/pandas-docs/stable/user_guide/indexing.html#returning-a-view-versus-a-copy\n",
      "  ATP_binding_contains['class'] = 3\n"
     ]
    }
   ],
   "source": [
    "#create the class for ATP binding\n",
    "ATP_binding_contains['class'] = 3"
   ]
  },
  {
   "cell_type": "code",
   "execution_count": 26,
   "metadata": {},
   "outputs": [
    {
     "data": {
      "text/plain": [
       "Gene ontology (molecular function)     4745\n",
       "Sequence                              68894\n",
       "Length                                 2262\n",
       "Organism                               3454\n",
       "Protein names                         10675\n",
       "class                                     1\n",
       "dtype: int64"
      ]
     },
     "execution_count": 26,
     "metadata": {},
     "output_type": "execute_result"
    }
   ],
   "source": [
    "#check to make sure that the class added correctly\n",
    "ATP_binding_contains.nunique()"
   ]
  },
  {
   "cell_type": "code",
   "execution_count": 27,
   "metadata": {},
   "outputs": [
    {
     "data": {
      "text/html": [
       "<div>\n",
       "<style scoped>\n",
       "    .dataframe tbody tr th:only-of-type {\n",
       "        vertical-align: middle;\n",
       "    }\n",
       "\n",
       "    .dataframe tbody tr th {\n",
       "        vertical-align: top;\n",
       "    }\n",
       "\n",
       "    .dataframe thead th {\n",
       "        text-align: right;\n",
       "    }\n",
       "</style>\n",
       "<table border=\"1\" class=\"dataframe\">\n",
       "  <thead>\n",
       "    <tr style=\"text-align: right;\">\n",
       "      <th></th>\n",
       "      <th>Gene ontology (molecular function)</th>\n",
       "      <th>Sequence</th>\n",
       "      <th>Length</th>\n",
       "      <th>Organism</th>\n",
       "      <th>Protein names</th>\n",
       "      <th>class</th>\n",
       "    </tr>\n",
       "  </thead>\n",
       "  <tbody>\n",
       "    <tr>\n",
       "      <th>0</th>\n",
       "      <td>ATP binding [GO:0005524]; cysteine-type endope...</td>\n",
       "      <td>MASSLKQGVSPKLRDVILVSKDIPEQLCDALFFYTSHNPKDYADAF...</td>\n",
       "      <td>6631</td>\n",
       "      <td>Avian infectious bronchitis virus (strain M41)...</td>\n",
       "      <td>Replicase polyprotein 1ab (pp1ab) (ORF1ab poly...</td>\n",
       "      <td>3</td>\n",
       "    </tr>\n",
       "    <tr>\n",
       "      <th>1</th>\n",
       "      <td>amino acid binding [GO:0016597]; aspartate car...</td>\n",
       "      <td>MAALVLEDGSVLQGRPFGAAVSTAGEVVFQTGMVGYPEALTDPSYK...</td>\n",
       "      <td>2225</td>\n",
       "      <td>Mus musculus (Mouse)</td>\n",
       "      <td>CAD protein [Includes: Glutamine-dependent car...</td>\n",
       "      <td>3</td>\n",
       "    </tr>\n",
       "    <tr>\n",
       "      <th>12</th>\n",
       "      <td>ATP binding [GO:0005524]; identical protein bi...</td>\n",
       "      <td>MEHGSSRGFIWLILFLDFVSRVTGKTQVDALIALRSSLSSGDHTNN...</td>\n",
       "      <td>601</td>\n",
       "      <td>Arabidopsis thaliana (Mouse-ear cress)</td>\n",
       "      <td>Somatic embryogenesis receptor kinase 5 (AtSER...</td>\n",
       "      <td>3</td>\n",
       "    </tr>\n",
       "    <tr>\n",
       "      <th>16</th>\n",
       "      <td>ATP binding [GO:0005524]; MAP kinase activity ...</td>\n",
       "      <td>MASATSTPTIADGNSNKESVATSRSPHTHDLNFELPEEYEMINLIG...</td>\n",
       "      <td>372</td>\n",
       "      <td>Schizosaccharomyces pombe (strain 972 / ATCC 2...</td>\n",
       "      <td>Mitogen-activated protein kinase spk1 (MAP kin...</td>\n",
       "      <td>3</td>\n",
       "    </tr>\n",
       "    <tr>\n",
       "      <th>25</th>\n",
       "      <td>5'-3' DNA helicase activity [GO:0043139]; 5'-3...</td>\n",
       "      <td>MASSTVESFVAQQLQLLELERDAEVEERRSWQEHSSLRELQSRGVC...</td>\n",
       "      <td>993</td>\n",
       "      <td>Mus musculus (Mouse)</td>\n",
       "      <td>DNA-binding protein SMUBP-2 (EC 3.6.4.12) (EC ...</td>\n",
       "      <td>3</td>\n",
       "    </tr>\n",
       "  </tbody>\n",
       "</table>\n",
       "</div>"
      ],
      "text/plain": [
       "                   Gene ontology (molecular function)  \\\n",
       "0   ATP binding [GO:0005524]; cysteine-type endope...   \n",
       "1   amino acid binding [GO:0016597]; aspartate car...   \n",
       "12  ATP binding [GO:0005524]; identical protein bi...   \n",
       "16  ATP binding [GO:0005524]; MAP kinase activity ...   \n",
       "25  5'-3' DNA helicase activity [GO:0043139]; 5'-3...   \n",
       "\n",
       "                                             Sequence  Length  \\\n",
       "0   MASSLKQGVSPKLRDVILVSKDIPEQLCDALFFYTSHNPKDYADAF...    6631   \n",
       "1   MAALVLEDGSVLQGRPFGAAVSTAGEVVFQTGMVGYPEALTDPSYK...    2225   \n",
       "12  MEHGSSRGFIWLILFLDFVSRVTGKTQVDALIALRSSLSSGDHTNN...     601   \n",
       "16  MASATSTPTIADGNSNKESVATSRSPHTHDLNFELPEEYEMINLIG...     372   \n",
       "25  MASSTVESFVAQQLQLLELERDAEVEERRSWQEHSSLRELQSRGVC...     993   \n",
       "\n",
       "                                             Organism  \\\n",
       "0   Avian infectious bronchitis virus (strain M41)...   \n",
       "1                                Mus musculus (Mouse)   \n",
       "12             Arabidopsis thaliana (Mouse-ear cress)   \n",
       "16  Schizosaccharomyces pombe (strain 972 / ATCC 2...   \n",
       "25                               Mus musculus (Mouse)   \n",
       "\n",
       "                                        Protein names  class  \n",
       "0   Replicase polyprotein 1ab (pp1ab) (ORF1ab poly...      3  \n",
       "1   CAD protein [Includes: Glutamine-dependent car...      3  \n",
       "12  Somatic embryogenesis receptor kinase 5 (AtSER...      3  \n",
       "16  Mitogen-activated protein kinase spk1 (MAP kin...      3  \n",
       "25  DNA-binding protein SMUBP-2 (EC 3.6.4.12) (EC ...      3  "
      ]
     },
     "execution_count": 27,
     "metadata": {},
     "output_type": "execute_result"
    }
   ],
   "source": [
    "#check to make sure it added\n",
    "ATP_binding_contains.head()"
   ]
  },
  {
   "cell_type": "code",
   "execution_count": 28,
   "metadata": {},
   "outputs": [
    {
     "data": {
      "text/html": [
       "<div>\n",
       "<style scoped>\n",
       "    .dataframe tbody tr th:only-of-type {\n",
       "        vertical-align: middle;\n",
       "    }\n",
       "\n",
       "    .dataframe tbody tr th {\n",
       "        vertical-align: top;\n",
       "    }\n",
       "\n",
       "    .dataframe thead th {\n",
       "        text-align: right;\n",
       "    }\n",
       "</style>\n",
       "<table border=\"1\" class=\"dataframe\">\n",
       "  <thead>\n",
       "    <tr style=\"text-align: right;\">\n",
       "      <th></th>\n",
       "      <th>Gene ontology (molecular function)</th>\n",
       "      <th>Sequence</th>\n",
       "      <th>Length</th>\n",
       "      <th>Organism</th>\n",
       "      <th>Protein names</th>\n",
       "    </tr>\n",
       "  </thead>\n",
       "  <tbody>\n",
       "    <tr>\n",
       "      <th>528</th>\n",
       "      <td>ATP binding [GO:0005524]; DNA binding [GO:0003...</td>\n",
       "      <td>MIASVRGEVLEIALDHAVIESAGVGYRVNATPATLGGLQRGTEARL...</td>\n",
       "      <td>200</td>\n",
       "      <td>Rhodococcus opacus (strain B4)</td>\n",
       "      <td>Holliday junction ATP-dependent DNA helicase R...</td>\n",
       "    </tr>\n",
       "    <tr>\n",
       "      <th>529</th>\n",
       "      <td>ATP binding [GO:0005524]; DNA binding [GO:0003...</td>\n",
       "      <td>MHKDEDQRLLGAVPLPNDPDRSLRPQVLDDFIGQEAARANLKIFIE...</td>\n",
       "      <td>361</td>\n",
       "      <td>Bartonella henselae (strain ATCC 49882 / DSM 2...</td>\n",
       "      <td>Holliday junction ATP-dependent DNA helicase R...</td>\n",
       "    </tr>\n",
       "    <tr>\n",
       "      <th>532</th>\n",
       "      <td>ATP binding [GO:0005524]; DNA binding [GO:0003...</td>\n",
       "      <td>MYEYINGLITNIYPAYLVIADRSGVGYKLFVANPYRFEQNVESHVY...</td>\n",
       "      <td>196</td>\n",
       "      <td>Leuconostoc citreum (strain KM20)</td>\n",
       "      <td>Holliday junction ATP-dependent DNA helicase R...</td>\n",
       "    </tr>\n",
       "    <tr>\n",
       "      <th>534</th>\n",
       "      <td>ATP binding [GO:0005524]; DNA binding [GO:0003...</td>\n",
       "      <td>MERIISELEMPNEIEIQKSLRPKSFDEYIGQENLKEKMSISIKAAQ...</td>\n",
       "      <td>332</td>\n",
       "      <td>Fusobacterium nucleatum subsp. nucleatum (stra...</td>\n",
       "      <td>Holliday junction ATP-dependent DNA helicase R...</td>\n",
       "    </tr>\n",
       "    <tr>\n",
       "      <th>538</th>\n",
       "      <td>ATP binding [GO:0005524]; DNA binding [GO:0003...</td>\n",
       "      <td>MIGKISGILDFRGPDHVLIDVRGVGYIVHVSDRTLAAMPAPGEGVA...</td>\n",
       "      <td>224</td>\n",
       "      <td>Rhodobacter sphaeroides (strain ATCC 17025 / A...</td>\n",
       "      <td>Holliday junction ATP-dependent DNA helicase R...</td>\n",
       "    </tr>\n",
       "    <tr>\n",
       "      <th>...</th>\n",
       "      <td>...</td>\n",
       "      <td>...</td>\n",
       "      <td>...</td>\n",
       "      <td>...</td>\n",
       "      <td>...</td>\n",
       "    </tr>\n",
       "    <tr>\n",
       "      <th>414122</th>\n",
       "      <td>ATP binding [GO:0005524]; DNA binding [GO:0003...</td>\n",
       "      <td>MSNDTLHKYEALPEDHRNVALRPCLIEEFVGQTEVIKNLKVFIQSA...</td>\n",
       "      <td>331</td>\n",
       "      <td>Anaplasma marginale (strain Florida)</td>\n",
       "      <td>Holliday junction ATP-dependent DNA helicase R...</td>\n",
       "    </tr>\n",
       "    <tr>\n",
       "      <th>414124</th>\n",
       "      <td>ATP binding [GO:0005524]; DNA binding [GO:0003...</td>\n",
       "      <td>MIEADRLISAAVINDEESIDRAIRPKLLTEYVGQPHVREQMEIFIQ...</td>\n",
       "      <td>334</td>\n",
       "      <td>Yersinia pseudotuberculosis serotype IB (strai...</td>\n",
       "      <td>Holliday junction ATP-dependent DNA helicase R...</td>\n",
       "    </tr>\n",
       "    <tr>\n",
       "      <th>414129</th>\n",
       "      <td>ATP binding [GO:0005524]; DNA binding [GO:0003...</td>\n",
       "      <td>MYEYFEGIISEVTPSYVVVDVNGIGYKVFSPTPFAYKQGQKAKVYI...</td>\n",
       "      <td>195</td>\n",
       "      <td>Lactobacillus acidophilus (strain ATCC 700396 ...</td>\n",
       "      <td>Holliday junction ATP-dependent DNA helicase R...</td>\n",
       "    </tr>\n",
       "    <tr>\n",
       "      <th>414140</th>\n",
       "      <td>ATP binding [GO:0005524]; DNA binding [GO:0003...</td>\n",
       "      <td>MIGRLRGIILEKQPPLVLLETNGVGYEVQLPMTCFYELPELGQEAI...</td>\n",
       "      <td>204</td>\n",
       "      <td>Yersinia pseudotuberculosis serotype IB (strai...</td>\n",
       "      <td>Holliday junction ATP-dependent DNA helicase R...</td>\n",
       "    </tr>\n",
       "    <tr>\n",
       "      <th>414308</th>\n",
       "      <td>ATP binding [GO:0005524]; DNA binding [GO:0003...</td>\n",
       "      <td>MTYQNGVEVLLEEFLDYLTKEETICSLEIEKLKVSIDELEKETDEP...</td>\n",
       "      <td>320</td>\n",
       "      <td>Aquifex aeolicus (strain VF5)</td>\n",
       "      <td>Probable protein adenylyltransferase aq_aa38 (...</td>\n",
       "    </tr>\n",
       "  </tbody>\n",
       "</table>\n",
       "<p>4296 rows × 5 columns</p>\n",
       "</div>"
      ],
      "text/plain": [
       "                       Gene ontology (molecular function)  \\\n",
       "528     ATP binding [GO:0005524]; DNA binding [GO:0003...   \n",
       "529     ATP binding [GO:0005524]; DNA binding [GO:0003...   \n",
       "532     ATP binding [GO:0005524]; DNA binding [GO:0003...   \n",
       "534     ATP binding [GO:0005524]; DNA binding [GO:0003...   \n",
       "538     ATP binding [GO:0005524]; DNA binding [GO:0003...   \n",
       "...                                                   ...   \n",
       "414122  ATP binding [GO:0005524]; DNA binding [GO:0003...   \n",
       "414124  ATP binding [GO:0005524]; DNA binding [GO:0003...   \n",
       "414129  ATP binding [GO:0005524]; DNA binding [GO:0003...   \n",
       "414140  ATP binding [GO:0005524]; DNA binding [GO:0003...   \n",
       "414308  ATP binding [GO:0005524]; DNA binding [GO:0003...   \n",
       "\n",
       "                                                 Sequence  Length  \\\n",
       "528     MIASVRGEVLEIALDHAVIESAGVGYRVNATPATLGGLQRGTEARL...     200   \n",
       "529     MHKDEDQRLLGAVPLPNDPDRSLRPQVLDDFIGQEAARANLKIFIE...     361   \n",
       "532     MYEYINGLITNIYPAYLVIADRSGVGYKLFVANPYRFEQNVESHVY...     196   \n",
       "534     MERIISELEMPNEIEIQKSLRPKSFDEYIGQENLKEKMSISIKAAQ...     332   \n",
       "538     MIGKISGILDFRGPDHVLIDVRGVGYIVHVSDRTLAAMPAPGEGVA...     224   \n",
       "...                                                   ...     ...   \n",
       "414122  MSNDTLHKYEALPEDHRNVALRPCLIEEFVGQTEVIKNLKVFIQSA...     331   \n",
       "414124  MIEADRLISAAVINDEESIDRAIRPKLLTEYVGQPHVREQMEIFIQ...     334   \n",
       "414129  MYEYFEGIISEVTPSYVVVDVNGIGYKVFSPTPFAYKQGQKAKVYI...     195   \n",
       "414140  MIGRLRGIILEKQPPLVLLETNGVGYEVQLPMTCFYELPELGQEAI...     204   \n",
       "414308  MTYQNGVEVLLEEFLDYLTKEETICSLEIEKLKVSIDELEKETDEP...     320   \n",
       "\n",
       "                                                 Organism  \\\n",
       "528                        Rhodococcus opacus (strain B4)   \n",
       "529     Bartonella henselae (strain ATCC 49882 / DSM 2...   \n",
       "532                     Leuconostoc citreum (strain KM20)   \n",
       "534     Fusobacterium nucleatum subsp. nucleatum (stra...   \n",
       "538     Rhodobacter sphaeroides (strain ATCC 17025 / A...   \n",
       "...                                                   ...   \n",
       "414122               Anaplasma marginale (strain Florida)   \n",
       "414124  Yersinia pseudotuberculosis serotype IB (strai...   \n",
       "414129  Lactobacillus acidophilus (strain ATCC 700396 ...   \n",
       "414140  Yersinia pseudotuberculosis serotype IB (strai...   \n",
       "414308                      Aquifex aeolicus (strain VF5)   \n",
       "\n",
       "                                            Protein names  \n",
       "528     Holliday junction ATP-dependent DNA helicase R...  \n",
       "529     Holliday junction ATP-dependent DNA helicase R...  \n",
       "532     Holliday junction ATP-dependent DNA helicase R...  \n",
       "534     Holliday junction ATP-dependent DNA helicase R...  \n",
       "538     Holliday junction ATP-dependent DNA helicase R...  \n",
       "...                                                   ...  \n",
       "414122  Holliday junction ATP-dependent DNA helicase R...  \n",
       "414124  Holliday junction ATP-dependent DNA helicase R...  \n",
       "414129  Holliday junction ATP-dependent DNA helicase R...  \n",
       "414140  Holliday junction ATP-dependent DNA helicase R...  \n",
       "414308  Probable protein adenylyltransferase aq_aa38 (...  \n",
       "\n",
       "[4296 rows x 5 columns]"
      ]
     },
     "execution_count": 28,
     "metadata": {},
     "output_type": "execute_result"
    }
   ],
   "source": [
    "#the number of proteins which are atp and dna binders -- class overlap\n",
    "ATP_binding[ATP_binding['Gene ontology (molecular function)'].str.contains('DNA binding [GO:0003677]',regex=False)]"
   ]
  },
  {
   "cell_type": "markdown",
   "metadata": {},
   "source": [
    "## Class 4 - Hormone Activity"
   ]
  },
  {
   "cell_type": "code",
   "execution_count": 29,
   "metadata": {},
   "outputs": [
    {
     "data": {
      "text/plain": [
       "(1715, 5)"
      ]
     },
     "execution_count": 29,
     "metadata": {},
     "output_type": "execute_result"
    }
   ],
   "source": [
    "#cotnains the hormone activity [GO:0005179]\n",
    "HORMONE_activity = GO_function[GO_function['Gene ontology (molecular function)'].str.contains('hormone activity [GO:0005179]', regex = False)]\n",
    "HORMONE_activity.shape"
   ]
  },
  {
   "cell_type": "code",
   "execution_count": 30,
   "metadata": {},
   "outputs": [
    {
     "name": "stderr",
     "output_type": "stream",
     "text": [
      "<ipython-input-30-8ffecd7541da>:2: SettingWithCopyWarning: \n",
      "A value is trying to be set on a copy of a slice from a DataFrame.\n",
      "Try using .loc[row_indexer,col_indexer] = value instead\n",
      "\n",
      "See the caveats in the documentation: https://pandas.pydata.org/pandas-docs/stable/user_guide/indexing.html#returning-a-view-versus-a-copy\n",
      "  HORMONE_activity['class'] = 4\n"
     ]
    }
   ],
   "source": [
    "#create the class label for class 4\n",
    "HORMONE_activity['class'] = 4"
   ]
  },
  {
   "cell_type": "code",
   "execution_count": 31,
   "metadata": {},
   "outputs": [
    {
     "data": {
      "text/plain": [
       "Gene ontology (molecular function)     170\n",
       "Sequence                              1522\n",
       "Length                                 291\n",
       "Organism                               440\n",
       "Protein names                          904\n",
       "class                                    1\n",
       "dtype: int64"
      ]
     },
     "execution_count": 31,
     "metadata": {},
     "output_type": "execute_result"
    }
   ],
   "source": [
    "#check to make sure it added\n",
    "HORMONE_activity.nunique()"
   ]
  },
  {
   "cell_type": "code",
   "execution_count": 32,
   "metadata": {},
   "outputs": [
    {
     "data": {
      "text/html": [
       "<div>\n",
       "<style scoped>\n",
       "    .dataframe tbody tr th:only-of-type {\n",
       "        vertical-align: middle;\n",
       "    }\n",
       "\n",
       "    .dataframe tbody tr th {\n",
       "        vertical-align: top;\n",
       "    }\n",
       "\n",
       "    .dataframe thead th {\n",
       "        text-align: right;\n",
       "    }\n",
       "</style>\n",
       "<table border=\"1\" class=\"dataframe\">\n",
       "  <thead>\n",
       "    <tr style=\"text-align: right;\">\n",
       "      <th></th>\n",
       "      <th>Gene ontology (molecular function)</th>\n",
       "      <th>Sequence</th>\n",
       "      <th>Length</th>\n",
       "      <th>Organism</th>\n",
       "      <th>Protein names</th>\n",
       "      <th>class</th>\n",
       "    </tr>\n",
       "  </thead>\n",
       "  <tbody>\n",
       "    <tr>\n",
       "      <th>8</th>\n",
       "      <td>digestive hormone activity [GO:0046659]; hormo...</td>\n",
       "      <td>MEPPLPTPMLLLLLLLLSSSAALPAPPRTPRHSDGMFTSELSRLQD...</td>\n",
       "      <td>133</td>\n",
       "      <td>Mus musculus (Mouse)</td>\n",
       "      <td>Secretin</td>\n",
       "      <td>4</td>\n",
       "    </tr>\n",
       "    <tr>\n",
       "      <th>659</th>\n",
       "      <td>hormone activity [GO:0005179]</td>\n",
       "      <td>AGCKNFFWKTFTSC</td>\n",
       "      <td>14</td>\n",
       "      <td>Anguilla anguilla (European freshwater eel) (M...</td>\n",
       "      <td>Somatostatin-1 (Somatostatin I)</td>\n",
       "      <td>4</td>\n",
       "    </tr>\n",
       "    <tr>\n",
       "      <th>670</th>\n",
       "      <td>hormone activity [GO:0005179]; metal ion bindi...</td>\n",
       "      <td>MATGSRTSLLLAFTLLCLPQLKEAGAFPTIPLSRLLDNAMLRAHRL...</td>\n",
       "      <td>217</td>\n",
       "      <td>Saimiri boliviensis boliviensis (Bolivian squi...</td>\n",
       "      <td>Somatotropin (Growth hormone)</td>\n",
       "      <td>4</td>\n",
       "    </tr>\n",
       "    <tr>\n",
       "      <th>1208</th>\n",
       "      <td>hormone activity [GO:0005179]; identical prote...</td>\n",
       "      <td>MAFHSLLLLGLASLLFVSDAAPVIHGAEDSKCPLMVKVLDAVRGSP...</td>\n",
       "      <td>149</td>\n",
       "      <td>Monodelphis domestica (Gray short-tailed opossum)</td>\n",
       "      <td>Transthyretin (Prealbumin)</td>\n",
       "      <td>4</td>\n",
       "    </tr>\n",
       "    <tr>\n",
       "      <th>1210</th>\n",
       "      <td>hormone activity [GO:0005179]; thyroid hormone...</td>\n",
       "      <td>MAFHSLLLLCLAGLVFLSEAGPVAHGAEDSKCPLMVKVLDSVRGSP...</td>\n",
       "      <td>149</td>\n",
       "      <td>Sminthopsis macroura (Stripe-faced dunnart)</td>\n",
       "      <td>Transthyretin (Prealbumin)</td>\n",
       "      <td>4</td>\n",
       "    </tr>\n",
       "  </tbody>\n",
       "</table>\n",
       "</div>"
      ],
      "text/plain": [
       "                     Gene ontology (molecular function)  \\\n",
       "8     digestive hormone activity [GO:0046659]; hormo...   \n",
       "659                       hormone activity [GO:0005179]   \n",
       "670   hormone activity [GO:0005179]; metal ion bindi...   \n",
       "1208  hormone activity [GO:0005179]; identical prote...   \n",
       "1210  hormone activity [GO:0005179]; thyroid hormone...   \n",
       "\n",
       "                                               Sequence  Length  \\\n",
       "8     MEPPLPTPMLLLLLLLLSSSAALPAPPRTPRHSDGMFTSELSRLQD...     133   \n",
       "659                                      AGCKNFFWKTFTSC      14   \n",
       "670   MATGSRTSLLLAFTLLCLPQLKEAGAFPTIPLSRLLDNAMLRAHRL...     217   \n",
       "1208  MAFHSLLLLGLASLLFVSDAAPVIHGAEDSKCPLMVKVLDAVRGSP...     149   \n",
       "1210  MAFHSLLLLCLAGLVFLSEAGPVAHGAEDSKCPLMVKVLDSVRGSP...     149   \n",
       "\n",
       "                                               Organism  \\\n",
       "8                                  Mus musculus (Mouse)   \n",
       "659   Anguilla anguilla (European freshwater eel) (M...   \n",
       "670   Saimiri boliviensis boliviensis (Bolivian squi...   \n",
       "1208  Monodelphis domestica (Gray short-tailed opossum)   \n",
       "1210        Sminthopsis macroura (Stripe-faced dunnart)   \n",
       "\n",
       "                        Protein names  class  \n",
       "8                            Secretin      4  \n",
       "659   Somatostatin-1 (Somatostatin I)      4  \n",
       "670     Somatotropin (Growth hormone)      4  \n",
       "1208       Transthyretin (Prealbumin)      4  \n",
       "1210       Transthyretin (Prealbumin)      4  "
      ]
     },
     "execution_count": 32,
     "metadata": {},
     "output_type": "execute_result"
    }
   ],
   "source": [
    "#check to make sure it added correctly\n",
    "HORMONE_activity.head()"
   ]
  },
  {
   "cell_type": "code",
   "execution_count": 33,
   "metadata": {},
   "outputs": [
    {
     "data": {
      "text/plain": [
       "(2195, 5)"
      ]
     },
     "execution_count": 33,
     "metadata": {},
     "output_type": "execute_result"
    }
   ],
   "source": [
    "#hormone activity\n",
    "general_hormone = GO_function[GO_function['Gene ontology (molecular function)'].str.contains('hormone activity')]\n",
    "general_hormone.shape"
   ]
  },
  {
   "cell_type": "markdown",
   "metadata": {},
   "source": [
    "## Class 5 - GTPase Activity"
   ]
  },
  {
   "cell_type": "code",
   "execution_count": 34,
   "metadata": {},
   "outputs": [
    {
     "data": {
      "text/plain": [
       "(7063, 5)"
      ]
     },
     "execution_count": 34,
     "metadata": {},
     "output_type": "execute_result"
    }
   ],
   "source": [
    "#the dataframe for protein functions with GTPase activity [GO:0003924]\n",
    "GTPase_activity = GO_function[GO_function['Gene ontology (molecular function)'].str.contains('GTPase activity [GO:0003924]', regex=False)]\n",
    "GTPase_activity.shape"
   ]
  },
  {
   "cell_type": "code",
   "execution_count": 35,
   "metadata": {},
   "outputs": [
    {
     "name": "stderr",
     "output_type": "stream",
     "text": [
      "<ipython-input-35-a1ee22e8a1dd>:2: SettingWithCopyWarning: \n",
      "A value is trying to be set on a copy of a slice from a DataFrame.\n",
      "Try using .loc[row_indexer,col_indexer] = value instead\n",
      "\n",
      "See the caveats in the documentation: https://pandas.pydata.org/pandas-docs/stable/user_guide/indexing.html#returning-a-view-versus-a-copy\n",
      "  GTPase_activity['class'] = 5\n"
     ]
    }
   ],
   "source": [
    "#add the label for class 5\n",
    "GTPase_activity['class'] = 5"
   ]
  },
  {
   "cell_type": "code",
   "execution_count": 36,
   "metadata": {},
   "outputs": [
    {
     "data": {
      "text/plain": [
       "Gene ontology (molecular function)     296\n",
       "Sequence                              5892\n",
       "Length                                 808\n",
       "Organism                              1261\n",
       "Protein names                          645\n",
       "class                                    1\n",
       "dtype: int64"
      ]
     },
     "execution_count": 36,
     "metadata": {},
     "output_type": "execute_result"
    }
   ],
   "source": [
    "#check to make sure that the class added correctly\n",
    "GTPase_activity.nunique()"
   ]
  },
  {
   "cell_type": "code",
   "execution_count": 37,
   "metadata": {},
   "outputs": [
    {
     "data": {
      "text/html": [
       "<div>\n",
       "<style scoped>\n",
       "    .dataframe tbody tr th:only-of-type {\n",
       "        vertical-align: middle;\n",
       "    }\n",
       "\n",
       "    .dataframe tbody tr th {\n",
       "        vertical-align: top;\n",
       "    }\n",
       "\n",
       "    .dataframe thead th {\n",
       "        text-align: right;\n",
       "    }\n",
       "</style>\n",
       "<table border=\"1\" class=\"dataframe\">\n",
       "  <thead>\n",
       "    <tr style=\"text-align: right;\">\n",
       "      <th></th>\n",
       "      <th>Gene ontology (molecular function)</th>\n",
       "      <th>Sequence</th>\n",
       "      <th>Length</th>\n",
       "      <th>Organism</th>\n",
       "      <th>Protein names</th>\n",
       "      <th>class</th>\n",
       "    </tr>\n",
       "  </thead>\n",
       "  <tbody>\n",
       "    <tr>\n",
       "      <th>429</th>\n",
       "      <td>GTPase activity [GO:0003924]; GTP binding [GO:...</td>\n",
       "      <td>MSKLSHQQQRRIHNHRQNKLAAGDRADAALVVAHLGYQLIVDDHGE...</td>\n",
       "      <td>316</td>\n",
       "      <td>Dichelobacter nodosus (strain VCS1703A)</td>\n",
       "      <td>Small ribosomal subunit biogenesis GTPase RsgA...</td>\n",
       "      <td>5</td>\n",
       "    </tr>\n",
       "    <tr>\n",
       "      <th>440</th>\n",
       "      <td>GTPase activity [GO:0003924]; GTP binding [GO:...</td>\n",
       "      <td>MAKRQLNRRQNWRIEKIQNERAARAAKREQHALQELEGGDLGPEQL...</td>\n",
       "      <td>343</td>\n",
       "      <td>Pseudomonas putida (strain W619)</td>\n",
       "      <td>Small ribosomal subunit biogenesis GTPase RsgA...</td>\n",
       "      <td>5</td>\n",
       "    </tr>\n",
       "    <tr>\n",
       "      <th>618</th>\n",
       "      <td>GTPase activity [GO:0003924]; GTP binding [GO:...</td>\n",
       "      <td>MENLISLVNKIQRACTALGDHGENSALPTLWDSLPAIAVVGGQSSG...</td>\n",
       "      <td>610</td>\n",
       "      <td>Glycine max (Soybean) (Glycine hispida)</td>\n",
       "      <td>Dynamin-related protein 5A (Soybean dynamin-li...</td>\n",
       "      <td>5</td>\n",
       "    </tr>\n",
       "    <tr>\n",
       "      <th>658</th>\n",
       "      <td>7S RNA binding [GO:0008312]; GTPase activity [...</td>\n",
       "      <td>MVLAQLGGSISRALAQMSNATVIDEKVLGECLNEISRALLQSDVQF...</td>\n",
       "      <td>497</td>\n",
       "      <td>Hordeum vulgare (Barley)</td>\n",
       "      <td>Signal recognition particle 54 kDa protein 2 (...</td>\n",
       "      <td>5</td>\n",
       "    </tr>\n",
       "    <tr>\n",
       "      <th>733</th>\n",
       "      <td>7S RNA binding [GO:0008312]; GTPase activity [...</td>\n",
       "      <td>MIGFADRLAEITKKIKGASIIDEDFVKEVVRDVQRALLEADVDVKL...</td>\n",
       "      <td>447</td>\n",
       "      <td>Methanopyrus kandleri (strain AV19 / DSM 6324 ...</td>\n",
       "      <td>Signal recognition particle 54 kDa protein (SR...</td>\n",
       "      <td>5</td>\n",
       "    </tr>\n",
       "  </tbody>\n",
       "</table>\n",
       "</div>"
      ],
      "text/plain": [
       "                    Gene ontology (molecular function)  \\\n",
       "429  GTPase activity [GO:0003924]; GTP binding [GO:...   \n",
       "440  GTPase activity [GO:0003924]; GTP binding [GO:...   \n",
       "618  GTPase activity [GO:0003924]; GTP binding [GO:...   \n",
       "658  7S RNA binding [GO:0008312]; GTPase activity [...   \n",
       "733  7S RNA binding [GO:0008312]; GTPase activity [...   \n",
       "\n",
       "                                              Sequence  Length  \\\n",
       "429  MSKLSHQQQRRIHNHRQNKLAAGDRADAALVVAHLGYQLIVDDHGE...     316   \n",
       "440  MAKRQLNRRQNWRIEKIQNERAARAAKREQHALQELEGGDLGPEQL...     343   \n",
       "618  MENLISLVNKIQRACTALGDHGENSALPTLWDSLPAIAVVGGQSSG...     610   \n",
       "658  MVLAQLGGSISRALAQMSNATVIDEKVLGECLNEISRALLQSDVQF...     497   \n",
       "733  MIGFADRLAEITKKIKGASIIDEDFVKEVVRDVQRALLEADVDVKL...     447   \n",
       "\n",
       "                                              Organism  \\\n",
       "429            Dichelobacter nodosus (strain VCS1703A)   \n",
       "440                   Pseudomonas putida (strain W619)   \n",
       "618            Glycine max (Soybean) (Glycine hispida)   \n",
       "658                           Hordeum vulgare (Barley)   \n",
       "733  Methanopyrus kandleri (strain AV19 / DSM 6324 ...   \n",
       "\n",
       "                                         Protein names  class  \n",
       "429  Small ribosomal subunit biogenesis GTPase RsgA...      5  \n",
       "440  Small ribosomal subunit biogenesis GTPase RsgA...      5  \n",
       "618  Dynamin-related protein 5A (Soybean dynamin-li...      5  \n",
       "658  Signal recognition particle 54 kDa protein 2 (...      5  \n",
       "733  Signal recognition particle 54 kDa protein (SR...      5  "
      ]
     },
     "execution_count": 37,
     "metadata": {},
     "output_type": "execute_result"
    }
   ],
   "source": [
    "#check to make sure it added correctly\n",
    "GTPase_activity.head()"
   ]
  },
  {
   "cell_type": "markdown",
   "metadata": {},
   "source": [
    "## Class 6 - NADH Dehydrogenase"
   ]
  },
  {
   "cell_type": "code",
   "execution_count": 38,
   "metadata": {},
   "outputs": [
    {
     "data": {
      "text/plain": [
       "(1061, 5)"
      ]
     },
     "execution_count": 38,
     "metadata": {},
     "output_type": "execute_result"
    }
   ],
   "source": [
    "#dataframe for quinone activity 'GO:0050136'\n",
    "quinone_activity = GO_function[GO_function['Gene ontology (molecular function)'].str.contains('NADH dehydrogenase (quinone) activity [GO:0050136]', regex=False)]\n",
    "quinone_activity.shape"
   ]
  },
  {
   "cell_type": "code",
   "execution_count": 39,
   "metadata": {},
   "outputs": [
    {
     "data": {
      "text/plain": [
       "(4115, 5)"
      ]
     },
     "execution_count": 39,
     "metadata": {},
     "output_type": "execute_result"
    }
   ],
   "source": [
    "#dataframe for ubiquinone activity [GO:0008137]\n",
    "ubiquinone_activity = GO_function[GO_function['Gene ontology (molecular function)'].str.contains('NADH dehydrogenase (ubiquinone) activity [GO:0008137]', regex=False)]\n",
    "ubiquinone_activity.shape"
   ]
  },
  {
   "cell_type": "code",
   "execution_count": 40,
   "metadata": {},
   "outputs": [
    {
     "data": {
      "text/plain": [
       "(5176, 5)"
      ]
     },
     "execution_count": 40,
     "metadata": {},
     "output_type": "execute_result"
    }
   ],
   "source": [
    "#concat the NADH dehydrogenase quinone and ubiquinone dataframes into one\n",
    "NADH_activity = pd.concat([quinone_activity, ubiquinone_activity])\n",
    "NADH_activity.shape"
   ]
  },
  {
   "cell_type": "code",
   "execution_count": 41,
   "metadata": {},
   "outputs": [],
   "source": [
    "#add the class 6 to the dataframe\n",
    "NADH_activity['class'] = 6 "
   ]
  },
  {
   "cell_type": "code",
   "execution_count": 42,
   "metadata": {},
   "outputs": [
    {
     "data": {
      "text/plain": [
       "Gene ontology (molecular function)      57\n",
       "Sequence                              4241\n",
       "Length                                 563\n",
       "Organism                              1408\n",
       "Protein names                          240\n",
       "class                                    1\n",
       "dtype: int64"
      ]
     },
     "execution_count": 42,
     "metadata": {},
     "output_type": "execute_result"
    }
   ],
   "source": [
    "#check to make sure it was added correctly\n",
    "NADH_activity.nunique()"
   ]
  },
  {
   "cell_type": "code",
   "execution_count": 43,
   "metadata": {},
   "outputs": [
    {
     "data": {
      "text/html": [
       "<div>\n",
       "<style scoped>\n",
       "    .dataframe tbody tr th:only-of-type {\n",
       "        vertical-align: middle;\n",
       "    }\n",
       "\n",
       "    .dataframe tbody tr th {\n",
       "        vertical-align: top;\n",
       "    }\n",
       "\n",
       "    .dataframe thead th {\n",
       "        text-align: right;\n",
       "    }\n",
       "</style>\n",
       "<table border=\"1\" class=\"dataframe\">\n",
       "  <thead>\n",
       "    <tr style=\"text-align: right;\">\n",
       "      <th></th>\n",
       "      <th>Gene ontology (molecular function)</th>\n",
       "      <th>Sequence</th>\n",
       "      <th>Length</th>\n",
       "      <th>Organism</th>\n",
       "      <th>Protein names</th>\n",
       "      <th>class</th>\n",
       "    </tr>\n",
       "  </thead>\n",
       "  <tbody>\n",
       "    <tr>\n",
       "      <th>14857</th>\n",
       "      <td>NAD binding [GO:0051287]; NADH dehydrogenase (...</td>\n",
       "      <td>MSESEIPGQVVVDLEADQSAEGGRRMVLNMGPQHPSTHGVLRLLME...</td>\n",
       "      <td>409</td>\n",
       "      <td>Solibacter usitatus (strain Ellin6076)</td>\n",
       "      <td>NADH-quinone oxidoreductase subunit D 1 (EC 7....</td>\n",
       "      <td>6</td>\n",
       "    </tr>\n",
       "    <tr>\n",
       "      <th>14869</th>\n",
       "      <td>4 iron, 4 sulfur cluster binding [GO:0051539];...</td>\n",
       "      <td>MANPIEEILGTAAAIAKGMGITFKEMMGPTVTDDYPDAPPKFEERF...</td>\n",
       "      <td>167</td>\n",
       "      <td>Solibacter usitatus (strain Ellin6076)</td>\n",
       "      <td>NADH-quinone oxidoreductase subunit I 1 (EC 7....</td>\n",
       "      <td>6</td>\n",
       "    </tr>\n",
       "    <tr>\n",
       "      <th>14871</th>\n",
       "      <td>NAD binding [GO:0051287]; NADH dehydrogenase (...</td>\n",
       "      <td>MTEHNVRNFNINFGPQHPAAHGVLRLVLELDGEIVERVDPHIGLLH...</td>\n",
       "      <td>396</td>\n",
       "      <td>Rhizobium etli (strain CFN 42 / ATCC 51251)</td>\n",
       "      <td>NADH-quinone oxidoreductase subunit D 1 (EC 7....</td>\n",
       "      <td>6</td>\n",
       "    </tr>\n",
       "    <tr>\n",
       "      <th>14878</th>\n",
       "      <td>4 iron, 4 sulfur cluster binding [GO:0051539];...</td>\n",
       "      <td>MIGWLEAMLRVGRKLFVKAETQLYPEEKPKLFPRSRGRIVLTRDPD...</td>\n",
       "      <td>171</td>\n",
       "      <td>Rhodopseudomonas palustris (strain HaA2)</td>\n",
       "      <td>NADH-quinone oxidoreductase subunit I 1 (EC 7....</td>\n",
       "      <td>6</td>\n",
       "    </tr>\n",
       "    <tr>\n",
       "      <th>14886</th>\n",
       "      <td>NAD binding [GO:0051287]; NADH dehydrogenase (...</td>\n",
       "      <td>MPEGALRNFTINFGPQHPAAHGVLRLVLELDGEIVERVDPHIGLLH...</td>\n",
       "      <td>396</td>\n",
       "      <td>Rhodopseudomonas palustris (strain BisB18)</td>\n",
       "      <td>NADH-quinone oxidoreductase subunit D (EC 7.1....</td>\n",
       "      <td>6</td>\n",
       "    </tr>\n",
       "  </tbody>\n",
       "</table>\n",
       "</div>"
      ],
      "text/plain": [
       "                      Gene ontology (molecular function)  \\\n",
       "14857  NAD binding [GO:0051287]; NADH dehydrogenase (...   \n",
       "14869  4 iron, 4 sulfur cluster binding [GO:0051539];...   \n",
       "14871  NAD binding [GO:0051287]; NADH dehydrogenase (...   \n",
       "14878  4 iron, 4 sulfur cluster binding [GO:0051539];...   \n",
       "14886  NAD binding [GO:0051287]; NADH dehydrogenase (...   \n",
       "\n",
       "                                                Sequence  Length  \\\n",
       "14857  MSESEIPGQVVVDLEADQSAEGGRRMVLNMGPQHPSTHGVLRLLME...     409   \n",
       "14869  MANPIEEILGTAAAIAKGMGITFKEMMGPTVTDDYPDAPPKFEERF...     167   \n",
       "14871  MTEHNVRNFNINFGPQHPAAHGVLRLVLELDGEIVERVDPHIGLLH...     396   \n",
       "14878  MIGWLEAMLRVGRKLFVKAETQLYPEEKPKLFPRSRGRIVLTRDPD...     171   \n",
       "14886  MPEGALRNFTINFGPQHPAAHGVLRLVLELDGEIVERVDPHIGLLH...     396   \n",
       "\n",
       "                                          Organism  \\\n",
       "14857       Solibacter usitatus (strain Ellin6076)   \n",
       "14869       Solibacter usitatus (strain Ellin6076)   \n",
       "14871  Rhizobium etli (strain CFN 42 / ATCC 51251)   \n",
       "14878     Rhodopseudomonas palustris (strain HaA2)   \n",
       "14886   Rhodopseudomonas palustris (strain BisB18)   \n",
       "\n",
       "                                           Protein names  class  \n",
       "14857  NADH-quinone oxidoreductase subunit D 1 (EC 7....      6  \n",
       "14869  NADH-quinone oxidoreductase subunit I 1 (EC 7....      6  \n",
       "14871  NADH-quinone oxidoreductase subunit D 1 (EC 7....      6  \n",
       "14878  NADH-quinone oxidoreductase subunit I 1 (EC 7....      6  \n",
       "14886  NADH-quinone oxidoreductase subunit D (EC 7.1....      6  "
      ]
     },
     "execution_count": 43,
     "metadata": {},
     "output_type": "execute_result"
    }
   ],
   "source": [
    "#check to make sure\n",
    "NADH_activity.head()"
   ]
  },
  {
   "cell_type": "code",
   "execution_count": 44,
   "metadata": {},
   "outputs": [
    {
     "data": {
      "text/html": [
       "<div>\n",
       "<style scoped>\n",
       "    .dataframe tbody tr th:only-of-type {\n",
       "        vertical-align: middle;\n",
       "    }\n",
       "\n",
       "    .dataframe tbody tr th {\n",
       "        vertical-align: top;\n",
       "    }\n",
       "\n",
       "    .dataframe thead th {\n",
       "        text-align: right;\n",
       "    }\n",
       "</style>\n",
       "<table border=\"1\" class=\"dataframe\">\n",
       "  <thead>\n",
       "    <tr style=\"text-align: right;\">\n",
       "      <th></th>\n",
       "      <th>Gene ontology (molecular function)</th>\n",
       "      <th>Sequence</th>\n",
       "      <th>Length</th>\n",
       "      <th>Organism</th>\n",
       "      <th>Protein names</th>\n",
       "      <th>class</th>\n",
       "    </tr>\n",
       "  </thead>\n",
       "  <tbody>\n",
       "  </tbody>\n",
       "</table>\n",
       "</div>"
      ],
      "text/plain": [
       "Empty DataFrame\n",
       "Columns: [Gene ontology (molecular function), Sequence, Length, Organism, Protein names, class]\n",
       "Index: []"
      ]
     },
     "execution_count": 44,
     "metadata": {},
     "output_type": "execute_result"
    }
   ],
   "source": [
    "NADH_activity[NADH_activity['Gene ontology (molecular function)'].str.contains(\"oxidoreductase activity [GO:0016491]\")]"
   ]
  },
  {
   "cell_type": "markdown",
   "metadata": {},
   "source": [
    "## Class 7 - Oxidoreductase Activity"
   ]
  },
  {
   "cell_type": "code",
   "execution_count": 45,
   "metadata": {},
   "outputs": [
    {
     "data": {
      "text/plain": [
       "(10846, 5)"
      ]
     },
     "execution_count": 45,
     "metadata": {},
     "output_type": "execute_result"
    }
   ],
   "source": [
    "#oxidioreductase activity\n",
    "general_oxido = GO_function[GO_function['Gene ontology (molecular function)'].str.contains(\"oxidoreductase activity\")]\n",
    "general_oxido.shape"
   ]
  },
  {
   "cell_type": "code",
   "execution_count": 46,
   "metadata": {},
   "outputs": [
    {
     "data": {
      "text/plain": [
       "(3538, 5)"
      ]
     },
     "execution_count": 46,
     "metadata": {},
     "output_type": "execute_result"
    }
   ],
   "source": [
    "#dataframe of the function for oxidoreductase activity [GO:0016491]\n",
    "#contains that specific GO function\n",
    "oxidoreductase_activity = GO_function[GO_function['Gene ontology (molecular function)'].str.contains(\"oxidoreductase activity [GO:0016491]\", regex=False)]\n",
    "oxidoreductase_activity.shape"
   ]
  },
  {
   "cell_type": "code",
   "execution_count": 47,
   "metadata": {},
   "outputs": [
    {
     "name": "stderr",
     "output_type": "stream",
     "text": [
      "<ipython-input-47-5131a0d6e9b0>:2: SettingWithCopyWarning: \n",
      "A value is trying to be set on a copy of a slice from a DataFrame.\n",
      "Try using .loc[row_indexer,col_indexer] = value instead\n",
      "\n",
      "See the caveats in the documentation: https://pandas.pydata.org/pandas-docs/stable/user_guide/indexing.html#returning-a-view-versus-a-copy\n",
      "  oxidoreductase_activity['class'] = 7\n"
     ]
    }
   ],
   "source": [
    "#add the class 7 to the dataframe\n",
    "oxidoreductase_activity['class'] = 7"
   ]
  },
  {
   "cell_type": "code",
   "execution_count": 48,
   "metadata": {},
   "outputs": [
    {
     "data": {
      "text/plain": [
       "Gene ontology (molecular function)     571\n",
       "Sequence                              3314\n",
       "Length                                 867\n",
       "Organism                               937\n",
       "Protein names                         2362\n",
       "class                                    1\n",
       "dtype: int64"
      ]
     },
     "execution_count": 48,
     "metadata": {},
     "output_type": "execute_result"
    }
   ],
   "source": [
    "#check to make sure the class was added correctly\n",
    "oxidoreductase_activity.nunique()"
   ]
  },
  {
   "cell_type": "code",
   "execution_count": 49,
   "metadata": {},
   "outputs": [
    {
     "data": {
      "text/html": [
       "<div>\n",
       "<style scoped>\n",
       "    .dataframe tbody tr th:only-of-type {\n",
       "        vertical-align: middle;\n",
       "    }\n",
       "\n",
       "    .dataframe tbody tr th {\n",
       "        vertical-align: top;\n",
       "    }\n",
       "\n",
       "    .dataframe thead th {\n",
       "        text-align: right;\n",
       "    }\n",
       "</style>\n",
       "<table border=\"1\" class=\"dataframe\">\n",
       "  <thead>\n",
       "    <tr style=\"text-align: right;\">\n",
       "      <th></th>\n",
       "      <th>Gene ontology (molecular function)</th>\n",
       "      <th>Sequence</th>\n",
       "      <th>Length</th>\n",
       "      <th>Organism</th>\n",
       "      <th>Protein names</th>\n",
       "      <th>class</th>\n",
       "    </tr>\n",
       "  </thead>\n",
       "  <tbody>\n",
       "    <tr>\n",
       "      <th>97</th>\n",
       "      <td>oxidoreductase activity [GO:0016491]</td>\n",
       "      <td>MLVISANEQRNLVNMNEVIAYAALALKEFSAERTITPIRGSLPFAN...</td>\n",
       "      <td>325</td>\n",
       "      <td>Bacillus thuringiensis subsp. konkukian (strai...</td>\n",
       "      <td>Delta(1)-pyrroline-2-carboxylate reductase (Py...</td>\n",
       "      <td>7</td>\n",
       "    </tr>\n",
       "    <tr>\n",
       "      <th>626</th>\n",
       "      <td>electron transfer activity [GO:0009055]; flavi...</td>\n",
       "      <td>MLSSALKLTKKVCSTKSNGLIRSFSTQTQSRDYAVVDHTYDAIVVG...</td>\n",
       "      <td>626</td>\n",
       "      <td>Dictyostelium discoideum (Slime mold)</td>\n",
       "      <td>Succinate dehydrogenase [ubiquinone] flavoprot...</td>\n",
       "      <td>7</td>\n",
       "    </tr>\n",
       "    <tr>\n",
       "      <th>735</th>\n",
       "      <td>oxidoreductase activity [GO:0016491]</td>\n",
       "      <td>MVVVAVAGGTGGVGRTVLDAIAKSGQHQAIVLSRTTSVPTAVDEPK...</td>\n",
       "      <td>341</td>\n",
       "      <td>Metarhizium robertsii (strain ARSEF 23 / ATCC ...</td>\n",
       "      <td>Oxidoreductase swnN (EC 1.3.1.-) (Swainsonine ...</td>\n",
       "      <td>7</td>\n",
       "    </tr>\n",
       "    <tr>\n",
       "      <th>972</th>\n",
       "      <td>oxidoreductase activity [GO:0016491]</td>\n",
       "      <td>MGEDFMHPPFQTYPSKNSEGKKHIVIVGGGIIGCCTAYYLTQHPSF...</td>\n",
       "      <td>523</td>\n",
       "      <td>Saccharomyces cerevisiae (strain ATCC 204508 /...</td>\n",
       "      <td>Putative oxidoreductase TDA3 (EC 1.-.-.-) (Bat...</td>\n",
       "      <td>7</td>\n",
       "    </tr>\n",
       "    <tr>\n",
       "      <th>1076</th>\n",
       "      <td>oxidoreductase activity [GO:0016491]</td>\n",
       "      <td>MTVSSSIVPPGGLVLVTGVTGFIGSYIANGLLELGYRVRGTVRSSE...</td>\n",
       "      <td>340</td>\n",
       "      <td>Aspergillus terreus (strain NIH 2624 / FGSC A1...</td>\n",
       "      <td>NAD-dependent epimerase/dehydratase terH (EC 1...</td>\n",
       "      <td>7</td>\n",
       "    </tr>\n",
       "  </tbody>\n",
       "</table>\n",
       "</div>"
      ],
      "text/plain": [
       "                     Gene ontology (molecular function)  \\\n",
       "97                 oxidoreductase activity [GO:0016491]   \n",
       "626   electron transfer activity [GO:0009055]; flavi...   \n",
       "735                oxidoreductase activity [GO:0016491]   \n",
       "972                oxidoreductase activity [GO:0016491]   \n",
       "1076               oxidoreductase activity [GO:0016491]   \n",
       "\n",
       "                                               Sequence  Length  \\\n",
       "97    MLVISANEQRNLVNMNEVIAYAALALKEFSAERTITPIRGSLPFAN...     325   \n",
       "626   MLSSALKLTKKVCSTKSNGLIRSFSTQTQSRDYAVVDHTYDAIVVG...     626   \n",
       "735   MVVVAVAGGTGGVGRTVLDAIAKSGQHQAIVLSRTTSVPTAVDEPK...     341   \n",
       "972   MGEDFMHPPFQTYPSKNSEGKKHIVIVGGGIIGCCTAYYLTQHPSF...     523   \n",
       "1076  MTVSSSIVPPGGLVLVTGVTGFIGSYIANGLLELGYRVRGTVRSSE...     340   \n",
       "\n",
       "                                               Organism  \\\n",
       "97    Bacillus thuringiensis subsp. konkukian (strai...   \n",
       "626               Dictyostelium discoideum (Slime mold)   \n",
       "735   Metarhizium robertsii (strain ARSEF 23 / ATCC ...   \n",
       "972   Saccharomyces cerevisiae (strain ATCC 204508 /...   \n",
       "1076  Aspergillus terreus (strain NIH 2624 / FGSC A1...   \n",
       "\n",
       "                                          Protein names  class  \n",
       "97    Delta(1)-pyrroline-2-carboxylate reductase (Py...      7  \n",
       "626   Succinate dehydrogenase [ubiquinone] flavoprot...      7  \n",
       "735   Oxidoreductase swnN (EC 1.3.1.-) (Swainsonine ...      7  \n",
       "972   Putative oxidoreductase TDA3 (EC 1.-.-.-) (Bat...      7  \n",
       "1076  NAD-dependent epimerase/dehydratase terH (EC 1...      7  "
      ]
     },
     "execution_count": 49,
     "metadata": {},
     "output_type": "execute_result"
    }
   ],
   "source": [
    "#check to make sure 7 was added\n",
    "oxidoreductase_activity.head()"
   ]
  },
  {
   "cell_type": "code",
   "execution_count": 50,
   "metadata": {},
   "outputs": [
    {
     "data": {
      "text/html": [
       "<div>\n",
       "<style scoped>\n",
       "    .dataframe tbody tr th:only-of-type {\n",
       "        vertical-align: middle;\n",
       "    }\n",
       "\n",
       "    .dataframe tbody tr th {\n",
       "        vertical-align: top;\n",
       "    }\n",
       "\n",
       "    .dataframe thead th {\n",
       "        text-align: right;\n",
       "    }\n",
       "</style>\n",
       "<table border=\"1\" class=\"dataframe\">\n",
       "  <thead>\n",
       "    <tr style=\"text-align: right;\">\n",
       "      <th></th>\n",
       "      <th>Gene ontology (molecular function)</th>\n",
       "      <th>Sequence</th>\n",
       "      <th>Length</th>\n",
       "      <th>Organism</th>\n",
       "      <th>Protein names</th>\n",
       "      <th>class</th>\n",
       "    </tr>\n",
       "  </thead>\n",
       "  <tbody>\n",
       "    <tr>\n",
       "      <th>3080</th>\n",
       "      <td>NAD(P)H nitroreductase activity [GO:0018545]; ...</td>\n",
       "      <td>MTQLTREQVLELFHQRSSTRYYDPTKKISDEDFECILECGRLSPSS...</td>\n",
       "      <td>220</td>\n",
       "      <td>Haemophilus influenzae (strain ATCC 51907 / DS...</td>\n",
       "      <td>Putative NAD(P)H nitroreductase (EC 1.-.-.-)</td>\n",
       "      <td>7</td>\n",
       "    </tr>\n",
       "    <tr>\n",
       "      <th>8482</th>\n",
       "      <td>2-octaprenyl-6-methoxyphenol hydroxylase activ...</td>\n",
       "      <td>MSVIIVGGGMAGATLALAISRLSHGALPVHLIEATAPESHAHPGFD...</td>\n",
       "      <td>392</td>\n",
       "      <td>Escherichia coli (strain K12)</td>\n",
       "      <td>2-octaprenyl-6-methoxyphenol hydroxylase (EC 1...</td>\n",
       "      <td>7</td>\n",
       "    </tr>\n",
       "    <tr>\n",
       "      <th>13262</th>\n",
       "      <td>alcohol dehydrogenase (NADP+) activity [GO:000...</td>\n",
       "      <td>MVPKFYKLSNGFKIPSIALGTYDIPRSQTAEIVYEGVKCGYRHFDT...</td>\n",
       "      <td>282</td>\n",
       "      <td>Saccharomyces cerevisiae (strain ATCC 204508 /...</td>\n",
       "      <td>Uncharacterized oxidoreductase YJR096W (EC 1.-...</td>\n",
       "      <td>7</td>\n",
       "    </tr>\n",
       "    <tr>\n",
       "      <th>14875</th>\n",
       "      <td>actin monomer binding [GO:0003785]; arginine b...</td>\n",
       "      <td>MGNLKSVAQEPGPPCGLGLGLGLGLCGKQGPATPAPEPSRAPASLL...</td>\n",
       "      <td>1203</td>\n",
       "      <td>Homo sapiens (Human)</td>\n",
       "      <td>Nitric oxide synthase, endothelial (EC 1.14.13...</td>\n",
       "      <td>7</td>\n",
       "    </tr>\n",
       "    <tr>\n",
       "      <th>15272</th>\n",
       "      <td>metal ion binding [GO:0046872]; NAD binding [G...</td>\n",
       "      <td>MINNKPIIGIPIGDPAGVGPEIVVKSLTEAEVYEKCNPILIGDAKV...</td>\n",
       "      <td>334</td>\n",
       "      <td>Clostridium botulinum (strain Hall / ATCC 3502...</td>\n",
       "      <td>Putative D-threonate 4-phosphate dehydrogenase...</td>\n",
       "      <td>7</td>\n",
       "    </tr>\n",
       "    <tr>\n",
       "      <th>...</th>\n",
       "      <td>...</td>\n",
       "      <td>...</td>\n",
       "      <td>...</td>\n",
       "      <td>...</td>\n",
       "      <td>...</td>\n",
       "      <td>...</td>\n",
       "    </tr>\n",
       "    <tr>\n",
       "      <th>405155</th>\n",
       "      <td>calmodulin binding [GO:0005516]; flavin adenin...</td>\n",
       "      <td>MLCPWQFAFKPHAVKNQSSEEKDINNNVEKDVKVHSFVKDDAKLHS...</td>\n",
       "      <td>1136</td>\n",
       "      <td>Gallus gallus (Chicken)</td>\n",
       "      <td>Nitric oxide synthase, inducible (EC 1.14.13.3...</td>\n",
       "      <td>7</td>\n",
       "    </tr>\n",
       "    <tr>\n",
       "      <th>410428</th>\n",
       "      <td>NAD binding [GO:0051287]; NADP binding [GO:005...</td>\n",
       "      <td>MKTGSEFHVGIVGLGSMGMGAALSCVRAGLSTWGADLNSNACATLK...</td>\n",
       "      <td>302</td>\n",
       "      <td>Escherichia coli O6:H1 (strain CFT073 / ATCC 7...</td>\n",
       "      <td>L-threonate dehydrogenase (EC 1.1.1.411)</td>\n",
       "      <td>7</td>\n",
       "    </tr>\n",
       "    <tr>\n",
       "      <th>410956</th>\n",
       "      <td>electron transfer activity [GO:0009055]; flavi...</td>\n",
       "      <td>MAQLDTLDLVVLAVLLVGSVAYFTKGTYWAVAKDPYASTGPAMNGA...</td>\n",
       "      <td>694</td>\n",
       "      <td>Aspergillus niger</td>\n",
       "      <td>NADPH--cytochrome P450 reductase (CPR) (P450R)...</td>\n",
       "      <td>7</td>\n",
       "    </tr>\n",
       "    <tr>\n",
       "      <th>411664</th>\n",
       "      <td>metal ion binding [GO:0046872]; NAD binding [G...</td>\n",
       "      <td>MQRPIIAIPMGDPAGVGPEIVVKALANEEMYRIARPLVIGDAGVLR...</td>\n",
       "      <td>333</td>\n",
       "      <td>Heliobacterium modesticaldum (strain ATCC 5154...</td>\n",
       "      <td>D-erythronate 4-phosphate dehydrogenase (EC 1....</td>\n",
       "      <td>7</td>\n",
       "    </tr>\n",
       "    <tr>\n",
       "      <th>411669</th>\n",
       "      <td>metal ion binding [GO:0046872]; NAD binding [G...</td>\n",
       "      <td>MSKKPIIGITMGDAAGVGPEIIIKSLRNRELYEQAHPIVIGDTKML...</td>\n",
       "      <td>332</td>\n",
       "      <td>Oceanobacillus iheyensis (strain DSM 14371 / C...</td>\n",
       "      <td>Putative D-threonate 4-phosphate dehydrogenase...</td>\n",
       "      <td>7</td>\n",
       "    </tr>\n",
       "  </tbody>\n",
       "</table>\n",
       "<p>538 rows × 6 columns</p>\n",
       "</div>"
      ],
      "text/plain": [
       "                       Gene ontology (molecular function)  \\\n",
       "3080    NAD(P)H nitroreductase activity [GO:0018545]; ...   \n",
       "8482    2-octaprenyl-6-methoxyphenol hydroxylase activ...   \n",
       "13262   alcohol dehydrogenase (NADP+) activity [GO:000...   \n",
       "14875   actin monomer binding [GO:0003785]; arginine b...   \n",
       "15272   metal ion binding [GO:0046872]; NAD binding [G...   \n",
       "...                                                   ...   \n",
       "405155  calmodulin binding [GO:0005516]; flavin adenin...   \n",
       "410428  NAD binding [GO:0051287]; NADP binding [GO:005...   \n",
       "410956  electron transfer activity [GO:0009055]; flavi...   \n",
       "411664  metal ion binding [GO:0046872]; NAD binding [G...   \n",
       "411669  metal ion binding [GO:0046872]; NAD binding [G...   \n",
       "\n",
       "                                                 Sequence  Length  \\\n",
       "3080    MTQLTREQVLELFHQRSSTRYYDPTKKISDEDFECILECGRLSPSS...     220   \n",
       "8482    MSVIIVGGGMAGATLALAISRLSHGALPVHLIEATAPESHAHPGFD...     392   \n",
       "13262   MVPKFYKLSNGFKIPSIALGTYDIPRSQTAEIVYEGVKCGYRHFDT...     282   \n",
       "14875   MGNLKSVAQEPGPPCGLGLGLGLGLCGKQGPATPAPEPSRAPASLL...    1203   \n",
       "15272   MINNKPIIGIPIGDPAGVGPEIVVKSLTEAEVYEKCNPILIGDAKV...     334   \n",
       "...                                                   ...     ...   \n",
       "405155  MLCPWQFAFKPHAVKNQSSEEKDINNNVEKDVKVHSFVKDDAKLHS...    1136   \n",
       "410428  MKTGSEFHVGIVGLGSMGMGAALSCVRAGLSTWGADLNSNACATLK...     302   \n",
       "410956  MAQLDTLDLVVLAVLLVGSVAYFTKGTYWAVAKDPYASTGPAMNGA...     694   \n",
       "411664  MQRPIIAIPMGDPAGVGPEIVVKALANEEMYRIARPLVIGDAGVLR...     333   \n",
       "411669  MSKKPIIGITMGDAAGVGPEIIIKSLRNRELYEQAHPIVIGDTKML...     332   \n",
       "\n",
       "                                                 Organism  \\\n",
       "3080    Haemophilus influenzae (strain ATCC 51907 / DS...   \n",
       "8482                        Escherichia coli (strain K12)   \n",
       "13262   Saccharomyces cerevisiae (strain ATCC 204508 /...   \n",
       "14875                                Homo sapiens (Human)   \n",
       "15272   Clostridium botulinum (strain Hall / ATCC 3502...   \n",
       "...                                                   ...   \n",
       "405155                            Gallus gallus (Chicken)   \n",
       "410428  Escherichia coli O6:H1 (strain CFT073 / ATCC 7...   \n",
       "410956                                  Aspergillus niger   \n",
       "411664  Heliobacterium modesticaldum (strain ATCC 5154...   \n",
       "411669  Oceanobacillus iheyensis (strain DSM 14371 / C...   \n",
       "\n",
       "                                            Protein names  class  \n",
       "3080         Putative NAD(P)H nitroreductase (EC 1.-.-.-)      7  \n",
       "8482    2-octaprenyl-6-methoxyphenol hydroxylase (EC 1...      7  \n",
       "13262   Uncharacterized oxidoreductase YJR096W (EC 1.-...      7  \n",
       "14875   Nitric oxide synthase, endothelial (EC 1.14.13...      7  \n",
       "15272   Putative D-threonate 4-phosphate dehydrogenase...      7  \n",
       "...                                                   ...    ...  \n",
       "405155  Nitric oxide synthase, inducible (EC 1.14.13.3...      7  \n",
       "410428           L-threonate dehydrogenase (EC 1.1.1.411)      7  \n",
       "410956  NADPH--cytochrome P450 reductase (CPR) (P450R)...      7  \n",
       "411664  D-erythronate 4-phosphate dehydrogenase (EC 1....      7  \n",
       "411669  Putative D-threonate 4-phosphate dehydrogenase...      7  \n",
       "\n",
       "[538 rows x 6 columns]"
      ]
     },
     "execution_count": 50,
     "metadata": {},
     "output_type": "execute_result"
    }
   ],
   "source": [
    "#overlap with NADH or NAD\n",
    "oxidoreductase_activity[oxidoreductase_activity['Gene ontology (molecular function)'].str.contains('NAD+')]"
   ]
  },
  {
   "cell_type": "markdown",
   "metadata": {},
   "source": [
    "## Class 8 - Toxin Acitivity"
   ]
  },
  {
   "cell_type": "code",
   "execution_count": 51,
   "metadata": {},
   "outputs": [
    {
     "data": {
      "text/plain": [
       "7051"
      ]
     },
     "execution_count": 51,
     "metadata": {},
     "output_type": "execute_result"
    }
   ],
   "source": [
    "GO_function[GO_function['Gene ontology (molecular function)'].str.contains(\"toxin activity\")].value_counts().sum()"
   ]
  },
  {
   "cell_type": "code",
   "execution_count": 52,
   "metadata": {},
   "outputs": [
    {
     "data": {
      "text/plain": [
       "(7051, 5)"
      ]
     },
     "execution_count": 52,
     "metadata": {},
     "output_type": "execute_result"
    }
   ],
   "source": [
    "#create the toxin activity [GO:0090729] dataframe\n",
    "toxin_activity = GO_function[GO_function['Gene ontology (molecular function)'].str.contains(\"toxin activity [GO:0090729]\", regex=False)]\n",
    "toxin_activity.shape"
   ]
  },
  {
   "cell_type": "code",
   "execution_count": 53,
   "metadata": {},
   "outputs": [
    {
     "name": "stderr",
     "output_type": "stream",
     "text": [
      "<ipython-input-53-ccfcea213153>:2: SettingWithCopyWarning: \n",
      "A value is trying to be set on a copy of a slice from a DataFrame.\n",
      "Try using .loc[row_indexer,col_indexer] = value instead\n",
      "\n",
      "See the caveats in the documentation: https://pandas.pydata.org/pandas-docs/stable/user_guide/indexing.html#returning-a-view-versus-a-copy\n",
      "  toxin_activity['class'] = 8\n"
     ]
    }
   ],
   "source": [
    "#check to make sure that the \n",
    "toxin_activity['class'] = 8"
   ]
  },
  {
   "cell_type": "code",
   "execution_count": 54,
   "metadata": {},
   "outputs": [
    {
     "data": {
      "text/plain": [
       "Gene ontology (molecular function)     196\n",
       "Sequence                              6818\n",
       "Length                                 580\n",
       "Organism                              1029\n",
       "Protein names                         6686\n",
       "class                                    1\n",
       "dtype: int64"
      ]
     },
     "execution_count": 54,
     "metadata": {},
     "output_type": "execute_result"
    }
   ],
   "source": [
    "#check to make sure it was added correctly\n",
    "toxin_activity.nunique()"
   ]
  },
  {
   "cell_type": "code",
   "execution_count": 55,
   "metadata": {},
   "outputs": [
    {
     "data": {
      "text/html": [
       "<div>\n",
       "<style scoped>\n",
       "    .dataframe tbody tr th:only-of-type {\n",
       "        vertical-align: middle;\n",
       "    }\n",
       "\n",
       "    .dataframe tbody tr th {\n",
       "        vertical-align: top;\n",
       "    }\n",
       "\n",
       "    .dataframe thead th {\n",
       "        text-align: right;\n",
       "    }\n",
       "</style>\n",
       "<table border=\"1\" class=\"dataframe\">\n",
       "  <thead>\n",
       "    <tr style=\"text-align: right;\">\n",
       "      <th></th>\n",
       "      <th>Gene ontology (molecular function)</th>\n",
       "      <th>Sequence</th>\n",
       "      <th>Length</th>\n",
       "      <th>Organism</th>\n",
       "      <th>Protein names</th>\n",
       "      <th>class</th>\n",
       "    </tr>\n",
       "  </thead>\n",
       "  <tbody>\n",
       "    <tr>\n",
       "      <th>588</th>\n",
       "      <td>sodium channel inhibitor activity [GO:0019871]...</td>\n",
       "      <td>KEGYIVNYYTGCKFACAKLGDNDYCLRECKARYGKGAGGYCYAFGC...</td>\n",
       "      <td>67</td>\n",
       "      <td>Centruroides noxius (Mexican scorpion)</td>\n",
       "      <td>Beta-toxin Cn8 (Toxin 8) (Toxin II-13.4)</td>\n",
       "      <td>8</td>\n",
       "    </tr>\n",
       "    <tr>\n",
       "      <th>598</th>\n",
       "      <td>sodium channel inhibitor activity [GO:0019871]...</td>\n",
       "      <td>KEGYLVNSYTGCKFECFKLGDNDYCKRECKQQYGKGSGGYCYAFGC...</td>\n",
       "      <td>66</td>\n",
       "      <td>Centruroides suffusus (Durango bark scorpion)</td>\n",
       "      <td>Toxin Css8 (Beta-neurotoxin CssVIII) (Css VIII)</td>\n",
       "      <td>8</td>\n",
       "    </tr>\n",
       "    <tr>\n",
       "      <th>610</th>\n",
       "      <td>sodium channel inhibitor activity [GO:0019871]...</td>\n",
       "      <td>VRDGYIMIKDTNCKFSCNIFKKWEYCSPLCQSKGAETGYCYNFGCW...</td>\n",
       "      <td>67</td>\n",
       "      <td>Androctonus crassicauda (Arabian fat-tailed sc...</td>\n",
       "      <td>Putative sodium channel alpha-toxin Acra5</td>\n",
       "      <td>8</td>\n",
       "    </tr>\n",
       "    <tr>\n",
       "      <th>611</th>\n",
       "      <td>sodium channel inhibitor activity [GO:0019871]...</td>\n",
       "      <td>MTRFVLFLSCFFLIGMVVECKDGYLVGDDGCKMHCFTRPGHYCASE...</td>\n",
       "      <td>86</td>\n",
       "      <td>Tityus discrepans (Venezuelan scorpion)</td>\n",
       "      <td>Toxin Td8 (PT-beta* NaTx14.6)</td>\n",
       "      <td>8</td>\n",
       "    </tr>\n",
       "    <tr>\n",
       "      <th>614</th>\n",
       "      <td>sodium channel inhibitor activity [GO:0019871]...</td>\n",
       "      <td>VRDGYIALPHNCAYGCLNNEYCNNLCTKDGAKIGYCNIVGKYGNAC...</td>\n",
       "      <td>66</td>\n",
       "      <td>Mesobuthus martensii (Manchurian scorpion) (Bu...</td>\n",
       "      <td>Alpha-like toxin BmK-M7 (BmKM7) (Bmk M7)</td>\n",
       "      <td>8</td>\n",
       "    </tr>\n",
       "  </tbody>\n",
       "</table>\n",
       "</div>"
      ],
      "text/plain": [
       "                    Gene ontology (molecular function)  \\\n",
       "588  sodium channel inhibitor activity [GO:0019871]...   \n",
       "598  sodium channel inhibitor activity [GO:0019871]...   \n",
       "610  sodium channel inhibitor activity [GO:0019871]...   \n",
       "611  sodium channel inhibitor activity [GO:0019871]...   \n",
       "614  sodium channel inhibitor activity [GO:0019871]...   \n",
       "\n",
       "                                              Sequence  Length  \\\n",
       "588  KEGYIVNYYTGCKFACAKLGDNDYCLRECKARYGKGAGGYCYAFGC...      67   \n",
       "598  KEGYLVNSYTGCKFECFKLGDNDYCKRECKQQYGKGSGGYCYAFGC...      66   \n",
       "610  VRDGYIMIKDTNCKFSCNIFKKWEYCSPLCQSKGAETGYCYNFGCW...      67   \n",
       "611  MTRFVLFLSCFFLIGMVVECKDGYLVGDDGCKMHCFTRPGHYCASE...      86   \n",
       "614  VRDGYIALPHNCAYGCLNNEYCNNLCTKDGAKIGYCNIVGKYGNAC...      66   \n",
       "\n",
       "                                              Organism  \\\n",
       "588             Centruroides noxius (Mexican scorpion)   \n",
       "598      Centruroides suffusus (Durango bark scorpion)   \n",
       "610  Androctonus crassicauda (Arabian fat-tailed sc...   \n",
       "611            Tityus discrepans (Venezuelan scorpion)   \n",
       "614  Mesobuthus martensii (Manchurian scorpion) (Bu...   \n",
       "\n",
       "                                       Protein names  class  \n",
       "588         Beta-toxin Cn8 (Toxin 8) (Toxin II-13.4)      8  \n",
       "598  Toxin Css8 (Beta-neurotoxin CssVIII) (Css VIII)      8  \n",
       "610        Putative sodium channel alpha-toxin Acra5      8  \n",
       "611                    Toxin Td8 (PT-beta* NaTx14.6)      8  \n",
       "614         Alpha-like toxin BmK-M7 (BmKM7) (Bmk M7)      8  "
      ]
     },
     "execution_count": 55,
     "metadata": {},
     "output_type": "execute_result"
    }
   ],
   "source": [
    "#check to make sure class 8 was added correctly\n",
    "toxin_activity.head()"
   ]
  },
  {
   "cell_type": "code",
   "execution_count": 56,
   "metadata": {},
   "outputs": [
    {
     "data": {
      "text/html": [
       "<div>\n",
       "<style scoped>\n",
       "    .dataframe tbody tr th:only-of-type {\n",
       "        vertical-align: middle;\n",
       "    }\n",
       "\n",
       "    .dataframe tbody tr th {\n",
       "        vertical-align: top;\n",
       "    }\n",
       "\n",
       "    .dataframe thead th {\n",
       "        text-align: right;\n",
       "    }\n",
       "</style>\n",
       "<table border=\"1\" class=\"dataframe\">\n",
       "  <thead>\n",
       "    <tr style=\"text-align: right;\">\n",
       "      <th></th>\n",
       "      <th>Gene ontology (molecular function)</th>\n",
       "      <th>Sequence</th>\n",
       "      <th>Length</th>\n",
       "      <th>Organism</th>\n",
       "      <th>Protein names</th>\n",
       "      <th>class</th>\n",
       "    </tr>\n",
       "  </thead>\n",
       "  <tbody>\n",
       "    <tr>\n",
       "      <th>16293</th>\n",
       "      <td>acid-amino acid ligase activity [GO:0016881]; ...</td>\n",
       "      <td>MATLAYSIEVEGLEDETLVVRGFHGQESLSNSVFLGQACYGFRYEV...</td>\n",
       "      <td>1163</td>\n",
       "      <td>Vibrio cholerae serotype O1 (strain ATCC 39315...</td>\n",
       "      <td>Actin cross-linking toxin VgrG1 (EC 6.3.2.-)</td>\n",
       "      <td>8</td>\n",
       "    </tr>\n",
       "    <tr>\n",
       "      <th>117100</th>\n",
       "      <td>acid-amino acid ligase activity [GO:0016881]; ...</td>\n",
       "      <td>MATLAYSIEVEGLEDETLVVRGFHGQESLSNSVFLGQACYGFRYEV...</td>\n",
       "      <td>1095</td>\n",
       "      <td>Vibrio cholerae serotype O1 (strain ATCC 39541...</td>\n",
       "      <td>Actin cross-linking toxin VgrG1 (EC 6.3.2.-)</td>\n",
       "      <td>8</td>\n",
       "    </tr>\n",
       "    <tr>\n",
       "      <th>154509</th>\n",
       "      <td>acid-amino acid ligase activity [GO:0016881]; ...</td>\n",
       "      <td>MVFYLIPKRRVWLMGKPFWRSVEYFFTGNYSADDGNNNIVAIGFGG...</td>\n",
       "      <td>4558</td>\n",
       "      <td>Vibrio cholerae serotype O1 (strain ATCC 39315...</td>\n",
       "      <td>Multifunctional-autoprocessing repeats-in-toxi...</td>\n",
       "      <td>8</td>\n",
       "    </tr>\n",
       "    <tr>\n",
       "      <th>190083</th>\n",
       "      <td>ATPase activity [GO:0016887]; ATP binding [GO:...</td>\n",
       "      <td>MFQFHLTSKAKKVIELYAQEEAKRLNHDMVTPEHILLGLLYESEAL...</td>\n",
       "      <td>828</td>\n",
       "      <td>Brachyspira hyodysenteriae (Treponema hyodysen...</td>\n",
       "      <td>Hemolysin B</td>\n",
       "      <td>8</td>\n",
       "    </tr>\n",
       "    <tr>\n",
       "      <th>298112</th>\n",
       "      <td>ATP binding [GO:0005524]; calcium- and calmodu...</td>\n",
       "      <td>MQQSHQAGYANAADRESGIPAAVLDGIKAVAKEKNATLMFRLVNPH...</td>\n",
       "      <td>1706</td>\n",
       "      <td>Bordetella bronchiseptica (strain ATCC BAA-588...</td>\n",
       "      <td>Bifunctional hemolysin/adenylate cyclase (AC-H...</td>\n",
       "      <td>8</td>\n",
       "    </tr>\n",
       "    <tr>\n",
       "      <th>368832</th>\n",
       "      <td>adenylate cyclase activity [GO:0004016]; ATP b...</td>\n",
       "      <td>MTRNKFIPNKFSIISFSVLLFAISSSQAIEVNAMNEHYTESDIKRN...</td>\n",
       "      <td>800</td>\n",
       "      <td>Bacillus anthracis</td>\n",
       "      <td>Calmodulin-sensitive adenylate cyclase (EC 4.6...</td>\n",
       "      <td>8</td>\n",
       "    </tr>\n",
       "    <tr>\n",
       "      <th>377124</th>\n",
       "      <td>ATP binding [GO:0005524]; calcium- and calmodu...</td>\n",
       "      <td>MQQSHQAGYANAADRESGIPAAVLDGIKAVAKEKNATLMFRLVNPH...</td>\n",
       "      <td>1706</td>\n",
       "      <td>Bordetella pertussis (strain ATCC 9797 / DSM 5...</td>\n",
       "      <td>Bifunctional hemolysin/adenylate cyclase (AC-H...</td>\n",
       "      <td>8</td>\n",
       "    </tr>\n",
       "    <tr>\n",
       "      <th>396434</th>\n",
       "      <td>adenylate cyclase activity [GO:0004016]; ATP b...</td>\n",
       "      <td>MQQSHQAGYANAADRESGIPAAVLDGIKAVAKEKNATLMFRLVNPH...</td>\n",
       "      <td>1706</td>\n",
       "      <td>Bordetella pertussis (strain Tohama I / ATCC B...</td>\n",
       "      <td>Bifunctional hemolysin/adenylate cyclase (AC-H...</td>\n",
       "      <td>8</td>\n",
       "    </tr>\n",
       "  </tbody>\n",
       "</table>\n",
       "</div>"
      ],
      "text/plain": [
       "                       Gene ontology (molecular function)  \\\n",
       "16293   acid-amino acid ligase activity [GO:0016881]; ...   \n",
       "117100  acid-amino acid ligase activity [GO:0016881]; ...   \n",
       "154509  acid-amino acid ligase activity [GO:0016881]; ...   \n",
       "190083  ATPase activity [GO:0016887]; ATP binding [GO:...   \n",
       "298112  ATP binding [GO:0005524]; calcium- and calmodu...   \n",
       "368832  adenylate cyclase activity [GO:0004016]; ATP b...   \n",
       "377124  ATP binding [GO:0005524]; calcium- and calmodu...   \n",
       "396434  adenylate cyclase activity [GO:0004016]; ATP b...   \n",
       "\n",
       "                                                 Sequence  Length  \\\n",
       "16293   MATLAYSIEVEGLEDETLVVRGFHGQESLSNSVFLGQACYGFRYEV...    1163   \n",
       "117100  MATLAYSIEVEGLEDETLVVRGFHGQESLSNSVFLGQACYGFRYEV...    1095   \n",
       "154509  MVFYLIPKRRVWLMGKPFWRSVEYFFTGNYSADDGNNNIVAIGFGG...    4558   \n",
       "190083  MFQFHLTSKAKKVIELYAQEEAKRLNHDMVTPEHILLGLLYESEAL...     828   \n",
       "298112  MQQSHQAGYANAADRESGIPAAVLDGIKAVAKEKNATLMFRLVNPH...    1706   \n",
       "368832  MTRNKFIPNKFSIISFSVLLFAISSSQAIEVNAMNEHYTESDIKRN...     800   \n",
       "377124  MQQSHQAGYANAADRESGIPAAVLDGIKAVAKEKNATLMFRLVNPH...    1706   \n",
       "396434  MQQSHQAGYANAADRESGIPAAVLDGIKAVAKEKNATLMFRLVNPH...    1706   \n",
       "\n",
       "                                                 Organism  \\\n",
       "16293   Vibrio cholerae serotype O1 (strain ATCC 39315...   \n",
       "117100  Vibrio cholerae serotype O1 (strain ATCC 39541...   \n",
       "154509  Vibrio cholerae serotype O1 (strain ATCC 39315...   \n",
       "190083  Brachyspira hyodysenteriae (Treponema hyodysen...   \n",
       "298112  Bordetella bronchiseptica (strain ATCC BAA-588...   \n",
       "368832                                 Bacillus anthracis   \n",
       "377124  Bordetella pertussis (strain ATCC 9797 / DSM 5...   \n",
       "396434  Bordetella pertussis (strain Tohama I / ATCC B...   \n",
       "\n",
       "                                            Protein names  class  \n",
       "16293        Actin cross-linking toxin VgrG1 (EC 6.3.2.-)      8  \n",
       "117100       Actin cross-linking toxin VgrG1 (EC 6.3.2.-)      8  \n",
       "154509  Multifunctional-autoprocessing repeats-in-toxi...      8  \n",
       "190083                                        Hemolysin B      8  \n",
       "298112  Bifunctional hemolysin/adenylate cyclase (AC-H...      8  \n",
       "368832  Calmodulin-sensitive adenylate cyclase (EC 4.6...      8  \n",
       "377124  Bifunctional hemolysin/adenylate cyclase (AC-H...      8  \n",
       "396434  Bifunctional hemolysin/adenylate cyclase (AC-H...      8  "
      ]
     },
     "execution_count": 56,
     "metadata": {},
     "output_type": "execute_result"
    }
   ],
   "source": [
    "#direct overlap\n",
    "toxin_activity[toxin_activity['Gene ontology (molecular function)'].str.contains('ATP binding [GO:0005524]',regex=False)]"
   ]
  },
  {
   "cell_type": "code",
   "execution_count": 57,
   "metadata": {},
   "outputs": [
    {
     "data": {
      "text/html": [
       "<div>\n",
       "<style scoped>\n",
       "    .dataframe tbody tr th:only-of-type {\n",
       "        vertical-align: middle;\n",
       "    }\n",
       "\n",
       "    .dataframe tbody tr th {\n",
       "        vertical-align: top;\n",
       "    }\n",
       "\n",
       "    .dataframe thead th {\n",
       "        text-align: right;\n",
       "    }\n",
       "</style>\n",
       "<table border=\"1\" class=\"dataframe\">\n",
       "  <thead>\n",
       "    <tr style=\"text-align: right;\">\n",
       "      <th></th>\n",
       "      <th>Gene ontology (molecular function)</th>\n",
       "      <th>Sequence</th>\n",
       "      <th>Length</th>\n",
       "      <th>Organism</th>\n",
       "      <th>Protein names</th>\n",
       "      <th>class</th>\n",
       "    </tr>\n",
       "  </thead>\n",
       "  <tbody>\n",
       "    <tr>\n",
       "      <th>35447</th>\n",
       "      <td>DNA binding [GO:0003677]; protein serine/threo...</td>\n",
       "      <td>MSELTDLLLQGPRSAPELRQRLAISQATFSRLVAREDRVIRFGKAR...</td>\n",
       "      <td>443</td>\n",
       "      <td>Escherichia coli (strain K12)</td>\n",
       "      <td>Toxin YjjJ (Putative DNA-binding transcription...</td>\n",
       "      <td>8</td>\n",
       "    </tr>\n",
       "    <tr>\n",
       "      <th>241877</th>\n",
       "      <td>DNA binding [GO:0003677]; flavin adenine dinuc...</td>\n",
       "      <td>MNDFLLLLLVLFLGVPRSENHVINLEECFQEPEYENWLATASHGLT...</td>\n",
       "      <td>491</td>\n",
       "      <td>Ophiophagus hannah (King cobra) (Naja hannah)</td>\n",
       "      <td>L-amino-acid oxidase (LAO) (Oh-LAAO) (EC 1.4.3.2)</td>\n",
       "      <td>8</td>\n",
       "    </tr>\n",
       "  </tbody>\n",
       "</table>\n",
       "</div>"
      ],
      "text/plain": [
       "                       Gene ontology (molecular function)  \\\n",
       "35447   DNA binding [GO:0003677]; protein serine/threo...   \n",
       "241877  DNA binding [GO:0003677]; flavin adenine dinuc...   \n",
       "\n",
       "                                                 Sequence  Length  \\\n",
       "35447   MSELTDLLLQGPRSAPELRQRLAISQATFSRLVAREDRVIRFGKAR...     443   \n",
       "241877  MNDFLLLLLVLFLGVPRSENHVINLEECFQEPEYENWLATASHGLT...     491   \n",
       "\n",
       "                                             Organism  \\\n",
       "35447                   Escherichia coli (strain K12)   \n",
       "241877  Ophiophagus hannah (King cobra) (Naja hannah)   \n",
       "\n",
       "                                            Protein names  class  \n",
       "35447   Toxin YjjJ (Putative DNA-binding transcription...      8  \n",
       "241877  L-amino-acid oxidase (LAO) (Oh-LAAO) (EC 1.4.3.2)      8  "
      ]
     },
     "execution_count": 57,
     "metadata": {},
     "output_type": "execute_result"
    }
   ],
   "source": [
    "toxin_activity[toxin_activity['Gene ontology (molecular function)'].str.contains('DNA binding [GO:0003677]',regex=False)]"
   ]
  },
  {
   "cell_type": "code",
   "execution_count": 58,
   "metadata": {},
   "outputs": [
    {
     "data": {
      "text/html": [
       "<div>\n",
       "<style scoped>\n",
       "    .dataframe tbody tr th:only-of-type {\n",
       "        vertical-align: middle;\n",
       "    }\n",
       "\n",
       "    .dataframe tbody tr th {\n",
       "        vertical-align: top;\n",
       "    }\n",
       "\n",
       "    .dataframe thead th {\n",
       "        text-align: right;\n",
       "    }\n",
       "</style>\n",
       "<table border=\"1\" class=\"dataframe\">\n",
       "  <thead>\n",
       "    <tr style=\"text-align: right;\">\n",
       "      <th></th>\n",
       "      <th>Gene ontology (molecular function)</th>\n",
       "      <th>Sequence</th>\n",
       "      <th>Length</th>\n",
       "      <th>Organism</th>\n",
       "      <th>Protein names</th>\n",
       "      <th>class</th>\n",
       "    </tr>\n",
       "  </thead>\n",
       "  <tbody>\n",
       "  </tbody>\n",
       "</table>\n",
       "</div>"
      ],
      "text/plain": [
       "Empty DataFrame\n",
       "Columns: [Gene ontology (molecular function), Sequence, Length, Organism, Protein names, class]\n",
       "Index: []"
      ]
     },
     "execution_count": 58,
     "metadata": {},
     "output_type": "execute_result"
    }
   ],
   "source": [
    "toxin_activity[toxin_activity['Gene ontology (molecular function)'].str.contains('NADH dehydrogenase (quinone) activity [GO:0050136]',regex=False)]"
   ]
  },
  {
   "cell_type": "markdown",
   "metadata": {},
   "source": [
    "## Create Final DataFrame for the Chosen Classes"
   ]
  },
  {
   "cell_type": "code",
   "execution_count": 59,
   "metadata": {},
   "outputs": [],
   "source": [
    "#use the identified classes to parse the protein dataframe and grab the rows desired\n",
    "#concat the dataframes together\n",
    "final_df = pd.concat([rRNA_binding_contains, DNA_binding_contains, ATP_binding_contains, \n",
    "                     HORMONE_activity, GTPase_activity, NADH_activity, oxidoreductase_activity,\n",
    "                     toxin_activity], ignore_index=True)"
   ]
  },
  {
   "cell_type": "code",
   "execution_count": 60,
   "metadata": {},
   "outputs": [
    {
     "data": {
      "text/plain": [
       "(163628, 6)"
      ]
     },
     "execution_count": 60,
     "metadata": {},
     "output_type": "execute_result"
    }
   ],
   "source": [
    "#has the correct number of rows based on number of class observations\n",
    "#highly imbalanced classes -- deal with in modeling\n",
    "final_df.shape"
   ]
  },
  {
   "cell_type": "code",
   "execution_count": 61,
   "metadata": {},
   "outputs": [
    {
     "data": {
      "text/html": [
       "<div>\n",
       "<style scoped>\n",
       "    .dataframe tbody tr th:only-of-type {\n",
       "        vertical-align: middle;\n",
       "    }\n",
       "\n",
       "    .dataframe tbody tr th {\n",
       "        vertical-align: top;\n",
       "    }\n",
       "\n",
       "    .dataframe thead th {\n",
       "        text-align: right;\n",
       "    }\n",
       "</style>\n",
       "<table border=\"1\" class=\"dataframe\">\n",
       "  <thead>\n",
       "    <tr style=\"text-align: right;\">\n",
       "      <th></th>\n",
       "      <th>Gene ontology (molecular function)</th>\n",
       "      <th>Sequence</th>\n",
       "      <th>Length</th>\n",
       "      <th>Organism</th>\n",
       "      <th>Protein names</th>\n",
       "      <th>class</th>\n",
       "    </tr>\n",
       "  </thead>\n",
       "  <tbody>\n",
       "    <tr>\n",
       "      <th>0</th>\n",
       "      <td>rRNA binding [GO:0019843]; structural constitu...</td>\n",
       "      <td>MNVILLDKIANLGSLGDQVSVKSGYARNFLFPQGKAVPATKSNVDL...</td>\n",
       "      <td>150</td>\n",
       "      <td>Idiomarina loihiensis (strain ATCC BAA-735 / D...</td>\n",
       "      <td>50S ribosomal protein L9</td>\n",
       "      <td>1</td>\n",
       "    </tr>\n",
       "    <tr>\n",
       "      <th>1</th>\n",
       "      <td>rRNA binding [GO:0019843]; structural constitu...</td>\n",
       "      <td>MQLYDFYKKNVLIKLKNKFNYKSIMQVPKIEKITLNMGVGKASFDK...</td>\n",
       "      <td>178</td>\n",
       "      <td>Wigglesworthia glossinidia brevipalpis</td>\n",
       "      <td>50S ribosomal protein L5</td>\n",
       "      <td>1</td>\n",
       "    </tr>\n",
       "    <tr>\n",
       "      <th>2</th>\n",
       "      <td>rRNA binding [GO:0019843]; structural constitu...</td>\n",
       "      <td>MELKLLNDQGQAASNVAAPDTIFGRDYNEALIHQVVVAYQANARSG...</td>\n",
       "      <td>206</td>\n",
       "      <td>Janthinobacterium sp. (strain Marseille) (Mini...</td>\n",
       "      <td>50S ribosomal protein L4</td>\n",
       "      <td>1</td>\n",
       "    </tr>\n",
       "    <tr>\n",
       "      <th>3</th>\n",
       "      <td>rRNA binding [GO:0019843]; structural constitu...</td>\n",
       "      <td>MNVILLDKIANLGNLGDQVAVKAGYARNYLLPQGKAVVANESNVKV...</td>\n",
       "      <td>150</td>\n",
       "      <td>Shewanella sp. (strain MR-7)</td>\n",
       "      <td>50S ribosomal protein L9</td>\n",
       "      <td>1</td>\n",
       "    </tr>\n",
       "    <tr>\n",
       "      <th>4</th>\n",
       "      <td>rRNA binding [GO:0019843]; structural constitu...</td>\n",
       "      <td>MSRVAKAPVNIPAGVEVKLDGQLLTVKGKNGELSRKIHESVEVKQD...</td>\n",
       "      <td>177</td>\n",
       "      <td>Haemophilus influenzae (strain PittGG)</td>\n",
       "      <td>50S ribosomal protein L6</td>\n",
       "      <td>1</td>\n",
       "    </tr>\n",
       "  </tbody>\n",
       "</table>\n",
       "</div>"
      ],
      "text/plain": [
       "                  Gene ontology (molecular function)  \\\n",
       "0  rRNA binding [GO:0019843]; structural constitu...   \n",
       "1  rRNA binding [GO:0019843]; structural constitu...   \n",
       "2  rRNA binding [GO:0019843]; structural constitu...   \n",
       "3  rRNA binding [GO:0019843]; structural constitu...   \n",
       "4  rRNA binding [GO:0019843]; structural constitu...   \n",
       "\n",
       "                                            Sequence  Length  \\\n",
       "0  MNVILLDKIANLGSLGDQVSVKSGYARNFLFPQGKAVPATKSNVDL...     150   \n",
       "1  MQLYDFYKKNVLIKLKNKFNYKSIMQVPKIEKITLNMGVGKASFDK...     178   \n",
       "2  MELKLLNDQGQAASNVAAPDTIFGRDYNEALIHQVVVAYQANARSG...     206   \n",
       "3  MNVILLDKIANLGNLGDQVAVKAGYARNYLLPQGKAVVANESNVKV...     150   \n",
       "4  MSRVAKAPVNIPAGVEVKLDGQLLTVKGKNGELSRKIHESVEVKQD...     177   \n",
       "\n",
       "                                            Organism  \\\n",
       "0  Idiomarina loihiensis (strain ATCC BAA-735 / D...   \n",
       "1             Wigglesworthia glossinidia brevipalpis   \n",
       "2  Janthinobacterium sp. (strain Marseille) (Mini...   \n",
       "3                       Shewanella sp. (strain MR-7)   \n",
       "4             Haemophilus influenzae (strain PittGG)   \n",
       "\n",
       "              Protein names  class  \n",
       "0  50S ribosomal protein L9      1  \n",
       "1  50S ribosomal protein L5      1  \n",
       "2  50S ribosomal protein L4      1  \n",
       "3  50S ribosomal protein L9      1  \n",
       "4  50S ribosomal protein L6      1  "
      ]
     },
     "execution_count": 61,
     "metadata": {},
     "output_type": "execute_result"
    }
   ],
   "source": [
    "#the first rows of the dataframe\n",
    "final_df.head()"
   ]
  },
  {
   "cell_type": "markdown",
   "metadata": {},
   "source": [
    "## Cleaning Final Dataframe"
   ]
  },
  {
   "cell_type": "code",
   "execution_count": 62,
   "metadata": {},
   "outputs": [
    {
     "data": {
      "text/plain": [
       "6638"
      ]
     },
     "execution_count": 62,
     "metadata": {},
     "output_type": "execute_result"
    }
   ],
   "source": [
    "#the number of unique organisms in the dataframe\n",
    "#range from prokaryotes to eukarotes\n",
    "final_df['Organism'].nunique()"
   ]
  },
  {
   "cell_type": "code",
   "execution_count": 63,
   "metadata": {},
   "outputs": [
    {
     "data": {
      "text/plain": [
       "30938"
      ]
     },
     "execution_count": 63,
     "metadata": {},
     "output_type": "execute_result"
    }
   ],
   "source": [
    "#as we have closely related organisms we have duplicate names\n",
    "final_df['Protein names'].nunique()"
   ]
  },
  {
   "cell_type": "code",
   "execution_count": 64,
   "metadata": {},
   "outputs": [
    {
     "data": {
      "text/plain": [
       "Holliday junction ATP-dependent DNA helicase RuvA (EC 3.6.4.12)    1459\n",
       "Holliday junction ATP-dependent DNA helicase RuvB (EC 3.6.4.12)    1408\n",
       "Transcriptional repressor NrdR                                     1255\n",
       "50S ribosomal protein L2                                            862\n",
       "30S ribosomal protein S19                                           859\n",
       "Name: Protein names, dtype: int64"
      ]
     },
     "execution_count": 64,
     "metadata": {},
     "output_type": "execute_result"
    }
   ],
   "source": [
    "#some of the value counts for the protein names\n",
    "final_df['Protein names'].value_counts().head()"
   ]
  },
  {
   "cell_type": "code",
   "execution_count": 65,
   "metadata": {},
   "outputs": [
    {
     "data": {
      "text/plain": [
       "130982"
      ]
     },
     "execution_count": 65,
     "metadata": {},
     "output_type": "execute_result"
    }
   ],
   "source": [
    "#as we have thousands of organisms that are closely related there are duplicate sequences for a protein within the dataframe\n",
    "#to avoid overfitting to a frequently occurring dataframe we are going to drop the duplicate values present in the data\n",
    "final_df['Sequence'].nunique()"
   ]
  },
  {
   "cell_type": "code",
   "execution_count": 66,
   "metadata": {},
   "outputs": [
    {
     "data": {
      "text/html": [
       "<div>\n",
       "<style scoped>\n",
       "    .dataframe tbody tr th:only-of-type {\n",
       "        vertical-align: middle;\n",
       "    }\n",
       "\n",
       "    .dataframe tbody tr th {\n",
       "        vertical-align: top;\n",
       "    }\n",
       "\n",
       "    .dataframe thead th {\n",
       "        text-align: right;\n",
       "    }\n",
       "</style>\n",
       "<table border=\"1\" class=\"dataframe\">\n",
       "  <thead>\n",
       "    <tr style=\"text-align: right;\">\n",
       "      <th></th>\n",
       "      <th>Gene ontology (molecular function)</th>\n",
       "      <th>Sequence</th>\n",
       "      <th>Length</th>\n",
       "      <th>Organism</th>\n",
       "      <th>Protein names</th>\n",
       "      <th>class</th>\n",
       "    </tr>\n",
       "  </thead>\n",
       "  <tbody>\n",
       "    <tr>\n",
       "      <th>28547</th>\n",
       "      <td>DNA binding [GO:0003677]; DNA-directed 5'-3' R...</td>\n",
       "      <td>MARVTVQDAVEKIGNRFDLVLVAARRARQMQVGGKDPLVPEENDKT...</td>\n",
       "      <td>91</td>\n",
       "      <td>Escherichia coli (strain K12)</td>\n",
       "      <td>DNA-directed RNA polymerase subunit omega (RNA...</td>\n",
       "      <td>2</td>\n",
       "    </tr>\n",
       "    <tr>\n",
       "      <th>29446</th>\n",
       "      <td>DNA binding [GO:0003677]; DNA-directed 5'-3' R...</td>\n",
       "      <td>MARVTVQDAVEKIGNRFDLVLVAARRARQMQVGGKDPLVPEENDKT...</td>\n",
       "      <td>91</td>\n",
       "      <td>Citrobacter koseri (strain ATCC BAA-895 / CDC ...</td>\n",
       "      <td>DNA-directed RNA polymerase subunit omega (RNA...</td>\n",
       "      <td>2</td>\n",
       "    </tr>\n",
       "    <tr>\n",
       "      <th>29519</th>\n",
       "      <td>DNA binding [GO:0003677]; DNA-directed 5'-3' R...</td>\n",
       "      <td>MARVTVQDAVEKIGNRFDLVLVAARRARQMQVGGKDPLVPEENDKT...</td>\n",
       "      <td>91</td>\n",
       "      <td>Escherichia coli O9:H4 (strain HS)</td>\n",
       "      <td>DNA-directed RNA polymerase subunit omega (RNA...</td>\n",
       "      <td>2</td>\n",
       "    </tr>\n",
       "    <tr>\n",
       "      <th>29920</th>\n",
       "      <td>DNA binding [GO:0003677]; DNA-directed 5'-3' R...</td>\n",
       "      <td>MARVTVQDAVEKIGNRFDLVLVAARRARQMQVGGKDPLVPEENDKT...</td>\n",
       "      <td>91</td>\n",
       "      <td>Escherichia coli (strain ATCC 8739 / DSM 1576 ...</td>\n",
       "      <td>DNA-directed RNA polymerase subunit omega (RNA...</td>\n",
       "      <td>2</td>\n",
       "    </tr>\n",
       "    <tr>\n",
       "      <th>30084</th>\n",
       "      <td>DNA binding [GO:0003677]; DNA-directed 5'-3' R...</td>\n",
       "      <td>MARVTVQDAVEKIGNRFDLVLVAARRARQMQVGGKDPLVPEENDKT...</td>\n",
       "      <td>91</td>\n",
       "      <td>Shigella dysenteriae serotype 1 (strain Sd197)</td>\n",
       "      <td>DNA-directed RNA polymerase subunit omega (RNA...</td>\n",
       "      <td>2</td>\n",
       "    </tr>\n",
       "  </tbody>\n",
       "</table>\n",
       "</div>"
      ],
      "text/plain": [
       "                      Gene ontology (molecular function)  \\\n",
       "28547  DNA binding [GO:0003677]; DNA-directed 5'-3' R...   \n",
       "29446  DNA binding [GO:0003677]; DNA-directed 5'-3' R...   \n",
       "29519  DNA binding [GO:0003677]; DNA-directed 5'-3' R...   \n",
       "29920  DNA binding [GO:0003677]; DNA-directed 5'-3' R...   \n",
       "30084  DNA binding [GO:0003677]; DNA-directed 5'-3' R...   \n",
       "\n",
       "                                                Sequence  Length  \\\n",
       "28547  MARVTVQDAVEKIGNRFDLVLVAARRARQMQVGGKDPLVPEENDKT...      91   \n",
       "29446  MARVTVQDAVEKIGNRFDLVLVAARRARQMQVGGKDPLVPEENDKT...      91   \n",
       "29519  MARVTVQDAVEKIGNRFDLVLVAARRARQMQVGGKDPLVPEENDKT...      91   \n",
       "29920  MARVTVQDAVEKIGNRFDLVLVAARRARQMQVGGKDPLVPEENDKT...      91   \n",
       "30084  MARVTVQDAVEKIGNRFDLVLVAARRARQMQVGGKDPLVPEENDKT...      91   \n",
       "\n",
       "                                                Organism  \\\n",
       "28547                      Escherichia coli (strain K12)   \n",
       "29446  Citrobacter koseri (strain ATCC BAA-895 / CDC ...   \n",
       "29519                 Escherichia coli O9:H4 (strain HS)   \n",
       "29920  Escherichia coli (strain ATCC 8739 / DSM 1576 ...   \n",
       "30084     Shigella dysenteriae serotype 1 (strain Sd197)   \n",
       "\n",
       "                                           Protein names  class  \n",
       "28547  DNA-directed RNA polymerase subunit omega (RNA...      2  \n",
       "29446  DNA-directed RNA polymerase subunit omega (RNA...      2  \n",
       "29519  DNA-directed RNA polymerase subunit omega (RNA...      2  \n",
       "29920  DNA-directed RNA polymerase subunit omega (RNA...      2  \n",
       "30084  DNA-directed RNA polymerase subunit omega (RNA...      2  "
      ]
     },
     "execution_count": 66,
     "metadata": {},
     "output_type": "execute_result"
    }
   ],
   "source": [
    "#an exaple of a duplicate sequence \n",
    "#as we can see they are from closely related organisms -- drop these duplicates from the data\n",
    "final_df[final_df['Sequence'] == 'MARVTVQDAVEKIGNRFDLVLVAARRARQMQVGGKDPLVPEENDKTTVIALREIEEGLINNQILDVRERQEQQEQEAAELQAVTAIAEGRR'].head()"
   ]
  },
  {
   "cell_type": "code",
   "execution_count": 67,
   "metadata": {},
   "outputs": [
    {
     "data": {
      "text/plain": [
       "(130982, 6)"
      ]
     },
     "execution_count": 67,
     "metadata": {},
     "output_type": "execute_result"
    }
   ],
   "source": [
    "#dropping the duplicates from the sequence column\n",
    "final_df = final_df.drop_duplicates(['Sequence'])\n",
    "final_df.shape"
   ]
  },
  {
   "cell_type": "code",
   "execution_count": 68,
   "metadata": {},
   "outputs": [
    {
     "data": {
      "text/plain": [
       "130982"
      ]
     },
     "execution_count": 68,
     "metadata": {},
     "output_type": "execute_result"
    }
   ],
   "source": [
    "#now we don't have any duplicates\n",
    "final_df['Sequence'].value_counts().sum()"
   ]
  },
  {
   "cell_type": "code",
   "execution_count": 69,
   "metadata": {},
   "outputs": [
    {
     "data": {
      "text/plain": [
       "8"
      ]
     },
     "execution_count": 69,
     "metadata": {},
     "output_type": "execute_result"
    }
   ],
   "source": [
    "#check the value counts for the classes -- there should be 8 classes\n",
    "final_df['class'].nunique()"
   ]
  },
  {
   "cell_type": "code",
   "execution_count": 70,
   "metadata": {},
   "outputs": [
    {
     "data": {
      "text/html": [
       "<div>\n",
       "<style scoped>\n",
       "    .dataframe tbody tr th:only-of-type {\n",
       "        vertical-align: middle;\n",
       "    }\n",
       "\n",
       "    .dataframe tbody tr th {\n",
       "        vertical-align: top;\n",
       "    }\n",
       "\n",
       "    .dataframe thead th {\n",
       "        text-align: right;\n",
       "    }\n",
       "</style>\n",
       "<table border=\"1\" class=\"dataframe\">\n",
       "  <thead>\n",
       "    <tr style=\"text-align: right;\">\n",
       "      <th></th>\n",
       "      <th>Gene ontology (molecular function)</th>\n",
       "      <th>Sequence</th>\n",
       "      <th>Length</th>\n",
       "      <th>Organism</th>\n",
       "      <th>Protein names</th>\n",
       "      <th>class</th>\n",
       "    </tr>\n",
       "  </thead>\n",
       "  <tbody>\n",
       "    <tr>\n",
       "      <th>63055</th>\n",
       "      <td>actin filament binding [GO:0051015]; actinin b...</td>\n",
       "      <td>!!! TO LONG IT DOES NOT FIT IN EXCELL, NOT REP...</td>\n",
       "      <td>35213</td>\n",
       "      <td>Mus musculus (Mouse)</td>\n",
       "      <td>Titin (EC 2.7.11.1) (Connectin)</td>\n",
       "      <td>3</td>\n",
       "    </tr>\n",
       "  </tbody>\n",
       "</table>\n",
       "</div>"
      ],
      "text/plain": [
       "                      Gene ontology (molecular function)  \\\n",
       "63055  actin filament binding [GO:0051015]; actinin b...   \n",
       "\n",
       "                                                Sequence  Length  \\\n",
       "63055  !!! TO LONG IT DOES NOT FIT IN EXCELL, NOT REP...   35213   \n",
       "\n",
       "                   Organism                    Protein names  class  \n",
       "63055  Mus musculus (Mouse)  Titin (EC 2.7.11.1) (Connectin)      3  "
      ]
     },
     "execution_count": 70,
     "metadata": {},
     "output_type": "execute_result"
    }
   ],
   "source": [
    "#drop this row from the data frame\n",
    "final_df[final_df['Length']==35213]"
   ]
  },
  {
   "cell_type": "code",
   "execution_count": 71,
   "metadata": {},
   "outputs": [],
   "source": [
    "#drop row 63055\n",
    "final_df.drop(axis=0, index = 63055, inplace=True)"
   ]
  },
  {
   "cell_type": "code",
   "execution_count": 72,
   "metadata": {},
   "outputs": [
    {
     "data": {
      "text/plain": [
       "18562"
      ]
     },
     "execution_count": 72,
     "metadata": {},
     "output_type": "execute_result"
    }
   ],
   "source": [
    "#the max length is 18,562 -- case int32 to an int16 dtype to save memory (Int16 = -32768 to 32767)\n",
    "final_df['Length'].max()"
   ]
  },
  {
   "cell_type": "code",
   "execution_count": 73,
   "metadata": {},
   "outputs": [],
   "source": [
    "#cast both class and length numeric columns to int16\n",
    "final_df['Length'] = final_df['Length'].astype('int16')\n",
    "final_df['class'] = final_df['class'].astype('int16')"
   ]
  },
  {
   "cell_type": "code",
   "execution_count": 74,
   "metadata": {},
   "outputs": [
    {
     "data": {
      "text/plain": [
       "190.184898"
      ]
     },
     "execution_count": 74,
     "metadata": {},
     "output_type": "execute_result"
    }
   ],
   "source": [
    "#get the memory of the final dataframe in MBs\n",
    "final_df.memory_usage(deep=True).sum()/1_000_000"
   ]
  },
  {
   "cell_type": "code",
   "execution_count": 78,
   "metadata": {},
   "outputs": [
    {
     "name": "stdout",
     "output_type": "stream",
     "text": [
      "<class 'pandas.core.frame.DataFrame'>\n",
      "Int64Index: 130981 entries, 0 to 163627\n",
      "Data columns (total 6 columns):\n",
      " #   Column                              Non-Null Count   Dtype   \n",
      "---  ------                              --------------   -----   \n",
      " 0   Gene ontology (molecular function)  130981 non-null  category\n",
      " 1   Sequence                            130981 non-null  category\n",
      " 2   Length                              130981 non-null  int16   \n",
      " 3   Organism                            130981 non-null  category\n",
      " 4   Protein names                       130981 non-null  category\n",
      " 5   class                               130981 non-null  int16   \n",
      "dtypes: category(4), int16(2)\n",
      "memory usage: 20.6 MB\n"
     ]
    }
   ],
   "source": [
    "#the object types of the columns in the final dataframe\n",
    "final_df.info()"
   ]
  },
  {
   "cell_type": "code",
   "execution_count": 79,
   "metadata": {},
   "outputs": [],
   "source": [
    "#cast the columns from categories to objects to save space in memory\n",
    "columns = ['Gene ontology (molecular function)','Sequence', 'Organism', 'Protein names']\n",
    "for col in columns:\n",
    "    final_df[col] = final_df[col].astype('object')"
   ]
  },
  {
   "cell_type": "code",
   "execution_count": 85,
   "metadata": {},
   "outputs": [
    {
     "data": {
      "text/plain": [
       "118.351587"
      ]
     },
     "execution_count": 85,
     "metadata": {},
     "output_type": "execute_result"
    }
   ],
   "source": [
    "#get the final memory of the dataframe in MBs\n",
    "final_df.memory_usage(deep=True).sum()/1_000_000"
   ]
  },
  {
   "cell_type": "code",
   "execution_count": 86,
   "metadata": {},
   "outputs": [],
   "source": [
    "#save the file as a compressed pickle\n",
    "final_df.to_pickle('data/compressed-class-separated.pkl', compression = 'gzip', protocol = 4)"
   ]
  }
 ],
 "metadata": {
  "kernelspec": {
   "display_name": "Python 3",
   "language": "python",
   "name": "python3"
  },
  "language_info": {
   "codemirror_mode": {
    "name": "ipython",
    "version": 3
   },
   "file_extension": ".py",
   "mimetype": "text/x-python",
   "name": "python",
   "nbconvert_exporter": "python",
   "pygments_lexer": "ipython3",
   "version": "3.8.5"
  }
 },
 "nbformat": 4,
 "nbformat_minor": 4
}
