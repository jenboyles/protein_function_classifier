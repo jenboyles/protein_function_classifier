{
 "cells": [
  {
   "cell_type": "code",
   "execution_count": null,
   "metadata": {
    "id": "EVFzb6JAehAQ"
   },
   "outputs": [],
   "source": [
    "## NEW PYTHON CAPSTONE NOTEBOOK FOR GPU\n",
    "import pandas as pd\n",
    "import numpy as np\n",
    "import matplotlib.pyplot as plt\n",
    "import seaborn as sns\n",
    "from sklearn.model_selection import train_test_split\n",
    "from sklearn.metrics import f1_score, precision_score, recall_score, confusion_matrix, classification_report, balanced_accuracy_score\n",
    "\n",
    "#keras imports\n",
    "from tensorflow.keras.models import Sequential\n",
    "from tensorflow.keras.layers import SimpleRNN, LSTM, GRU, Dense, Embedding, Flatten, Bidirectional, Dropout\n",
    "from tensorflow.keras.preprocessing.text import Tokenizer\n",
    "from tensorflow.keras.preprocessing.sequence import pad_sequences\n",
    "from tensorflow.keras.metrics import Precision, Recall\n",
    "from tensorflow.keras.utils import to_categorical\n",
    "from tensorflow.keras.callbacks import EarlyStopping\n",
    "from sklearn.utils import class_weight\n",
    "\n",
    "#convolutional keras imports\n",
    "from tensorflow.keras.layers import Conv1D, MaxPooling1D, GlobalMaxPooling1D"
   ]
  },
  {
   "cell_type": "code",
   "execution_count": null,
   "metadata": {
    "colab": {
     "base_uri": "https://localhost:8080/",
     "height": 72,
     "resources": {
      "http://localhost:8080/nbextensions/google.colab/files.js": {
       "data": "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",
       "headers": [
        [
         "content-type",
         "application/javascript"
        ]
       ],
       "ok": true,
       "status": 200,
       "status_text": ""
      }
     }
    },
    "id": "Se3TSityeu4A",
    "outputId": "7af7f372-a113-47d2-e07e-ba086197521a"
   },
   "outputs": [
    {
     "data": {
      "text/html": [
       "\n",
       "     <input type=\"file\" id=\"files-865c7ffa-980a-4984-a8e2-18f409dc29b1\" name=\"files[]\" multiple disabled\n",
       "        style=\"border:none\" />\n",
       "     <output id=\"result-865c7ffa-980a-4984-a8e2-18f409dc29b1\">\n",
       "      Upload widget is only available when the cell has been executed in the\n",
       "      current browser session. Please rerun this cell to enable.\n",
       "      </output>\n",
       "      <script src=\"/nbextensions/google.colab/files.js\"></script> "
      ],
      "text/plain": [
       "<IPython.core.display.HTML object>"
      ]
     },
     "metadata": {
      "tags": []
     },
     "output_type": "display_data"
    },
    {
     "name": "stdout",
     "output_type": "stream",
     "text": [
      "Saving compressed-class-separated.pkl to compressed-class-separated.pkl\n"
     ]
    }
   ],
   "source": [
    "## uncomment this cell if using google colab\n",
    "##import the dataset to google colab\n",
    "\n",
    "#from google.colab import files\n",
    "#uploaded = files.upload()"
   ]
  },
  {
   "cell_type": "code",
   "execution_count": null,
   "metadata": {
    "colab": {
     "base_uri": "https://localhost:8080/",
     "height": 35
    },
    "id": "jIt5OEDCfMn8",
    "outputId": "2b3b4514-cfdd-45f4-a1d1-9954d7c150ed"
   },
   "outputs": [
    {
     "data": {
      "application/vnd.google.colaboratory.intrinsic+json": {
       "type": "string"
      },
      "text/plain": [
       "'/device:GPU:0'"
      ]
     },
     "execution_count": 3,
     "metadata": {
      "tags": []
     },
     "output_type": "execute_result"
    }
   ],
   "source": [
    "##uncomment if using google colab to check that gpu is enabled for modeling\n",
    "## used in google colab to see if a gpu is being used\n",
    "\n",
    "#import tensorflow as tf\n",
    "#tf.test.gpu_device_name()"
   ]
  },
  {
   "cell_type": "code",
   "execution_count": null,
   "metadata": {
    "colab": {
     "base_uri": "https://localhost:8080/",
     "height": 493
    },
    "id": "G7-Df8LcgyaZ",
    "outputId": "eb604e84-3c9a-4f76-cf4e-eec8d48fca3b"
   },
   "outputs": [
    {
     "data": {
      "text/html": [
       "<div>\n",
       "<style scoped>\n",
       "    .dataframe tbody tr th:only-of-type {\n",
       "        vertical-align: middle;\n",
       "    }\n",
       "\n",
       "    .dataframe tbody tr th {\n",
       "        vertical-align: top;\n",
       "    }\n",
       "\n",
       "    .dataframe thead th {\n",
       "        text-align: right;\n",
       "    }\n",
       "</style>\n",
       "<table border=\"1\" class=\"dataframe\">\n",
       "  <thead>\n",
       "    <tr style=\"text-align: right;\">\n",
       "      <th></th>\n",
       "      <th>Gene ontology (molecular function)</th>\n",
       "      <th>Sequence</th>\n",
       "      <th>Length</th>\n",
       "      <th>Organism</th>\n",
       "      <th>Protein names</th>\n",
       "      <th>class</th>\n",
       "    </tr>\n",
       "  </thead>\n",
       "  <tbody>\n",
       "    <tr>\n",
       "      <th>0</th>\n",
       "      <td>rRNA binding [GO:0019843]; structural constitu...</td>\n",
       "      <td>MNVILLDKIANLGSLGDQVSVKSGYARNFLFPQGKAVPATKSNVDL...</td>\n",
       "      <td>150</td>\n",
       "      <td>Idiomarina loihiensis (strain ATCC BAA-735 / D...</td>\n",
       "      <td>50S ribosomal protein L9</td>\n",
       "      <td>1</td>\n",
       "    </tr>\n",
       "    <tr>\n",
       "      <th>1</th>\n",
       "      <td>rRNA binding [GO:0019843]; structural constitu...</td>\n",
       "      <td>MQLYDFYKKNVLIKLKNKFNYKSIMQVPKIEKITLNMGVGKASFDK...</td>\n",
       "      <td>178</td>\n",
       "      <td>Wigglesworthia glossinidia brevipalpis</td>\n",
       "      <td>50S ribosomal protein L5</td>\n",
       "      <td>1</td>\n",
       "    </tr>\n",
       "    <tr>\n",
       "      <th>2</th>\n",
       "      <td>rRNA binding [GO:0019843]; structural constitu...</td>\n",
       "      <td>MELKLLNDQGQAASNVAAPDTIFGRDYNEALIHQVVVAYQANARSG...</td>\n",
       "      <td>206</td>\n",
       "      <td>Janthinobacterium sp. (strain Marseille) (Mini...</td>\n",
       "      <td>50S ribosomal protein L4</td>\n",
       "      <td>1</td>\n",
       "    </tr>\n",
       "    <tr>\n",
       "      <th>3</th>\n",
       "      <td>rRNA binding [GO:0019843]; structural constitu...</td>\n",
       "      <td>MNVILLDKIANLGNLGDQVAVKAGYARNYLLPQGKAVVANESNVKV...</td>\n",
       "      <td>150</td>\n",
       "      <td>Shewanella sp. (strain MR-7)</td>\n",
       "      <td>50S ribosomal protein L9</td>\n",
       "      <td>1</td>\n",
       "    </tr>\n",
       "    <tr>\n",
       "      <th>4</th>\n",
       "      <td>rRNA binding [GO:0019843]; structural constitu...</td>\n",
       "      <td>MSRVAKAPVNIPAGVEVKLDGQLLTVKGKNGELSRKIHESVEVKQD...</td>\n",
       "      <td>177</td>\n",
       "      <td>Haemophilus influenzae (strain PittGG)</td>\n",
       "      <td>50S ribosomal protein L6</td>\n",
       "      <td>1</td>\n",
       "    </tr>\n",
       "  </tbody>\n",
       "</table>\n",
       "</div>"
      ],
      "text/plain": [
       "                  Gene ontology (molecular function)  ... class\n",
       "0  rRNA binding [GO:0019843]; structural constitu...  ...     1\n",
       "1  rRNA binding [GO:0019843]; structural constitu...  ...     1\n",
       "2  rRNA binding [GO:0019843]; structural constitu...  ...     1\n",
       "3  rRNA binding [GO:0019843]; structural constitu...  ...     1\n",
       "4  rRNA binding [GO:0019843]; structural constitu...  ...     1\n",
       "\n",
       "[5 rows x 6 columns]"
      ]
     },
     "execution_count": 4,
     "metadata": {
      "tags": []
     },
     "output_type": "execute_result"
    }
   ],
   "source": [
    "##read in the pickle file from google colab\n",
    "#protein = pd.read_pickle('/content/compressed-class-separated.pkl', compression = 'gzip')\n",
    "#protein.head()"
   ]
  },
  {
   "cell_type": "code",
   "execution_count": null,
   "metadata": {},
   "outputs": [],
   "source": [
    "#reading in the pickle file in jupyter lab\n",
    "protein = pd.read_pickle('data/compressed-class-separated.pkl', compression = 'gzip')"
   ]
  },
  {
   "cell_type": "code",
   "execution_count": null,
   "metadata": {
    "colab": {
     "base_uri": "https://localhost:8080/",
     "height": 111
    },
    "id": "1pDrGIqug_XW",
    "outputId": "91b392a3-bf3f-41c6-e09c-0ede6b22508b"
   },
   "outputs": [
    {
     "data": {
      "text/html": [
       "<div>\n",
       "<style scoped>\n",
       "    .dataframe tbody tr th:only-of-type {\n",
       "        vertical-align: middle;\n",
       "    }\n",
       "\n",
       "    .dataframe tbody tr th {\n",
       "        vertical-align: top;\n",
       "    }\n",
       "\n",
       "    .dataframe thead th {\n",
       "        text-align: right;\n",
       "    }\n",
       "</style>\n",
       "<table border=\"1\" class=\"dataframe\">\n",
       "  <thead>\n",
       "    <tr style=\"text-align: right;\">\n",
       "      <th></th>\n",
       "      <th>Sequence</th>\n",
       "      <th>class</th>\n",
       "    </tr>\n",
       "  </thead>\n",
       "  <tbody>\n",
       "    <tr>\n",
       "      <th>0</th>\n",
       "      <td>MNVILLDKIANLGSLGDQVSVKSGYARNFLFPQGKAVPATKSNVDL...</td>\n",
       "      <td>1</td>\n",
       "    </tr>\n",
       "    <tr>\n",
       "      <th>1</th>\n",
       "      <td>MQLYDFYKKNVLIKLKNKFNYKSIMQVPKIEKITLNMGVGKASFDK...</td>\n",
       "      <td>1</td>\n",
       "    </tr>\n",
       "  </tbody>\n",
       "</table>\n",
       "</div>"
      ],
      "text/plain": [
       "                                            Sequence  class\n",
       "0  MNVILLDKIANLGSLGDQVSVKSGYARNFLFPQGKAVPATKSNVDL...      1\n",
       "1  MQLYDFYKKNVLIKLKNKFNYKSIMQVPKIEKITLNMGVGKASFDK...      1"
      ]
     },
     "execution_count": 5,
     "metadata": {
      "tags": []
     },
     "output_type": "execute_result"
    }
   ],
   "source": [
    "#drop the rows that aren't needed for modeling here\n",
    "#only want sequence and class values\n",
    "protein = protein.drop(columns = ['Gene ontology (molecular function)', 'Length', 'Organism', 'Protein names'])\n",
    "protein.head(2)"
   ]
  },
  {
   "cell_type": "code",
   "execution_count": null,
   "metadata": {
    "colab": {
     "base_uri": "https://localhost:8080/"
    },
    "id": "m_3ar-zKdqUL",
    "outputId": "b60f57b1-dace-409f-cbf4-921607650fb6"
   },
   "outputs": [
    {
     "data": {
      "text/plain": [
       "0"
      ]
     },
     "execution_count": 6,
     "metadata": {
      "tags": []
     },
     "output_type": "execute_result"
    }
   ],
   "source": [
    "#the amount of null values in the dataframe used for modeling\n",
    "protein['class'].isnull().sum()"
   ]
  },
  {
   "cell_type": "markdown",
   "metadata": {},
   "source": [
    "## Preprocessing the Data"
   ]
  },
  {
   "cell_type": "markdown",
   "metadata": {},
   "source": [
    "#### Function for Making Each Amino Acid Abbreviation a \"word\""
   ]
  },
  {
   "cell_type": "code",
   "execution_count": null,
   "metadata": {
    "id": "642nCzzrh9nh"
   },
   "outputs": [],
   "source": [
    "## make each single letter amino acid it's own \"word\" for tokenizing\n",
    "def make_words(sequence):\n",
    "    \n",
    "    \"\"\"\n",
    "    argument: amino acid sequence in single letter code/abbreviation\n",
    "    output: input amino acid sequence with spaces between each single letter code\n",
    "    \"\"\"\n",
    "    \n",
    "    \n",
    "    #instantiate empty string to concat amino acids to\n",
    "    space_seq = ''\n",
    "    \n",
    "    #for loop to loop over each amino acid in the sequence and add it into the \n",
    "    #string with a space afterwards\n",
    "    for char in sequence:\n",
    "        space_seq += char\n",
    "        space_seq += \" \"\n",
    "    #remove the space at end of the new string\n",
    "    return space_seq[:-1] "
   ]
  },
  {
   "cell_type": "code",
   "execution_count": null,
   "metadata": {
    "id": "BRcryZSWiBpr"
   },
   "outputs": [],
   "source": [
    "#apply the function to the sequence column of the dataframe\n",
    "protein['Sequence'] = protein['Sequence'].apply(lambda x: make_words(x))"
   ]
  },
  {
   "cell_type": "code",
   "execution_count": null,
   "metadata": {
    "colab": {
     "base_uri": "https://localhost:8080/",
     "height": 142
    },
    "id": "yMByOeGtiDvE",
    "outputId": "61125014-8eb2-4232-8feb-9fb2a4bbf338"
   },
   "outputs": [
    {
     "data": {
      "text/html": [
       "<div>\n",
       "<style scoped>\n",
       "    .dataframe tbody tr th:only-of-type {\n",
       "        vertical-align: middle;\n",
       "    }\n",
       "\n",
       "    .dataframe tbody tr th {\n",
       "        vertical-align: top;\n",
       "    }\n",
       "\n",
       "    .dataframe thead th {\n",
       "        text-align: right;\n",
       "    }\n",
       "</style>\n",
       "<table border=\"1\" class=\"dataframe\">\n",
       "  <thead>\n",
       "    <tr style=\"text-align: right;\">\n",
       "      <th></th>\n",
       "      <th>Sequence</th>\n",
       "      <th>class</th>\n",
       "    </tr>\n",
       "  </thead>\n",
       "  <tbody>\n",
       "    <tr>\n",
       "      <th>0</th>\n",
       "      <td>M N V I L L D K I A N L G S L G D Q V S V K S ...</td>\n",
       "      <td>1</td>\n",
       "    </tr>\n",
       "    <tr>\n",
       "      <th>1</th>\n",
       "      <td>M Q L Y D F Y K K N V L I K L K N K F N Y K S ...</td>\n",
       "      <td>1</td>\n",
       "    </tr>\n",
       "    <tr>\n",
       "      <th>2</th>\n",
       "      <td>M E L K L L N D Q G Q A A S N V A A P D T I F ...</td>\n",
       "      <td>1</td>\n",
       "    </tr>\n",
       "  </tbody>\n",
       "</table>\n",
       "</div>"
      ],
      "text/plain": [
       "                                            Sequence  class\n",
       "0  M N V I L L D K I A N L G S L G D Q V S V K S ...      1\n",
       "1  M Q L Y D F Y K K N V L I K L K N K F N Y K S ...      1\n",
       "2  M E L K L L N D Q G Q A A S N V A A P D T I F ...      1"
      ]
     },
     "execution_count": 11,
     "metadata": {
      "tags": []
     },
     "output_type": "execute_result"
    }
   ],
   "source": [
    "#more views to make sure application of make_words occurred correctly\n",
    "protein.head(3)"
   ]
  },
  {
   "cell_type": "markdown",
   "metadata": {},
   "source": [
    "#### Setting up X and Y for Training"
   ]
  },
  {
   "cell_type": "code",
   "execution_count": null,
   "metadata": {
    "id": "NuLw7zkniGmN"
   },
   "outputs": [],
   "source": [
    "#set up the X and y values for the recurrent neural net\n",
    "#X and y type is series\n",
    "X = protein['Sequence']\n",
    "y = protein['class']"
   ]
  },
  {
   "cell_type": "code",
   "execution_count": null,
   "metadata": {
    "id": "rjXkanUGiJTW"
   },
   "outputs": [],
   "source": [
    "#train/test split the data\n",
    "#stratify the split due to the unbalanced classes\n",
    "X_train, X_test, y_train, y_test = train_test_split(X,y, stratify=y, random_state = 18)"
   ]
  },
  {
   "cell_type": "code",
   "execution_count": null,
   "metadata": {
    "id": "Mu-BItH1iMuw"
   },
   "outputs": [],
   "source": [
    "#as there are only 21 \"words\"/1-letter amino acids we want to keep all of these\n",
    "#default tokenizer splits on a white space\n",
    "tokenizer = Tokenizer(21)"
   ]
  },
  {
   "cell_type": "code",
   "execution_count": null,
   "metadata": {
    "id": "x9ypOuHgiPqp"
   },
   "outputs": [],
   "source": [
    "#fit the tokenizer to the training data so it can learn the 21 \"words\"\n",
    "tokenizer.fit_on_texts(X_train)"
   ]
  },
  {
   "cell_type": "code",
   "execution_count": null,
   "metadata": {
    "id": "7pWC54OUiRjy"
   },
   "outputs": [],
   "source": [
    "#make the 21 \"words\" into sequences\n",
    "x_train = tokenizer.texts_to_sequences(X_train)\n",
    "x_test = tokenizer.texts_to_sequences(X_test)"
   ]
  },
  {
   "cell_type": "code",
   "execution_count": null,
   "metadata": {
    "id": "g-EoD-a3iT3L"
   },
   "outputs": [],
   "source": [
    "#to make the sequences all the same length pad the sequences shorter than max sequence length with zeros\n",
    "x_train = pad_sequences(x_train)\n",
    "x_test = pad_sequences(x_test)"
   ]
  },
  {
   "cell_type": "markdown",
   "metadata": {},
   "source": [
    "## Null Model "
   ]
  },
  {
   "cell_type": "markdown",
   "metadata": {},
   "source": [
    "Before doing necessary categorization of the target values, which is required by keras neural networks, to obtain a correct input shape we should create the null model with the uncategorized target data."
   ]
  },
  {
   "cell_type": "code",
   "execution_count": null,
   "metadata": {
    "colab": {
     "base_uri": "https://localhost:8080/"
    },
    "id": "231gzs-7yVab",
    "outputId": "122636f0-9be1-4046-ef1a-ee1043e10807"
   },
   "outputs": [
    {
     "data": {
      "text/plain": [
       "3    0.493867\n",
       "2    0.189210\n",
       "1    0.153112\n",
       "8    0.051204\n",
       "5    0.043874\n",
       "6    0.032382\n",
       "7    0.024787\n",
       "4    0.011564\n",
       "Name: class, dtype: float64"
      ]
     },
     "execution_count": 18,
     "metadata": {
      "tags": []
     },
     "output_type": "execute_result"
    }
   ],
   "source": [
    "#creating the null model\n",
    "y_train.value_counts(normalize = True)"
   ]
  },
  {
   "cell_type": "markdown",
   "metadata": {
    "id": "-U6qOJQ2yWjj"
   },
   "source": [
    "### Null Model Explanation"
   ]
  },
  {
   "cell_type": "markdown",
   "metadata": {},
   "source": [
    "The null model allows us to find a 'starting point' to compare the performance of future models to. In a classification, the customary null model is one that will guess the most frequently occuring class in the training set. The code above returns the percent of class breakdown within the training data. With the random state of the train/test split set, this accuracy should not change with future restarts of the kernel. The most frequent class is that of Class 3: ATP Binding. \n",
    "\n",
    "There is a 49.4% accuracy if you were to predict ATP Binding for every observation in the data. In the subsequent iterations of machine learning models, we will attempt to perform better than the null model."
   ]
  },
  {
   "cell_type": "markdown",
   "metadata": {},
   "source": [
    "#### Categorize Class Values for Neural Network "
   ]
  },
  {
   "cell_type": "code",
   "execution_count": null,
   "metadata": {
    "id": "hrMJgb-SiUAr"
   },
   "outputs": [],
   "source": [
    "#make the y categorical\n",
    "y_train = pd.get_dummies(y_train).values\n",
    "y_test = pd.get_dummies(y_test).values"
   ]
  },
  {
   "cell_type": "code",
   "execution_count": null,
   "metadata": {
    "colab": {
     "base_uri": "https://localhost:8080/"
    },
    "id": "goDzatnViUE7",
    "outputId": "644041ce-663a-46a1-e2d3-b979d1d93985"
   },
   "outputs": [
    {
     "name": "stdout",
     "output_type": "stream",
     "text": [
      "The shape of x train is: (98235, 18466).\n",
      "The shape of x test is: (32746, 7862).\n",
      "The shape of y train is: (98235, 8).\n",
      "The shape of y test is: (32746, 8).\n"
     ]
    }
   ],
   "source": [
    "#print the shapes of the training and testing data\n",
    "print(f'The shape of x train is: {x_train.shape}.')\n",
    "print(f'The shape of x test is: {x_test.shape}.')\n",
    "print(f'The shape of y train is: {y_train.shape}.')\n",
    "print(f'The shape of y test is: {y_test.shape}.')"
   ]
  },
  {
   "cell_type": "markdown",
   "metadata": {
    "id": "U16lRetMixcE"
   },
   "source": [
    "## Recurrent Neural Network 1 - Basic Model"
   ]
  },
  {
   "cell_type": "code",
   "execution_count": null,
   "metadata": {
    "id": "LiX3pulQi3G6"
   },
   "outputs": [],
   "source": [
    "#creating the rnn architecture\n",
    "model = Sequential()\n",
    "\n",
    "model.add(Embedding(input_dim = tokenizer.num_words,output_dim = 64, input_length = x_train.shape[1]))\n",
    "\n",
    "model.add(GRU(16)) #node that addresses potnetial vanishing gradient\n",
    "model.add(Dense(20, activation = 'relu'))\n",
    "model.add(Dense(8, activation = 'softmax'))\n",
    "\n",
    "#create earlystop\n",
    "early_stop = EarlyStopping(monitor = 'val_loss', patience = 3)\n",
    "\n",
    "#compile the model\n",
    "model.compile(optimizer = 'adam', metrics = ['acc', 'Recall', 'Precision'], loss = 'categorical_crossentropy')"
   ]
  },
  {
   "cell_type": "code",
   "execution_count": null,
   "metadata": {
    "colab": {
     "base_uri": "https://localhost:8080/"
    },
    "id": "ieLa7TvcjHdJ",
    "outputId": "e7078966-0516-42b1-b4c9-6c86bd34f470"
   },
   "outputs": [
    {
     "name": "stdout",
     "output_type": "stream",
     "text": [
      "Epoch 1/20\n",
      "384/384 [==============================] - ETA: 0s - loss: 1.5917 - acc: 0.5016 - recall: 0.2239 - precision: 0.4937WARNING:tensorflow:Model was constructed with shape (None, 18466) for input KerasTensor(type_spec=TensorSpec(shape=(None, 18466), dtype=tf.float32, name='embedding_10_input'), name='embedding_10_input', description=\"created by layer 'embedding_10_input'\"), but it was called on an input with incompatible shape (None, 7862).\n",
      "384/384 [==============================] - 416s 1s/step - loss: 1.5912 - acc: 0.5017 - recall: 0.2243 - precision: 0.4939 - val_loss: 0.9840 - val_acc: 0.6695 - val_recall: 0.6413 - val_precision: 0.7104\n",
      "Epoch 2/20\n",
      "384/384 [==============================] - 414s 1s/step - loss: 0.9402 - acc: 0.6779 - recall: 0.6317 - precision: 0.7229 - val_loss: 0.8757 - val_acc: 0.7029 - val_recall: 0.6456 - val_precision: 0.7363\n",
      "Epoch 3/20\n",
      "384/384 [==============================] - 414s 1s/step - loss: 0.8582 - acc: 0.7045 - recall: 0.6545 - precision: 0.7389 - val_loss: 0.8190 - val_acc: 0.7139 - val_recall: 0.6714 - val_precision: 0.7433\n",
      "Epoch 4/20\n",
      "384/384 [==============================] - 414s 1s/step - loss: 0.8125 - acc: 0.7151 - recall: 0.6759 - precision: 0.7456 - val_loss: 0.7759 - val_acc: 0.7278 - val_recall: 0.6895 - val_precision: 0.7567\n",
      "Epoch 5/20\n",
      "384/384 [==============================] - 421s 1s/step - loss: 0.7748 - acc: 0.7278 - recall: 0.6870 - precision: 0.7581 - val_loss: 0.7508 - val_acc: 0.7358 - val_recall: 0.7016 - val_precision: 0.7620\n",
      "Epoch 6/20\n",
      "384/384 [==============================] - 438s 1s/step - loss: 0.7467 - acc: 0.7399 - recall: 0.7046 - precision: 0.7682 - val_loss: 0.7363 - val_acc: 0.7399 - val_recall: 0.7112 - val_precision: 0.7655\n",
      "Epoch 7/20\n",
      "384/384 [==============================] - 441s 1s/step - loss: 0.7248 - acc: 0.7471 - recall: 0.7137 - precision: 0.7747 - val_loss: 0.7022 - val_acc: 0.7537 - val_recall: 0.7189 - val_precision: 0.7820\n",
      "Epoch 8/20\n",
      "384/384 [==============================] - 440s 1s/step - loss: 0.6983 - acc: 0.7563 - recall: 0.7233 - precision: 0.7813 - val_loss: 0.6868 - val_acc: 0.7609 - val_recall: 0.7284 - val_precision: 0.7862\n",
      "Epoch 9/20\n",
      "384/384 [==============================] - 439s 1s/step - loss: 0.6789 - acc: 0.7618 - recall: 0.7319 - precision: 0.7880 - val_loss: 0.6519 - val_acc: 0.7654 - val_recall: 0.7354 - val_precision: 0.7915\n",
      "Epoch 10/20\n",
      "384/384 [==============================] - 438s 1s/step - loss: 0.6507 - acc: 0.7653 - recall: 0.7348 - precision: 0.7924 - val_loss: 0.6351 - val_acc: 0.7711 - val_recall: 0.7382 - val_precision: 0.7971\n",
      "Epoch 11/20\n",
      "384/384 [==============================] - 438s 1s/step - loss: 0.6283 - acc: 0.7747 - recall: 0.7436 - precision: 0.7990 - val_loss: 0.6138 - val_acc: 0.7776 - val_recall: 0.7496 - val_precision: 0.8039\n",
      "Epoch 12/20\n",
      "384/384 [==============================] - 439s 1s/step - loss: 0.6080 - acc: 0.7813 - recall: 0.7539 - precision: 0.8060 - val_loss: 0.6022 - val_acc: 0.7820 - val_recall: 0.7536 - val_precision: 0.8066\n",
      "Epoch 13/20\n",
      "384/384 [==============================] - 439s 1s/step - loss: 0.5957 - acc: 0.7850 - recall: 0.7575 - precision: 0.8094 - val_loss: 0.5883 - val_acc: 0.7865 - val_recall: 0.7613 - val_precision: 0.8098\n",
      "Epoch 14/20\n",
      "384/384 [==============================] - 438s 1s/step - loss: 0.5749 - acc: 0.7925 - recall: 0.7659 - precision: 0.8157 - val_loss: 0.5799 - val_acc: 0.7883 - val_recall: 0.7637 - val_precision: 0.8108\n",
      "Epoch 15/20\n",
      "384/384 [==============================] - 438s 1s/step - loss: 0.5690 - acc: 0.7946 - recall: 0.7695 - precision: 0.8188 - val_loss: 0.5654 - val_acc: 0.7992 - val_recall: 0.7752 - val_precision: 0.8199\n",
      "Epoch 16/20\n",
      "384/384 [==============================] - 439s 1s/step - loss: 0.5535 - acc: 0.8042 - recall: 0.7786 - precision: 0.8259 - val_loss: 0.5608 - val_acc: 0.8006 - val_recall: 0.7800 - val_precision: 0.8195\n",
      "Epoch 17/20\n",
      "384/384 [==============================] - 438s 1s/step - loss: 0.5441 - acc: 0.8088 - recall: 0.7841 - precision: 0.8302 - val_loss: 0.5463 - val_acc: 0.8072 - val_recall: 0.7832 - val_precision: 0.8284\n",
      "Epoch 18/20\n",
      "384/384 [==============================] - 438s 1s/step - loss: 0.5373 - acc: 0.8105 - recall: 0.7860 - precision: 0.8318 - val_loss: 0.5383 - val_acc: 0.8111 - val_recall: 0.7869 - val_precision: 0.8315\n",
      "Epoch 19/20\n",
      "384/384 [==============================] - 438s 1s/step - loss: 0.5201 - acc: 0.8169 - recall: 0.7940 - precision: 0.8380 - val_loss: 0.5327 - val_acc: 0.8149 - val_recall: 0.7897 - val_precision: 0.8349\n",
      "Epoch 20/20\n",
      "384/384 [==============================] - 438s 1s/step - loss: 0.5184 - acc: 0.8184 - recall: 0.7966 - precision: 0.8390 - val_loss: 0.5229 - val_acc: 0.8189 - val_recall: 0.7930 - val_precision: 0.8392\n"
     ]
    }
   ],
   "source": [
    "#fit the recurrent neural net to the data\n",
    "history = model.fit(x_train,y_train,\n",
    "                   validation_data = (x_test,y_test),\n",
    "                    epochs=20,\n",
    "                   batch_size = 256,\n",
    "                    callbacks = [early_stop])"
   ]
  },
  {
   "cell_type": "code",
   "execution_count": null,
   "metadata": {
    "colab": {
     "base_uri": "https://localhost:8080/"
    },
    "id": "8xst7BbhjJ8y",
    "outputId": "154f14da-8436-451b-ff60-c44f575c3fb6"
   },
   "outputs": [
    {
     "name": "stdout",
     "output_type": "stream",
     "text": [
      "1024/1024 [==============================] - 115s 112ms/step - loss: 0.5229 - acc: 0.8189 - recall: 0.7930 - precision: 0.8392\n"
     ]
    },
    {
     "data": {
      "text/plain": [
       "[0.522912859916687, 0.8189091682434082, 0.7930434346199036, 0.8391985893249512]"
      ]
     },
     "execution_count": 115,
     "metadata": {
      "tags": []
     },
     "output_type": "execute_result"
    }
   ],
   "source": [
    "#get the final model evaluations\n",
    "model.evaluate(x_test,y_test)"
   ]
  },
  {
   "cell_type": "markdown",
   "metadata": {},
   "source": [
    "### Model Interpretation"
   ]
  },
  {
   "cell_type": "markdown",
   "metadata": {},
   "source": [
    "The above model is a basic recurrent neural network, a base for other models to be built on. It contains an embedding layer, a GRU layer - used to keep from vanishing or exploding gradients from occurring during back propagation - and a single hidden layer of 20 nodes. The above model trained across 20 epochs and achieved an accuracy score of about 83%, which is better than the null model. Calculated in the cells below, the balanced accuracy score of the model is 80% and the f1-score is 90%."
   ]
  },
  {
   "cell_type": "code",
   "execution_count": null,
   "metadata": {
    "id": "hEL-xnq2f8lp"
   },
   "outputs": [],
   "source": [
    "#reverse the to_categorical of y_test to make classes for confusion matrix\n",
    "#cast the list to a numpy array\n",
    "y_test_uncategory = [np.argmax(y, axis=None, out=None) for y in y_test]\n",
    "y_test_uncategory = np.asarray(y_test_uncategory)\n",
    "\n",
    "#make predictions\n",
    "preds = model_conv.predict(x_test)\n",
    "preds = np.argmax(preds, axis=1)"
   ]
  },
  {
   "cell_type": "code",
   "execution_count": null,
   "metadata": {
    "colab": {
     "base_uri": "https://localhost:8080/"
    },
    "id": "a8AXcTE8f8uE",
    "outputId": "8e87c0f1-c5b3-473a-81a1-e39b127ffefc"
   },
   "outputs": [
    {
     "data": {
      "text/plain": [
       "0.7997841628469498"
      ]
     },
     "execution_count": 117,
     "metadata": {
      "tags": []
     },
     "output_type": "execute_result"
    }
   ],
   "source": [
    "#get the balanced accuracy score\n",
    "balanced_accuracy_score(y_test_uncategory, preds)"
   ]
  },
  {
   "cell_type": "code",
   "execution_count": null,
   "metadata": {
    "colab": {
     "base_uri": "https://localhost:8080/"
    },
    "id": "lFWN-w_-f81p",
    "outputId": "dcddc7d1-9bb7-41ca-a20b-e8ac91273f61"
   },
   "outputs": [
    {
     "data": {
      "text/plain": [
       "0.8966655554431031"
      ]
     },
     "execution_count": 118,
     "metadata": {
      "tags": []
     },
     "output_type": "execute_result"
    }
   ],
   "source": [
    "#get the f1-score\n",
    "f1_score(y_test_uncategory, preds, average = 'weighted')"
   ]
  },
  {
   "cell_type": "code",
   "execution_count": null,
   "metadata": {
    "colab": {
     "base_uri": "https://localhost:8080/",
     "height": 404
    },
    "id": "L2nIeGQoIC-F",
    "outputId": "c860ceef-bac8-4e52-c0b5-dd3e8a0a3a83"
   },
   "outputs": [
    {
     "data": {
      "image/png": "[encoded data removed]",
      "text/plain": [
       "<Figure size 720x432 with 1 Axes>"
      ]
     },
     "metadata": {
      "needs_background": "light",
      "tags": []
     },
     "output_type": "display_data"
    }
   ],
   "source": [
    "#plot the graphs of the accuracy\n",
    "plt.figure(figsize=(10,6))\n",
    "plt.plot(history.history['acc'], label = 'Training Accuracy', color = '#FA8072')\n",
    "plt.plot(history.history['val_acc'], label = 'Validation Accuracy', color = '#6A5ACD')\n",
    "plt.ylabel('Accuracy Score')\n",
    "plt.xlabel('Epochs')\n",
    "plt.title('Training and Validation Accuracy')\n",
    "plt.legend();"
   ]
  },
  {
   "cell_type": "markdown",
   "metadata": {},
   "source": [
    "### Visualization Interpretation\n",
    "\n",
    "The visualization above shows both the training and testing/validation accuracy. In this model, the validation data is the testing or holdout data. Therefore, in the graph we are comparing the testing accuracy to the traning accuracy. In the visualization we can see that the training accuracy continues to increase steadily across the 20 epochs run. The testing accuracy closely follows the training acccuracy and reaches about .83 in this model iteration. "
   ]
  },
  {
   "cell_type": "markdown",
   "metadata": {
    "id": "n_LmCL_4Y2ME"
   },
   "source": [
    "## Reccurent Neural Network 2 - Adding Birdirectionality to the Model"
   ]
  },
  {
   "cell_type": "code",
   "execution_count": null,
   "metadata": {
    "id": "QJTa_aptHyh_"
   },
   "outputs": [],
   "source": [
    "#recurrent neural net 2 -- bidirectional\n",
    "#create the new model\n",
    "model_bi = Sequential()\n",
    "\n",
    "model_bi.add(Embedding(input_dim = tokenizer.num_words, output_dim = 64, input_length = x_train.shape[1]))\n",
    "\n",
    "#add the bidirectional layer and recurrent layer\n",
    "model_bi.add(Bidirectional(GRU(16)))\n",
    "model_bi.add(Dense(20,activation = 'relu'))\n",
    "model_bi.add(Dense(8, activation = 'softmax'))\n",
    "\n",
    "#create earlystop\n",
    "early_stop = EarlyStopping(monitor = 'val_loss', patience = 3)\n",
    "\n",
    "#compile the model\n",
    "model_bi.compile(optimizer = 'adam', loss = 'categorical_crossentropy', metrics = ['acc', 'Recall', 'Precision'])"
   ]
  },
  {
   "cell_type": "code",
   "execution_count": null,
   "metadata": {
    "colab": {
     "base_uri": "https://localhost:8080/"
    },
    "id": "4ssGi1DAH9Jr",
    "outputId": "e4201c20-f7bd-4464-ded8-af7ae9d2fa52"
   },
   "outputs": [
    {
     "name": "stdout",
     "output_type": "stream",
     "text": [
      "Epoch 1/20\n",
      "384/384 [==============================] - ETA: 0s - loss: 1.6410 - acc: 0.4568 - recall: 0.1483 - precision: 0.4547WARNING:tensorflow:Model was constructed with shape (None, 18466) for input KerasTensor(type_spec=TensorSpec(shape=(None, 18466), dtype=tf.float32, name='embedding_1_input'), name='embedding_1_input', description=\"created by layer 'embedding_1_input'\"), but it was called on an input with incompatible shape (None, 7862).\n",
      "384/384 [==============================] - 579s 1s/step - loss: 1.6403 - acc: 0.4570 - recall: 0.1488 - precision: 0.4551 - val_loss: 0.9835 - val_acc: 0.6719 - val_recall: 0.6349 - val_precision: 0.7137\n",
      "Epoch 2/20\n",
      "384/384 [==============================] - 578s 2s/step - loss: 0.9452 - acc: 0.6813 - recall: 0.6293 - precision: 0.7221 - val_loss: 0.8670 - val_acc: 0.7058 - val_recall: 0.6524 - val_precision: 0.7401\n",
      "Epoch 3/20\n",
      "384/384 [==============================] - 577s 2s/step - loss: 0.8598 - acc: 0.7045 - recall: 0.6517 - precision: 0.7402 - val_loss: 0.8247 - val_acc: 0.7109 - val_recall: 0.6720 - val_precision: 0.7415\n",
      "Epoch 4/20\n",
      "384/384 [==============================] - 590s 2s/step - loss: 0.8126 - acc: 0.7140 - recall: 0.6731 - precision: 0.7445 - val_loss: 0.8011 - val_acc: 0.7132 - val_recall: 0.6707 - val_precision: 0.7458\n",
      "Epoch 5/20\n",
      "384/384 [==============================] - 593s 2s/step - loss: 0.7898 - acc: 0.7177 - recall: 0.6800 - precision: 0.7470 - val_loss: 0.7788 - val_acc: 0.7220 - val_recall: 0.6865 - val_precision: 0.7516\n",
      "Epoch 6/20\n",
      "384/384 [==============================] - 593s 2s/step - loss: 0.7665 - acc: 0.7268 - recall: 0.6882 - precision: 0.7568 - val_loss: 0.7500 - val_acc: 0.7361 - val_recall: 0.7000 - val_precision: 0.7639\n",
      "Epoch 7/20\n",
      "384/384 [==============================] - 592s 2s/step - loss: 0.7421 - acc: 0.7337 - recall: 0.6957 - precision: 0.7631 - val_loss: 0.7408 - val_acc: 0.7329 - val_recall: 0.7066 - val_precision: 0.7576\n",
      "Epoch 8/20\n",
      "384/384 [==============================] - 592s 2s/step - loss: 0.7176 - acc: 0.7453 - recall: 0.7094 - precision: 0.7733 - val_loss: 0.7073 - val_acc: 0.7502 - val_recall: 0.7247 - val_precision: 0.7738\n",
      "Epoch 9/20\n",
      "384/384 [==============================] - 595s 2s/step - loss: 0.6978 - acc: 0.7544 - recall: 0.7204 - precision: 0.7791 - val_loss: 0.6841 - val_acc: 0.7588 - val_recall: 0.7276 - val_precision: 0.7831\n",
      "Epoch 10/20\n",
      "384/384 [==============================] - 593s 2s/step - loss: 0.6719 - acc: 0.7638 - recall: 0.7314 - precision: 0.7871 - val_loss: 0.6671 - val_acc: 0.7614 - val_recall: 0.7341 - val_precision: 0.7863\n",
      "Epoch 11/20\n",
      "384/384 [==============================] - 588s 2s/step - loss: 0.6568 - acc: 0.7669 - recall: 0.7362 - precision: 0.7924 - val_loss: 0.6568 - val_acc: 0.7669 - val_recall: 0.7323 - val_precision: 0.7930\n",
      "Epoch 12/20\n",
      "384/384 [==============================] - 590s 2s/step - loss: 0.6441 - acc: 0.7710 - recall: 0.7396 - precision: 0.7949 - val_loss: 0.6455 - val_acc: 0.7686 - val_recall: 0.7361 - val_precision: 0.7962\n",
      "Epoch 13/20\n",
      "384/384 [==============================] - 594s 2s/step - loss: 0.6302 - acc: 0.7745 - recall: 0.7447 - precision: 0.7989 - val_loss: 0.6386 - val_acc: 0.7723 - val_recall: 0.7480 - val_precision: 0.7927\n",
      "Epoch 14/20\n",
      "384/384 [==============================] - 591s 2s/step - loss: 0.6139 - acc: 0.7826 - recall: 0.7548 - precision: 0.8053 - val_loss: 0.6234 - val_acc: 0.7804 - val_recall: 0.7487 - val_precision: 0.8041\n",
      "Epoch 15/20\n",
      "384/384 [==============================] - 592s 2s/step - loss: 0.5980 - acc: 0.7892 - recall: 0.7622 - precision: 0.8108 - val_loss: 0.6019 - val_acc: 0.7871 - val_recall: 0.7608 - val_precision: 0.8082\n",
      "Epoch 16/20\n",
      "384/384 [==============================] - 592s 2s/step - loss: 0.5853 - acc: 0.7945 - recall: 0.7679 - precision: 0.8149 - val_loss: 0.5882 - val_acc: 0.7946 - val_recall: 0.7712 - val_precision: 0.8154\n",
      "Epoch 17/20\n",
      "384/384 [==============================] - 592s 2s/step - loss: 0.5777 - acc: 0.7966 - recall: 0.7719 - precision: 0.8172 - val_loss: 0.5884 - val_acc: 0.7931 - val_recall: 0.7702 - val_precision: 0.8123\n",
      "Epoch 18/20\n",
      "384/384 [==============================] - 595s 2s/step - loss: 0.5671 - acc: 0.8015 - recall: 0.7771 - precision: 0.8213 - val_loss: 0.5752 - val_acc: 0.8016 - val_recall: 0.7739 - val_precision: 0.8218\n",
      "Epoch 19/20\n",
      "384/384 [==============================] - 590s 2s/step - loss: 0.5576 - acc: 0.8032 - recall: 0.7799 - precision: 0.8237 - val_loss: 0.5600 - val_acc: 0.8062 - val_recall: 0.7802 - val_precision: 0.8249\n",
      "Epoch 20/20\n",
      "384/384 [==============================] - 586s 2s/step - loss: 0.5570 - acc: 0.8048 - recall: 0.7819 - precision: 0.8245 - val_loss: 0.5706 - val_acc: 0.7999 - val_recall: 0.7719 - val_precision: 0.8239\n"
     ]
    }
   ],
   "source": [
    "#fit the model\n",
    "history_bi = model_bi.fit(x_train, y_train,\n",
    "                         validation_data = (x_test,y_test),\n",
    "                         epochs = 20,\n",
    "                         batch_size = 256,\n",
    "                          callbacks = [early_stop])"
   ]
  },
  {
   "cell_type": "code",
   "execution_count": null,
   "metadata": {
    "colab": {
     "base_uri": "https://localhost:8080/"
    },
    "id": "zJKeB8BhZOEf",
    "outputId": "50bbb689-3099-475b-d7f5-1281f58e12dd"
   },
   "outputs": [
    {
     "name": "stdout",
     "output_type": "stream",
     "text": [
      "1024/1024 [==============================] - 193s 189ms/step - loss: 0.5706 - acc: 0.7999 - recall: 0.7719 - precision: 0.8239\n"
     ]
    },
    {
     "data": {
      "text/plain": [
       "[0.5705799460411072, 0.799945056438446, 0.771941602230072, 0.8238975405693054]"
      ]
     },
     "execution_count": 25,
     "metadata": {
      "tags": []
     },
     "output_type": "execute_result"
    }
   ],
   "source": [
    "#evaluate the bidirectional model on the testing data\n",
    "model_bi.evaluate(x_test,y_test)"
   ]
  },
  {
   "cell_type": "markdown",
   "metadata": {},
   "source": [
    "### Model Interpretation"
   ]
  },
  {
   "cell_type": "markdown",
   "metadata": {},
   "source": [
    "In Model 2, bidirectionality was added to the recurrent layer of the neural network. Amino acid sequence has both an N-terminus and a C-terminus, therefore I thought it might be beneficial for the sequence to be read bidirectionally. None of the other layers or nodes were changed from Model 1, to see how introducing bidirectionality effected the accuracy of the model. In this model, trained across 20 epochs the balanced accuracy score was approximately 64%, while the f1-score was approximately 80%. These evaluation metrics are calculated in the cells below."
   ]
  },
  {
   "cell_type": "code",
   "execution_count": null,
   "metadata": {
    "colab": {
     "base_uri": "https://localhost:8080/"
    },
    "id": "UExt8FppCNhH",
    "outputId": "d2bc2b82-878d-47fc-c0d1-b5f8a70afe9e"
   },
   "outputs": [
    {
     "name": "stdout",
     "output_type": "stream",
     "text": [
      "WARNING:tensorflow:Model was constructed with shape (None, 18466) for input KerasTensor(type_spec=TensorSpec(shape=(None, 18466), dtype=tf.float32, name='embedding_1_input'), name='embedding_1_input', description=\"created by layer 'embedding_1_input'\"), but it was called on an input with incompatible shape (None, 7862).\n"
     ]
    }
   ],
   "source": [
    "#reverse the to_categorical of y_test to make classes for confusion matrix\n",
    "#cast the list to a numpy array\n",
    "y_test_uncategory = [np.argmax(y, axis=None, out=None) for y in y_test]\n",
    "y_test_uncategory = np.asarray(y_test_uncategory)\n",
    "\n",
    "#make predictions\n",
    "preds = model_bi.predict(x_test)\n",
    "preds = np.argmax(preds, axis=1)"
   ]
  },
  {
   "cell_type": "code",
   "execution_count": null,
   "metadata": {
    "colab": {
     "base_uri": "https://localhost:8080/"
    },
    "id": "DUhoe1jXCNoU",
    "outputId": "f57182c9-731f-4bd9-a8d7-64081d978f51"
   },
   "outputs": [
    {
     "data": {
      "text/plain": [
       "0.6390684410418265"
      ]
     },
     "execution_count": 28,
     "metadata": {
      "tags": []
     },
     "output_type": "execute_result"
    }
   ],
   "source": [
    "#get the balanced accuracy score\n",
    "balanced_accuracy_score(y_test_uncategory, preds)"
   ]
  },
  {
   "cell_type": "code",
   "execution_count": null,
   "metadata": {
    "colab": {
     "base_uri": "https://localhost:8080/"
    },
    "id": "Z2wUv2e9CNup",
    "outputId": "cd5d6ec5-5463-4b64-d517-4d7d24f18499"
   },
   "outputs": [
    {
     "data": {
      "text/plain": [
       "0.7902767361473799"
      ]
     },
     "execution_count": 29,
     "metadata": {
      "tags": []
     },
     "output_type": "execute_result"
    }
   ],
   "source": [
    "#get the f1-score\n",
    "f1_score(y_test_uncategory, preds, average = 'weighted')"
   ]
  },
  {
   "cell_type": "code",
   "execution_count": null,
   "metadata": {
    "colab": {
     "base_uri": "https://localhost:8080/",
     "height": 404
    },
    "id": "tjizX3NbFhLi",
    "outputId": "d5ebe9c3-b10c-429d-94f8-73377d761d5e"
   },
   "outputs": [
    {
     "data": {
      "image/png": "[encoded data removed]",
      "text/plain": [
       "<Figure size 720x432 with 1 Axes>"
      ]
     },
     "metadata": {
      "needs_background": "light",
      "tags": []
     },
     "output_type": "display_data"
    }
   ],
   "source": [
    "#plot the graphs of the accuracy for the bidirectional model\n",
    "plt.figure(figsize=(10,6))\n",
    "plt.plot(history_bi.history['acc'], label = 'Training Accuracy', color = '#FA8072')\n",
    "plt.plot(history_bi.history['val_acc'], label = 'Validation Accuracy', color = '#6A5ACD')\n",
    "plt.ylabel('Accuracy Score')\n",
    "plt.xlabel('Epochs')\n",
    "plt.title('Training and Validation Accuracy')\n",
    "plt.legend();"
   ]
  },
  {
   "cell_type": "markdown",
   "metadata": {},
   "source": [
    "### Visualization Interpretation"
   ]
  },
  {
   "cell_type": "markdown",
   "metadata": {},
   "source": [
    "The visualization above shows the training and testing/validation accuracy over the course of neural network training. The training and testing accuracies follow a very similar path as it trains over 20 epochs. The testing/holdout data of the model has a final accuracy of about 80%. "
   ]
  },
  {
   "cell_type": "markdown",
   "metadata": {
    "id": "IwpNXHU-F36w"
   },
   "source": [
    "## Recurrent Neural Network 3 - Convolutional Feature Extraction Layer"
   ]
  },
  {
   "cell_type": "code",
   "execution_count": null,
   "metadata": {
    "id": "YyXLdbRHF9l6"
   },
   "outputs": [],
   "source": [
    "#create the new model architecture for convolution\n",
    "model_conv = Sequential()\n",
    "\n",
    "model_conv.add(Embedding(input_dim = tokenizer.num_words, output_dim = 64, input_length = x_train.shape[1]))\n",
    "\n",
    "#add the convolutional layer\n",
    "model_conv.add(Conv1D(64,6, activation = 'relu'))\n",
    "model_conv.add(MaxPooling1D(3))\n",
    "model_conv.add(Bidirectional(GRU(16)))\n",
    "model_conv.add(Dense(20, activation = 'relu'))\n",
    "model_conv.add(Dense(8, activation = 'softmax'))\n",
    "\n",
    "\n",
    "#early stop creation\n",
    "early_stop = EarlyStopping(patience = 3)\n",
    "\n",
    "#compile the model\n",
    "model_conv.compile(optimizer = 'adam', loss = 'categorical_crossentropy', metrics = ['acc', 'Precision', 'Recall'])"
   ]
  },
  {
   "cell_type": "code",
   "execution_count": null,
   "metadata": {
    "colab": {
     "base_uri": "https://localhost:8080/"
    },
    "id": "xELVGOSiW8Y4",
    "outputId": "d2369ee1-afb5-4c2e-a17b-cecb9fe00403"
   },
   "outputs": [
    {
     "name": "stdout",
     "output_type": "stream",
     "text": [
      "Epoch 1/40\n",
      "384/384 [==============================] - ETA: 0s - loss: 1.4216 - acc: 0.5470 - precision: 0.5733 - recall: 0.3177WARNING:tensorflow:Model was constructed with shape (None, 18466) for input KerasTensor(type_spec=TensorSpec(shape=(None, 18466), dtype=tf.float32, name='embedding_2_input'), name='embedding_2_input', description=\"created by layer 'embedding_2_input'\"), but it was called on an input with incompatible shape (None, 7862).\n",
      "384/384 [==============================] - 366s 944ms/step - loss: 1.4209 - acc: 0.5472 - precision: 0.5736 - recall: 0.3181 - val_loss: 0.8549 - val_acc: 0.7092 - val_precision: 0.7456 - val_recall: 0.6504\n",
      "Epoch 2/40\n",
      "384/384 [==============================] - 370s 964ms/step - loss: 0.7969 - acc: 0.7230 - precision: 0.7675 - recall: 0.6639 - val_loss: 0.7071 - val_acc: 0.7489 - val_precision: 0.7912 - val_recall: 0.7022\n",
      "Epoch 3/40\n",
      "384/384 [==============================] - 378s 984ms/step - loss: 0.6454 - acc: 0.7729 - precision: 0.8128 - recall: 0.7238 - val_loss: 0.6269 - val_acc: 0.7870 - val_precision: 0.8259 - val_recall: 0.7382\n",
      "Epoch 4/40\n",
      "384/384 [==============================] - 378s 984ms/step - loss: 0.5400 - acc: 0.8167 - precision: 0.8496 - recall: 0.7819 - val_loss: 0.5417 - val_acc: 0.8188 - val_precision: 0.8528 - val_recall: 0.7858\n",
      "Epoch 5/40\n",
      "384/384 [==============================] - 380s 990ms/step - loss: 0.4572 - acc: 0.8497 - precision: 0.8743 - recall: 0.8241 - val_loss: 0.5154 - val_acc: 0.8290 - val_precision: 0.8516 - val_recall: 0.8056\n",
      "Epoch 6/40\n",
      "384/384 [==============================] - 380s 991ms/step - loss: 0.4081 - acc: 0.8671 - precision: 0.8868 - recall: 0.8470 - val_loss: 0.5052 - val_acc: 0.8359 - val_precision: 0.8549 - val_recall: 0.8164\n",
      "Epoch 7/40\n",
      "384/384 [==============================] - 368s 957ms/step - loss: 0.3774 - acc: 0.8788 - precision: 0.8971 - recall: 0.8617 - val_loss: 0.4324 - val_acc: 0.8593 - val_precision: 0.8776 - val_recall: 0.8422\n",
      "Epoch 8/40\n",
      "384/384 [==============================] - 356s 928ms/step - loss: 0.3462 - acc: 0.8902 - precision: 0.9062 - recall: 0.8734 - val_loss: 0.4147 - val_acc: 0.8647 - val_precision: 0.8816 - val_recall: 0.8485\n",
      "Epoch 9/40\n",
      "384/384 [==============================] - 351s 915ms/step - loss: 0.3254 - acc: 0.8952 - precision: 0.9109 - recall: 0.8788 - val_loss: 0.4117 - val_acc: 0.8637 - val_precision: 0.8843 - val_recall: 0.8457\n",
      "Epoch 10/40\n",
      "384/384 [==============================] - 355s 924ms/step - loss: 0.3005 - acc: 0.9040 - precision: 0.9179 - recall: 0.8884 - val_loss: 0.3878 - val_acc: 0.8750 - val_precision: 0.8893 - val_recall: 0.8623\n",
      "Epoch 11/40\n",
      "384/384 [==============================] - 355s 924ms/step - loss: 0.2848 - acc: 0.9064 - precision: 0.9201 - recall: 0.8923 - val_loss: 0.4013 - val_acc: 0.8695 - val_precision: 0.8847 - val_recall: 0.8577\n",
      "Epoch 12/40\n",
      "384/384 [==============================] - 354s 922ms/step - loss: 0.2743 - acc: 0.9112 - precision: 0.9245 - recall: 0.8989 - val_loss: 0.3675 - val_acc: 0.8819 - val_precision: 0.8985 - val_recall: 0.8676\n",
      "Epoch 13/40\n",
      "384/384 [==============================] - 353s 921ms/step - loss: 0.2649 - acc: 0.9149 - precision: 0.9268 - recall: 0.9033 - val_loss: 0.3812 - val_acc: 0.8747 - val_precision: 0.8908 - val_recall: 0.8597\n",
      "Epoch 14/40\n",
      "384/384 [==============================] - 354s 922ms/step - loss: 0.2547 - acc: 0.9183 - precision: 0.9305 - recall: 0.9065 - val_loss: 0.3860 - val_acc: 0.8760 - val_precision: 0.8866 - val_recall: 0.8662\n",
      "Epoch 15/40\n",
      "384/384 [==============================] - 351s 915ms/step - loss: 0.2415 - acc: 0.9214 - precision: 0.9319 - recall: 0.9109 - val_loss: 0.3646 - val_acc: 0.8815 - val_precision: 0.8961 - val_recall: 0.8685\n",
      "Epoch 16/40\n",
      "384/384 [==============================] - 354s 921ms/step - loss: 0.2312 - acc: 0.9254 - precision: 0.9354 - recall: 0.9148 - val_loss: 0.3516 - val_acc: 0.8886 - val_precision: 0.9005 - val_recall: 0.8793\n",
      "Epoch 17/40\n",
      "384/384 [==============================] - 354s 921ms/step - loss: 0.2295 - acc: 0.9252 - precision: 0.9360 - recall: 0.9150 - val_loss: 0.3461 - val_acc: 0.8888 - val_precision: 0.9027 - val_recall: 0.8761\n",
      "Epoch 18/40\n",
      "384/384 [==============================] - 350s 912ms/step - loss: 0.2139 - acc: 0.9309 - precision: 0.9403 - recall: 0.9225 - val_loss: 0.3590 - val_acc: 0.8837 - val_precision: 0.8986 - val_recall: 0.8698\n",
      "Epoch 19/40\n",
      "384/384 [==============================] - 354s 922ms/step - loss: 0.2106 - acc: 0.9318 - precision: 0.9412 - recall: 0.9231 - val_loss: 0.3437 - val_acc: 0.8909 - val_precision: 0.9017 - val_recall: 0.8826\n",
      "Epoch 20/40\n",
      "384/384 [==============================] - 354s 921ms/step - loss: 0.2057 - acc: 0.9330 - precision: 0.9418 - recall: 0.9245 - val_loss: 0.3539 - val_acc: 0.8869 - val_precision: 0.8991 - val_recall: 0.8764\n",
      "Epoch 21/40\n",
      "384/384 [==============================] - 351s 913ms/step - loss: 0.1993 - acc: 0.9354 - precision: 0.9444 - recall: 0.9273 - val_loss: 0.3683 - val_acc: 0.8790 - val_precision: 0.8895 - val_recall: 0.8690\n",
      "Epoch 22/40\n",
      "384/384 [==============================] - 354s 921ms/step - loss: 0.1956 - acc: 0.9364 - precision: 0.9445 - recall: 0.9288 - val_loss: 0.3278 - val_acc: 0.8958 - val_precision: 0.9072 - val_recall: 0.8865\n",
      "Epoch 23/40\n",
      "384/384 [==============================] - 354s 922ms/step - loss: 0.1900 - acc: 0.9391 - precision: 0.9471 - recall: 0.9315 - val_loss: 0.3356 - val_acc: 0.8952 - val_precision: 0.9062 - val_recall: 0.8867\n",
      "Epoch 24/40\n",
      "384/384 [==============================] - 351s 913ms/step - loss: 0.1857 - acc: 0.9409 - precision: 0.9482 - recall: 0.9336 - val_loss: 0.3513 - val_acc: 0.8852 - val_precision: 0.8956 - val_recall: 0.8760\n",
      "Epoch 25/40\n",
      "384/384 [==============================] - 354s 921ms/step - loss: 0.1837 - acc: 0.9403 - precision: 0.9482 - recall: 0.9334 - val_loss: 0.3328 - val_acc: 0.8940 - val_precision: 0.9057 - val_recall: 0.8848\n"
     ]
    }
   ],
   "source": [
    "#fit the network to the training data\n",
    "history_conv = model_conv.fit(x_train, y_train,\n",
    "                              validation_data = (x_test,y_test),\n",
    "                              epochs = 40,\n",
    "                              callbacks = [early_stop],\n",
    "                              batch_size = 256)"
   ]
  },
  {
   "cell_type": "code",
   "execution_count": null,
   "metadata": {
    "colab": {
     "base_uri": "https://localhost:8080/"
    },
    "id": "rvdCK879jSTy",
    "outputId": "b74a6011-bf33-48d0-d603-2fce6665e31f"
   },
   "outputs": [
    {
     "name": "stdout",
     "output_type": "stream",
     "text": [
      "1024/1024 [==============================] - 80s 78ms/step - loss: 0.3328 - acc: 0.8940 - precision: 0.9057 - recall: 0.8848\n"
     ]
    },
    {
     "data": {
      "text/plain": [
       "[0.3328230381011963,\n",
       " 0.8940023183822632,\n",
       " 0.9057176113128662,\n",
       " 0.8847798109054565]"
      ]
     },
     "execution_count": 34,
     "metadata": {
      "tags": []
     },
     "output_type": "execute_result"
    }
   ],
   "source": [
    "#evaluate the convolutional network\n",
    "model_conv.evaluate(x_test,y_test)"
   ]
  },
  {
   "cell_type": "markdown",
   "metadata": {},
   "source": [
    "### Model Interpretation"
   ]
  },
  {
   "cell_type": "markdown",
   "metadata": {},
   "source": [
    "In Model 3, a 1-dimensional convolutional layer was introduced in hopes of extracting features to increase model performance. Protein domains are distinct functional/structural units of proteins, which are ultimately encoded by the amino acid sequence. The convolutional layer was added in hopes it would identify and extract common protein domains observed within a class and thus improve the predictive power of the model. The addition of the 1-dimensional convolutional layer occurred without changing any other nodes values from Model 2. Comparing the evaluation metrics of Model 2 to Model 3, we can see that the addition of the convolutional layer increased model accuracy, precision, and recall by approximately 10%. \n",
    "\n",
    "Calculated below, the balanced accuracy score is 77.7% and the f1-score is 89.3%."
   ]
  },
  {
   "cell_type": "code",
   "execution_count": null,
   "metadata": {
    "colab": {
     "base_uri": "https://localhost:8080/",
     "height": 407
    },
    "id": "7cl6bGIEjSap",
    "outputId": "0919d867-55e4-49e7-e48f-54e2156bca43"
   },
   "outputs": [
    {
     "data": {
      "application/javascript": [
       "\n",
       "    async function download(id, filename, size) {\n",
       "      if (!google.colab.kernel.accessAllowed) {\n",
       "        return;\n",
       "      }\n",
       "      const div = document.createElement('div');\n",
       "      const label = document.createElement('label');\n",
       "      label.textContent = `Downloading \"${filename}\": `;\n",
       "      div.appendChild(label);\n",
       "      const progress = document.createElement('progress');\n",
       "      progress.max = size;\n",
       "      div.appendChild(progress);\n",
       "      document.body.appendChild(div);\n",
       "\n",
       "      const buffers = [];\n",
       "      let downloaded = 0;\n",
       "\n",
       "      const channel = await google.colab.kernel.comms.open(id);\n",
       "      // Send a message to notify the kernel that we're ready.\n",
       "      channel.send({})\n",
       "\n",
       "      for await (const message of channel.messages) {\n",
       "        // Send a message to notify the kernel that we're ready.\n",
       "        channel.send({})\n",
       "        if (message.buffers) {\n",
       "          for (const buffer of message.buffers) {\n",
       "            buffers.push(buffer);\n",
       "            downloaded += buffer.byteLength;\n",
       "            progress.value = downloaded;\n",
       "          }\n",
       "        }\n",
       "      }\n",
       "      const blob = new Blob(buffers, {type: 'application/binary'});\n",
       "      const a = document.createElement('a');\n",
       "      a.href = window.URL.createObjectURL(blob);\n",
       "      a.download = filename;\n",
       "      div.appendChild(a);\n",
       "      a.click();\n",
       "      div.remove();\n",
       "    }\n",
       "  "
      ],
      "text/plain": [
       "<IPython.core.display.Javascript object>"
      ]
     },
     "metadata": {
      "tags": []
     },
     "output_type": "display_data"
    },
    {
     "data": {
      "application/javascript": [
       "download(\"download_6350b56f-da69-4177-8d6a-ab7b45aa4077\", \"conv1_accuracy.png\", 158333)"
      ],
      "text/plain": [
       "<IPython.core.display.Javascript object>"
      ]
     },
     "metadata": {
      "tags": []
     },
     "output_type": "display_data"
    },
    {
     "data": {
      "image/png": "[encoded data removed]",
      "text/plain": [
       "<Figure size 720x432 with 1 Axes>"
      ]
     },
     "metadata": {
      "needs_background": "light",
      "tags": []
     },
     "output_type": "display_data"
    }
   ],
   "source": [
    "#plot the accuracy\n",
    "#plot the graphs of the accuracy for the convolutional model\n",
    "plt.figure(figsize=(10,6))\n",
    "plt.plot(history_conv.history['acc'], label = 'Training Accuracy', color = '#FA8072')\n",
    "plt.plot(history_conv.history['val_acc'], label = 'Validation Accuracy', color = '#6A5ACD')\n",
    "plt.ylabel('Accuracy Score', fontsize=12)\n",
    "plt.xlabel('Epochs', fontsize=12)\n",
    "plt.title('Training and Validation Accuracy')\n",
    "plt.legend();"
   ]
  },
  {
   "cell_type": "markdown",
   "metadata": {},
   "source": [
    "### Visualization Interpretation"
   ]
  },
  {
   "cell_type": "markdown",
   "metadata": {},
   "source": [
    "The visualization above shows the training and testing/validation accuracy for the neural network as it trained over 25 epochs. During the course of training, the training accuracy continued to steadily increase as the model became more fit to that data. The training and testing/validation accuracies show slight divergence. The testing/validation accuracy for this model, Model 3, plateaus around 87-89%. "
   ]
  },
  {
   "cell_type": "code",
   "execution_count": null,
   "metadata": {
    "colab": {
     "base_uri": "https://localhost:8080/"
    },
    "id": "erFCJrkn6WuY",
    "outputId": "58579afe-4ca7-4644-bd3b-b771da6d3b04"
   },
   "outputs": [
    {
     "data": {
      "text/plain": [
       "(32746, 8)"
      ]
     },
     "execution_count": 39,
     "metadata": {
      "tags": []
     },
     "output_type": "execute_result"
    }
   ],
   "source": [
    "#the shape of y_test tells it is still one hot encoded\n",
    "y_test.shape"
   ]
  },
  {
   "cell_type": "code",
   "execution_count": null,
   "metadata": {
    "colab": {
     "base_uri": "https://localhost:8080/"
    },
    "id": "8_HnJK6q6_88",
    "outputId": "deb18cb3-efe7-4867-a5c8-180aa9ce0a75"
   },
   "outputs": [
    {
     "data": {
      "text/plain": [
       "array([0, 1, 0, 0, 0, 0, 0, 0], dtype=uint8)"
      ]
     },
     "execution_count": 40,
     "metadata": {
      "tags": []
     },
     "output_type": "execute_result"
    }
   ],
   "source": [
    "#one hot encoded y_test\n",
    "y_test[0]"
   ]
  },
  {
   "cell_type": "code",
   "execution_count": null,
   "metadata": {
    "colab": {
     "base_uri": "https://localhost:8080/"
    },
    "id": "igOv8Rn26rKT",
    "outputId": "2eef67bc-159f-4de2-d88e-1ed220d19d94"
   },
   "outputs": [
    {
     "data": {
      "text/plain": [
       "(32746,)"
      ]
     },
     "execution_count": 41,
     "metadata": {
      "tags": []
     },
     "output_type": "execute_result"
    }
   ],
   "source": [
    "#reverse the to_categorical of y_test to make classes for confusion matrix\n",
    "#cast the list to a numpy array\n",
    "y_test_uncategory = [np.argmax(y, axis=None, out=None) for y in y_test]\n",
    "y_test_uncategory = np.asarray(y_test_uncategory)\n",
    "y_test_uncategory.shape\n",
    "\n",
    "#make predictions\n",
    "preds = model_conv.predict(x_test)\n",
    "preds = np.argmax(preds, axis=1)\n",
    "\n",
    "#get the labels for the summary table\n",
    "label_order = ['rRNA Binding', 'DNA Binding', 'ATP Binding', 'Hormone', 'GTPase', 'NADH Dehydrogenase', 'Oxidoreductase', 'Toxin']"
   ]
  },
  {
   "cell_type": "code",
   "execution_count": null,
   "metadata": {
    "colab": {
     "base_uri": "https://localhost:8080/"
    },
    "id": "jzuUlowvjvCe",
    "outputId": "70227aa0-0ace-48e9-c9cf-dc1b64dbf91d"
   },
   "outputs": [
    {
     "name": "stdout",
     "output_type": "stream",
     "text": [
      "                    precision    recall  f1-score   support\n",
      "\n",
      "      rRNA Binding       0.96      0.97      0.96      5013\n",
      "       DNA Binding       0.79      0.86      0.82      6196\n",
      "       ATP Binding       0.93      0.93      0.93     16172\n",
      "           Hormone       0.70      0.59      0.64       379\n",
      "            GTPase       0.91      0.85      0.88      1437\n",
      "NADH Dehydrogenase       0.97      0.77      0.85      1060\n",
      "    Oxidoreductase       0.49      0.38      0.43       812\n",
      "             Toxin       0.90      0.88      0.89      1677\n",
      "\n",
      "          accuracy                           0.89     32746\n",
      "         macro avg       0.83      0.78      0.80     32746\n",
      "      weighted avg       0.89      0.89      0.89     32746\n",
      "\n"
     ]
    }
   ],
   "source": [
    "#get the classification report for the convolutional model\n",
    "#find out where the misclassifications are occuring in the model\n",
    "print(classification_report(y_test_uncategory, preds, target_names=label_order))"
   ]
  },
  {
   "cell_type": "markdown",
   "metadata": {},
   "source": [
    "### Table Interpretation"
   ]
  },
  {
   "cell_type": "markdown",
   "metadata": {},
   "source": [
    "In the table above, we see a classifiction report for Model 3. This report breaks down how well the model performed on predicting the individual classes in the testing data. As we can see from the report above, Model 3 had a tough time correctly classifying the Oxidoreductase class. The f1-score for the Oxidoreductase class was .43, which is .21 points below the next lowest scoring class, Hormone. To create predictive improvement of the model, the Oxidoreductase class needs to be better classified. "
   ]
  },
  {
   "cell_type": "code",
   "execution_count": null,
   "metadata": {
    "colab": {
     "base_uri": "https://localhost:8080/"
    },
    "id": "mvxAC7N-FXUv",
    "outputId": "ca8181e8-abc4-456c-e125-d11b663db9d3"
   },
   "outputs": [
    {
     "data": {
      "text/plain": [
       "0.7768959702845009"
      ]
     },
     "execution_count": 44,
     "metadata": {
      "tags": []
     },
     "output_type": "execute_result"
    }
   ],
   "source": [
    "#get the balanced accuracy score\n",
    "balanced_accuracy_score(y_test_uncategory, preds)"
   ]
  },
  {
   "cell_type": "code",
   "execution_count": null,
   "metadata": {
    "colab": {
     "base_uri": "https://localhost:8080/"
    },
    "id": "c0Dd6UZkcEfX",
    "outputId": "350aeef5-493e-4b97-e44f-ff0546528777"
   },
   "outputs": [
    {
     "data": {
      "text/plain": [
       "0.8927178429006228"
      ]
     },
     "execution_count": 45,
     "metadata": {
      "tags": []
     },
     "output_type": "execute_result"
    }
   ],
   "source": [
    "#get the f1-score\n",
    "f1_score(y_test_uncategory, preds, average = 'weighted')"
   ]
  },
  {
   "cell_type": "markdown",
   "metadata": {
    "id": "uJqTE0O6FclT"
   },
   "source": [
    "## Recurrent Neural Network 4 - 2 Convolutional Layers"
   ]
  },
  {
   "cell_type": "code",
   "execution_count": null,
   "metadata": {
    "id": "lL4i3dSZY5bG"
   },
   "outputs": [],
   "source": [
    "#create the new model architecture for model 4\n",
    "model_2_conv = Sequential()\n",
    "\n",
    "model_2_conv.add(Embedding(input_dim = tokenizer.num_words, output_dim = 64, input_length = x_train.shape[1]))\n",
    "\n",
    "#add the convolutional layer\n",
    "model_2_conv.add(Conv1D(64,10, activation = 'relu'))\n",
    "model_2_conv.add(MaxPooling1D(5))\n",
    "\n",
    "#add second convolutional layer and GRU layer\n",
    "model_2_conv.add(Conv1D(32,6, activation = 'relu'))\n",
    "model_2_conv.add(Bidirectional(GRU(32)))\n",
    "model_2_conv.add(Dense(40, activation = 'relu'))\n",
    "model_2_conv.add(Dropout(rate = .2))\n",
    "model_2_conv.add(Dense(8, activation = 'softmax'))\n",
    "\n",
    "\n",
    "#early stop creation\n",
    "early_stop = EarlyStopping(patience = 3)\n",
    "\n",
    "#compile the model\n",
    "model_2_conv.compile(optimizer = 'adam', loss = 'categorical_crossentropy', metrics = ['acc', 'Precision', 'Recall'])"
   ]
  },
  {
   "cell_type": "code",
   "execution_count": null,
   "metadata": {
    "colab": {
     "base_uri": "https://localhost:8080/"
    },
    "id": "ylbivcwp6T4Y",
    "outputId": "ed2e76d4-03ae-4487-bffd-693f81fe47c5"
   },
   "outputs": [
    {
     "name": "stdout",
     "output_type": "stream",
     "text": [
      "Epoch 1/40\n",
      "384/384 [==============================] - ETA: 0s - loss: 1.3447 - acc: 0.5373 - precision: 0.6210 - recall: 0.3429WARNING:tensorflow:Model was constructed with shape (None, 18466) for input KerasTensor(type_spec=TensorSpec(shape=(None, 18466), dtype=tf.float32, name='embedding_3_input'), name='embedding_3_input', description=\"created by layer 'embedding_3_input'\"), but it was called on an input with incompatible shape (None, 7862).\n",
      "384/384 [==============================] - 318s 818ms/step - loss: 1.3439 - acc: 0.5376 - precision: 0.6212 - recall: 0.3434 - val_loss: 0.6969 - val_acc: 0.7464 - val_precision: 0.7819 - val_recall: 0.7052\n",
      "Epoch 2/40\n",
      "384/384 [==============================] - 313s 814ms/step - loss: 0.6567 - acc: 0.7725 - precision: 0.8047 - recall: 0.7319 - val_loss: 0.4536 - val_acc: 0.8506 - val_precision: 0.8753 - val_recall: 0.8276\n",
      "Epoch 3/40\n",
      "384/384 [==============================] - 313s 815ms/step - loss: 0.4521 - acc: 0.8562 - precision: 0.8779 - recall: 0.8319 - val_loss: 0.3847 - val_acc: 0.8693 - val_precision: 0.8903 - val_recall: 0.8472\n",
      "Epoch 4/40\n",
      "384/384 [==============================] - 313s 815ms/step - loss: 0.3672 - acc: 0.8833 - precision: 0.9029 - recall: 0.8639 - val_loss: 0.3500 - val_acc: 0.8881 - val_precision: 0.9006 - val_recall: 0.8777\n",
      "Epoch 5/40\n",
      "384/384 [==============================] - 313s 816ms/step - loss: 0.3126 - acc: 0.9004 - precision: 0.9194 - recall: 0.8841 - val_loss: 0.3110 - val_acc: 0.8979 - val_precision: 0.9131 - val_recall: 0.8836\n",
      "Epoch 6/40\n",
      "384/384 [==============================] - 313s 816ms/step - loss: 0.2735 - acc: 0.9133 - precision: 0.9307 - recall: 0.8988 - val_loss: 0.2869 - val_acc: 0.9060 - val_precision: 0.9178 - val_recall: 0.8950\n",
      "Epoch 7/40\n",
      "384/384 [==============================] - 314s 818ms/step - loss: 0.2517 - acc: 0.9198 - precision: 0.9351 - recall: 0.9058 - val_loss: 0.2855 - val_acc: 0.9058 - val_precision: 0.9187 - val_recall: 0.8952\n",
      "Epoch 8/40\n",
      "384/384 [==============================] - 313s 816ms/step - loss: 0.2248 - acc: 0.9292 - precision: 0.9433 - recall: 0.9160 - val_loss: 0.2681 - val_acc: 0.9105 - val_precision: 0.9234 - val_recall: 0.9006\n",
      "Epoch 9/40\n",
      "384/384 [==============================] - 313s 816ms/step - loss: 0.2160 - acc: 0.9307 - precision: 0.9436 - recall: 0.9193 - val_loss: 0.2657 - val_acc: 0.9133 - val_precision: 0.9250 - val_recall: 0.9037\n",
      "Epoch 10/40\n",
      "384/384 [==============================] - 314s 817ms/step - loss: 0.1992 - acc: 0.9368 - precision: 0.9492 - recall: 0.9261 - val_loss: 0.2765 - val_acc: 0.9066 - val_precision: 0.9196 - val_recall: 0.8943\n",
      "Epoch 11/40\n",
      "384/384 [==============================] - 313s 816ms/step - loss: 0.1827 - acc: 0.9419 - precision: 0.9514 - recall: 0.9323 - val_loss: 0.2404 - val_acc: 0.9238 - val_precision: 0.9354 - val_recall: 0.9127\n",
      "Epoch 12/40\n",
      "384/384 [==============================] - 313s 816ms/step - loss: 0.1805 - acc: 0.9434 - precision: 0.9535 - recall: 0.9339 - val_loss: 0.2466 - val_acc: 0.9207 - val_precision: 0.9313 - val_recall: 0.9120\n",
      "Epoch 13/40\n",
      "384/384 [==============================] - 313s 816ms/step - loss: 0.1606 - acc: 0.9491 - precision: 0.9581 - recall: 0.9404 - val_loss: 0.2488 - val_acc: 0.9220 - val_precision: 0.9326 - val_recall: 0.9131\n",
      "Epoch 14/40\n",
      "384/384 [==============================] - 313s 815ms/step - loss: 0.1599 - acc: 0.9497 - precision: 0.9592 - recall: 0.9419 - val_loss: 0.2834 - val_acc: 0.9184 - val_precision: 0.9255 - val_recall: 0.9135\n"
     ]
    }
   ],
   "source": [
    "#fit the model to the training data\n",
    "hist_2_conv = model_2_conv.fit(x_train, y_train, validation_data = (x_test, y_test),\n",
    "                               epochs = 40, callbacks = [early_stop],\n",
    "                               batch_size = 256)"
   ]
  },
  {
   "cell_type": "code",
   "execution_count": null,
   "metadata": {
    "colab": {
     "base_uri": "https://localhost:8080/"
    },
    "id": "zGsdfGMvQxb1",
    "outputId": "0473372b-706f-4624-9edb-2c006a56a9dc"
   },
   "outputs": [
    {
     "name": "stdout",
     "output_type": "stream",
     "text": [
      "1024/1024 [==============================] - 58s 56ms/step - loss: 0.2834 - acc: 0.9184 - precision: 0.9255 - recall: 0.9135\n"
     ]
    },
    {
     "data": {
      "text/plain": [
       "[0.2834151089191437,\n",
       " 0.9184022545814514,\n",
       " 0.9254710078239441,\n",
       " 0.9135161638259888]"
      ]
     },
     "execution_count": 48,
     "metadata": {
      "tags": []
     },
     "output_type": "execute_result"
    }
   ],
   "source": [
    "#evaluate the model on the testing data\n",
    "model_2_conv.evaluate(x_test, y_test)"
   ]
  },
  {
   "cell_type": "markdown",
   "metadata": {},
   "source": [
    "### Model Interpretation"
   ]
  },
  {
   "cell_type": "markdown",
   "metadata": {},
   "source": [
    "In Model 4, another convolutional layer was added to the model and the hidden layer had more nodes added. Compared to Model 3, Model 4 performed better across all evaluation metrics by approximately 3 percentage points, ultimately predicting with approximately 91.8% accuracy on the testing/validation data. Calculated below, on balanced accuracy Model 4 scored 79.1% on balanced accuracy and 91.2% on f1-score. "
   ]
  },
  {
   "cell_type": "code",
   "execution_count": null,
   "metadata": {
    "colab": {
     "base_uri": "https://localhost:8080/",
     "height": 407
    },
    "id": "TX06qlQ4RLZ4",
    "outputId": "99f0775e-5dc2-45ea-8acf-aca9296aa811"
   },
   "outputs": [
    {
     "data": {
      "application/javascript": [
       "\n",
       "    async function download(id, filename, size) {\n",
       "      if (!google.colab.kernel.accessAllowed) {\n",
       "        return;\n",
       "      }\n",
       "      const div = document.createElement('div');\n",
       "      const label = document.createElement('label');\n",
       "      label.textContent = `Downloading \"${filename}\": `;\n",
       "      div.appendChild(label);\n",
       "      const progress = document.createElement('progress');\n",
       "      progress.max = size;\n",
       "      div.appendChild(progress);\n",
       "      document.body.appendChild(div);\n",
       "\n",
       "      const buffers = [];\n",
       "      let downloaded = 0;\n",
       "\n",
       "      const channel = await google.colab.kernel.comms.open(id);\n",
       "      // Send a message to notify the kernel that we're ready.\n",
       "      channel.send({})\n",
       "\n",
       "      for await (const message of channel.messages) {\n",
       "        // Send a message to notify the kernel that we're ready.\n",
       "        channel.send({})\n",
       "        if (message.buffers) {\n",
       "          for (const buffer of message.buffers) {\n",
       "            buffers.push(buffer);\n",
       "            downloaded += buffer.byteLength;\n",
       "            progress.value = downloaded;\n",
       "          }\n",
       "        }\n",
       "      }\n",
       "      const blob = new Blob(buffers, {type: 'application/binary'});\n",
       "      const a = document.createElement('a');\n",
       "      a.href = window.URL.createObjectURL(blob);\n",
       "      a.download = filename;\n",
       "      div.appendChild(a);\n",
       "      a.click();\n",
       "      div.remove();\n",
       "    }\n",
       "  "
      ],
      "text/plain": [
       "<IPython.core.display.Javascript object>"
      ]
     },
     "metadata": {
      "tags": []
     },
     "output_type": "display_data"
    },
    {
     "data": {
      "application/javascript": [
       "download(\"download_f94bad71-2265-4b8b-9a5a-6c40b10dd989\", \"conv2_layer_accuracy.png\", 150019)"
      ],
      "text/plain": [
       "<IPython.core.display.Javascript object>"
      ]
     },
     "metadata": {
      "tags": []
     },
     "output_type": "display_data"
    },
    {
     "data": {
      "image/png": "[encoded data removed]",
      "text/plain": [
       "<Figure size 720x432 with 1 Axes>"
      ]
     },
     "metadata": {
      "needs_background": "light",
      "tags": []
     },
     "output_type": "display_data"
    }
   ],
   "source": [
    "#plot the accuracy\n",
    "#plot the graphs of the accuracy for the 2 layer convolutional model\n",
    "plt.figure(figsize=(10,6))\n",
    "plt.plot(hist_2_conv.history['acc'], label = 'Training Accuracy', color = '#FA8072')\n",
    "plt.plot(hist_2_conv.history['val_acc'], label = 'Validation Accuracy', color = '#6A5ACD')\n",
    "plt.ylabel('Accuracy Score', fontsize=12)\n",
    "plt.xlabel('Epochs', fontsize=12)\n",
    "plt.title('Training and Validation Accuracy')\n",
    "plt.legend();"
   ]
  },
  {
   "cell_type": "markdown",
   "metadata": {},
   "source": [
    "### Visualization Interpretation"
   ]
  },
  {
   "cell_type": "markdown",
   "metadata": {},
   "source": [
    "The visualization above shows the accuracy of the training and testing/validation data over the 14 epochs run during model training. As we can see, the training accuracy increases over each of the epochs. However, the accuracy of the testing data plateaus at approximately 91%. "
   ]
  },
  {
   "cell_type": "code",
   "execution_count": null,
   "metadata": {},
   "outputs": [],
   "source": [
    "#reverse the to_categorical of y_test to make classes for confusion matrix\n",
    "#cast the list to a numpy array\n",
    "y_test_uncategory = [np.argmax(y, axis=None, out=None) for y in y_test]\n",
    "y_test_uncategory = np.asarray(y_test_uncategory)\n",
    "\n",
    "#make predictions\n",
    "preds = model_conv.predict(x_test)\n",
    "preds = np.argmax(preds, axis=1)"
   ]
  },
  {
   "cell_type": "code",
   "execution_count": null,
   "metadata": {
    "colab": {
     "base_uri": "https://localhost:8080/"
    },
    "id": "lwetkuWElBY1",
    "outputId": "3873d88b-f446-4e29-fe7d-e38a61688483"
   },
   "outputs": [
    {
     "data": {
      "text/plain": [
       "0.7912597273834883"
      ]
     },
     "execution_count": 56,
     "metadata": {
      "tags": []
     },
     "output_type": "execute_result"
    }
   ],
   "source": [
    "#get the balanced accuracy score\n",
    "balanced_accuracy_score(y_test_uncategory, preds)"
   ]
  },
  {
   "cell_type": "code",
   "execution_count": null,
   "metadata": {
    "colab": {
     "base_uri": "https://localhost:8080/"
    },
    "id": "OzbCwz7iuL89",
    "outputId": "d264bcf6-09b8-4304-e25f-3e68ffae8cef"
   },
   "outputs": [
    {
     "data": {
      "text/plain": [
       "0.9121204378612678"
      ]
     },
     "execution_count": 57,
     "metadata": {
      "tags": []
     },
     "output_type": "execute_result"
    }
   ],
   "source": [
    "#get the f1-score\n",
    "f1_score(y_test_uncategory, preds, average = 'weighted')"
   ]
  },
  {
   "cell_type": "markdown",
   "metadata": {
    "id": "X5LJ-28ap9b7"
   },
   "source": [
    "## Recurrent Neural Network 5 - Manipulating Node Numbers"
   ]
  },
  {
   "cell_type": "code",
   "execution_count": null,
   "metadata": {
    "id": "Pn4ViUguqP8u"
   },
   "outputs": [],
   "source": [
    "#create the new model architecture for model 4\n",
    "model_5 = Sequential()\n",
    "\n",
    "model_5.add(Embedding(input_dim = tokenizer.num_words, output_dim = 64, input_length = x_train.shape[1]))\n",
    "\n",
    "#add the convolutional layer\n",
    "model_5.add(Conv1D(64,12, activation = 'relu'))\n",
    "model_5.add(MaxPooling1D(6))\n",
    "\n",
    "#add second convolutional layer and GRU layer\n",
    "model_5.add(Conv1D(32,8, activation = 'relu'))\n",
    "model_5.add(Bidirectional(GRU(32)))\n",
    "model_5.add(Dense(80, activation = 'relu'))\n",
    "model_5.add(Dropout(rate = .2))\n",
    "model_5.add(Dense(8, activation = 'softmax'))\n",
    "\n",
    "\n",
    "#early stop creation\n",
    "early_stop = EarlyStopping(patience = 3)\n",
    "\n",
    "#compile the model\n",
    "model_5.compile(optimizer = 'adam', loss = 'categorical_crossentropy', metrics = ['acc', 'Precision', 'Recall'])"
   ]
  },
  {
   "cell_type": "code",
   "execution_count": null,
   "metadata": {
    "colab": {
     "base_uri": "https://localhost:8080/"
    },
    "id": "wyWAmS_4qoCp",
    "outputId": "8ef576c6-915b-469b-f60d-f938de2738cb"
   },
   "outputs": [
    {
     "name": "stdout",
     "output_type": "stream",
     "text": [
      "Epoch 1/40\n",
      "384/384 [==============================] - ETA: 0s - loss: 1.2578 - acc: 0.5866 - precision: 0.6558 - recall: 0.4140WARNING:tensorflow:Model was constructed with shape (None, 18466) for input KerasTensor(type_spec=TensorSpec(shape=(None, 18466), dtype=tf.float32, name='embedding_2_input'), name='embedding_2_input', description=\"created by layer 'embedding_2_input'\"), but it was called on an input with incompatible shape (None, 7862).\n",
      "384/384 [==============================] - 362s 932ms/step - loss: 1.2570 - acc: 0.5869 - precision: 0.6561 - recall: 0.4145 - val_loss: 0.5869 - val_acc: 0.8032 - val_precision: 0.8325 - val_recall: 0.7656\n",
      "Epoch 2/40\n",
      "384/384 [==============================] - 356s 928ms/step - loss: 0.5461 - acc: 0.8243 - precision: 0.8499 - recall: 0.7936 - val_loss: 0.4534 - val_acc: 0.8554 - val_precision: 0.8712 - val_recall: 0.8387\n",
      "Epoch 3/40\n",
      "384/384 [==============================] - 356s 927ms/step - loss: 0.4015 - acc: 0.8740 - precision: 0.8934 - recall: 0.8557 - val_loss: 0.3820 - val_acc: 0.8760 - val_precision: 0.8970 - val_recall: 0.8563\n",
      "Epoch 4/40\n",
      "384/384 [==============================] - 356s 927ms/step - loss: 0.3232 - acc: 0.8996 - precision: 0.9165 - recall: 0.8830 - val_loss: 0.3469 - val_acc: 0.8892 - val_precision: 0.9012 - val_recall: 0.8779\n",
      "Epoch 5/40\n",
      "384/384 [==============================] - 356s 928ms/step - loss: 0.2876 - acc: 0.9093 - precision: 0.9256 - recall: 0.8946 - val_loss: 0.3039 - val_acc: 0.9041 - val_precision: 0.9178 - val_recall: 0.8916\n",
      "Epoch 6/40\n",
      "384/384 [==============================] - 356s 928ms/step - loss: 0.2423 - acc: 0.9240 - precision: 0.9379 - recall: 0.9109 - val_loss: 0.2946 - val_acc: 0.9059 - val_precision: 0.9160 - val_recall: 0.8973\n",
      "Epoch 7/40\n",
      "384/384 [==============================] - 356s 926ms/step - loss: 0.2159 - acc: 0.9323 - precision: 0.9450 - recall: 0.9204 - val_loss: 0.2586 - val_acc: 0.9176 - val_precision: 0.9299 - val_recall: 0.9052\n",
      "Epoch 8/40\n",
      "384/384 [==============================] - 356s 926ms/step - loss: 0.1944 - acc: 0.9394 - precision: 0.9498 - recall: 0.9294 - val_loss: 0.2788 - val_acc: 0.9124 - val_precision: 0.9218 - val_recall: 0.9043\n",
      "Epoch 9/40\n",
      "384/384 [==============================] - 355s 925ms/step - loss: 0.1785 - acc: 0.9437 - precision: 0.9538 - recall: 0.9348 - val_loss: 0.2533 - val_acc: 0.9206 - val_precision: 0.9310 - val_recall: 0.9106\n",
      "Epoch 10/40\n",
      "384/384 [==============================] - 355s 926ms/step - loss: 0.1675 - acc: 0.9468 - precision: 0.9569 - recall: 0.9377 - val_loss: 0.2369 - val_acc: 0.9240 - val_precision: 0.9343 - val_recall: 0.9151\n",
      "Epoch 11/40\n",
      "384/384 [==============================] - 355s 926ms/step - loss: 0.1462 - acc: 0.9536 - precision: 0.9617 - recall: 0.9462 - val_loss: 0.2467 - val_acc: 0.9235 - val_precision: 0.9325 - val_recall: 0.9148\n",
      "Epoch 12/40\n",
      "384/384 [==============================] - 355s 926ms/step - loss: 0.1399 - acc: 0.9557 - precision: 0.9644 - recall: 0.9482 - val_loss: 0.2738 - val_acc: 0.9183 - val_precision: 0.9254 - val_recall: 0.9124\n",
      "Epoch 13/40\n",
      "384/384 [==============================] - 355s 925ms/step - loss: 0.1400 - acc: 0.9553 - precision: 0.9629 - recall: 0.9491 - val_loss: 0.2407 - val_acc: 0.9256 - val_precision: 0.9344 - val_recall: 0.9197\n"
     ]
    }
   ],
   "source": [
    "#fit the model to the training data\n",
    "hist_5 = model_5.fit(x_train, y_train, validation_data = (x_test, y_test),\n",
    "                               epochs = 40, callbacks = [early_stop],\n",
    "                               batch_size = 256)"
   ]
  },
  {
   "cell_type": "code",
   "execution_count": null,
   "metadata": {
    "colab": {
     "base_uri": "https://localhost:8080/"
    },
    "id": "KHGtOhAD7IfB",
    "outputId": "e2cd5e97-45e4-40b7-b904-c0fb3992373a"
   },
   "outputs": [
    {
     "name": "stdout",
     "output_type": "stream",
     "text": [
      "1024/1024 [==============================] - 53s 52ms/step - loss: 0.2407 - acc: 0.9256 - precision: 0.9344 - recall: 0.9197\n"
     ]
    },
    {
     "data": {
      "text/plain": [
       "[0.24066367745399475,\n",
       " 0.9256092309951782,\n",
       " 0.9343529939651489,\n",
       " 0.919715404510498]"
      ]
     },
     "execution_count": 35,
     "metadata": {
      "tags": []
     },
     "output_type": "execute_result"
    }
   ],
   "source": [
    "#evaluate the mode\n",
    "model_5.evaluate(x_test,y_test)"
   ]
  },
  {
   "cell_type": "markdown",
   "metadata": {},
   "source": [
    "### Model Interpretation"
   ]
  },
  {
   "cell_type": "markdown",
   "metadata": {},
   "source": [
    "In model 5, I began to manipulate the convolutional layer parameters as well as the number of nodes in the hidden layer of the model. At this point, I felt the architecture of the model was a good baseline to hypertune node parameters from. \n",
    "\n",
    "Increasing the number of nodes in the hidden layer, while slightly adapting the convolutional layers increased the evaluation metrics of the neutral network by about 1%, when compared to Model 4's epochs. Calculated below, the balanced accuracy is 83.7% and the f1-score is 92.3%. This hinted to me that a large number of nodes within the hidden layer could increase the predictive performance of the model."
   ]
  },
  {
   "cell_type": "code",
   "execution_count": null,
   "metadata": {
    "colab": {
     "base_uri": "https://localhost:8080/",
     "height": 407
    },
    "id": "Fu4uaw5qq32C",
    "outputId": "5f266421-6841-43ae-910c-ff8972df1028"
   },
   "outputs": [
    {
     "data": {
      "application/javascript": [
       "\n",
       "    async function download(id, filename, size) {\n",
       "      if (!google.colab.kernel.accessAllowed) {\n",
       "        return;\n",
       "      }\n",
       "      const div = document.createElement('div');\n",
       "      const label = document.createElement('label');\n",
       "      label.textContent = `Downloading \"${filename}\": `;\n",
       "      div.appendChild(label);\n",
       "      const progress = document.createElement('progress');\n",
       "      progress.max = size;\n",
       "      div.appendChild(progress);\n",
       "      document.body.appendChild(div);\n",
       "\n",
       "      const buffers = [];\n",
       "      let downloaded = 0;\n",
       "\n",
       "      const channel = await google.colab.kernel.comms.open(id);\n",
       "      // Send a message to notify the kernel that we're ready.\n",
       "      channel.send({})\n",
       "\n",
       "      for await (const message of channel.messages) {\n",
       "        // Send a message to notify the kernel that we're ready.\n",
       "        channel.send({})\n",
       "        if (message.buffers) {\n",
       "          for (const buffer of message.buffers) {\n",
       "            buffers.push(buffer);\n",
       "            downloaded += buffer.byteLength;\n",
       "            progress.value = downloaded;\n",
       "          }\n",
       "        }\n",
       "      }\n",
       "      const blob = new Blob(buffers, {type: 'application/binary'});\n",
       "      const a = document.createElement('a');\n",
       "      a.href = window.URL.createObjectURL(blob);\n",
       "      a.download = filename;\n",
       "      div.appendChild(a);\n",
       "      a.click();\n",
       "      div.remove();\n",
       "    }\n",
       "  "
      ],
      "text/plain": [
       "<IPython.core.display.Javascript object>"
      ]
     },
     "metadata": {
      "tags": []
     },
     "output_type": "display_data"
    },
    {
     "data": {
      "application/javascript": [
       "download(\"download_69577b42-87ad-4a97-97f5-b9f367d54fae\", \"model_5_accuracy.png\", 145749)"
      ],
      "text/plain": [
       "<IPython.core.display.Javascript object>"
      ]
     },
     "metadata": {
      "tags": []
     },
     "output_type": "display_data"
    },
    {
     "data": {
      "image/png": "[encoded data removed]",
      "text/plain": [
       "<Figure size 720x432 with 1 Axes>"
      ]
     },
     "metadata": {
      "needs_background": "light",
      "tags": []
     },
     "output_type": "display_data"
    }
   ],
   "source": [
    "#plot the accuracy\n",
    "#plot the graphs of the accuracy for model 5\n",
    "plt.figure(figsize=(10,6))\n",
    "plt.plot(hist_5.history['acc'], label = 'Training Accuracy', color = '#FA8072')\n",
    "plt.plot(hist_5.history['val_acc'], label = 'Validation Accuracy', color = '#6A5ACD')\n",
    "plt.ylabel('Accuracy Score', fontsize=12)\n",
    "plt.xlabel('Epochs', fontsize=12)\n",
    "plt.title('Training and Validation Accuracy')\n",
    "plt.legend();"
   ]
  },
  {
   "cell_type": "markdown",
   "metadata": {},
   "source": [
    "### Visualization Interpretation"
   ]
  },
  {
   "cell_type": "markdown",
   "metadata": {},
   "source": [
    "The visualization above shows the training and validation/testing accuracy over the 13 epochs in Model 5 training. As we can see, the training accuracy continues to increase over each of the subsequent epochs. The testing/validation is more variable over the epochs and plateaus at approximately 91-92%. "
   ]
  },
  {
   "cell_type": "code",
   "execution_count": null,
   "metadata": {
    "colab": {
     "base_uri": "https://localhost:8080/"
    },
    "id": "EXIz-L2K7IGS",
    "outputId": "c63b5255-c713-4d38-a960-3bd443a8dc73"
   },
   "outputs": [
    {
     "data": {
      "text/plain": [
       "(32746,)"
      ]
     },
     "execution_count": 38,
     "metadata": {
      "tags": []
     },
     "output_type": "execute_result"
    }
   ],
   "source": [
    "#reverse the to_categorical of y_test to make classes for confusion matrix\n",
    "#cast the list to a numpy array\n",
    "y_test_uncategory = [np.argmax(y, axis=None, out=None) for y in y_test]\n",
    "y_test_uncategory = np.asarray(y_test_uncategory)\n",
    "y_test_uncategory.shape\n",
    "\n",
    "#make predictions for 2 layer convolution model\n",
    "preds = model_5.predict(x_test)\n",
    "preds = np.argmax(preds, axis=1)\n",
    "\n",
    "#labels for the summary table\n",
    "label_order = ['rRNA Binding', 'DNA Binding', 'ATP Binding', 'Hormone', 'GTPase', 'NADH Dehydrogenase', 'Oxidoreductase', 'Toxin']"
   ]
  },
  {
   "cell_type": "code",
   "execution_count": null,
   "metadata": {
    "colab": {
     "base_uri": "https://localhost:8080/"
    },
    "id": "8Ker0Efg7cTK",
    "outputId": "3afeccb5-cb07-4259-8f3d-86992a4c25fd"
   },
   "outputs": [
    {
     "name": "stdout",
     "output_type": "stream",
     "text": [
      "                    precision    recall  f1-score   support\n",
      "\n",
      "      rRNA Binding       0.96      0.99      0.98      5013\n",
      "       DNA Binding       0.89      0.86      0.87      6196\n",
      "       ATP Binding       0.93      0.96      0.95     16172\n",
      "           Hormone       0.84      0.70      0.77       379\n",
      "            GTPase       0.94      0.95      0.95      1437\n",
      "NADH Dehydrogenase       1.00      0.89      0.94      1060\n",
      "    Oxidoreductase       0.60      0.42      0.49       812\n",
      "             Toxin       0.91      0.92      0.92      1677\n",
      "\n",
      "          accuracy                           0.93     32746\n",
      "         macro avg       0.89      0.84      0.86     32746\n",
      "      weighted avg       0.92      0.93      0.92     32746\n",
      "\n"
     ]
    }
   ],
   "source": [
    "#get the classification report for the 2 layer convolutional model\n",
    "#find out where the misclassifications are occuring in the model\n",
    "print(classification_report(y_test_uncategory, preds, target_names=label_order))"
   ]
  },
  {
   "cell_type": "markdown",
   "metadata": {},
   "source": [
    "### Table Interpretation"
   ]
  },
  {
   "cell_type": "markdown",
   "metadata": {},
   "source": [
    "The table above is the classification report for Model 5. This report breaks down how well the model performed on predicting the individual classes in the testing data. As we can see from the report above, Model 5, much like Model 3, continued to have a tough time correctly classifying the Oxidoreductase class. The f1-score for the Oxidoreductase class was .49, which is .28 points below the next lowest scoring class, Hormone. To create predictive improvement of the model, the Oxidoreductase class needs to be better classified. Outside of the Oxidoreductase and Hormone class, f1-scores were .87 and higher. "
   ]
  },
  {
   "cell_type": "code",
   "execution_count": null,
   "metadata": {
    "colab": {
     "base_uri": "https://localhost:8080/"
    },
    "id": "Rx1XEef98hR-",
    "outputId": "04784c92-ba5a-4428-ba52-4451f90b1928"
   },
   "outputs": [
    {
     "data": {
      "text/plain": [
       "0.8368738345638569"
      ]
     },
     "execution_count": 42,
     "metadata": {
      "tags": []
     },
     "output_type": "execute_result"
    }
   ],
   "source": [
    "#get the balanced accuracy score\n",
    "balanced_accuracy_score(y_test_uncategory, preds)"
   ]
  },
  {
   "cell_type": "code",
   "execution_count": null,
   "metadata": {
    "colab": {
     "base_uri": "https://localhost:8080/"
    },
    "id": "fz9mBkCrX-nA",
    "outputId": "e5df9255-d938-4b08-a11f-e59ae178eca6"
   },
   "outputs": [
    {
     "data": {
      "text/plain": [
       "0.9233905400543914"
      ]
     },
     "execution_count": 53,
     "metadata": {
      "tags": []
     },
     "output_type": "execute_result"
    }
   ],
   "source": [
    "#get the f1-score of the model\n",
    "f1_score(y_test_uncategory, preds, average = 'weighted')"
   ]
  },
  {
   "cell_type": "markdown",
   "metadata": {
    "id": "OJ6hSDof84NI"
   },
   "source": [
    "## Recurrent Neural Network 6 - Best Model in Notebook"
   ]
  },
  {
   "cell_type": "code",
   "execution_count": null,
   "metadata": {
    "id": "G130H_sb86t8"
   },
   "outputs": [],
   "source": [
    "#create the new model architecture for model 6\n",
    "model_6 = Sequential()\n",
    "\n",
    "model_6.add(Embedding(input_dim = tokenizer.num_words, output_dim = 64, input_length = x_train.shape[1]))\n",
    "\n",
    "#add the convolutional layer\n",
    "model_6.add(Conv1D(128,32, activation = 'relu'))\n",
    "model_6.add(MaxPooling1D(6))\n",
    "\n",
    "#add second convolutional layer and GRU layer\n",
    "model_6.add(Conv1D(64,24, activation = 'relu'))\n",
    "model_6.add(Bidirectional(GRU(64)))\n",
    "model_6.add(Dense(120, activation = 'relu'))\n",
    "model_6.add(Dropout(rate = .2))\n",
    "model_6.add(Dense(8, activation = 'softmax'))\n",
    "\n",
    "\n",
    "#early stop creation\n",
    "early_stop = EarlyStopping(patience = 3)\n",
    "\n",
    "#compile the model\n",
    "model_6.compile(optimizer = 'adam', loss = 'categorical_crossentropy', metrics = ['acc', 'Precision', 'Recall'])"
   ]
  },
  {
   "cell_type": "code",
   "execution_count": null,
   "metadata": {
    "colab": {
     "base_uri": "https://localhost:8080/"
    },
    "id": "QPEAM7s-9DmQ",
    "outputId": "37414d78-e713-420c-a61f-aa626f3edf60"
   },
   "outputs": [
    {
     "name": "stdout",
     "output_type": "stream",
     "text": [
      "Epoch 1/40\n",
      "384/384 [==============================] - ETA: 0s - loss: 1.0136 - acc: 0.6655 - precision: 0.7227 - recall: 0.5716WARNING:tensorflow:Model was constructed with shape (None, 18466) for input KerasTensor(type_spec=TensorSpec(shape=(None, 18466), dtype=tf.float32, name='embedding_4_input'), name='embedding_4_input', description=\"created by layer 'embedding_4_input'\"), but it was called on an input with incompatible shape (None, 7862).\n",
      "384/384 [==============================] - 591s 2s/step - loss: 1.0128 - acc: 0.6658 - precision: 0.7230 - recall: 0.5720 - val_loss: 0.4044 - val_acc: 0.8738 - val_precision: 0.8848 - val_recall: 0.8635\n",
      "Epoch 2/40\n",
      "384/384 [==============================] - 583s 2s/step - loss: 0.2910 - acc: 0.9084 - precision: 0.9261 - recall: 0.8928 - val_loss: 0.2445 - val_acc: 0.9201 - val_precision: 0.9310 - val_recall: 0.9126\n",
      "Epoch 3/40\n",
      "384/384 [==============================] - 583s 2s/step - loss: 0.1523 - acc: 0.9525 - precision: 0.9609 - recall: 0.9446 - val_loss: 0.2211 - val_acc: 0.9283 - val_precision: 0.9409 - val_recall: 0.9174\n",
      "Epoch 4/40\n",
      "384/384 [==============================] - 583s 2s/step - loss: 0.1030 - acc: 0.9678 - precision: 0.9736 - recall: 0.9628 - val_loss: 0.1799 - val_acc: 0.9449 - val_precision: 0.9517 - val_recall: 0.9394\n",
      "Epoch 5/40\n",
      "384/384 [==============================] - 583s 2s/step - loss: 0.0714 - acc: 0.9776 - precision: 0.9817 - recall: 0.9747 - val_loss: 0.1906 - val_acc: 0.9465 - val_precision: 0.9518 - val_recall: 0.9417\n",
      "Epoch 6/40\n",
      "384/384 [==============================] - 583s 2s/step - loss: 0.0463 - acc: 0.9857 - precision: 0.9882 - recall: 0.9839 - val_loss: 0.1904 - val_acc: 0.9473 - val_precision: 0.9516 - val_recall: 0.9437\n",
      "Epoch 7/40\n",
      "384/384 [==============================] - 583s 2s/step - loss: 0.0350 - acc: 0.9889 - precision: 0.9907 - recall: 0.9879 - val_loss: 0.2153 - val_acc: 0.9429 - val_precision: 0.9469 - val_recall: 0.9400\n"
     ]
    }
   ],
   "source": [
    "#fit the model to the training data\n",
    "hist_6 = model_6.fit(x_train, y_train, validation_data = (x_test, y_test),\n",
    "                               epochs = 40, callbacks = [early_stop],\n",
    "                               batch_size = 256)"
   ]
  },
  {
   "cell_type": "code",
   "execution_count": null,
   "metadata": {
    "colab": {
     "base_uri": "https://localhost:8080/"
    },
    "id": "xEumX1Wc9V6w",
    "outputId": "921e2541-4049-4a45-9cbb-403d9de14caf"
   },
   "outputs": [
    {
     "name": "stdout",
     "output_type": "stream",
     "text": [
      "1024/1024 [==============================] - 58s 57ms/step - loss: 0.2153 - acc: 0.9429 - precision: 0.9469 - recall: 0.9400\n"
     ]
    },
    {
     "data": {
      "text/plain": [
       "[0.21533355116844177,\n",
       " 0.9428938031196594,\n",
       " 0.9468746185302734,\n",
       " 0.9399926662445068]"
      ]
     },
     "execution_count": 56,
     "metadata": {
      "tags": []
     },
     "output_type": "execute_result"
    }
   ],
   "source": [
    "#evaluate the model on the training data\n",
    "model_6.evaluate(x_test,y_test)"
   ]
  },
  {
   "cell_type": "markdown",
   "metadata": {},
   "source": [
    "### Model Interpretation"
   ]
  },
  {
   "cell_type": "markdown",
   "metadata": {},
   "source": [
    "In Model 6, continued manipulations of the layers occurred. I continued to increase the number of hidden layer nodes and manipulate the filter and kernel sizes of the convolutional layers. The architecture for Model 6 saw a slight increase in performance from that in Model 5 - all of the evaluation metrics of the neural net training scored approximately 94%. Calculated below, the model scored approximately 90.9% on balanced accuracy and 94.4% on the f1-score."
   ]
  },
  {
   "cell_type": "code",
   "execution_count": null,
   "metadata": {
    "colab": {
     "base_uri": "https://localhost:8080/",
     "height": 407
    },
    "id": "fsCR8xSNID4d",
    "outputId": "b4b0e3d4-8875-4f4b-c2f7-f3746651b7fe"
   },
   "outputs": [
    {
     "data": {
      "application/javascript": [
       "\n",
       "    async function download(id, filename, size) {\n",
       "      if (!google.colab.kernel.accessAllowed) {\n",
       "        return;\n",
       "      }\n",
       "      const div = document.createElement('div');\n",
       "      const label = document.createElement('label');\n",
       "      label.textContent = `Downloading \"${filename}\": `;\n",
       "      div.appendChild(label);\n",
       "      const progress = document.createElement('progress');\n",
       "      progress.max = size;\n",
       "      div.appendChild(progress);\n",
       "      document.body.appendChild(div);\n",
       "\n",
       "      const buffers = [];\n",
       "      let downloaded = 0;\n",
       "\n",
       "      const channel = await google.colab.kernel.comms.open(id);\n",
       "      // Send a message to notify the kernel that we're ready.\n",
       "      channel.send({})\n",
       "\n",
       "      for await (const message of channel.messages) {\n",
       "        // Send a message to notify the kernel that we're ready.\n",
       "        channel.send({})\n",
       "        if (message.buffers) {\n",
       "          for (const buffer of message.buffers) {\n",
       "            buffers.push(buffer);\n",
       "            downloaded += buffer.byteLength;\n",
       "            progress.value = downloaded;\n",
       "          }\n",
       "        }\n",
       "      }\n",
       "      const blob = new Blob(buffers, {type: 'application/binary'});\n",
       "      const a = document.createElement('a');\n",
       "      a.href = window.URL.createObjectURL(blob);\n",
       "      a.download = filename;\n",
       "      div.appendChild(a);\n",
       "      a.click();\n",
       "      div.remove();\n",
       "    }\n",
       "  "
      ],
      "text/plain": [
       "<IPython.core.display.Javascript object>"
      ]
     },
     "metadata": {
      "tags": []
     },
     "output_type": "display_data"
    },
    {
     "data": {
      "application/javascript": [
       "download(\"download_c0f3f216-2e26-49e5-a89a-d231a360dd67\", \"model_6_accuracy.png\", 137414)"
      ],
      "text/plain": [
       "<IPython.core.display.Javascript object>"
      ]
     },
     "metadata": {
      "tags": []
     },
     "output_type": "display_data"
    },
    {
     "data": {
      "image/png": "[encoded data removed]",
      "text/plain": [
       "<Figure size 720x432 with 1 Axes>"
      ]
     },
     "metadata": {
      "needs_background": "light",
      "tags": []
     },
     "output_type": "display_data"
    }
   ],
   "source": [
    "#plot the accuracy\n",
    "#plot the graphs of the accuracy for model 6\n",
    "plt.figure(figsize=(10,6))\n",
    "plt.plot(hist_6.history['acc'], label = 'Training Accuracy', color = '#FA8072')\n",
    "plt.plot(hist_6.history['val_acc'], label = 'Validation Accuracy', color = '#6A5ACD')\n",
    "plt.ylabel('Accuracy Score', fontsize=12)\n",
    "plt.xlabel('Epochs', fontsize=12)\n",
    "plt.title('Training and Validation Accuracy')\n",
    "plt.legend();"
   ]
  },
  {
   "cell_type": "markdown",
   "metadata": {},
   "source": [
    "### Visualization Interpretation"
   ]
  },
  {
   "cell_type": "markdown",
   "metadata": {},
   "source": [
    "The visualization above shows the accuracy for the training and testing/validation sets over the 7 epochs the neural network trained. As we can see the training accuracy increased over all of the epochs. The testing/validation accuracy, while much more variable than the training accuracy, plateaued fairly quickly during training around 94%. "
   ]
  },
  {
   "cell_type": "code",
   "execution_count": null,
   "metadata": {
    "id": "Z-7mnrMRIHzW"
   },
   "outputs": [],
   "source": [
    "#save model 6 to google colab\n",
    "#model_6.save(\"rnn_model_6.h5\")"
   ]
  },
  {
   "cell_type": "code",
   "execution_count": null,
   "metadata": {
    "colab": {
     "base_uri": "https://localhost:8080/",
     "height": 17
    },
    "id": "0IXBG0gHIH3m",
    "outputId": "927f1d81-087f-4653-a9c9-8bb4c458b4ed"
   },
   "outputs": [
    {
     "data": {
      "application/javascript": [
       "\n",
       "    async function download(id, filename, size) {\n",
       "      if (!google.colab.kernel.accessAllowed) {\n",
       "        return;\n",
       "      }\n",
       "      const div = document.createElement('div');\n",
       "      const label = document.createElement('label');\n",
       "      label.textContent = `Downloading \"${filename}\": `;\n",
       "      div.appendChild(label);\n",
       "      const progress = document.createElement('progress');\n",
       "      progress.max = size;\n",
       "      div.appendChild(progress);\n",
       "      document.body.appendChild(div);\n",
       "\n",
       "      const buffers = [];\n",
       "      let downloaded = 0;\n",
       "\n",
       "      const channel = await google.colab.kernel.comms.open(id);\n",
       "      // Send a message to notify the kernel that we're ready.\n",
       "      channel.send({})\n",
       "\n",
       "      for await (const message of channel.messages) {\n",
       "        // Send a message to notify the kernel that we're ready.\n",
       "        channel.send({})\n",
       "        if (message.buffers) {\n",
       "          for (const buffer of message.buffers) {\n",
       "            buffers.push(buffer);\n",
       "            downloaded += buffer.byteLength;\n",
       "            progress.value = downloaded;\n",
       "          }\n",
       "        }\n",
       "      }\n",
       "      const blob = new Blob(buffers, {type: 'application/binary'});\n",
       "      const a = document.createElement('a');\n",
       "      a.href = window.URL.createObjectURL(blob);\n",
       "      a.download = filename;\n",
       "      div.appendChild(a);\n",
       "      a.click();\n",
       "      div.remove();\n",
       "    }\n",
       "  "
      ],
      "text/plain": [
       "<IPython.core.display.Javascript object>"
      ]
     },
     "metadata": {
      "tags": []
     },
     "output_type": "display_data"
    },
    {
     "data": {
      "application/javascript": [
       "download(\"download_11ddbb0e-4266-40ea-b477-0cc8663a12a5\", \"rnn_model_6.h5\", 6393608)"
      ],
      "text/plain": [
       "<IPython.core.display.Javascript object>"
      ]
     },
     "metadata": {
      "tags": []
     },
     "output_type": "display_data"
    }
   ],
   "source": [
    "#download the 2 layer convolutional model to local machine when using google colab\n",
    "#from google.colab import files\n",
    "#files.download(\"rnn_model_6.h5\")"
   ]
  },
  {
   "cell_type": "code",
   "execution_count": null,
   "metadata": {
    "colab": {
     "base_uri": "https://localhost:8080/"
    },
    "id": "1DMJl-NLIH8G",
    "outputId": "00bdee46-533b-42e6-a4be-b51389a6253e"
   },
   "outputs": [
    {
     "data": {
      "text/plain": [
       "(32746,)"
      ]
     },
     "execution_count": 59,
     "metadata": {
      "tags": []
     },
     "output_type": "execute_result"
    }
   ],
   "source": [
    "#reverse the to_categorical of y_test to make classes for confusion matrix\n",
    "#cast the list to a numpy array\n",
    "y_test_uncategory = [np.argmax(y, axis=None, out=None) for y in y_test]\n",
    "y_test_uncategory = np.asarray(y_test_uncategory)\n",
    "y_test_uncategory.shape"
   ]
  },
  {
   "cell_type": "code",
   "execution_count": null,
   "metadata": {
    "colab": {
     "base_uri": "https://localhost:8080/",
     "height": 546
    },
    "id": "AkWo-W7NIIAm",
    "outputId": "ec5336eb-8f7c-4d62-b04b-edc22e24f459"
   },
   "outputs": [
    {
     "name": "stdout",
     "output_type": "stream",
     "text": [
      "WARNING:tensorflow:Model was constructed with shape (None, 18466) for input KerasTensor(type_spec=TensorSpec(shape=(None, 18466), dtype=tf.float32, name='embedding_4_input'), name='embedding_4_input', description=\"created by layer 'embedding_4_input'\"), but it was called on an input with incompatible shape (None, 7862).\n"
     ]
    },
    {
     "data": {
      "application/javascript": [
       "\n",
       "    async function download(id, filename, size) {\n",
       "      if (!google.colab.kernel.accessAllowed) {\n",
       "        return;\n",
       "      }\n",
       "      const div = document.createElement('div');\n",
       "      const label = document.createElement('label');\n",
       "      label.textContent = `Downloading \"${filename}\": `;\n",
       "      div.appendChild(label);\n",
       "      const progress = document.createElement('progress');\n",
       "      progress.max = size;\n",
       "      div.appendChild(progress);\n",
       "      document.body.appendChild(div);\n",
       "\n",
       "      const buffers = [];\n",
       "      let downloaded = 0;\n",
       "\n",
       "      const channel = await google.colab.kernel.comms.open(id);\n",
       "      // Send a message to notify the kernel that we're ready.\n",
       "      channel.send({})\n",
       "\n",
       "      for await (const message of channel.messages) {\n",
       "        // Send a message to notify the kernel that we're ready.\n",
       "        channel.send({})\n",
       "        if (message.buffers) {\n",
       "          for (const buffer of message.buffers) {\n",
       "            buffers.push(buffer);\n",
       "            downloaded += buffer.byteLength;\n",
       "            progress.value = downloaded;\n",
       "          }\n",
       "        }\n",
       "      }\n",
       "      const blob = new Blob(buffers, {type: 'application/binary'});\n",
       "      const a = document.createElement('a');\n",
       "      a.href = window.URL.createObjectURL(blob);\n",
       "      a.download = filename;\n",
       "      div.appendChild(a);\n",
       "      a.click();\n",
       "      div.remove();\n",
       "    }\n",
       "  "
      ],
      "text/plain": [
       "<IPython.core.display.Javascript object>"
      ]
     },
     "metadata": {
      "tags": []
     },
     "output_type": "display_data"
    },
    {
     "data": {
      "application/javascript": [
       "download(\"download_7e6b681e-022b-4e80-a437-23a4d6e92ed2\", \"model_6_confusion.png\", 233953)"
      ],
      "text/plain": [
       "<IPython.core.display.Javascript object>"
      ]
     },
     "metadata": {
      "tags": []
     },
     "output_type": "display_data"
    },
    {
     "data": {
      "image/png": "[encoded data removed]",
      "text/plain": [
       "<Figure size 720x432 with 1 Axes>"
      ]
     },
     "metadata": {
      "needs_background": "light",
      "tags": []
     },
     "output_type": "display_data"
    }
   ],
   "source": [
    "#make predictions for 2 layer convolution model\n",
    "preds = model_6.predict(x_test)\n",
    "preds = np.argmax(preds, axis=1)\n",
    "\n",
    "#create a confusion matrix\n",
    "confusion = confusion_matrix(y_test_uncategory, preds)\n",
    "\n",
    "#plot confusion matrix https://stackoverflow.com/questions/19233771/sklearn-plot-confusion-matrix-with-labels\n",
    "#fmt = 'g' to suppress scientific notation https://stackoverflow.com/questions/29647749/seaborn-showing-scientific-notation-in-heatmap-for-3-digit-numbers\n",
    "fig, ax = plt.subplots(figsize=(10,6))\n",
    "sns.heatmap(confusion, annot = True, ax = ax, fmt = 'g', cmap = 'Blues', cbar = False);\n",
    "\n",
    "label_order = ['rRNA Binding', 'DNA Binding', 'ATP Binding', 'Hormone', 'GTPase', 'NADH Dehydrogenase', 'Oxidoreductase', 'Toxin']\n",
    "\n",
    "#set the labels\n",
    "ax.set_xlabel('Predicted Labels', fontsize=12)\n",
    "ax.set_ylabel('True Labels',fontsize=12) \n",
    "ax.set_title('Confusion Matrix', fontsize = 12) \n",
    "ax.xaxis.set_ticklabels(label_order, rotation = 90)\n",
    "ax.yaxis.set_ticklabels(label_order, rotation = 0)\n",
    "\n",
    "# uncomment to save the image locally\n",
    "# from google.colab import files\n",
    "# plt.savefig(\"model_6_confusion.png\", bbox_inches='tight', dpi=300)\n",
    "# files.download(\"model_6_confusion.png\");"
   ]
  },
  {
   "cell_type": "markdown",
   "metadata": {},
   "source": [
    "### Visualization Interpretation"
   ]
  },
  {
   "cell_type": "markdown",
   "metadata": {},
   "source": [
    "The visualization above is a confusion matrix for the best performing model at this stage of the project. The confusion matrix takes the predictions of the models and compares them to the true labels of those predictions. Above, the true and predicted labels for each class are shown. The confusion matrix allows us to see where a large proportion of the misclassifications are occuring within the data. Unsurprisingly, a high number of misclassifications came from the ATP binding and DNA binding classes. There were protein sequences in modeling which had both of these functions attributed to them. Another area of large portions of misclassifications came from the ATP binding/DNA binding and Oxidoreductase class. "
   ]
  },
  {
   "cell_type": "code",
   "execution_count": null,
   "metadata": {
    "colab": {
     "base_uri": "https://localhost:8080/"
    },
    "id": "ToxEuYBsIIFO",
    "outputId": "28f27e64-85b6-4fc3-e725-3f7183851d9d"
   },
   "outputs": [
    {
     "name": "stdout",
     "output_type": "stream",
     "text": [
      "                    precision    recall  f1-score   support\n",
      "\n",
      "      rRNA Binding       1.00      0.97      0.98      5013\n",
      "       DNA Binding       0.90      0.92      0.91      6196\n",
      "       ATP Binding       0.97      0.96      0.96     16172\n",
      "           Hormone       0.75      0.84      0.80       379\n",
      "            GTPase       0.94      0.93      0.94      1437\n",
      "NADH Dehydrogenase       0.98      0.98      0.98      1060\n",
      "    Oxidoreductase       0.57      0.74      0.64       812\n",
      "             Toxin       0.94      0.93      0.94      1677\n",
      "\n",
      "          accuracy                           0.94     32746\n",
      "         macro avg       0.88      0.91      0.89     32746\n",
      "      weighted avg       0.95      0.94      0.94     32746\n",
      "\n"
     ]
    }
   ],
   "source": [
    "#get the classification report for the 2 layer convolutional model\n",
    "#find out where the misclassifications are occuring in the model\n",
    "print(classification_report(y_test_uncategory, preds, target_names=label_order))"
   ]
  },
  {
   "cell_type": "markdown",
   "metadata": {},
   "source": [
    "### Table Interpretation"
   ]
  },
  {
   "cell_type": "markdown",
   "metadata": {},
   "source": [
    "The table above is the classification report for Model 6. This report breaks down how well the model performed on predicting the individual classes in the testing data. Model 6 had a slightly better overall accuracy than Model 5 on all evaluation metrics, and it performed .15 points better at correctly classifying the Oxidoreductase class. The accuracy improved as there was a higher success rate for classification of all of the classes besides Oxidoreductase, which is reflected in the larger f1-scores for almost all of the other classes within the table. "
   ]
  },
  {
   "cell_type": "code",
   "execution_count": null,
   "metadata": {
    "colab": {
     "base_uri": "https://localhost:8080/"
    },
    "id": "fTQPIwMuRSXY",
    "outputId": "bc876686-6103-44ca-d592-7e390d97253a"
   },
   "outputs": [
    {
     "data": {
      "text/plain": [
       "0.9085654631587932"
      ]
     },
     "execution_count": 66,
     "metadata": {
      "tags": []
     },
     "output_type": "execute_result"
    }
   ],
   "source": [
    "#get the balanced accuracy score\n",
    "balanced_accuracy_score(y_test_uncategory, preds)"
   ]
  },
  {
   "cell_type": "code",
   "execution_count": null,
   "metadata": {
    "colab": {
     "base_uri": "https://localhost:8080/"
    },
    "id": "8w-M7QZxIIJm",
    "outputId": "447a5c02-a684-4c6f-babd-273bf137693c"
   },
   "outputs": [
    {
     "data": {
      "text/plain": [
       "0.944235391789168"
      ]
     },
     "execution_count": 67,
     "metadata": {
      "tags": []
     },
     "output_type": "execute_result"
    }
   ],
   "source": [
    "#get the f1-score of the model\n",
    "f1_score(y_test_uncategory, preds, average = 'weighted')"
   ]
  },
  {
   "cell_type": "markdown",
   "metadata": {
    "id": "LQHSBBvWJMDt"
   },
   "source": [
    "## Recurrent Neural Network 7 - Continued Layer Manipulation"
   ]
  },
  {
   "cell_type": "code",
   "execution_count": null,
   "metadata": {
    "id": "UCbJMzeoJN0q"
   },
   "outputs": [],
   "source": [
    "#create the new model architecture for model 7\n",
    "model_7 = Sequential()\n",
    "\n",
    "model_7.add(Embedding(input_dim = tokenizer.num_words, output_dim = 64, input_length = x_train.shape[1]))\n",
    "\n",
    "#add the convolutional layer\n",
    "model_7.add(Conv1D(164,32, activation = 'relu'))\n",
    "model_7.add(MaxPooling1D(6))\n",
    "\n",
    "#add second convolutional layer and GRU layer\n",
    "model_7.add(Conv1D(64,24, activation = 'relu'))\n",
    "model_7.add(Bidirectional(GRU(64)))\n",
    "model_7.add(Dense(240, activation = 'relu'))\n",
    "model_7.add(Dropout(rate = .2))\n",
    "model_7.add(Dense(8, activation = 'softmax'))\n",
    "\n",
    "\n",
    "#early stop creation\n",
    "early_stop = EarlyStopping(patience = 3)\n",
    "\n",
    "#compile the model\n",
    "model_7.compile(optimizer = 'adam', loss = 'categorical_crossentropy', metrics = ['acc', 'Precision', 'Recall'])"
   ]
  },
  {
   "cell_type": "code",
   "execution_count": null,
   "metadata": {
    "colab": {
     "base_uri": "https://localhost:8080/"
    },
    "id": "hu_PY9i6n7bG",
    "outputId": "40fd758a-f944-458f-dca6-3a66fe3356dc"
   },
   "outputs": [
    {
     "name": "stdout",
     "output_type": "stream",
     "text": [
      "Epoch 1/40\n",
      "384/384 [==============================] - ETA: 0s - loss: 1.0252 - acc: 0.6638 - precision: 0.7193 - recall: 0.5695WARNING:tensorflow:Model was constructed with shape (None, 18466) for input KerasTensor(type_spec=TensorSpec(shape=(None, 18466), dtype=tf.float32, name='embedding_7_input'), name='embedding_7_input', description=\"created by layer 'embedding_7_input'\"), but it was called on an input with incompatible shape (None, 7862).\n",
      "384/384 [==============================] - 745s 2s/step - loss: 1.0244 - acc: 0.6641 - precision: 0.7196 - recall: 0.5699 - val_loss: 0.3268 - val_acc: 0.8919 - val_precision: 0.9056 - val_recall: 0.8816\n",
      "Epoch 2/40\n",
      "384/384 [==============================] - 740s 2s/step - loss: 0.2646 - acc: 0.9168 - precision: 0.9334 - recall: 0.9025 - val_loss: 0.2321 - val_acc: 0.9241 - val_precision: 0.9357 - val_recall: 0.9130\n",
      "Epoch 3/40\n",
      "384/384 [==============================] - 740s 2s/step - loss: 0.1342 - acc: 0.9581 - precision: 0.9659 - recall: 0.9513 - val_loss: 0.2005 - val_acc: 0.9362 - val_precision: 0.9453 - val_recall: 0.9292\n",
      "Epoch 4/40\n",
      "384/384 [==============================] - 740s 2s/step - loss: 0.0773 - acc: 0.9763 - precision: 0.9800 - recall: 0.9732 - val_loss: 0.2207 - val_acc: 0.9401 - val_precision: 0.9448 - val_recall: 0.9373\n",
      "Epoch 5/40\n",
      "384/384 [==============================] - 739s 2s/step - loss: 0.0515 - acc: 0.9841 - precision: 0.9867 - recall: 0.9825 - val_loss: 0.2233 - val_acc: 0.9404 - val_precision: 0.9432 - val_recall: 0.9379\n",
      "Epoch 6/40\n",
      "384/384 [==============================] - 739s 2s/step - loss: 0.0402 - acc: 0.9875 - precision: 0.9893 - recall: 0.9859 - val_loss: 0.2196 - val_acc: 0.9445 - val_precision: 0.9482 - val_recall: 0.9417\n"
     ]
    }
   ],
   "source": [
    "#fit the model to the training data\n",
    "hist_7 = model_7.fit(x_train, y_train, validation_data = (x_test, y_test),\n",
    "                               epochs = 40, callbacks = [early_stop],\n",
    "                               batch_size = 256)"
   ]
  },
  {
   "cell_type": "code",
   "execution_count": null,
   "metadata": {
    "colab": {
     "base_uri": "https://localhost:8080/"
    },
    "id": "RcpGQcvroGtN",
    "outputId": "289cf6cf-aab3-45c1-e8d6-ffe88382b0c3"
   },
   "outputs": [
    {
     "name": "stdout",
     "output_type": "stream",
     "text": [
      "1024/1024 [==============================] - 60s 58ms/step - loss: 0.2196 - acc: 0.9445 - precision: 0.9482 - recall: 0.9417\n"
     ]
    },
    {
     "data": {
      "text/plain": [
       "[0.21957005560398102,\n",
       " 0.9444817900657654,\n",
       " 0.9482488036155701,\n",
       " 0.9417333602905273]"
      ]
     },
     "execution_count": 82,
     "metadata": {
      "tags": []
     },
     "output_type": "execute_result"
    }
   ],
   "source": [
    "#evaluate the model\n",
    "model_7.evaluate(x_test, y_test)"
   ]
  },
  {
   "cell_type": "markdown",
   "metadata": {},
   "source": [
    "### Model Interpretation"
   ]
  },
  {
   "cell_type": "markdown",
   "metadata": {},
   "source": [
    "Model 7, with continued manipulation of the hidden layer and convolutional layer inputs. The accuracy of Model 7 was approximately 94.5%. While all of the evaluation metrics during neural network training scored slightly better than those in Model 6, the balanced accuracy and classification report show that Model 7 performed worse in classifying the Oxidoreductase class. Calculated below, the balanced accuracy is 87.1% and the f1-score is 94.3%. Based on the desired pair-wise evaluation metrics, Model 6 performed better than Model 7."
   ]
  },
  {
   "cell_type": "code",
   "execution_count": null,
   "metadata": {
    "colab": {
     "base_uri": "https://localhost:8080/",
     "height": 407
    },
    "id": "P-mbaCAgQxX8",
    "outputId": "6c187767-797e-49ef-c3b0-af63f74e2247"
   },
   "outputs": [
    {
     "data": {
      "application/javascript": [
       "\n",
       "    async function download(id, filename, size) {\n",
       "      if (!google.colab.kernel.accessAllowed) {\n",
       "        return;\n",
       "      }\n",
       "      const div = document.createElement('div');\n",
       "      const label = document.createElement('label');\n",
       "      label.textContent = `Downloading \"${filename}\": `;\n",
       "      div.appendChild(label);\n",
       "      const progress = document.createElement('progress');\n",
       "      progress.max = size;\n",
       "      div.appendChild(progress);\n",
       "      document.body.appendChild(div);\n",
       "\n",
       "      const buffers = [];\n",
       "      let downloaded = 0;\n",
       "\n",
       "      const channel = await google.colab.kernel.comms.open(id);\n",
       "      // Send a message to notify the kernel that we're ready.\n",
       "      channel.send({})\n",
       "\n",
       "      for await (const message of channel.messages) {\n",
       "        // Send a message to notify the kernel that we're ready.\n",
       "        channel.send({})\n",
       "        if (message.buffers) {\n",
       "          for (const buffer of message.buffers) {\n",
       "            buffers.push(buffer);\n",
       "            downloaded += buffer.byteLength;\n",
       "            progress.value = downloaded;\n",
       "          }\n",
       "        }\n",
       "      }\n",
       "      const blob = new Blob(buffers, {type: 'application/binary'});\n",
       "      const a = document.createElement('a');\n",
       "      a.href = window.URL.createObjectURL(blob);\n",
       "      a.download = filename;\n",
       "      div.appendChild(a);\n",
       "      a.click();\n",
       "      div.remove();\n",
       "    }\n",
       "  "
      ],
      "text/plain": [
       "<IPython.core.display.Javascript object>"
      ]
     },
     "metadata": {
      "tags": []
     },
     "output_type": "display_data"
    },
    {
     "data": {
      "application/javascript": [
       "download(\"download_763431b6-b1c4-48b1-972c-a1b77e42ef10\", \"model_7_accuracy.png\", 132172)"
      ],
      "text/plain": [
       "<IPython.core.display.Javascript object>"
      ]
     },
     "metadata": {
      "tags": []
     },
     "output_type": "display_data"
    },
    {
     "data": {
      "image/png": "[encoded data removed]",
      "text/plain": [
       "<Figure size 720x432 with 1 Axes>"
      ]
     },
     "metadata": {
      "needs_background": "light",
      "tags": []
     },
     "output_type": "display_data"
    }
   ],
   "source": [
    "#plot the accuracy\n",
    "#plot the graphs of the accuracy for model 7\n",
    "plt.figure(figsize=(10,6))\n",
    "plt.plot(hist_7.history['acc'], label = 'Training Accuracy', color = '#FA8072')\n",
    "plt.plot(hist_7.history['val_acc'], label = 'Validation Accuracy', color = '#6A5ACD')\n",
    "plt.ylabel('Accuracy Score', fontsize=12)\n",
    "plt.xlabel('Epochs', fontsize=12)\n",
    "plt.title('Training and Validation Accuracy')\n",
    "plt.legend();"
   ]
  },
  {
   "cell_type": "markdown",
   "metadata": {},
   "source": [
    "### Visualization Interpretation"
   ]
  },
  {
   "cell_type": "markdown",
   "metadata": {},
   "source": [
    "The visualization above shows the accuracy of the training and testing/validation data across the 6 epochs of neural net training. Similarly to the other models trained, Model 7 training accuracy increased over the course of neural net training. The testing/validation accuracy, for the most part, also increased over the course of training. Ultimately, the testing accuracy was approximately 94.5%."
   ]
  },
  {
   "cell_type": "code",
   "execution_count": null,
   "metadata": {
    "colab": {
     "base_uri": "https://localhost:8080/"
    },
    "id": "FvznfMJXQ2Ov",
    "outputId": "e1ea759b-0d88-4c43-fffa-268c5819d4b7"
   },
   "outputs": [
    {
     "data": {
      "text/plain": [
       "(32746,)"
      ]
     },
     "execution_count": 85,
     "metadata": {
      "tags": []
     },
     "output_type": "execute_result"
    }
   ],
   "source": [
    "#reverse the to_categorical of y_test to make classes for confusion matrix\n",
    "#cast the list to a numpy array\n",
    "y_test_uncategory = [np.argmax(y, axis=None, out=None) for y in y_test]\n",
    "y_test_uncategory = np.asarray(y_test_uncategory)\n",
    "y_test_uncategory.shape\n",
    "\n",
    "#make predictions for recurrent neural net model 7\n",
    "preds = model_7.predict(x_test)\n",
    "preds = np.argmax(preds, axis=1)\n",
    "\n",
    "#get the labels for the summary\n",
    "label_order = ['rRNA Binding', 'DNA Binding', 'ATP Binding', 'Hormone', 'GTPase', 'NADH Dehydrogenase', 'Oxidoreductase', 'Toxin']"
   ]
  },
  {
   "cell_type": "code",
   "execution_count": null,
   "metadata": {
    "colab": {
     "base_uri": "https://localhost:8080/"
    },
    "id": "06iOVNIGRTxZ",
    "outputId": "32166729-5469-4936-8db8-43bee53aa0df"
   },
   "outputs": [
    {
     "name": "stdout",
     "output_type": "stream",
     "text": [
      "                    precision    recall  f1-score   support\n",
      "\n",
      "      rRNA Binding       0.99      0.99      0.99      5013\n",
      "       DNA Binding       0.92      0.90      0.91      6196\n",
      "       ATP Binding       0.94      0.98      0.96     16172\n",
      "           Hormone       0.84      0.81      0.82       379\n",
      "            GTPase       0.96      0.93      0.94      1437\n",
      "NADH Dehydrogenase       0.99      0.94      0.96      1060\n",
      "    Oxidoreductase       0.81      0.50      0.62       812\n",
      "             Toxin       0.94      0.93      0.94      1677\n",
      "\n",
      "          accuracy                           0.94     32746\n",
      "         macro avg       0.92      0.87      0.89     32746\n",
      "      weighted avg       0.94      0.94      0.94     32746\n",
      "\n"
     ]
    }
   ],
   "source": [
    "#get the classification report for the 2 layer convolutional model\n",
    "#find out where the misclassifications are occuring in the model\n",
    "print(classification_report(y_test_uncategory, preds, target_names=label_order))"
   ]
  },
  {
   "cell_type": "markdown",
   "metadata": {},
   "source": [
    "### Table Interpretation"
   ]
  },
  {
   "cell_type": "markdown",
   "metadata": {},
   "source": [
    "The table above is the classification report for Model 7. This report breaks down how well the model performed on predicting the individual classes in the testing data. In the report above, we see the best f1-scores for each of the classes so far. The Oxidoreductase class, while still the most misclassified class of the group, has an f1-score of .62. All other classes, except for the Hormone, class have a f1-score above .90. The Hormone class is the smallest class in the data, only sporting about 1% of the total observations has an f1-score of .82. In order to improve the classification of the Hormone class a larger number of observations is needed."
   ]
  },
  {
   "cell_type": "code",
   "execution_count": null,
   "metadata": {
    "colab": {
     "base_uri": "https://localhost:8080/"
    },
    "id": "hC04jql4SD8H",
    "outputId": "718abc3b-5e78-422e-946d-c888b8a04de8"
   },
   "outputs": [
    {
     "data": {
      "text/plain": [
       "0.8708710779475262"
      ]
     },
     "execution_count": 88,
     "metadata": {
      "tags": []
     },
     "output_type": "execute_result"
    }
   ],
   "source": [
    "#get the balanced accuracy score\n",
    "balanced_accuracy_score(y_test_uncategory, preds)"
   ]
  },
  {
   "cell_type": "code",
   "execution_count": null,
   "metadata": {
    "colab": {
     "base_uri": "https://localhost:8080/"
    },
    "id": "v3W_b9OBr49Z",
    "outputId": "6478b4ed-1788-413b-974a-137a03a1e4d9"
   },
   "outputs": [
    {
     "data": {
      "text/plain": [
       "0.9426817164003072"
      ]
     },
     "execution_count": 89,
     "metadata": {
      "tags": []
     },
     "output_type": "execute_result"
    }
   ],
   "source": [
    "#get the f1-score of the model\n",
    "f1_score(y_test_uncategory, preds, average = 'weighted')"
   ]
  },
  {
   "cell_type": "markdown",
   "metadata": {
    "id": "lY2N-KiuDCjj"
   },
   "source": [
    "## Next Notebook: oversample_model_rnn.ipynb\n",
    "\n",
    "In the next iteration of modeling, the module imblearn was used to oversample the minority classes in order to create balanced classes. "
   ]
  }
 ],
 "metadata": {
  "accelerator": "GPU",
  "colab": {
   "collapsed_sections": [],
   "machine_shape": "hm",
   "name": "Copy of CAPSTONE-1",
   "provenance": []
  },
  "kernelspec": {
   "display_name": "Python 3",
   "language": "python",
   "name": "python3"
  },
  "language_info": {
   "codemirror_mode": {
    "name": "ipython",
    "version": 3
   },
   "file_extension": ".py",
   "mimetype": "text/x-python",
   "name": "python",
   "nbconvert_exporter": "python",
   "pygments_lexer": "ipython3",
   "version": "3.8.5"
  }
 },
 "nbformat": 4,
 "nbformat_minor": 4
}
