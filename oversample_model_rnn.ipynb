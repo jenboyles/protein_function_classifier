{
 "cells": [
  {
   "cell_type": "code",
   "execution_count": 1,
   "metadata": {
    "colab": {
     "base_uri": "https://localhost:8080/"
    },
    "id": "fGDt7ZRQibj_",
    "outputId": "f790c39b-c2cb-4376-ac3a-53821df14060"
   },
   "outputs": [],
   "source": [
    "## NEW PYTHON CAPSTONE NOTEBOOK FOR GPU\n",
    "import pandas as pd\n",
    "import numpy as np\n",
    "import matplotlib.pyplot as plt\n",
    "import seaborn as sns\n",
    "from sklearn.model_selection import train_test_split\n",
    "from imblearn.over_sampling import RandomOverSampler\n",
    "from sklearn.metrics import f1_score, precision_score, recall_score, confusion_matrix, classification_report, balanced_accuracy_score\n",
    "\n",
    "#keras imports\n",
    "from tensorflow.keras.models import Sequential\n",
    "from tensorflow.keras.layers import SimpleRNN, LSTM, GRU, Dense, Embedding, Flatten, Bidirectional, Dropout\n",
    "from tensorflow.keras.preprocessing.text import Tokenizer\n",
    "from tensorflow.keras.preprocessing.sequence import pad_sequences\n",
    "from tensorflow.keras.metrics import Precision, Recall\n",
    "from tensorflow.keras.utils import to_categorical\n",
    "from tensorflow.keras.callbacks import EarlyStopping\n",
    "from sklearn.utils import class_weight\n",
    "\n",
    "#convolutional keras imports\n",
    "from tensorflow.keras.layers import Conv1D, MaxPooling1D, GlobalMaxPooling1D\n",
    "\n",
    "#suppress FutureWarnings\n",
    "import warnings\n",
    "warnings.filterwarnings(\"ignore\", category=FutureWarning)"
   ]
  },
  {
   "cell_type": "code",
   "execution_count": null,
   "metadata": {
    "colab": {
     "base_uri": "https://localhost:8080/",
     "height": 72,
     "resources": {
      "http://localhost:8080/nbextensions/google.colab/files.js": {
       "data": "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",
       "headers": [
        [
         "content-type",
         "application/javascript"
        ]
       ],
       "ok": true,
       "status": 200,
       "status_text": ""
      }
     }
    },
    "id": "yVDAr8spiutB",
    "outputId": "0f650af4-835d-4dcc-f446-2236d9ca52a9"
   },
   "outputs": [
    {
     "data": {
      "text/html": [
       "\n",
       "     <input type=\"file\" id=\"files-baa1e374-d484-4d69-b6ae-5e04c970274f\" name=\"files[]\" multiple disabled\n",
       "        style=\"border:none\" />\n",
       "     <output id=\"result-baa1e374-d484-4d69-b6ae-5e04c970274f\">\n",
       "      Upload widget is only available when the cell has been executed in the\n",
       "      current browser session. Please rerun this cell to enable.\n",
       "      </output>\n",
       "      <script src=\"/nbextensions/google.colab/files.js\"></script> "
      ],
      "text/plain": [
       "<IPython.core.display.HTML object>"
      ]
     },
     "metadata": {
      "tags": []
     },
     "output_type": "display_data"
    },
    {
     "name": "stdout",
     "output_type": "stream",
     "text": [
      "Saving compressed-class-separated.pkl to compressed-class-separated.pkl\n"
     ]
    }
   ],
   "source": [
    "## uncomment this cell if using google colab\n",
    "##import the dataset to google colab\n",
    "\n",
    "#from google.colab import files\n",
    "#uploaded = files.upload()"
   ]
  },
  {
   "cell_type": "code",
   "execution_count": null,
   "metadata": {
    "colab": {
     "base_uri": "https://localhost:8080/",
     "height": 35
    },
    "id": "55qQPpXyiuxZ",
    "outputId": "4dce38dd-20d1-47d9-a5f6-816f31d0fd28"
   },
   "outputs": [
    {
     "data": {
      "application/vnd.google.colaboratory.intrinsic+json": {
       "type": "string"
      },
      "text/plain": [
       "'/device:GPU:0'"
      ]
     },
     "execution_count": 3,
     "metadata": {
      "tags": []
     },
     "output_type": "execute_result"
    }
   ],
   "source": [
    "##uncomment if using google colab to check that gpu is enabled for modeling\n",
    "## used in google colab to see if a gpu is being used\n",
    "\n",
    "#import tensorflow as tf\n",
    "#tf.test.gpu_device_name()"
   ]
  },
  {
   "cell_type": "code",
   "execution_count": null,
   "metadata": {
    "colab": {
     "base_uri": "https://localhost:8080/",
     "height": 204
    },
    "id": "BT8mI_0Niu1R",
    "outputId": "abdc5294-e3ca-4409-a43b-a11cf56e6365"
   },
   "outputs": [
    {
     "data": {
      "text/html": [
       "<div>\n",
       "<style scoped>\n",
       "    .dataframe tbody tr th:only-of-type {\n",
       "        vertical-align: middle;\n",
       "    }\n",
       "\n",
       "    .dataframe tbody tr th {\n",
       "        vertical-align: top;\n",
       "    }\n",
       "\n",
       "    .dataframe thead th {\n",
       "        text-align: right;\n",
       "    }\n",
       "</style>\n",
       "<table border=\"1\" class=\"dataframe\">\n",
       "  <thead>\n",
       "    <tr style=\"text-align: right;\">\n",
       "      <th></th>\n",
       "      <th>Gene ontology (molecular function)</th>\n",
       "      <th>Sequence</th>\n",
       "      <th>Length</th>\n",
       "      <th>Organism</th>\n",
       "      <th>Protein names</th>\n",
       "      <th>class</th>\n",
       "    </tr>\n",
       "  </thead>\n",
       "  <tbody>\n",
       "    <tr>\n",
       "      <th>0</th>\n",
       "      <td>rRNA binding [GO:0019843]; structural constitu...</td>\n",
       "      <td>MNVILLDKIANLGSLGDQVSVKSGYARNFLFPQGKAVPATKSNVDL...</td>\n",
       "      <td>150</td>\n",
       "      <td>Idiomarina loihiensis (strain ATCC BAA-735 / D...</td>\n",
       "      <td>50S ribosomal protein L9</td>\n",
       "      <td>1</td>\n",
       "    </tr>\n",
       "    <tr>\n",
       "      <th>1</th>\n",
       "      <td>rRNA binding [GO:0019843]; structural constitu...</td>\n",
       "      <td>MQLYDFYKKNVLIKLKNKFNYKSIMQVPKIEKITLNMGVGKASFDK...</td>\n",
       "      <td>178</td>\n",
       "      <td>Wigglesworthia glossinidia brevipalpis</td>\n",
       "      <td>50S ribosomal protein L5</td>\n",
       "      <td>1</td>\n",
       "    </tr>\n",
       "    <tr>\n",
       "      <th>2</th>\n",
       "      <td>rRNA binding [GO:0019843]; structural constitu...</td>\n",
       "      <td>MELKLLNDQGQAASNVAAPDTIFGRDYNEALIHQVVVAYQANARSG...</td>\n",
       "      <td>206</td>\n",
       "      <td>Janthinobacterium sp. (strain Marseille) (Mini...</td>\n",
       "      <td>50S ribosomal protein L4</td>\n",
       "      <td>1</td>\n",
       "    </tr>\n",
       "    <tr>\n",
       "      <th>3</th>\n",
       "      <td>rRNA binding [GO:0019843]; structural constitu...</td>\n",
       "      <td>MNVILLDKIANLGNLGDQVAVKAGYARNYLLPQGKAVVANESNVKV...</td>\n",
       "      <td>150</td>\n",
       "      <td>Shewanella sp. (strain MR-7)</td>\n",
       "      <td>50S ribosomal protein L9</td>\n",
       "      <td>1</td>\n",
       "    </tr>\n",
       "    <tr>\n",
       "      <th>4</th>\n",
       "      <td>rRNA binding [GO:0019843]; structural constitu...</td>\n",
       "      <td>MSRVAKAPVNIPAGVEVKLDGQLLTVKGKNGELSRKIHESVEVKQD...</td>\n",
       "      <td>177</td>\n",
       "      <td>Haemophilus influenzae (strain PittGG)</td>\n",
       "      <td>50S ribosomal protein L6</td>\n",
       "      <td>1</td>\n",
       "    </tr>\n",
       "  </tbody>\n",
       "</table>\n",
       "</div>"
      ],
      "text/plain": [
       "                  Gene ontology (molecular function)  ... class\n",
       "0  rRNA binding [GO:0019843]; structural constitu...  ...     1\n",
       "1  rRNA binding [GO:0019843]; structural constitu...  ...     1\n",
       "2  rRNA binding [GO:0019843]; structural constitu...  ...     1\n",
       "3  rRNA binding [GO:0019843]; structural constitu...  ...     1\n",
       "4  rRNA binding [GO:0019843]; structural constitu...  ...     1\n",
       "\n",
       "[5 rows x 6 columns]"
      ]
     },
     "execution_count": 3,
     "metadata": {
      "tags": []
     },
     "output_type": "execute_result"
    }
   ],
   "source": [
    "##read in the pickle file from google colab\n",
    "#protein = pd.read_pickle('/content/compressed-class-separated.pkl', compression = 'gzip')\n",
    "#protein.head()"
   ]
  },
  {
   "cell_type": "code",
   "execution_count": null,
   "metadata": {},
   "outputs": [],
   "source": [
    "#reading in the pickle file in jupyter lab\n",
    "protein = pd.read_pickle('data/compressed-class-separated.pkl', compression = 'gzip')"
   ]
  },
  {
   "cell_type": "code",
   "execution_count": null,
   "metadata": {
    "colab": {
     "base_uri": "https://localhost:8080/",
     "height": 111
    },
    "id": "z9gK6EVuiu5i",
    "outputId": "0cdc991f-1bc5-46c8-d2db-9b9392f93405"
   },
   "outputs": [
    {
     "data": {
      "text/html": [
       "<div>\n",
       "<style scoped>\n",
       "    .dataframe tbody tr th:only-of-type {\n",
       "        vertical-align: middle;\n",
       "    }\n",
       "\n",
       "    .dataframe tbody tr th {\n",
       "        vertical-align: top;\n",
       "    }\n",
       "\n",
       "    .dataframe thead th {\n",
       "        text-align: right;\n",
       "    }\n",
       "</style>\n",
       "<table border=\"1\" class=\"dataframe\">\n",
       "  <thead>\n",
       "    <tr style=\"text-align: right;\">\n",
       "      <th></th>\n",
       "      <th>Sequence</th>\n",
       "      <th>class</th>\n",
       "    </tr>\n",
       "  </thead>\n",
       "  <tbody>\n",
       "    <tr>\n",
       "      <th>0</th>\n",
       "      <td>MNVILLDKIANLGSLGDQVSVKSGYARNFLFPQGKAVPATKSNVDL...</td>\n",
       "      <td>1</td>\n",
       "    </tr>\n",
       "    <tr>\n",
       "      <th>1</th>\n",
       "      <td>MQLYDFYKKNVLIKLKNKFNYKSIMQVPKIEKITLNMGVGKASFDK...</td>\n",
       "      <td>1</td>\n",
       "    </tr>\n",
       "  </tbody>\n",
       "</table>\n",
       "</div>"
      ],
      "text/plain": [
       "                                            Sequence  class\n",
       "0  MNVILLDKIANLGSLGDQVSVKSGYARNFLFPQGKAVPATKSNVDL...      1\n",
       "1  MQLYDFYKKNVLIKLKNKFNYKSIMQVPKIEKITLNMGVGKASFDK...      1"
      ]
     },
     "execution_count": 4,
     "metadata": {
      "tags": []
     },
     "output_type": "execute_result"
    }
   ],
   "source": [
    "#drop the rows that aren't needed for modeling here\n",
    "#only want sequence and class values\n",
    "protein = protein.drop(columns = ['Gene ontology (molecular function)', 'Length', 'Organism', 'Protein names'])\n",
    "protein.head(2)"
   ]
  },
  {
   "cell_type": "markdown",
   "metadata": {},
   "source": [
    "## Preprocessing the Data"
   ]
  },
  {
   "cell_type": "markdown",
   "metadata": {},
   "source": [
    "#### Function for Making Each Amino Acid Abbreviation a \"word\""
   ]
  },
  {
   "cell_type": "code",
   "execution_count": null,
   "metadata": {
    "id": "ny5cUZMRiu9p"
   },
   "outputs": [],
   "source": [
    "## make each single letter amino acid it's own \"word\" for tokenizing\n",
    "def make_words(sequence):\n",
    "    \n",
    "    \"\"\"\n",
    "    argument: amino acid sequence in single letter code/abbreviation\n",
    "    output: input amino acid sequence with spaces between each single letter code\n",
    "    \"\"\"\n",
    "    \n",
    "    \n",
    "    #instantiate empty string to concat amino acids to\n",
    "    space_seq = ''\n",
    "    \n",
    "    #for loop to loop over each amino acid in the sequence and add it into the \n",
    "    #string with a space afterwards\n",
    "    for char in sequence:\n",
    "        space_seq += char\n",
    "        space_seq += \" \"\n",
    "    #remove the space at end of the new string\n",
    "    return space_seq[:-1] "
   ]
  },
  {
   "cell_type": "code",
   "execution_count": null,
   "metadata": {
    "id": "mLJs-_McivCh"
   },
   "outputs": [],
   "source": [
    "#apply the function to the sequence column of the dataframe\n",
    "protein['Sequence'] = protein['Sequence'].apply(lambda x: make_words(x))"
   ]
  },
  {
   "cell_type": "code",
   "execution_count": null,
   "metadata": {
    "colab": {
     "base_uri": "https://localhost:8080/",
     "height": 142
    },
    "id": "Jy-g4S5EivG5",
    "outputId": "f5cd0b03-fbb7-4cde-eae4-4170eaf22d60"
   },
   "outputs": [
    {
     "data": {
      "text/html": [
       "<div>\n",
       "<style scoped>\n",
       "    .dataframe tbody tr th:only-of-type {\n",
       "        vertical-align: middle;\n",
       "    }\n",
       "\n",
       "    .dataframe tbody tr th {\n",
       "        vertical-align: top;\n",
       "    }\n",
       "\n",
       "    .dataframe thead th {\n",
       "        text-align: right;\n",
       "    }\n",
       "</style>\n",
       "<table border=\"1\" class=\"dataframe\">\n",
       "  <thead>\n",
       "    <tr style=\"text-align: right;\">\n",
       "      <th></th>\n",
       "      <th>Sequence</th>\n",
       "      <th>class</th>\n",
       "    </tr>\n",
       "  </thead>\n",
       "  <tbody>\n",
       "    <tr>\n",
       "      <th>0</th>\n",
       "      <td>M N V I L L D K I A N L G S L G D Q V S V K S ...</td>\n",
       "      <td>1</td>\n",
       "    </tr>\n",
       "    <tr>\n",
       "      <th>1</th>\n",
       "      <td>M Q L Y D F Y K K N V L I K L K N K F N Y K S ...</td>\n",
       "      <td>1</td>\n",
       "    </tr>\n",
       "    <tr>\n",
       "      <th>2</th>\n",
       "      <td>M E L K L L N D Q G Q A A S N V A A P D T I F ...</td>\n",
       "      <td>1</td>\n",
       "    </tr>\n",
       "  </tbody>\n",
       "</table>\n",
       "</div>"
      ],
      "text/plain": [
       "                                            Sequence  class\n",
       "0  M N V I L L D K I A N L G S L G D Q V S V K S ...      1\n",
       "1  M Q L Y D F Y K K N V L I K L K N K F N Y K S ...      1\n",
       "2  M E L K L L N D Q G Q A A S N V A A P D T I F ...      1"
      ]
     },
     "execution_count": 7,
     "metadata": {
      "tags": []
     },
     "output_type": "execute_result"
    }
   ],
   "source": [
    "#more views to make sure application of make_words occurred correctly\n",
    "protein.head(3)"
   ]
  },
  {
   "cell_type": "markdown",
   "metadata": {},
   "source": [
    "#### Setting up X and y for training\n",
    "\n",
    "To be able to keep the Google Colab session within the RAM allotment, the ATP class was reduced to 20,000 observations from the original 64,687. "
   ]
  },
  {
   "cell_type": "code",
   "execution_count": null,
   "metadata": {
    "colab": {
     "base_uri": "https://localhost:8080/"
    },
    "id": "Naby1ifYRjfb",
    "outputId": "2eda15ec-d65d-4b8f-f46b-48fa0732d104"
   },
   "outputs": [
    {
     "data": {
      "text/plain": [
       "(130981, 2)"
      ]
     },
     "execution_count": 8,
     "metadata": {
      "tags": []
     },
     "output_type": "execute_result"
    }
   ],
   "source": [
    "#the original shape of the protein data\n",
    "protein.shape"
   ]
  },
  {
   "cell_type": "code",
   "execution_count": null,
   "metadata": {
    "id": "uDEemaSXQzvn"
   },
   "outputs": [],
   "source": [
    "#grabbing the atp class from the data\n",
    "atp_class = protein[protein['class']==3]\n",
    "\n",
    "#sample the atp class for only 20,000 observations\n",
    "atp_class = atp_class.sample(n = 20_000)"
   ]
  },
  {
   "cell_type": "code",
   "execution_count": null,
   "metadata": {
    "id": "TUY78RhbRDFt"
   },
   "outputs": [],
   "source": [
    "#remove atp class from protein dataframe\n",
    "no_atp_df = protein[protein['class']!=3]"
   ]
  },
  {
   "cell_type": "code",
   "execution_count": null,
   "metadata": {
    "id": "oyy8WS-cRFo2"
   },
   "outputs": [],
   "source": [
    "#make the protein dataframe once more with 40k~ less atp binding values -- so RAM doesn't fail for the next code\n",
    "#reassigned the protein variable to the new data\n",
    "protein = pd.concat([atp_class,no_atp_df])"
   ]
  },
  {
   "cell_type": "code",
   "execution_count": null,
   "metadata": {
    "id": "nk_36-3CjEYb"
   },
   "outputs": [],
   "source": [
    "#set up the X and y values for the recurrent neural net\n",
    "#X and y type is series\n",
    "X = protein['Sequence']\n",
    "y = protein['class']"
   ]
  },
  {
   "cell_type": "code",
   "execution_count": null,
   "metadata": {
    "id": "hOPIunEjjEhT"
   },
   "outputs": [],
   "source": [
    "#train/test split the data\n",
    "X_train, X_test, y_train, y_test = train_test_split(X,y, random_state = 18)"
   ]
  },
  {
   "cell_type": "code",
   "execution_count": null,
   "metadata": {
    "colab": {
     "base_uri": "https://localhost:8080/"
    },
    "id": "E5X306Eol1zR",
    "outputId": "bc3f89a7-0915-4c53-e35e-855af7b3dc2f"
   },
   "outputs": [
    {
     "data": {
      "text/plain": [
       "(64720,)"
      ]
     },
     "execution_count": 15,
     "metadata": {
      "tags": []
     },
     "output_type": "execute_result"
    }
   ],
   "source": [
    "X_train.shape"
   ]
  },
  {
   "cell_type": "code",
   "execution_count": null,
   "metadata": {
    "colab": {
     "base_uri": "https://localhost:8080/"
    },
    "id": "vGUpdQ75l1ui",
    "outputId": "1d2c0808-e52c-4583-f16c-4442f5c3d631"
   },
   "outputs": [
    {
     "data": {
      "text/plain": [
       "(21574,)"
      ]
     },
     "execution_count": 16,
     "metadata": {
      "tags": []
     },
     "output_type": "execute_result"
    }
   ],
   "source": [
    "X_test.shape"
   ]
  },
  {
   "cell_type": "code",
   "execution_count": null,
   "metadata": {
    "colab": {
     "base_uri": "https://localhost:8080/"
    },
    "id": "AGDsbqZ5tixM",
    "outputId": "4cfa75d5-44c1-499b-d165-2753c5500d34"
   },
   "outputs": [
    {
     "name": "stderr",
     "output_type": "stream",
     "text": [
      "/usr/local/lib/python3.7/dist-packages/sklearn/utils/deprecation.py:87: FutureWarning: Function safe_indexing is deprecated; safe_indexing is deprecated in version 0.22 and will be removed in version 0.24.\n",
      "  warnings.warn(msg, category=FutureWarning)\n"
     ]
    }
   ],
   "source": [
    "##oversample the minority classes\n",
    "#make X and y into an array\n",
    "X_train = X_train.to_numpy().reshape(-1,1)\n",
    "y_train = y_train.to_numpy().reshape(-1,1)\n",
    "\n",
    "#oversample the minority class\n",
    "oversample = RandomOverSampler(sampling_strategy= 'auto')\n",
    "#over sample the classes here\n",
    "X_train_oversamp, y_train_oversamp = oversample.fit_resample(X_train, y_train.ravel())\n",
    "\n",
    "#make the X values back into a series\n",
    "X_train = pd.Series(X_train_oversamp.tolist()).str.get(0)\n",
    "#make the y values back into a series\n",
    "y_train = pd.Series(y_train_oversamp.tolist())"
   ]
  },
  {
   "cell_type": "code",
   "execution_count": null,
   "metadata": {
    "colab": {
     "base_uri": "https://localhost:8080/"
    },
    "id": "p1LmXi1Fl7iz",
    "outputId": "16ee49d2-f019-44df-b6f8-8107d2db335e"
   },
   "outputs": [
    {
     "data": {
      "text/plain": [
       "(147976,)"
      ]
     },
     "execution_count": 18,
     "metadata": {
      "tags": []
     },
     "output_type": "execute_result"
    }
   ],
   "source": [
    "X_train.shape"
   ]
  },
  {
   "cell_type": "code",
   "execution_count": null,
   "metadata": {
    "id": "TkjQTy85jElD"
   },
   "outputs": [],
   "source": [
    "#as there are only 21 \"words\"/1-letter amino acids we want to keep all of these\n",
    "#default tokenizer splits on a white space\n",
    "tokenizer = Tokenizer(21)"
   ]
  },
  {
   "cell_type": "code",
   "execution_count": null,
   "metadata": {
    "id": "x6cpZkpUlsT1"
   },
   "outputs": [],
   "source": [
    "#fit the tokenizer to the training data so it can learn the 21 \"words\"\n",
    "tokenizer.fit_on_texts(X_train)"
   ]
  },
  {
   "cell_type": "code",
   "execution_count": null,
   "metadata": {
    "id": "m6q4caudlsX9"
   },
   "outputs": [],
   "source": [
    "#make the 21 \"words\" into sequences\n",
    "x_train = tokenizer.texts_to_sequences(X_train)\n",
    "x_test = tokenizer.texts_to_sequences(X_test)"
   ]
  },
  {
   "cell_type": "code",
   "execution_count": null,
   "metadata": {
    "id": "jXzBiRSilsbs"
   },
   "outputs": [],
   "source": [
    "#to make the sequences all the same length pad the sequences \n",
    "x_train = pad_sequences(x_train, maxlen = 18_000)\n",
    "x_test = pad_sequences(x_test, maxlen = 18_000)"
   ]
  },
  {
   "cell_type": "code",
   "execution_count": null,
   "metadata": {
    "colab": {
     "base_uri": "https://localhost:8080/"
    },
    "id": "9zthlMdylsfc",
    "outputId": "bf12617b-cc84-4a5f-f7bc-1f54ad043c3e"
   },
   "outputs": [
    {
     "data": {
      "text/plain": [
       "8    0.125\n",
       "7    0.125\n",
       "6    0.125\n",
       "5    0.125\n",
       "4    0.125\n",
       "3    0.125\n",
       "2    0.125\n",
       "1    0.125\n",
       "dtype: float64"
      ]
     },
     "execution_count": 24,
     "metadata": {
      "tags": []
     },
     "output_type": "execute_result"
    }
   ],
   "source": [
    "#observe the oversampled spread of the training classes\n",
    "y_train.value_counts(normalize = True)"
   ]
  },
  {
   "cell_type": "markdown",
   "metadata": {},
   "source": [
    "#### Categorize Class Values for Neural Network "
   ]
  },
  {
   "cell_type": "code",
   "execution_count": null,
   "metadata": {
    "id": "s7sjkev2lsjE"
   },
   "outputs": [],
   "source": [
    "#make the y categorical\n",
    "y_train = pd.get_dummies(y_train).values\n",
    "y_test = pd.get_dummies(y_test).values"
   ]
  },
  {
   "cell_type": "code",
   "execution_count": null,
   "metadata": {
    "colab": {
     "base_uri": "https://localhost:8080/"
    },
    "id": "p3wT8d9Nl0uY",
    "outputId": "493e23c3-f589-49ac-941a-b2d4e071f0b0"
   },
   "outputs": [
    {
     "name": "stdout",
     "output_type": "stream",
     "text": [
      "The shape of x train is: (147976, 18000).\n",
      "The shape of x test is: (21574, 18000).\n",
      "The shape of y train is: (147976, 8).\n",
      "The shape of y test is: (21574, 8).\n"
     ]
    }
   ],
   "source": [
    "#print the shapes of the training and testing data\n",
    "print(f'The shape of x train is: {x_train.shape}.')\n",
    "print(f'The shape of x test is: {x_test.shape}.')\n",
    "print(f'The shape of y train is: {y_train.shape}.')\n",
    "print(f'The shape of y test is: {y_test.shape}.')"
   ]
  },
  {
   "cell_type": "markdown",
   "metadata": {
    "id": "INqxDwbIseyP"
   },
   "source": [
    "## Oversampled RNN Multi-Label Classifier 1 - Account for Class Overlap"
   ]
  },
  {
   "cell_type": "code",
   "execution_count": null,
   "metadata": {
    "id": "Ahisjawxl02g"
   },
   "outputs": [],
   "source": [
    "#create the new model architecture for the multi-label classifier\n",
    "model = Sequential()\n",
    "\n",
    "model.add(Embedding(input_dim = tokenizer.num_words, output_dim = 64, input_length = x_train.shape[1]))\n",
    "\n",
    "#add the convolutional layer\n",
    "model.add(Conv1D(128,32, activation = 'relu'))\n",
    "model.add(MaxPooling1D(6))\n",
    "\n",
    "#add second convolutional layer and GRU layer\n",
    "model.add(Conv1D(64,24, activation = 'relu'))\n",
    "model.add(Bidirectional(GRU(64)))\n",
    "model.add(Dense(120, activation = 'relu'))\n",
    "model.add(Dropout(rate = .2))\n",
    "model.add(Dense(8, activation = 'sigmoid'))\n",
    "\n",
    "\n",
    "#early stop creation\n",
    "early_stop = EarlyStopping(patience = 3)\n",
    "\n",
    "#compile the model\n",
    "model.compile(optimizer = 'adam', loss = 'bce', metrics = ['acc', 'Precision', 'Recall'])"
   ]
  },
  {
   "cell_type": "code",
   "execution_count": null,
   "metadata": {
    "colab": {
     "base_uri": "https://localhost:8080/"
    },
    "id": "ZLkax7EhsnSy",
    "outputId": "d0e82b97-e5f8-4c43-da47-45c3cd2f85ee"
   },
   "outputs": [
    {
     "name": "stdout",
     "output_type": "stream",
     "text": [
      "Epoch 1/40\n",
      "579/579 [==============================] - 959s 2s/step - loss: 0.2639 - acc: 0.5048 - precision: 0.6519 - recall: 0.3491 - val_loss: 0.0861 - val_acc: 0.8630 - val_precision: 0.8859 - val_recall: 0.8380\n",
      "Epoch 2/40\n",
      "579/579 [==============================] - 946s 2s/step - loss: 0.0497 - acc: 0.9301 - precision: 0.9414 - recall: 0.9165 - val_loss: 0.0680 - val_acc: 0.9022 - val_precision: 0.9136 - val_recall: 0.8911\n",
      "Epoch 3/40\n",
      "579/579 [==============================] - 948s 2s/step - loss: 0.0219 - acc: 0.9719 - precision: 0.9748 - recall: 0.9676 - val_loss: 0.0490 - val_acc: 0.9359 - val_precision: 0.9453 - val_recall: 0.9270\n",
      "Epoch 4/40\n",
      "579/579 [==============================] - 949s 2s/step - loss: 0.0114 - acc: 0.9859 - precision: 0.9877 - recall: 0.9838 - val_loss: 0.0545 - val_acc: 0.9319 - val_precision: 0.9382 - val_recall: 0.9277\n",
      "Epoch 5/40\n",
      "579/579 [==============================] - 949s 2s/step - loss: 0.0071 - acc: 0.9919 - precision: 0.9924 - recall: 0.9906 - val_loss: 0.0776 - val_acc: 0.9165 - val_precision: 0.9202 - val_recall: 0.9126\n",
      "Epoch 6/40\n",
      "579/579 [==============================] - 949s 2s/step - loss: 0.0086 - acc: 0.9886 - precision: 0.9895 - recall: 0.9873 - val_loss: 0.0543 - val_acc: 0.9438 - val_precision: 0.9479 - val_recall: 0.9412\n"
     ]
    }
   ],
   "source": [
    "#fit the model to the training data\n",
    "hist = model.fit(x_train, y_train, validation_data = (x_test, y_test),\n",
    "                               epochs = 40, callbacks = [early_stop],\n",
    "                               batch_size = 256)"
   ]
  },
  {
   "cell_type": "code",
   "execution_count": null,
   "metadata": {
    "colab": {
     "base_uri": "https://localhost:8080/"
    },
    "id": "F6-H2YkNyf8P",
    "outputId": "83ef3940-eca2-4a6e-8011-bb8cc132be95"
   },
   "outputs": [
    {
     "name": "stdout",
     "output_type": "stream",
     "text": [
      "675/675 [==============================] - 92s 137ms/step - loss: 0.0543 - acc: 0.9438 - precision: 0.9479 - recall: 0.9412\n"
     ]
    },
    {
     "data": {
      "text/plain": [
       "[0.054321061819791794,\n",
       " 0.9438212513923645,\n",
       " 0.9478597640991211,\n",
       " 0.941225528717041]"
      ]
     },
     "execution_count": 29,
     "metadata": {
      "tags": []
     },
     "output_type": "execute_result"
    }
   ],
   "source": [
    "#get the final model evaluations\n",
    "model.evaluate(x_test,y_test)"
   ]
  },
  {
   "cell_type": "markdown",
   "metadata": {},
   "source": [
    "### Oversampled Model 1 Interpretation\n",
    "\n",
    "In the model above, the best model from the previous notebook was re-trained using the oversampled data. Without oversampled and balanced class numbers, this model scored 90.85% on balanced accuracy. Calculated below, the balanced accuracy of this score with balanced data is 92.2%. This told me that oversampling the minority classes of the data improved the performanced of the model. "
   ]
  },
  {
   "cell_type": "code",
   "execution_count": null,
   "metadata": {
    "id": "N36p54rHI3mX"
   },
   "outputs": [],
   "source": [
    "#reverse the to_categorical of y_test to make classes for confusion matrix\n",
    "#cast the list to a numpy array\n",
    "y_test_uncategory = [np.argmax(y, axis=None, out=None) for y in y_test]\n",
    "y_test_uncategory = np.asarray(y_test_uncategory)\n",
    "\n",
    "#make predictions\n",
    "preds = model.predict(x_test)\n",
    "preds = np.argmax(preds, axis=1)"
   ]
  },
  {
   "cell_type": "code",
   "execution_count": null,
   "metadata": {
    "colab": {
     "base_uri": "https://localhost:8080/"
    },
    "id": "pQbA2rZ5JkgK",
    "outputId": "c3c810db-0d99-4309-97ea-8800d9a21760"
   },
   "outputs": [
    {
     "name": "stdout",
     "output_type": "stream",
     "text": [
      "                    precision    recall  f1-score   support\n",
      "\n",
      "      rRNA Binding       0.99      0.99      0.99      4944\n",
      "       DNA Binding       0.91      0.96      0.93      6286\n",
      "       ATP Binding       0.93      0.91      0.92      5039\n",
      "           Hormone       0.86      0.93      0.89       366\n",
      "            GTPase       0.98      0.98      0.98      1390\n",
      "NADH Dehydrogenase       0.99      0.97      0.98      1013\n",
      "    Oxidoreductase       0.87      0.70      0.78       864\n",
      "             Toxin       0.97      0.94      0.95      1672\n",
      "\n",
      "          accuracy                           0.94     21574\n",
      "         macro avg       0.94      0.92      0.93     21574\n",
      "      weighted avg       0.94      0.94      0.94     21574\n",
      "\n"
     ]
    }
   ],
   "source": [
    "#get the classification report for the 2 layer convolutional model\n",
    "#find out where the misclassifications are occuring in the model\n",
    "print(classification_report(y_test_uncategory, preds, target_names=label_order))"
   ]
  },
  {
   "cell_type": "markdown",
   "metadata": {},
   "source": [
    "### Table Interpretation\n",
    "\n",
    "The table above is the classification report for Oversampled Model 1. This report breaks down how well the model performed on predicting the individual classes in the testing data. Oversampled Model 1 has the best f1-score for each individual class seen so far. Compared to Model 6, the same neural network architecture without oversampled data, Oversampled Model 1 scored .14 points better on f1-score for the Oxidoreductase class and .9 points better on f1-score for the Hormone class. "
   ]
  },
  {
   "cell_type": "code",
   "execution_count": null,
   "metadata": {
    "colab": {
     "base_uri": "https://localhost:8080/"
    },
    "id": "-NfVJcHZI3qu",
    "outputId": "18d54b39-fccf-4385-d3f7-989710b81bf9"
   },
   "outputs": [
    {
     "data": {
      "text/plain": [
       "0.9220749835584425"
      ]
     },
     "execution_count": 33,
     "metadata": {
      "tags": []
     },
     "output_type": "execute_result"
    }
   ],
   "source": [
    "#get the balanced accuracy score\n",
    "balanced_accuracy_score(y_test_uncategory, preds)"
   ]
  },
  {
   "cell_type": "code",
   "execution_count": null,
   "metadata": {
    "colab": {
     "base_uri": "https://localhost:8080/"
    },
    "id": "vF5UHeEPI3u2",
    "outputId": "5c040816-6dee-4587-fcee-15b7f74adf89"
   },
   "outputs": [
    {
     "data": {
      "text/plain": [
       "0.9432750284874386"
      ]
     },
     "execution_count": 34,
     "metadata": {
      "tags": []
     },
     "output_type": "execute_result"
    }
   ],
   "source": [
    "#get the f1-score\n",
    "f1_score(y_test_uncategory, preds, average = 'weighted')"
   ]
  },
  {
   "cell_type": "code",
   "execution_count": null,
   "metadata": {
    "colab": {
     "base_uri": "https://localhost:8080/",
     "height": 404
    },
    "id": "b6C7seDXI3y-",
    "outputId": "621f7a9d-8366-4649-cd19-224092e16809"
   },
   "outputs": [
    {
     "data": {
      "image/png": "[encoded data removed]",
      "text/plain": [
       "<Figure size 720x432 with 1 Axes>"
      ]
     },
     "metadata": {
      "needs_background": "light",
      "tags": []
     },
     "output_type": "display_data"
    }
   ],
   "source": [
    "#plot the graphs of the accuracy\n",
    "plt.figure(figsize=(10,6))\n",
    "plt.plot(hist_6.history['acc'], label = 'Training Accuracy', color = '#FA8072')\n",
    "plt.plot(hist_6.history['val_acc'], label = 'Validation Accuracy', color = '#6A5ACD')\n",
    "plt.ylabel('Accuracy Score')\n",
    "plt.xlabel('Epochs')\n",
    "plt.title('Training and Validation Accuracy')\n",
    "plt.legend();"
   ]
  },
  {
   "cell_type": "markdown",
   "metadata": {},
   "source": [
    "### Visualization Interpretation\n",
    "\n",
    "The visualization above shows the accuracy for the training and testing/validation sets over the 6 epochs the neural network trained. As we can see the training accuracy increased over all of the epochs until approximately 99% accuracy. The testing/validation accuracy, while much more variable than the training accuracy, obtained a score of approximately 94.4%. "
   ]
  },
  {
   "cell_type": "markdown",
   "metadata": {
    "id": "3RU1-Ng2ZaQ3"
   },
   "source": [
    "## Oversampled RNN Model 2 - Accounts for Class Overlap"
   ]
  },
  {
   "cell_type": "code",
   "execution_count": null,
   "metadata": {
    "id": "heO52oRxZkfJ"
   },
   "outputs": [],
   "source": [
    "#create the new model architecture for oversampled model 2\n",
    "model_osamp = Sequential()\n",
    "\n",
    "model_osamp.add(Embedding(input_dim = tokenizer.num_words, output_dim = 82, input_length = x_train.shape[1]))\n",
    "\n",
    "#add the convolutional layer\n",
    "model_osamp.add(Conv1D(164,36, activation = 'relu'))\n",
    "model_osamp.add(MaxPooling1D(6))\n",
    "\n",
    "#add second convolutional layer and GRU layer\n",
    "model_osamp.add(Conv1D(48,24, activation = 'relu'))\n",
    "model_osamp.add(Bidirectional(GRU(86)))\n",
    "model_osamp.add(Dense(320, activation = 'relu'))\n",
    "model_osamp.add(Dropout(rate = .2))\n",
    "model_osamp.add(Dense(8, activation = 'sigmoid'))\n",
    "\n",
    "\n",
    "#early stop creation\n",
    "early_stop = EarlyStopping(patience = 3)\n",
    "\n",
    "#compile the model\n",
    "model_osamp.compile(optimizer = 'adam', loss = 'bce', metrics = ['acc', 'Precision', 'Recall'])"
   ]
  },
  {
   "cell_type": "code",
   "execution_count": null,
   "metadata": {
    "colab": {
     "base_uri": "https://localhost:8080/"
    },
    "id": "s8xLU78jZqmP",
    "outputId": "74b18ada-6b44-4261-d22d-f6ecc97e78ae"
   },
   "outputs": [
    {
     "name": "stdout",
     "output_type": "stream",
     "text": [
      "Epoch 1/40\n",
      "579/579 [==============================] - 1616s 3s/step - loss: 0.2340 - acc: 0.5569 - precision: 0.7115 - recall: 0.4215 - val_loss: 0.1524 - val_acc: 0.7847 - val_precision: 0.8168 - val_recall: 0.7481\n",
      "Epoch 2/40\n",
      "579/579 [==============================] - 1602s 3s/step - loss: 0.0359 - acc: 0.9488 - precision: 0.9570 - recall: 0.9401 - val_loss: 0.0497 - val_acc: 0.9329 - val_precision: 0.9423 - val_recall: 0.9236\n",
      "Epoch 3/40\n",
      "579/579 [==============================] - 1598s 3s/step - loss: 0.0115 - acc: 0.9849 - precision: 0.9865 - recall: 0.9824 - val_loss: 0.0739 - val_acc: 0.9054 - val_precision: 0.9104 - val_recall: 0.9022\n",
      "Epoch 4/40\n",
      "579/579 [==============================] - 1597s 3s/step - loss: 0.0076 - acc: 0.9908 - precision: 0.9913 - recall: 0.9897 - val_loss: 0.0626 - val_acc: 0.9305 - val_precision: 0.9370 - val_recall: 0.9244\n",
      "Epoch 5/40\n",
      "579/579 [==============================] - 1599s 3s/step - loss: 0.0055 - acc: 0.9932 - precision: 0.9934 - recall: 0.9925 - val_loss: 0.0729 - val_acc: 0.9291 - val_precision: 0.9301 - val_recall: 0.9291\n"
     ]
    }
   ],
   "source": [
    "#fit the model to the training data\n",
    "hist_osamp = model_osamp.fit(x_train, y_train, validation_data = (x_test, y_test),\n",
    "                               epochs = 40, callbacks = [early_stop],\n",
    "                               batch_size = 256)"
   ]
  },
  {
   "cell_type": "code",
   "execution_count": null,
   "metadata": {
    "colab": {
     "base_uri": "https://localhost:8080/"
    },
    "id": "FOfKZaXUdMbZ",
    "outputId": "4b000520-3459-4ae8-df3a-3c456b75da9b"
   },
   "outputs": [
    {
     "name": "stdout",
     "output_type": "stream",
     "text": [
      "675/675 [==============================] - 105s 155ms/step - loss: 0.0729 - acc: 0.9291 - precision: 0.9301 - recall: 0.9291\n"
     ]
    },
    {
     "data": {
      "text/plain": [
       "[0.07286936789751053,\n",
       " 0.9291276335716248,\n",
       " 0.9300728440284729,\n",
       " 0.9290813207626343]"
      ]
     },
     "execution_count": 41,
     "metadata": {
      "tags": []
     },
     "output_type": "execute_result"
    }
   ],
   "source": [
    "#get the final model evaluations\n",
    "model_osamp.evaluate(x_test,y_test)"
   ]
  },
  {
   "cell_type": "markdown",
   "metadata": {},
   "source": [
    "### Model Interpretation\n",
    "\n",
    "In Oversampled Model 2, the embedding dimensions, filter sizes of the convolutional layers, number of GRU nodes, etc. were manipulated in attempt to tune the model towards a better performance. Compared to Oversampled Model 1, this model performed worse, acheiving a balanced accuracy score of 90% and an f1-score of 92.8%. "
   ]
  },
  {
   "cell_type": "code",
   "execution_count": null,
   "metadata": {
    "id": "Wcfl8amy8PgX"
   },
   "outputs": [],
   "source": [
    "#reverse the to_categorical of y_test to make classes for confusion matrix\n",
    "#cast the list to a numpy array\n",
    "y_test_uncategory = [np.argmax(y, axis=None, out=None) for y in y_test]\n",
    "y_test_uncategory = np.asarray(y_test_uncategory)\n",
    "\n",
    "#make predictions\n",
    "preds = model_osamp.predict(x_test)\n",
    "preds = np.argmax(preds, axis=1)"
   ]
  },
  {
   "cell_type": "code",
   "execution_count": null,
   "metadata": {
    "colab": {
     "base_uri": "https://localhost:8080/"
    },
    "id": "0JWkmAzE8TW3",
    "outputId": "8cfd99ab-670d-4990-cae2-171c59f25c80"
   },
   "outputs": [
    {
     "name": "stdout",
     "output_type": "stream",
     "text": [
      "                    precision    recall  f1-score   support\n",
      "\n",
      "      rRNA Binding       0.99      0.99      0.99      4944\n",
      "       DNA Binding       0.85      0.98      0.91      6286\n",
      "       ATP Binding       0.95      0.85      0.90      5039\n",
      "           Hormone       0.87      0.92      0.90       366\n",
      "            GTPase       0.99      0.97      0.98      1390\n",
      "NADH Dehydrogenase       0.99      0.97      0.98      1013\n",
      "    Oxidoreductase       0.92      0.62      0.74       864\n",
      "             Toxin       0.98      0.91      0.94      1672\n",
      "\n",
      "          accuracy                           0.93     21574\n",
      "         macro avg       0.94      0.90      0.92     21574\n",
      "      weighted avg       0.93      0.93      0.93     21574\n",
      "\n"
     ]
    }
   ],
   "source": [
    "#get the classification report for the 2 layer convolutional model\n",
    "#find out where the misclassifications are occuring in the model\n",
    "print(classification_report(y_test_uncategory, preds, target_names=label_order))"
   ]
  },
  {
   "cell_type": "markdown",
   "metadata": {},
   "source": [
    "### Table Interpretation\n",
    "\n",
    "The table above is the classification report for Oversampled Model 2. This report breaks down how well the model performed on predicting the individual classes in the testing data. Oversampled Model 1 has the best f1-score for each individual class seen so far. Compared to Oversampled Model 1, Oversampled Model 2 scored more poorly on classifying several of the classes, such as DNA binding, ATP binding and Oxidoreductase. "
   ]
  },
  {
   "cell_type": "code",
   "execution_count": null,
   "metadata": {
    "colab": {
     "base_uri": "https://localhost:8080/"
    },
    "id": "0LdA65S58TbY",
    "outputId": "b7604e38-22cc-433f-aa71-fd60a35b2236"
   },
   "outputs": [
    {
     "data": {
      "text/plain": [
       "0.9009222523568622"
      ]
     },
     "execution_count": 46,
     "metadata": {
      "tags": []
     },
     "output_type": "execute_result"
    }
   ],
   "source": [
    "#get the balanced accuracy score\n",
    "balanced_accuracy_score(y_test_uncategory, preds)"
   ]
  },
  {
   "cell_type": "code",
   "execution_count": null,
   "metadata": {
    "colab": {
     "base_uri": "https://localhost:8080/"
    },
    "id": "UrVTPnG_8Tff",
    "outputId": "f8602b24-4e1e-4426-939e-cad35367cf75"
   },
   "outputs": [
    {
     "data": {
      "text/plain": [
       "0.9281333878957373"
      ]
     },
     "execution_count": 47,
     "metadata": {
      "tags": []
     },
     "output_type": "execute_result"
    }
   ],
   "source": [
    "#get the f1-score\n",
    "f1_score(y_test_uncategory, preds, average = 'weighted')"
   ]
  },
  {
   "cell_type": "markdown",
   "metadata": {
    "id": "cVGqb0N09Obq"
   },
   "source": [
    "## OverSampled RNN Model 3 - Final Production Model"
   ]
  },
  {
   "cell_type": "code",
   "execution_count": null,
   "metadata": {
    "id": "iyZQy0RK9Pni"
   },
   "outputs": [],
   "source": [
    "#create the new model architecture for oversampled model 3\n",
    "model_osamp_2 = Sequential()\n",
    "\n",
    "model_osamp_2.add(Embedding(input_dim = tokenizer.num_words, output_dim = 86, input_length = x_train.shape[1]))\n",
    "\n",
    "#add the convolutional layer\n",
    "model_osamp_2.add(Conv1D(128,36, activation = 'relu'))\n",
    "model_osamp_2.add(MaxPooling1D(8))\n",
    "\n",
    "#add second convolutional layer and GRU layer\n",
    "model_osamp_2.add(Conv1D(86,26, activation = 'relu'))\n",
    "model_osamp_2.add(Conv1D(64,24))\n",
    "model_osamp_2.add(Bidirectional(GRU(72)))\n",
    "model_osamp_2.add(Dense(160, activation = 'relu'))\n",
    "model_osamp_2.add(Dense(80, activation = 'relu'))\n",
    "model_osamp_2.add(Dropout(rate = .2))\n",
    "model_osamp_2.add(Dense(8, activation = 'sigmoid'))\n",
    "\n",
    "\n",
    "#early stop creation\n",
    "early_stop = EarlyStopping(patience = 3)\n",
    "\n",
    "#compile the model\n",
    "model_osamp_2.compile(optimizer = 'adam', loss = 'bce', metrics = ['acc', 'Precision', 'Recall'])"
   ]
  },
  {
   "cell_type": "code",
   "execution_count": null,
   "metadata": {
    "colab": {
     "base_uri": "https://localhost:8080/"
    },
    "id": "l0X9jiFi96hf",
    "outputId": "0a04b774-d403-4d0a-8755-690f0982c1db"
   },
   "outputs": [
    {
     "name": "stdout",
     "output_type": "stream",
     "text": [
      "Epoch 1/40\n",
      "463/463 [==============================] - 997s 2s/step - loss: 0.2866 - acc: 0.4327 - precision: 0.5447 - recall: 0.2472 - val_loss: 0.3695 - val_acc: 0.2395 - val_precision: 0.2652 - val_recall: 0.1770\n",
      "Epoch 2/40\n",
      "463/463 [==============================] - 979s 2s/step - loss: 0.0545 - acc: 0.9234 - precision: 0.9394 - recall: 0.9091 - val_loss: 0.1518 - val_acc: 0.7876 - val_precision: 0.8144 - val_recall: 0.6833\n",
      "Epoch 3/40\n",
      "463/463 [==============================] - 975s 2s/step - loss: 0.0265 - acc: 0.9656 - precision: 0.9715 - recall: 0.9585 - val_loss: 0.1133 - val_acc: 0.8479 - val_precision: 0.8709 - val_recall: 0.8206\n",
      "Epoch 4/40\n",
      "463/463 [==============================] - 976s 2s/step - loss: 0.0165 - acc: 0.9796 - precision: 0.9826 - recall: 0.9767 - val_loss: 0.0753 - val_acc: 0.9033 - val_precision: 0.9210 - val_recall: 0.8893\n",
      "Epoch 5/40\n",
      "463/463 [==============================] - 977s 2s/step - loss: 0.0137 - acc: 0.9834 - precision: 0.9855 - recall: 0.9813 - val_loss: 0.0668 - val_acc: 0.9230 - val_precision: 0.9346 - val_recall: 0.9091\n",
      "Epoch 6/40\n",
      "463/463 [==============================] - 972s 2s/step - loss: 0.0091 - acc: 0.9889 - precision: 0.9904 - recall: 0.9875 - val_loss: 0.0746 - val_acc: 0.9090 - val_precision: 0.9282 - val_recall: 0.8782\n",
      "Epoch 7/40\n",
      "463/463 [==============================] - 972s 2s/step - loss: 0.0085 - acc: 0.9899 - precision: 0.9912 - recall: 0.9884 - val_loss: 0.0225 - val_acc: 0.9744 - val_precision: 0.9805 - val_recall: 0.9727\n",
      "Epoch 8/40\n",
      "463/463 [==============================] - 966s 2s/step - loss: 0.0079 - acc: 0.9902 - precision: 0.9914 - recall: 0.9894 - val_loss: 0.0395 - val_acc: 0.9557 - val_precision: 0.9603 - val_recall: 0.9547\n",
      "Epoch 9/40\n",
      "463/463 [==============================] - 968s 2s/step - loss: 0.0061 - acc: 0.9931 - precision: 0.9939 - recall: 0.9924 - val_loss: 0.0301 - val_acc: 0.9655 - val_precision: 0.9744 - val_recall: 0.9574\n",
      "Epoch 10/40\n",
      "463/463 [==============================] - 970s 2s/step - loss: 0.0052 - acc: 0.9937 - precision: 0.9946 - recall: 0.9932 - val_loss: 0.0231 - val_acc: 0.9754 - val_precision: 0.9778 - val_recall: 0.9744\n"
     ]
    }
   ],
   "source": [
    "#fit the model to the training data\n",
    "hist_osamp_2 = model_osamp_2.fit(x_train, y_train, validation_split=.2,\n",
    "                               epochs = 40, callbacks = [early_stop],\n",
    "                               batch_size = 256)"
   ]
  },
  {
   "cell_type": "code",
   "execution_count": null,
   "metadata": {
    "colab": {
     "base_uri": "https://localhost:8080/"
    },
    "id": "NLlyzYZt-HOU",
    "outputId": "2437d5ad-b0b0-40f8-9a52-f2af9a17d467"
   },
   "outputs": [
    {
     "name": "stdout",
     "output_type": "stream",
     "text": [
      "675/675 [==============================] - 89s 132ms/step - loss: 0.0441 - acc: 0.9573 - precision: 0.9597 - recall: 0.9563\n"
     ]
    },
    {
     "data": {
      "text/plain": [
       "[0.04407641664147377,\n",
       " 0.9572633504867554,\n",
       " 0.9597153067588806,\n",
       " 0.9562900066375732]"
      ]
     },
     "execution_count": 52,
     "metadata": {
      "tags": []
     },
     "output_type": "execute_result"
    }
   ],
   "source": [
    "#get the final model evaluations\n",
    "model_osamp_2.evaluate(x_test,y_test)"
   ]
  },
  {
   "cell_type": "markdown",
   "metadata": {},
   "source": [
    "### Model interpretation\n",
    "\n",
    "In Oversampled Model 3, a third convolutional layer was added to the neural network architecture and a second hidden layer was added. The parameters for the other layers were also manipulated in attempt to continue to tune the model. This model is the final production model, as it had the best pair-wise combination of the evaluation metrics being monitored - balanced accuracy and f1-score. Calculated below, the balanced accuracy of the model was approimtely 94.3% and the f1-score was approximately 95.7%. "
   ]
  },
  {
   "cell_type": "code",
   "execution_count": null,
   "metadata": {
    "id": "UbezxiDcirs-"
   },
   "outputs": [],
   "source": [
    "#save the model to google colab\n",
    "#model_osamp_2.save(\"rnn_model_sampled_2.h5\")"
   ]
  },
  {
   "cell_type": "code",
   "execution_count": null,
   "metadata": {
    "colab": {
     "base_uri": "https://localhost:8080/",
     "height": 17
    },
    "id": "zI5YsSKcirxQ",
    "outputId": "19720952-95af-4b43-8662-0748e5ff9507"
   },
   "outputs": [
    {
     "data": {
      "application/javascript": [
       "\n",
       "    async function download(id, filename, size) {\n",
       "      if (!google.colab.kernel.accessAllowed) {\n",
       "        return;\n",
       "      }\n",
       "      const div = document.createElement('div');\n",
       "      const label = document.createElement('label');\n",
       "      label.textContent = `Downloading \"${filename}\": `;\n",
       "      div.appendChild(label);\n",
       "      const progress = document.createElement('progress');\n",
       "      progress.max = size;\n",
       "      div.appendChild(progress);\n",
       "      document.body.appendChild(div);\n",
       "\n",
       "      const buffers = [];\n",
       "      let downloaded = 0;\n",
       "\n",
       "      const channel = await google.colab.kernel.comms.open(id);\n",
       "      // Send a message to notify the kernel that we're ready.\n",
       "      channel.send({})\n",
       "\n",
       "      for await (const message of channel.messages) {\n",
       "        // Send a message to notify the kernel that we're ready.\n",
       "        channel.send({})\n",
       "        if (message.buffers) {\n",
       "          for (const buffer of message.buffers) {\n",
       "            buffers.push(buffer);\n",
       "            downloaded += buffer.byteLength;\n",
       "            progress.value = downloaded;\n",
       "          }\n",
       "        }\n",
       "      }\n",
       "      const blob = new Blob(buffers, {type: 'application/binary'});\n",
       "      const a = document.createElement('a');\n",
       "      a.href = window.URL.createObjectURL(blob);\n",
       "      a.download = filename;\n",
       "      div.appendChild(a);\n",
       "      a.click();\n",
       "      div.remove();\n",
       "    }\n",
       "  "
      ],
      "text/plain": [
       "<IPython.core.display.Javascript object>"
      ]
     },
     "metadata": {
      "tags": []
     },
     "output_type": "display_data"
    },
    {
     "data": {
      "application/javascript": [
       "download(\"download_438e2af5-4047-41db-b20b-e142a0ff0530\", \"rnn_model_sampled_2.h5\", 11046688)"
      ],
      "text/plain": [
       "<IPython.core.display.Javascript object>"
      ]
     },
     "metadata": {
      "tags": []
     },
     "output_type": "display_data"
    }
   ],
   "source": [
    "#download the model to your local machine\n",
    "#from google.colab import files\n",
    "#files.download(\"rnn_model_sampled_2.h5\")"
   ]
  },
  {
   "cell_type": "code",
   "execution_count": null,
   "metadata": {
    "id": "HsAr34G8hw7F"
   },
   "outputs": [],
   "source": [
    "#reverse the to_categorical of y_test to make classes for confusion matrix\n",
    "#cast the list to a numpy array\n",
    "y_test_uncategory = [np.argmax(y, axis=None, out=None) for y in y_test]\n",
    "y_test_uncategory = np.asarray(y_test_uncategory)\n",
    "\n",
    "#make predictions\n",
    "preds = model_osamp_2.predict(x_test)\n",
    "preds = np.argmax(preds, axis=1)"
   ]
  },
  {
   "cell_type": "code",
   "execution_count": null,
   "metadata": {
    "colab": {
     "base_uri": "https://localhost:8080/",
     "height": 509
    },
    "id": "Jk6mGtUDhw_t",
    "outputId": "290e864e-c0fe-4403-e5f6-86fc8bc14710"
   },
   "outputs": [
    {
     "data": {
      "application/javascript": [
       "\n",
       "    async function download(id, filename, size) {\n",
       "      if (!google.colab.kernel.accessAllowed) {\n",
       "        return;\n",
       "      }\n",
       "      const div = document.createElement('div');\n",
       "      const label = document.createElement('label');\n",
       "      label.textContent = `Downloading \"${filename}\": `;\n",
       "      div.appendChild(label);\n",
       "      const progress = document.createElement('progress');\n",
       "      progress.max = size;\n",
       "      div.appendChild(progress);\n",
       "      document.body.appendChild(div);\n",
       "\n",
       "      const buffers = [];\n",
       "      let downloaded = 0;\n",
       "\n",
       "      const channel = await google.colab.kernel.comms.open(id);\n",
       "      // Send a message to notify the kernel that we're ready.\n",
       "      channel.send({})\n",
       "\n",
       "      for await (const message of channel.messages) {\n",
       "        // Send a message to notify the kernel that we're ready.\n",
       "        channel.send({})\n",
       "        if (message.buffers) {\n",
       "          for (const buffer of message.buffers) {\n",
       "            buffers.push(buffer);\n",
       "            downloaded += buffer.byteLength;\n",
       "            progress.value = downloaded;\n",
       "          }\n",
       "        }\n",
       "      }\n",
       "      const blob = new Blob(buffers, {type: 'application/binary'});\n",
       "      const a = document.createElement('a');\n",
       "      a.href = window.URL.createObjectURL(blob);\n",
       "      a.download = filename;\n",
       "      div.appendChild(a);\n",
       "      a.click();\n",
       "      div.remove();\n",
       "    }\n",
       "  "
      ],
      "text/plain": [
       "<IPython.core.display.Javascript object>"
      ]
     },
     "metadata": {
      "tags": []
     },
     "output_type": "display_data"
    },
    {
     "data": {
      "application/javascript": [
       "download(\"download_e1463496-a8cb-485d-8d66-0d8172bc413d\", \"osamp2_confusion.png\", 219684)"
      ],
      "text/plain": [
       "<IPython.core.display.Javascript object>"
      ]
     },
     "metadata": {
      "tags": []
     },
     "output_type": "display_data"
    },
    {
     "data": {
      "image/png": "[encoded data removed]",
      "text/plain": [
       "<Figure size 720x432 with 1 Axes>"
      ]
     },
     "metadata": {
      "needs_background": "light",
      "tags": []
     },
     "output_type": "display_data"
    }
   ],
   "source": [
    "#create a confusion matrix\n",
    "confusion = confusion_matrix(y_test_uncategory, preds)\n",
    "\n",
    "#plot confusion matrix https://stackoverflow.com/questions/19233771/sklearn-plot-confusion-matrix-with-labels\n",
    "#fmt = 'g' to suppress scientific notation https://stackoverflow.com/questions/29647749/seaborn-showing-scientific-notation-in-heatmap-for-3-digit-numbers\n",
    "fig, ax = plt.subplots(figsize=(10,6))\n",
    "sns.heatmap(confusion, annot = True, ax = ax, fmt = 'g', cmap = 'Blues', cbar = False);\n",
    "\n",
    "label_order = ['rRNA Binding', 'DNA Binding', 'ATP Binding', 'Hormone', 'GTPase', 'NADH Dehydrogenase', 'Oxidoreductase', 'Toxin']\n",
    "\n",
    "#set the labels\n",
    "ax.set_xlabel('Predicted Labels', fontsize=12)\n",
    "ax.set_ylabel('True Labels',fontsize=12) \n",
    "ax.set_title('Confusion Matrix', fontsize = 12) \n",
    "ax.xaxis.set_ticklabels(label_order, rotation = 90)\n",
    "ax.yaxis.set_ticklabels(label_order, rotation = 0);\n",
    "\n",
    "# uncomment to save the image locally\n",
    "#from google.colab import files\n",
    "#plt.savefig(\"osamp2_confusion.png\", bbox_inches='tight', dpi=300)\n",
    "#files.download(\"osamp2_confusion.png\")"
   ]
  },
  {
   "cell_type": "markdown",
   "metadata": {},
   "source": [
    "### Visualization Interpretation\n",
    "\n",
    "The visualization above is a confusion matrix for the final productio model. The confusion matrix takes the predictions of the models and compares them to the true labels of those predictions. Above, the true and predicted labels for each class are shown. The confusion matrix allows us to see where a large proportion of the misclassifications are occuring within the data. Unsurprisingly, the highest number of misclassifications came from the ATP binding and DNA binding classes. There were protein sequences in modeling which had both of these functions attributed to them. Another area of large portions of misclassifications came from the ATP binding/DNA binding and Oxidoreductase class. "
   ]
  },
  {
   "cell_type": "code",
   "execution_count": null,
   "metadata": {
    "colab": {
     "base_uri": "https://localhost:8080/"
    },
    "id": "P4us7KHshxEt",
    "outputId": "9fa81f0a-3fcc-419f-faa2-ea021fc7c0c0"
   },
   "outputs": [
    {
     "name": "stdout",
     "output_type": "stream",
     "text": [
      "                    precision    recall  f1-score   support\n",
      "\n",
      "      rRNA Binding       0.99      0.99      0.99      4944\n",
      "       DNA Binding       0.94      0.96      0.95      6286\n",
      "       ATP Binding       0.96      0.93      0.94      5039\n",
      "           Hormone       0.91      0.92      0.92       366\n",
      "            GTPase       0.98      0.99      0.98      1390\n",
      "NADH Dehydrogenase       0.99      0.98      0.98      1013\n",
      "    Oxidoreductase       0.84      0.82      0.83       864\n",
      "             Toxin       0.96      0.95      0.96      1672\n",
      "\n",
      "          accuracy                           0.96     21574\n",
      "         macro avg       0.95      0.94      0.94     21574\n",
      "      weighted avg       0.96      0.96      0.96     21574\n",
      "\n"
     ]
    }
   ],
   "source": [
    "#get the classification report for the 2 layer convolutional model\n",
    "#find out where the misclassifications are occuring in the model\n",
    "print(classification_report(y_test_uncategory, preds, target_names=label_order))"
   ]
  },
  {
   "cell_type": "markdown",
   "metadata": {},
   "source": [
    "### Table Interpretation\n",
    "\n",
    "The table above is the classification report for the final production model. This report breaks down how well the model performed on predicting the individual classes in the testing data. The final production model has the best f1-scores across the board for the Hormone and Oxidoreductase class; scoring .92 and .83, respectively. Every other class, besides Hormone and Oxidoreductase, had f1-scores of .94 and above. "
   ]
  },
  {
   "cell_type": "code",
   "execution_count": null,
   "metadata": {
    "colab": {
     "base_uri": "https://localhost:8080/"
    },
    "id": "JxQU_2cqhxJF",
    "outputId": "8dda50c8-6d0d-409c-e7ae-0059c6b7ae9f"
   },
   "outputs": [
    {
     "data": {
      "text/plain": [
       "0.9428429748657909"
      ]
     },
     "execution_count": 58,
     "metadata": {
      "tags": []
     },
     "output_type": "execute_result"
    }
   ],
   "source": [
    "#get the balanced accuracy score\n",
    "balanced_accuracy_score(y_test_uncategory, preds)"
   ]
  },
  {
   "cell_type": "code",
   "execution_count": null,
   "metadata": {
    "colab": {
     "base_uri": "https://localhost:8080/"
    },
    "id": "tItq5920hxNX",
    "outputId": "d3e587b6-af02-484f-9044-07183fabf19c"
   },
   "outputs": [
    {
     "data": {
      "text/plain": [
       "0.9571748077581367"
      ]
     },
     "execution_count": 59,
     "metadata": {
      "tags": []
     },
     "output_type": "execute_result"
    }
   ],
   "source": [
    "#get the f1-score\n",
    "f1_score(y_test_uncategory, preds, average = 'weighted')"
   ]
  },
  {
   "cell_type": "code",
   "execution_count": null,
   "metadata": {
    "colab": {
     "base_uri": "https://localhost:8080/",
     "height": 404
    },
    "id": "xh7Uos1whxRs",
    "outputId": "63c4d756-133c-4133-875b-9604166ab99d"
   },
   "outputs": [
    {
     "data": {
      "application/javascript": [
       "\n",
       "    async function download(id, filename, size) {\n",
       "      if (!google.colab.kernel.accessAllowed) {\n",
       "        return;\n",
       "      }\n",
       "      const div = document.createElement('div');\n",
       "      const label = document.createElement('label');\n",
       "      label.textContent = `Downloading \"${filename}\": `;\n",
       "      div.appendChild(label);\n",
       "      const progress = document.createElement('progress');\n",
       "      progress.max = size;\n",
       "      div.appendChild(progress);\n",
       "      document.body.appendChild(div);\n",
       "\n",
       "      const buffers = [];\n",
       "      let downloaded = 0;\n",
       "\n",
       "      const channel = await google.colab.kernel.comms.open(id);\n",
       "      // Send a message to notify the kernel that we're ready.\n",
       "      channel.send({})\n",
       "\n",
       "      for await (const message of channel.messages) {\n",
       "        // Send a message to notify the kernel that we're ready.\n",
       "        channel.send({})\n",
       "        if (message.buffers) {\n",
       "          for (const buffer of message.buffers) {\n",
       "            buffers.push(buffer);\n",
       "            downloaded += buffer.byteLength;\n",
       "            progress.value = downloaded;\n",
       "          }\n",
       "        }\n",
       "      }\n",
       "      const blob = new Blob(buffers, {type: 'application/binary'});\n",
       "      const a = document.createElement('a');\n",
       "      a.href = window.URL.createObjectURL(blob);\n",
       "      a.download = filename;\n",
       "      div.appendChild(a);\n",
       "      a.click();\n",
       "      div.remove();\n",
       "    }\n",
       "  "
      ],
      "text/plain": [
       "<IPython.core.display.Javascript object>"
      ]
     },
     "metadata": {
      "tags": []
     },
     "output_type": "display_data"
    },
    {
     "data": {
      "application/javascript": [
       "download(\"download_2f133c98-6d59-4068-87e5-319a90388cbd\", \"osamp2_accuracy.png\", 132765)"
      ],
      "text/plain": [
       "<IPython.core.display.Javascript object>"
      ]
     },
     "metadata": {
      "tags": []
     },
     "output_type": "display_data"
    },
    {
     "data": {
      "image/png": "[encoded data removed]",
      "text/plain": [
       "<Figure size 720x432 with 1 Axes>"
      ]
     },
     "metadata": {
      "needs_background": "light",
      "tags": []
     },
     "output_type": "display_data"
    }
   ],
   "source": [
    "#plot the graphs of the accuracy\n",
    "plt.figure(figsize=(10,6))\n",
    "plt.plot(hist_osamp_2.history['acc'], label = 'Training Accuracy', color = '#FA8072')\n",
    "plt.plot(hist_osamp_2.history['val_acc'], label = 'Validation Accuracy', color = '#6A5ACD')\n",
    "plt.ylabel('Accuracy Score')\n",
    "plt.xlabel('Epochs')\n",
    "plt.title('Training and Validation Accuracy')\n",
    "plt.legend();\n",
    "\n",
    "#uncomment to save the image locally\n",
    "#from google.colab import files\n",
    "#plt.savefig(\"osamp2_accuracy.png\", bbox_inches='tight', dpi=300)\n",
    "#files.download(\"osamp2_accuracy.png\")"
   ]
  },
  {
   "cell_type": "markdown",
   "metadata": {},
   "source": [
    "### Visualization Interpretation\n",
    "\n",
    "The visualization above shows the accuracy for the training and validation data over the 10 epochs the neural network trained. As we can see the training accuracy increased rapidly during weight updating between epoch 1 and 2, then plateaued at approximately 99% accuracy. The validation accuracy increased slower and more variably, before plateauing around 97%. "
   ]
  },
  {
   "cell_type": "code",
   "execution_count": null,
   "metadata": {
    "colab": {
     "base_uri": "https://localhost:8080/",
     "height": 407
    },
    "id": "a0Z2CtKbigWa",
    "outputId": "fac498ec-0e74-4fe7-d136-4a34d0523c4a"
   },
   "outputs": [
    {
     "data": {
      "application/javascript": [
       "\n",
       "    async function download(id, filename, size) {\n",
       "      if (!google.colab.kernel.accessAllowed) {\n",
       "        return;\n",
       "      }\n",
       "      const div = document.createElement('div');\n",
       "      const label = document.createElement('label');\n",
       "      label.textContent = `Downloading \"${filename}\": `;\n",
       "      div.appendChild(label);\n",
       "      const progress = document.createElement('progress');\n",
       "      progress.max = size;\n",
       "      div.appendChild(progress);\n",
       "      document.body.appendChild(div);\n",
       "\n",
       "      const buffers = [];\n",
       "      let downloaded = 0;\n",
       "\n",
       "      const channel = await google.colab.kernel.comms.open(id);\n",
       "      // Send a message to notify the kernel that we're ready.\n",
       "      channel.send({})\n",
       "\n",
       "      for await (const message of channel.messages) {\n",
       "        // Send a message to notify the kernel that we're ready.\n",
       "        channel.send({})\n",
       "        if (message.buffers) {\n",
       "          for (const buffer of message.buffers) {\n",
       "            buffers.push(buffer);\n",
       "            downloaded += buffer.byteLength;\n",
       "            progress.value = downloaded;\n",
       "          }\n",
       "        }\n",
       "      }\n",
       "      const blob = new Blob(buffers, {type: 'application/binary'});\n",
       "      const a = document.createElement('a');\n",
       "      a.href = window.URL.createObjectURL(blob);\n",
       "      a.download = filename;\n",
       "      div.appendChild(a);\n",
       "      a.click();\n",
       "      div.remove();\n",
       "    }\n",
       "  "
      ],
      "text/plain": [
       "<IPython.core.display.Javascript object>"
      ]
     },
     "metadata": {
      "tags": []
     },
     "output_type": "display_data"
    },
    {
     "data": {
      "application/javascript": [
       "download(\"download_40fade94-7679-48ce-9361-2b4786d70e45\", \"osamp2_precision.png\", 129752)"
      ],
      "text/plain": [
       "<IPython.core.display.Javascript object>"
      ]
     },
     "metadata": {
      "tags": []
     },
     "output_type": "display_data"
    },
    {
     "data": {
      "image/png": "[encoded data removed]",
      "text/plain": [
       "<Figure size 720x432 with 1 Axes>"
      ]
     },
     "metadata": {
      "needs_background": "light",
      "tags": []
     },
     "output_type": "display_data"
    }
   ],
   "source": [
    "#plot the graphs of the precision for the convolutional model\n",
    "plt.figure(figsize=(10,6))\n",
    "plt.plot(hist_osamp_2.history['precision'], label = 'Training Precision', color = '#FA8072')\n",
    "plt.plot(hist_osamp_2.history['val_precision'], label = 'Validation Precision', color = '#6A5ACD')\n",
    "plt.ylabel('Precision Score', fontsize=12)\n",
    "plt.xlabel('Epochs', fontsize=12)\n",
    "plt.title('Training and Validation Precision')\n",
    "plt.legend()\n",
    "\n",
    "#uncomment to save the image locally\n",
    "#from google.colab import files\n",
    "#plt.savefig(\"osamp2_precision.png\", bbox_inches='tight', dpi=300)\n",
    "#files.download(\"osamp2_precision.png\");"
   ]
  },
  {
   "cell_type": "markdown",
   "metadata": {
    "id": "zQ1_fSGcpZT1"
   },
   "source": [
    "### Visualization Interpretation\n",
    "\n",
    "The visualization above shows the precision score for the training and validation data over the 10 epochs the neural network trained. As we can see the training precision increased rapidly during weight updating between epoch 1 and 2, then plateaued at approximately 99% accuracy. The validation precision increased slower and more variably, before plateauing around 97%. The accuracy and precision visualization follow an extremely similar path, making the graphs appear identical."
   ]
  }
 ],
 "metadata": {
  "accelerator": "GPU",
  "colab": {
   "collapsed_sections": [],
   "machine_shape": "hm",
   "name": "Copy of oversampling_capstone.ipynb",
   "provenance": []
  },
  "kernelspec": {
   "display_name": "Python 3",
   "language": "python",
   "name": "python3"
  },
  "language_info": {
   "codemirror_mode": {
    "name": "ipython",
    "version": 3
   },
   "file_extension": ".py",
   "mimetype": "text/x-python",
   "name": "python",
   "nbconvert_exporter": "python",
   "pygments_lexer": "ipython3",
   "version": "3.8.5"
  }
 },
 "nbformat": 4,
 "nbformat_minor": 4
}
