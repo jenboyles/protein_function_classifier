{
 "cells": [
  {
   "cell_type": "markdown",
   "metadata": {},
   "source": [
    "## Exploratory Data Analysis"
   ]
  },
  {
   "cell_type": "code",
   "execution_count": 1,
   "metadata": {},
   "outputs": [],
   "source": [
    "#imports\n",
    "import pandas as pd\n",
    "import numpy as np\n",
    "import matplotlib.pyplot as plt\n",
    "import seaborn as sns\n",
    "from difflib import SequenceMatcher"
   ]
  },
  {
   "cell_type": "code",
   "execution_count": 2,
   "metadata": {},
   "outputs": [],
   "source": [
    "#read in the compressed pickle file\n",
    "protein = pd.read_pickle('data/compressed-class-separated.pkl', compression = 'gzip')"
   ]
  },
  {
   "cell_type": "code",
   "execution_count": 3,
   "metadata": {},
   "outputs": [
    {
     "data": {
      "text/plain": [
       "118.351587"
      ]
     },
     "execution_count": 3,
     "metadata": {},
     "output_type": "execute_result"
    }
   ],
   "source": [
    "#the memory usage of the dataframe\n",
    "protein.memory_usage(deep=True).sum()/1_000_000"
   ]
  },
  {
   "cell_type": "code",
   "execution_count": 4,
   "metadata": {},
   "outputs": [],
   "source": [
    "## make each single letter amino acid it's own \"word\" for tokenizing\n",
    "def make_words(sequence):\n",
    "    \n",
    "    \"\"\"\n",
    "    argument: amino acid sequence in single letter code/abbreviation\n",
    "    output: input amino acid sequence with spaces between each single letter code\n",
    "    \"\"\"\n",
    "    \n",
    "    \n",
    "    #instantiate empty string to concat amino acids to\n",
    "    space_seq = ''\n",
    "    \n",
    "    #for loop to loop over each amino acid in the sequence and add it into the \n",
    "    #string with a space afterwards\n",
    "    for char in sequence:\n",
    "        space_seq += char\n",
    "        space_seq += \" \"\n",
    "    #remove the space at end of the new string\n",
    "    return space_seq[:-1] "
   ]
  },
  {
   "cell_type": "markdown",
   "metadata": {},
   "source": [
    "## Visualizations of Protein Dataframe"
   ]
  },
  {
   "cell_type": "code",
   "execution_count": 5,
   "metadata": {},
   "outputs": [
    {
     "data": {
      "text/html": [
       "<div>\n",
       "<style scoped>\n",
       "    .dataframe tbody tr th:only-of-type {\n",
       "        vertical-align: middle;\n",
       "    }\n",
       "\n",
       "    .dataframe tbody tr th {\n",
       "        vertical-align: top;\n",
       "    }\n",
       "\n",
       "    .dataframe thead th {\n",
       "        text-align: right;\n",
       "    }\n",
       "</style>\n",
       "<table border=\"1\" class=\"dataframe\">\n",
       "  <thead>\n",
       "    <tr style=\"text-align: right;\">\n",
       "      <th></th>\n",
       "      <th>Length</th>\n",
       "      <th>class</th>\n",
       "    </tr>\n",
       "  </thead>\n",
       "  <tbody>\n",
       "    <tr>\n",
       "      <th>count</th>\n",
       "      <td>130981.00000</td>\n",
       "      <td>130981.000000</td>\n",
       "    </tr>\n",
       "    <tr>\n",
       "      <th>mean</th>\n",
       "      <td>421.86866</td>\n",
       "      <td>3.056222</td>\n",
       "    </tr>\n",
       "    <tr>\n",
       "      <th>std</th>\n",
       "      <td>388.60196</td>\n",
       "      <td>1.718652</td>\n",
       "    </tr>\n",
       "    <tr>\n",
       "      <th>min</th>\n",
       "      <td>4.00000</td>\n",
       "      <td>1.000000</td>\n",
       "    </tr>\n",
       "    <tr>\n",
       "      <th>25%</th>\n",
       "      <td>184.00000</td>\n",
       "      <td>2.000000</td>\n",
       "    </tr>\n",
       "    <tr>\n",
       "      <th>50%</th>\n",
       "      <td>341.00000</td>\n",
       "      <td>3.000000</td>\n",
       "    </tr>\n",
       "    <tr>\n",
       "      <th>75%</th>\n",
       "      <td>528.00000</td>\n",
       "      <td>3.000000</td>\n",
       "    </tr>\n",
       "    <tr>\n",
       "      <th>max</th>\n",
       "      <td>18562.00000</td>\n",
       "      <td>8.000000</td>\n",
       "    </tr>\n",
       "  </tbody>\n",
       "</table>\n",
       "</div>"
      ],
      "text/plain": [
       "             Length          class\n",
       "count  130981.00000  130981.000000\n",
       "mean      421.86866       3.056222\n",
       "std       388.60196       1.718652\n",
       "min         4.00000       1.000000\n",
       "25%       184.00000       2.000000\n",
       "50%       341.00000       3.000000\n",
       "75%       528.00000       3.000000\n",
       "max     18562.00000       8.000000"
      ]
     },
     "execution_count": 5,
     "metadata": {},
     "output_type": "execute_result"
    }
   ],
   "source": [
    "protein.describe()"
   ]
  },
  {
   "cell_type": "code",
   "execution_count": 6,
   "metadata": {},
   "outputs": [
    {
     "name": "stdout",
     "output_type": "stream",
     "text": [
      "<class 'pandas.core.frame.DataFrame'>\n",
      "Int64Index: 130981 entries, 0 to 163627\n",
      "Data columns (total 6 columns):\n",
      " #   Column                              Non-Null Count   Dtype \n",
      "---  ------                              --------------   ----- \n",
      " 0   Gene ontology (molecular function)  130981 non-null  object\n",
      " 1   Sequence                            130981 non-null  object\n",
      " 2   Length                              130981 non-null  int16 \n",
      " 3   Organism                            130981 non-null  object\n",
      " 4   Protein names                       130981 non-null  object\n",
      " 5   class                               130981 non-null  int16 \n",
      "dtypes: int16(2), object(4)\n",
      "memory usage: 5.5+ MB\n"
     ]
    }
   ],
   "source": [
    "protein.info()"
   ]
  },
  {
   "cell_type": "code",
   "execution_count": 7,
   "metadata": {},
   "outputs": [
    {
     "data": {
      "text/plain": [
       "77061    MEGNEKKGGGLPPTQQRHLNIDTTVGGSISQPVSPSMSYSTDRETV...\n",
       "Name: Sequence, dtype: object"
      ]
     },
     "execution_count": 7,
     "metadata": {},
     "output_type": "execute_result"
    }
   ],
   "source": [
    "#the longest sequence in the protein dataframe\n",
    "protein[protein['Length']==18562]['Sequence']"
   ]
  },
  {
   "cell_type": "code",
   "execution_count": 105,
   "metadata": {},
   "outputs": [
    {
     "name": "stderr",
     "output_type": "stream",
     "text": [
      "C:\\Users\\Jen\\anaconda3\\lib\\site-packages\\seaborn\\distributions.py:2551: FutureWarning: `distplot` is a deprecated function and will be removed in a future version. Please adapt your code to use either `displot` (a figure-level function with similar flexibility) or `histplot` (an axes-level function for histograms).\n",
      "  warnings.warn(msg, FutureWarning)\n"
     ]
    },
    {
     "data": {
      "image/png": "[encoded data removed]",
      "text/plain": [
       "<Figure size 1080x648 with 1 Axes>"
      ]
     },
     "metadata": {
      "needs_background": "light"
     },
     "output_type": "display_data"
    }
   ],
   "source": [
    "#create a histogram of the lengths of the sequencs\n",
    "plt.figure(figsize=(15,9))\n",
    "sns.distplot(protein['Length'], color = '#6A5ACD')\n",
    "plt.title('The Distribution of Sequence Lengths', fontsize = 16)\n",
    "plt.xlabel(xlabel = 'Length', fontsize = 13)\n",
    "plt.ylabel(ylabel = 'Density', fontsize = 13);\n",
    "\n",
    "#uncomment to save the image locally\n",
    "#plt.savefig('images/seq_len_distribution');"
   ]
  },
  {
   "cell_type": "code",
   "execution_count": 95,
   "metadata": {},
   "outputs": [
    {
     "data": {
      "image/png": "[encoded data removed]",
      "text/plain": [
       "<Figure size 1440x720 with 1 Axes>"
      ]
     },
     "metadata": {
      "needs_background": "light"
     },
     "output_type": "display_data"
    }
   ],
   "source": [
    "#plot the distribution of sequence lengths per class\n",
    "plt.figure(figsize = (20,10))\n",
    "sns.kdeplot(data = protein, x = 'Length', hue = 'class', palette = 'Set2')\n",
    "labels = ['rRNA Binding/Ribosome Component', 'DNA Binding', 'ATP Binding', 'Hormone', 'GTPase', 'NADH Dehydrogenase', 'Oxidoreductase', 'Toxin']\n",
    "plt.legend(labels, fontsize = 12, loc = 'upper center')\n",
    "plt.title('The Distribution of Sequence Lengths per Class', fontsize = 16)\n",
    "plt.xlabel(xlabel = 'Length', fontsize = 13)\n",
    "plt.ylabel(ylabel = 'Density', fontsize = 13);"
   ]
  },
  {
   "cell_type": "code",
   "execution_count": 125,
   "metadata": {},
   "outputs": [
    {
     "name": "stderr",
     "output_type": "stream",
     "text": [
      "<ipython-input-125-58e983240c44>:13: MatplotlibDeprecationWarning: savefig() got unexpected keyword argument \"quality\" which is no longer supported as of 3.3 and will become an error two minor releases later\n",
      "  plt.savefig('images/class_imbalance', bbox_inches = 'tight', quality = '85')\n"
     ]
    },
    {
     "data": {
      "image/png": "[encoded data removed]",
      "text/plain": [
       "<Figure size 1080x576 with 1 Axes>"
      ]
     },
     "metadata": {
      "needs_background": "light"
     },
     "output_type": "display_data"
    }
   ],
   "source": [
    "#plot the value counts of the different classes\n",
    "plt.figure(figsize = (15,8))\n",
    "protein['class'].value_counts().plot(kind='bar', color = '#6A5ACD')\n",
    "plt.title('Observations per Class', fontsize = 16)\n",
    "plt.xlabel('Class', fontsize=14)\n",
    "plt.ylabel('Count', fontsize=14)\n",
    "\n",
    "##changing the class values back into names -- based on the order of class frequency\n",
    "##x-ticks with class number -- 3,2,1,8,5,6,7,4\n",
    "plt.xticks(np.arange(0,8), ('ATP Binding', 'DNA Binding', 'rRNA Binding', 'Toxin Activity', 'GTPase Activity',\n",
    "                       'NADH Dehydrogenase', 'Oxidoreductase Activity', 'Hormone Activity'), fontsize=11, rotation = 30);\n",
    "#uncomment to save graph locally\n",
    "plt.savefig('images/class_imbalance', bbox_inches = 'tight', quality = '85')"
   ]
  },
  {
   "cell_type": "markdown",
   "metadata": {},
   "source": [
    "#### Visualization of Class Frequency\n",
    "The visualization above shows the count of observations within each of the classes. The largest class, ATP Binding, contains 64,687 observations while the smallest class, Hormone Activity, contains only 1,515 observations. This is a severe class imbalance, and is has to be handled accordingly during modeling. \n",
    "\n",
    "During modeling, stratification of the classes was done during the train/test split. Over-sampling of the smaller classes was attempted using SMOTE, but due to the nature of the data the creation of new data was too time-consuming to sustain for the project timeline and thus not followed."
   ]
  },
  {
   "cell_type": "markdown",
   "metadata": {},
   "source": [
    "## The Longest Protein in the Data"
   ]
  },
  {
   "cell_type": "code",
   "execution_count": 106,
   "metadata": {},
   "outputs": [
    {
     "data": {
      "text/html": [
       "<div>\n",
       "<style scoped>\n",
       "    .dataframe tbody tr th:only-of-type {\n",
       "        vertical-align: middle;\n",
       "    }\n",
       "\n",
       "    .dataframe tbody tr th {\n",
       "        vertical-align: top;\n",
       "    }\n",
       "\n",
       "    .dataframe thead th {\n",
       "        text-align: right;\n",
       "    }\n",
       "</style>\n",
       "<table border=\"1\" class=\"dataframe\">\n",
       "  <thead>\n",
       "    <tr style=\"text-align: right;\">\n",
       "      <th></th>\n",
       "      <th>Gene ontology (molecular function)</th>\n",
       "      <th>Sequence</th>\n",
       "      <th>Length</th>\n",
       "      <th>Organism</th>\n",
       "      <th>Protein names</th>\n",
       "      <th>class</th>\n",
       "    </tr>\n",
       "  </thead>\n",
       "  <tbody>\n",
       "    <tr>\n",
       "      <th>77061</th>\n",
       "      <td>actin filament binding [GO:0051015]; ATP bindi...</td>\n",
       "      <td>MEGNEKKGGGLPPTQQRHLNIDTTVGGSISQPVSPSMSYSTDRETV...</td>\n",
       "      <td>18562</td>\n",
       "      <td>Caenorhabditis elegans</td>\n",
       "      <td>Titin homolog (EC 2.7.11.1)</td>\n",
       "      <td>3</td>\n",
       "    </tr>\n",
       "  </tbody>\n",
       "</table>\n",
       "</div>"
      ],
      "text/plain": [
       "                      Gene ontology (molecular function)  \\\n",
       "77061  actin filament binding [GO:0051015]; ATP bindi...   \n",
       "\n",
       "                                                Sequence  Length  \\\n",
       "77061  MEGNEKKGGGLPPTQQRHLNIDTTVGGSISQPVSPSMSYSTDRETV...   18562   \n",
       "\n",
       "                     Organism                Protein names  class  \n",
       "77061  Caenorhabditis elegans  Titin homolog (EC 2.7.11.1)      3  "
      ]
     },
     "execution_count": 106,
     "metadata": {},
     "output_type": "execute_result"
    }
   ],
   "source": [
    "#the max len is 18,562 -- can be see from protein.describe above\n",
    "protein[protein['Length'] == 18562]"
   ]
  },
  {
   "cell_type": "code",
   "execution_count": 111,
   "metadata": {},
   "outputs": [
    {
     "data": {
      "text/plain": [
       "actin filament binding [GO:0051015]; ATP binding [GO:0005524]; metal ion binding [GO:0046872]; myosin binding [GO:0017022]; protein serine/threonine kinase activity [GO:0004674]    1\n",
       "Name: Gene ontology (molecular function), dtype: int64"
      ]
     },
     "execution_count": 111,
     "metadata": {},
     "output_type": "execute_result"
    }
   ],
   "source": [
    "#the GO: full molecular function for the longest protein in the data\n",
    "protein[protein['Length'] == 18562]['Gene ontology (molecular function)'].value_counts()"
   ]
  },
  {
   "cell_type": "markdown",
   "metadata": {},
   "source": [
    "## The Most Common Protein in the Data - Proline-tRNA ligase"
   ]
  },
  {
   "cell_type": "code",
   "execution_count": 18,
   "metadata": {},
   "outputs": [
    {
     "data": {
      "text/plain": [
       "Proline--tRNA ligase (EC 6.1.1.15) (Prolyl-tRNA synthetase) (ProRS)                                                                                                                                                                              704\n",
       "Leucine--tRNA ligase (EC 6.1.1.4) (Leucyl-tRNA synthetase) (LeuRS)                                                                                                                                                                               656\n",
       "Serine--tRNA ligase (EC 6.1.1.11) (Seryl-tRNA synthetase) (SerRS) (Seryl-tRNA(Ser/Sec) synthetase)                                                                                                                                               646\n",
       "tRNA dimethylallyltransferase (EC 2.5.1.75) (Dimethylallyl diphosphate:tRNA dimethylallyltransferase) (DMAPP:tRNA dimethylallyltransferase) (DMATase) (Isopentenyl-diphosphate:tRNA isopentenyltransferase) (IPP transferase) (IPPT) (IPTase)    638\n",
       "Translation initiation factor IF-2                                                                                                                                                                                                               638\n",
       "Name: Protein names, dtype: int64"
      ]
     },
     "execution_count": 18,
     "metadata": {},
     "output_type": "execute_result"
    }
   ],
   "source": [
    "#find the most common protein in the data\n",
    "protein['Protein names'].value_counts().head(5)"
   ]
  },
  {
   "cell_type": "code",
   "execution_count": 19,
   "metadata": {},
   "outputs": [
    {
     "name": "stdout",
     "output_type": "stream",
     "text": [
      "There are 704 instances of Prolyl-tRNA synthetase in the dataset.\n",
      "The number of organisms for Prolyl-tRNA synthetase is: 704.\n",
      "The number of unique classes Prolyl-tRNA synthetase falls under is: 1.\n",
      "The one unique class for Prolyl-tRNA synthetase is Class 3: ATP Binding.\n"
     ]
    }
   ],
   "source": [
    "#there are 704 instances of this protein names\n",
    "#however they are all from different organisms\n",
    "print('There are 704 instances of Prolyl-tRNA synthetase in the dataset.')\n",
    "print(f\"The number of organisms for Prolyl-tRNA synthetase is: {protein[protein['Protein names'] == 'Proline--tRNA ligase (EC 6.1.1.15) (Prolyl-tRNA synthetase) (ProRS)']['Organism'].nunique()}.\")\n",
    "print(f\"The number of unique classes \" \\\n",
    "      f\"Prolyl-tRNA synthetase falls under is: {protein[protein['Protein names'] == 'Proline--tRNA ligase (EC 6.1.1.15) (Prolyl-tRNA synthetase) (ProRS)']['class'].nunique()}.\")\n",
    "print(\"The one unique class for Prolyl-tRNA synthetase is Class 3: ATP Binding.\")"
   ]
  },
  {
   "cell_type": "code",
   "execution_count": 20,
   "metadata": {},
   "outputs": [
    {
     "data": {
      "image/png": "[encoded data removed]",
      "text/plain": [
       "<Figure size 720x432 with 1 Axes>"
      ]
     },
     "metadata": {
      "needs_background": "light"
     },
     "output_type": "display_data"
    }
   ],
   "source": [
    "#how similar are these sequences to each other?\n",
    "#get the distribution of lengths for prolyl t-RNA synthase\n",
    "len_prolyl = protein[protein['Protein names'] == 'Proline--tRNA ligase (EC 6.1.1.15) (Prolyl-tRNA synthetase) (ProRS)']['Length']\n",
    "\n",
    "#plot the distributions\n",
    "plt.figure(figsize = (10,6))\n",
    "plt.hist(len_prolyl, bins = 8, color = '#FA8072')\n",
    "plt.title('Distribution of Prolyl-tRNA synthetase Lengths')\n",
    "plt.xlabel(\"Sequence Length\", fontsize = 12)\n",
    "plt.ylabel(\"Count\", fontsize = 12);"
   ]
  },
  {
   "cell_type": "markdown",
   "metadata": {},
   "source": [
    "#### Visualization Interpretation\n",
    "The visualization above is the distribution of sequence lengths for the most common protein in the dataset: Prolyl t-RNA synthetase. In the visualization, we see that there is a bimodal distribution of the lengths of Prolyl t-RNA synthetase. One mode around 450-500 amino acids and the second mode around 550-600 amino acids. \n",
    "\n",
    "This visualization is important as it shows how variable the same protein, Prolyl t-RNA synthetase, is between different organisms. "
   ]
  },
  {
   "cell_type": "code",
   "execution_count": null,
   "metadata": {},
   "outputs": [],
   "source": [
    "#calculate the average difference in sequences from the first instance of prolyl-tRNA synthase\n",
    "#to the last instance\n",
    "s = SequenceMatcher(None, text1, text2)\n",
    "similarity = s.ratio() * 100"
   ]
  },
  {
   "cell_type": "code",
   "execution_count": 77,
   "metadata": {},
   "outputs": [
    {
     "data": {
      "text/plain": [
       "0      MRVSRLMLVTLRDVPAEAEIVSHQLLIRGGFIKRVTSGIYAYMPLM...\n",
       "1      MRVTTSFPLGTLRDTPSEAEIISHQLLLQAGYIRRVNSGIYAYMPI...\n",
       "2      MKASKYILPTEKENPADAVVASHRLMIRAGLVRKSSAGLYFYLPLG...\n",
       "3      MEFSEWYSEILEKAGIYDLRYPIKGCGVYLPYGFKIRRYSFEILRK...\n",
       "4      MQRSQRLSQMLFVTLREDPAEAELISHKLLLRGGFIRRLSPGIYTY...\n",
       "                             ...                        \n",
       "699    MRLSEFHLHTTKEIPADAELVSHRLMLRAGMIRKLASGLYTWSPLG...\n",
       "700    MAKELKELTPRSESYSQWYQDLVIKADLAENSAVRGCMVIKPYGYA...\n",
       "701    MRLSQSLFVTLREDPADAEIPSHKLLLRAGYIRRIGRGIYAYLPLM...\n",
       "702    MLFSKLFAPTLKEPPKDAVLKSHKHLAQAGYIYQVGSGIYNFLPLA...\n",
       "703    MRQSIFFMPTLKETPADAVAKSHQVMLRGGYIRQVTAGVYSYLPLG...\n",
       "Name: Sequence, Length: 704, dtype: object"
      ]
     },
     "execution_count": 77,
     "metadata": {},
     "output_type": "execute_result"
    }
   ],
   "source": [
    "#grab all of the instances of the prolyl-tRNA synthetase\n",
    "prolyl_seq = protein[protein['Protein names'] == 'Proline--tRNA ligase (EC 6.1.1.15) (Prolyl-tRNA synthetase) (ProRS)'].reset_index()['Sequence']\n",
    "prolyl_seq"
   ]
  },
  {
   "cell_type": "code",
   "execution_count": 88,
   "metadata": {},
   "outputs": [],
   "source": [
    "#make the 1-letter code into a word for sequence matching\n",
    "prolyl_seq = prolyl_seq.apply(lambda x: make_words(x))"
   ]
  },
  {
   "cell_type": "code",
   "execution_count": 92,
   "metadata": {},
   "outputs": [
    {
     "data": {
      "text/plain": [
       "0.027607179150943288"
      ]
     },
     "execution_count": 92,
     "metadata": {},
     "output_type": "execute_result"
    }
   ],
   "source": [
    "#grab the first value in prolyl_seq\n",
    "first_instance_prolyl = prolyl_seq[0]\n",
    "\n",
    "#loop over and find the average of the sequence similarities between the first sequence and the rest\n",
    "similar = []\n",
    "for seq in prolyl_seq.iloc[1:]:\n",
    "    s = SequenceMatcher(None, first_instance_prolyl, seq)\n",
    "    similar.append(s.ratio())"
   ]
  },
  {
   "cell_type": "code",
   "execution_count": 109,
   "metadata": {},
   "outputs": [],
   "source": [
    "#sequence similarity over all prolyl's\n",
    "seq_similarity = []\n",
    "\n",
    "#loop over each index and each sequence not at that index -- nested for loop\n",
    "for indx in range(len(prolyl_seq)):\n",
    "    seq_at_indx = prolyl_seq[indx]\n",
    "    \n",
    "    #drop the sequence we are matching\n",
    "    for seq in prolyl_seq.drop(index = indx):\n",
    "        s = SequenceMatcher(None, seq_at_indx, seq)\n",
    "        seq_similarity.append(s.ratio())"
   ]
  },
  {
   "cell_type": "code",
   "execution_count": 118,
   "metadata": {},
   "outputs": [
    {
     "name": "stdout",
     "output_type": "stream",
     "text": [
      "The average sequence similarity between all sequences and each other is: 3.53%.\n",
      "The average sequence similarity for Prolyl-tRNA synthetase sequence at series index 0 is: 2.76%.\n"
     ]
    }
   ],
   "source": [
    "#print the average sequence similarity between all sequences and one another!\n",
    "print(f\"The average sequence similarity between all sequences and each other is: {round(np.mean(seq_similarity)*100,2)}%.\")\n",
    "\n",
    "#print the average similarity between the first prolyl sequence (index 0) and the other functions\n",
    "#multiply by 100 to get the percentage of similarity\n",
    "print(f\"The average sequence similarity for Prolyl-tRNA synthetase sequence at series index 0 is: {round(np.mean(similar)*100,2)}%.\")"
   ]
  },
  {
   "cell_type": "code",
   "execution_count": 101,
   "metadata": {},
   "outputs": [
    {
     "data": {
      "text/plain": [
       "Match(a=0, b=0, size=6)"
      ]
     },
     "execution_count": 101,
     "metadata": {},
     "output_type": "execute_result"
    }
   ],
   "source": [
    "#the largest length of sequence that matches between sequence at index 0 and index 1\n",
    "SequenceMatcher(None,prolyl_seq[0], prolyl_seq[1]).find_longest_match(0, len(prolyl_seq[0]), 0, len(prolyl_seq[1]))"
   ]
  },
  {
   "cell_type": "markdown",
   "metadata": {},
   "source": [
    "### The Smallest Protein"
   ]
  },
  {
   "cell_type": "code",
   "execution_count": 21,
   "metadata": {},
   "outputs": [
    {
     "data": {
      "text/html": [
       "<div>\n",
       "<style scoped>\n",
       "    .dataframe tbody tr th:only-of-type {\n",
       "        vertical-align: middle;\n",
       "    }\n",
       "\n",
       "    .dataframe tbody tr th {\n",
       "        vertical-align: top;\n",
       "    }\n",
       "\n",
       "    .dataframe thead th {\n",
       "        text-align: right;\n",
       "    }\n",
       "</style>\n",
       "<table border=\"1\" class=\"dataframe\">\n",
       "  <thead>\n",
       "    <tr style=\"text-align: right;\">\n",
       "      <th></th>\n",
       "      <th>Gene ontology (molecular function)</th>\n",
       "      <th>Sequence</th>\n",
       "      <th>Length</th>\n",
       "      <th>Organism</th>\n",
       "      <th>Protein names</th>\n",
       "      <th>class</th>\n",
       "    </tr>\n",
       "  </thead>\n",
       "  <tbody>\n",
       "    <tr>\n",
       "      <th>158920</th>\n",
       "      <td>toxin activity [GO:0090729]</td>\n",
       "      <td>LWKT</td>\n",
       "      <td>4</td>\n",
       "      <td>Pandinus imperator (Emperor scorpion)</td>\n",
       "      <td>Tetrapandin-2</td>\n",
       "      <td>8</td>\n",
       "    </tr>\n",
       "    <tr>\n",
       "      <th>156246</th>\n",
       "      <td>2 iron, 2 sulfur cluster binding [GO:0051537];...</td>\n",
       "      <td>MAKA</td>\n",
       "      <td>4</td>\n",
       "      <td>Pseudomonas carboxydohydrogena</td>\n",
       "      <td>Carbon monoxide dehydrogenase small chain (CO ...</td>\n",
       "      <td>7</td>\n",
       "    </tr>\n",
       "    <tr>\n",
       "      <th>155469</th>\n",
       "      <td>oxidoreductase activity [GO:0016491]</td>\n",
       "      <td>MGHP</td>\n",
       "      <td>4</td>\n",
       "      <td>Pseudomonas carboxydohydrogena</td>\n",
       "      <td>Carbon monoxide dehydrogenase large chain (CO ...</td>\n",
       "      <td>7</td>\n",
       "    </tr>\n",
       "    <tr>\n",
       "      <th>140760</th>\n",
       "      <td>hormone activity [GO:0005179]</td>\n",
       "      <td>GFAD</td>\n",
       "      <td>4</td>\n",
       "      <td>Achatina fulica (Giant African snail) (Lissach...</td>\n",
       "      <td>Achatin-1 (Achatin-I)</td>\n",
       "      <td>4</td>\n",
       "    </tr>\n",
       "    <tr>\n",
       "      <th>158966</th>\n",
       "      <td>toxin activity [GO:0090729]</td>\n",
       "      <td>LWSG</td>\n",
       "      <td>4</td>\n",
       "      <td>Pandinus imperator (Emperor scorpion)</td>\n",
       "      <td>Tetrapandin-1</td>\n",
       "      <td>8</td>\n",
       "    </tr>\n",
       "  </tbody>\n",
       "</table>\n",
       "</div>"
      ],
      "text/plain": [
       "                       Gene ontology (molecular function) Sequence  Length  \\\n",
       "158920                        toxin activity [GO:0090729]     LWKT       4   \n",
       "156246  2 iron, 2 sulfur cluster binding [GO:0051537];...     MAKA       4   \n",
       "155469               oxidoreductase activity [GO:0016491]     MGHP       4   \n",
       "140760                      hormone activity [GO:0005179]     GFAD       4   \n",
       "158966                        toxin activity [GO:0090729]     LWSG       4   \n",
       "\n",
       "                                                 Organism  \\\n",
       "158920              Pandinus imperator (Emperor scorpion)   \n",
       "156246                     Pseudomonas carboxydohydrogena   \n",
       "155469                     Pseudomonas carboxydohydrogena   \n",
       "140760  Achatina fulica (Giant African snail) (Lissach...   \n",
       "158966              Pandinus imperator (Emperor scorpion)   \n",
       "\n",
       "                                            Protein names  class  \n",
       "158920                                      Tetrapandin-2      8  \n",
       "156246  Carbon monoxide dehydrogenase small chain (CO ...      7  \n",
       "155469  Carbon monoxide dehydrogenase large chain (CO ...      7  \n",
       "140760                              Achatin-1 (Achatin-I)      4  \n",
       "158966                                      Tetrapandin-1      8  "
      ]
     },
     "execution_count": 21,
     "metadata": {},
     "output_type": "execute_result"
    }
   ],
   "source": [
    "#protein lengths that are less than 10\n",
    "protein[protein['Length'] < 10].sort_values(by = \"Length\").head()"
   ]
  },
  {
   "cell_type": "markdown",
   "metadata": {},
   "source": [
    "#### Smallest Proteins - Length of 4\n",
    "The Tetrapandin-1, Tetrapandin-2 and Achatin-1 are proteins, which only have a length of 4 amino acids. Mixed in with these naturally smaller protein sequences and protein fragments (fragments of larger proteins).  \n",
    "\n",
    "These naturally smaller proteins and smaller protein fragments might have trouble being correctly classified in the models. "
   ]
  },
  {
   "cell_type": "code",
   "execution_count": 22,
   "metadata": {},
   "outputs": [],
   "source": [
    "#how many fragments are in the data\n",
    "fragment = protein[(protein['Protein names'].str.contains(\"(Fragment)\", regex = False))]"
   ]
  },
  {
   "cell_type": "code",
   "execution_count": 23,
   "metadata": {},
   "outputs": [
    {
     "data": {
      "image/png": "[encoded data removed]",
      "text/plain": [
       "<Figure size 720x432 with 1 Axes>"
      ]
     },
     "metadata": {
      "needs_background": "light"
     },
     "output_type": "display_data"
    }
   ],
   "source": [
    "#plot the distribution of lengths of fragments\n",
    "plt.figure(figsize=(10,6))\n",
    "plt.hist(fragment['Length'], bins = 8, color = '#FA8072')\n",
    "plt.title('The Distribution of Sequence Lengths for Protein Fragments')\n",
    "plt.ylabel(\"Count\", fontsize=12)\n",
    "plt.xlabel(\"Sequence Length\",fontsize=12);"
   ]
  },
  {
   "cell_type": "markdown",
   "metadata": {},
   "source": [
    "#### Visualization Interpretation\n",
    "\n",
    "The visualization above is showing the distribution of lengths for the proteins that are labeled as \"fragment\". As we can see the distribution for the fragment lengths is right-skewed, with a longer right tail. Protein fragments are chunks of larger sequences, but as we can see they have variable lengths, rangining from 4 to approximately 1750. "
   ]
  },
  {
   "cell_type": "markdown",
   "metadata": {},
   "source": [
    "## Sequence Similarity In Each Class"
   ]
  },
  {
   "cell_type": "markdown",
   "metadata": {},
   "source": [
    "### Class 1. rRNA Binding, structural constituent of the ribosome"
   ]
  },
  {
   "cell_type": "code",
   "execution_count": 8,
   "metadata": {},
   "outputs": [],
   "source": [
    "#calculate the sequence similarity between the different classes\n",
    "rna_bind = protein[protein['class']==1].reset_index()['Sequence']"
   ]
  },
  {
   "cell_type": "code",
   "execution_count": 9,
   "metadata": {},
   "outputs": [],
   "source": [
    "#make each single letter amino acid into a word\n",
    "rna_bind = rna_bind.apply(lambda x: make_words(x))"
   ]
  },
  {
   "cell_type": "code",
   "execution_count": 10,
   "metadata": {},
   "outputs": [],
   "source": [
    "#grab the first sequence of the dna binding class for comparison\n",
    "first_rna_seq = rna_bind[0]\n",
    "\n",
    "#loop over and find the average of the sequence similarities between the first dna sequence and the rest\n",
    "rna_similarities = [SequenceMatcher(None, first_rna_seq, seq).ratio() for seq in rna_bind.iloc[1:]]"
   ]
  },
  {
   "cell_type": "code",
   "execution_count": 12,
   "metadata": {},
   "outputs": [
    {
     "name": "stdout",
     "output_type": "stream",
     "text": [
      "The average sequence similarity between the first DNA binding sequence in the data and the rest of the class is: 8.9953%.\n"
     ]
    }
   ],
   "source": [
    "#get the average sequence similarity between the first rna binding observation \n",
    "#and the rest of the class observations\n",
    "print(f'The average sequence similarity between the first DNA binding sequence in the data and the rest of the class is: {round((np.mean(rna_similarities)*100),4)}%.')"
   ]
  },
  {
   "cell_type": "markdown",
   "metadata": {},
   "source": [
    "### Class 2. DNA Binding"
   ]
  },
  {
   "cell_type": "code",
   "execution_count": 21,
   "metadata": {},
   "outputs": [],
   "source": [
    "#calculate the sequence similarity in the DNA binding class\n",
    "dna_bind = protein[protein['class']==2].reset_index()['Sequence']"
   ]
  },
  {
   "cell_type": "code",
   "execution_count": 22,
   "metadata": {},
   "outputs": [],
   "source": [
    "#make each single letter amino acid into a word\n",
    "dna_bind = dna_bind.apply(lambda x: make_words(x))"
   ]
  },
  {
   "cell_type": "code",
   "execution_count": 23,
   "metadata": {},
   "outputs": [],
   "source": [
    "#grab the first sequence of the dna binding class for comparison\n",
    "first_dna_seq = dna_bind[0]\n",
    "\n",
    "#loop over and find the average of the sequence similarities between the first dna sequence and the rest\n",
    "dna_similarities = [SequenceMatcher(None, first_dna_seq, seq).ratio() for seq in dna_bind.iloc[1:]]"
   ]
  },
  {
   "cell_type": "code",
   "execution_count": 57,
   "metadata": {},
   "outputs": [
    {
     "name": "stdout",
     "output_type": "stream",
     "text": [
      "The average sequence similarity between the first DNA binding sequence in the data and the rest of the class is: 3.8486%.\n"
     ]
    }
   ],
   "source": [
    "#get the average sequence similairty between the first dna binding obsercatio and the rest of the class observations\n",
    "print(f'The average sequence similarity between the first DNA binding sequence in the data and the rest of the class is: {round((np.mean(dna_similarities)*100), 4)}%.')"
   ]
  },
  {
   "cell_type": "markdown",
   "metadata": {},
   "source": [
    "### Class 3. ATP Binding"
   ]
  },
  {
   "cell_type": "code",
   "execution_count": 28,
   "metadata": {},
   "outputs": [],
   "source": [
    "#calculate the sequence similarity in the DNA binding class\n",
    "atp_bind = protein[protein['class']==3].reset_index()['Sequence']"
   ]
  },
  {
   "cell_type": "code",
   "execution_count": 29,
   "metadata": {},
   "outputs": [],
   "source": [
    "#make each single letter amino acid into a word\n",
    "atp_bind = atp_bind.apply(lambda x: make_words(x))"
   ]
  },
  {
   "cell_type": "code",
   "execution_count": 30,
   "metadata": {},
   "outputs": [],
   "source": [
    "#grab the first sequence of the atp binding class for comparison\n",
    "first_atp_seq = atp_bind[0]\n",
    "\n",
    "#loop over and find the average of the sequence similarities between the first atp sequence and the rest\n",
    "atp_similarities = [SequenceMatcher(None, first_atp_seq, seq).ratio() for seq in atp_bind.iloc[1:]]"
   ]
  },
  {
   "cell_type": "code",
   "execution_count": 55,
   "metadata": {},
   "outputs": [
    {
     "name": "stdout",
     "output_type": "stream",
     "text": [
      "The average sequence similarity between the first ATP binding sequence in the data and the rest of the class is: 0.4104%.\n"
     ]
    }
   ],
   "source": [
    "#get the average sequence similairty between the first atp binding obsercatio and the rest of the class observations\n",
    "print(f'The average sequence similarity between the first ATP binding sequence in the data and the rest of the class is: {round((np.mean(atp_similarities)*100), 4)}%.')"
   ]
  },
  {
   "cell_type": "markdown",
   "metadata": {},
   "source": [
    "### Class 4. Hormone Activity"
   ]
  },
  {
   "cell_type": "code",
   "execution_count": 24,
   "metadata": {},
   "outputs": [],
   "source": [
    "#calculate the sequence similarity in hormone class\n",
    "hormone = protein[protein['class']==4].reset_index()['Sequence']"
   ]
  },
  {
   "cell_type": "code",
   "execution_count": 25,
   "metadata": {},
   "outputs": [],
   "source": [
    "#make each single letter amino acid into a word\n",
    "hormone = hormone.apply(lambda x: make_words(x))"
   ]
  },
  {
   "cell_type": "code",
   "execution_count": 36,
   "metadata": {},
   "outputs": [],
   "source": [
    "#grab the first sequence of the hormone class for comparison\n",
    "first_h_seq = atp_bind[0]\n",
    "\n",
    "#loop over and find the average of the sequence similarities between the first hormone and the rest\n",
    "h_similarities = [SequenceMatcher(None, first_h_seq, seq).ratio() for seq in hormone.iloc[1:]]"
   ]
  },
  {
   "cell_type": "code",
   "execution_count": 54,
   "metadata": {},
   "outputs": [
    {
     "name": "stdout",
     "output_type": "stream",
     "text": [
      "The average sequence similarity between the first Hormone sequence in the data and the rest of the class is: 0.5831%.\n"
     ]
    }
   ],
   "source": [
    "#get the average sequence similairty between the first hormone observation and the rest of the class observations\n",
    "print(f'The average sequence similarity between the first Hormone sequence in the data and the rest of the class is: {round((np.mean(h_similarities)*100), 4)}%.')"
   ]
  },
  {
   "cell_type": "code",
   "execution_count": 42,
   "metadata": {},
   "outputs": [],
   "source": [
    "#sequence similarity over all hormone sequences\n",
    "seq_similarity = []\n",
    "\n",
    "#loop over each index and each sequence not at that index -- nested for loop\n",
    "for indx in range(len(hormone)):\n",
    "    seq_at_indx = hormone[indx]\n",
    "    \n",
    "    #drop the sequence we are matching\n",
    "    for seq in hormone.drop(index = indx):\n",
    "        s = SequenceMatcher(None, seq_at_indx, seq)\n",
    "        seq_similarity.append(s.ratio())"
   ]
  },
  {
   "cell_type": "code",
   "execution_count": 53,
   "metadata": {},
   "outputs": [
    {
     "name": "stdout",
     "output_type": "stream",
     "text": [
      "The average sequence similarity between each Hormone sequence is: 10.7423%.\n"
     ]
    }
   ],
   "source": [
    "#get the average sequence similairty between each hormone observation and it's other classmates\n",
    "print(f'The average sequence similarity between each Hormone sequence is: {round((np.mean(seq_similarity)*100), 4)}%.')"
   ]
  },
  {
   "cell_type": "markdown",
   "metadata": {},
   "source": [
    "### Class 5. GTPase Activity"
   ]
  },
  {
   "cell_type": "code",
   "execution_count": 45,
   "metadata": {},
   "outputs": [],
   "source": [
    "#calculate the sequence similarity in the gtpase class\n",
    "gtp = protein[protein['class']==5].reset_index()['Sequence']\n",
    "\n",
    "#make each single letter amino acid into a word\n",
    "gtp = gtp.apply(lambda x: make_words(x))"
   ]
  },
  {
   "cell_type": "code",
   "execution_count": 46,
   "metadata": {},
   "outputs": [],
   "source": [
    "#grab the first sequence of the gtpase class for comparison\n",
    "first_gtp_seq = gtp[0]\n",
    "\n",
    "#loop over and find the average of the sequence similarities between the first gtpase sequence and the rest\n",
    "gtp_similarities = [SequenceMatcher(None, first_gtp_seq, seq).ratio() for seq in gtp.iloc[1:]]"
   ]
  },
  {
   "cell_type": "code",
   "execution_count": 52,
   "metadata": {},
   "outputs": [
    {
     "name": "stdout",
     "output_type": "stream",
     "text": [
      "The average sequence similarity between the first GTPase sequence in the data and the rest of the class is: 3.6121%.\n"
     ]
    }
   ],
   "source": [
    "#get the average sequence similairty between the first gtpase observation and the rest of the class observations\n",
    "print(f'The average sequence similarity between the first GTPase sequence in the data and the rest of the class is: {round((np.mean(gtp_similarities)*100), 4)}%.')"
   ]
  },
  {
   "cell_type": "markdown",
   "metadata": {},
   "source": [
    "### Class 6. NADH Dehydrogenase Activity"
   ]
  },
  {
   "cell_type": "code",
   "execution_count": 14,
   "metadata": {},
   "outputs": [],
   "source": [
    "#calculate the sequence similarity in the nadh dehydrogenase class\n",
    "nadh = protein[protein['class']==6].reset_index()['Sequence']\n",
    "\n",
    "#make each single letter amino acid into a word\n",
    "nadh = nadh.apply(lambda x: make_words(x))"
   ]
  },
  {
   "cell_type": "code",
   "execution_count": 16,
   "metadata": {},
   "outputs": [],
   "source": [
    "#grab the first sequence of the nadh dehydrogenase class for comparison\n",
    "first_nadh_seq = nadh[0]\n",
    "\n",
    "#loop over and find the average of the sequence similarities between the first nadh dehydrogenase sequence and the rest\n",
    "nadh_similarities = [SequenceMatcher(None, first_nadh_seq, seq).ratio() for seq in nadh.iloc[1:]]"
   ]
  },
  {
   "cell_type": "code",
   "execution_count": 17,
   "metadata": {},
   "outputs": [
    {
     "name": "stdout",
     "output_type": "stream",
     "text": [
      "The average sequence similarity between the first NADH Dehydrogenase sequence in the data and the rest of the class is: 4.3224%.\n"
     ]
    }
   ],
   "source": [
    "#get the average sequence similairty between the first nadh dehydrogenase observation and the rest of the class observations\n",
    "print(f'The average sequence similarity between the first NADH Dehydrogenase sequence in the data and the rest of the class is: {round((np.mean(nadh_similarities)*100), 4)}%.')"
   ]
  },
  {
   "cell_type": "markdown",
   "metadata": {},
   "source": [
    "### Class 7. Oxidoreductase Activity"
   ]
  },
  {
   "cell_type": "code",
   "execution_count": 18,
   "metadata": {},
   "outputs": [],
   "source": [
    "#calculate the sequence similarity in the oxidoreductase class\n",
    "oxido = protein[protein['class']==7].reset_index()['Sequence']\n",
    "\n",
    "#make each single letter amino acid into a word\n",
    "oxido = oxido.apply(lambda x: make_words(x))"
   ]
  },
  {
   "cell_type": "code",
   "execution_count": 19,
   "metadata": {},
   "outputs": [],
   "source": [
    "#grab the first sequence of the oxidoreductase class for comparison\n",
    "first_oxido_seq = oxido[0]\n",
    "\n",
    "#loop over and find the average of the sequence similarities between the first oxidoreductase sequence and the rest\n",
    "oxido_similarities = [SequenceMatcher(None, first_oxido_seq, seq).ratio() for seq in oxido.iloc[1:]]"
   ]
  },
  {
   "cell_type": "code",
   "execution_count": 20,
   "metadata": {},
   "outputs": [
    {
     "name": "stdout",
     "output_type": "stream",
     "text": [
      "The average sequence similarity between the first Oxidoreductase sequence in the data and the rest of the class is: 2.8573%.\n"
     ]
    }
   ],
   "source": [
    "#get the average sequence similairty between the first oxidoreductaseobservation and the rest of the class observations\n",
    "print(f'The average sequence similarity between the first Oxidoreductase sequence in the data and the rest of the class is: {round((np.mean(oxido_similarities)*100), 4)}%.')"
   ]
  },
  {
   "cell_type": "markdown",
   "metadata": {},
   "source": [
    "### Class 8. Toxin Activity"
   ]
  },
  {
   "cell_type": "code",
   "execution_count": 37,
   "metadata": {},
   "outputs": [],
   "source": [
    "#calculate the sequence similarity in the toxin class\n",
    "toxin = protein[protein['class']==8].reset_index()['Sequence']\n",
    "\n",
    "#make each single letter amino acid into a word\n",
    "toxin = toxin.apply(lambda x: make_words(x))"
   ]
  },
  {
   "cell_type": "code",
   "execution_count": 38,
   "metadata": {},
   "outputs": [],
   "source": [
    "#grab the first sequence of the toxin class for comparison\n",
    "first_toxin_seq = toxin[0]\n",
    "\n",
    "#loop over and find the average of the sequence similarities between the first toxin sequence and the rest\n",
    "toxin_similarities = [SequenceMatcher(None, first_toxin_seq, seq).ratio() for seq in toxin.iloc[1:]]"
   ]
  },
  {
   "cell_type": "code",
   "execution_count": 39,
   "metadata": {},
   "outputs": [
    {
     "name": "stdout",
     "output_type": "stream",
     "text": [
      "The average sequence similarity between the first Toxin sequence in the data and the rest of the class is: 21.6379%.\n"
     ]
    }
   ],
   "source": [
    "#get the average sequence similairty between the first toxin observation and the rest of the class observations\n",
    "print(f'The average sequence similarity between the first Toxin sequence in the data and the rest of the class is: {round((np.mean(toxin_similarities)*100), 4)}%.')"
   ]
  },
  {
   "cell_type": "code",
   "execution_count": 40,
   "metadata": {},
   "outputs": [
    {
     "data": {
      "text/plain": [
       "Match(a=73, b=73, size=49)"
      ]
     },
     "execution_count": 40,
     "metadata": {},
     "output_type": "execute_result"
    }
   ],
   "source": [
    "#the largest length of sequence that matches between sequence at index 0 and 1 for toxin class\n",
    "SequenceMatcher(None, toxin[0], toxin[1]).find_longest_match(0, len(toxin[0]), 0, len(toxin[1]))"
   ]
  }
 ],
 "metadata": {
  "kernelspec": {
   "display_name": "Python 3",
   "language": "python",
   "name": "python3"
  },
  "language_info": {
   "codemirror_mode": {
    "name": "ipython",
    "version": 3
   },
   "file_extension": ".py",
   "mimetype": "text/x-python",
   "name": "python",
   "nbconvert_exporter": "python",
   "pygments_lexer": "ipython3",
   "version": "3.8.5"
  }
 },
 "nbformat": 4,
 "nbformat_minor": 4
}
